{
 "cells": [
  {
   "cell_type": "code",
   "execution_count": null,
   "id": "b4f212eb",
   "metadata": {},
   "outputs": [],
   "source": [
    "import io\n",
    "import requests\n",
    "\n",
    "from PIL import Image as im\n",
    "\n",
    "import pandas as pd\n",
    "import numpy as np\n",
    "\n",
    "import matplotlib.pyplot as plt\n",
    "import seaborn as sns\n",
    "sns.set_context('talk')"
   ]
  },
  {
   "cell_type": "code",
   "execution_count": null,
   "id": "1ecb37ee",
   "metadata": {},
   "outputs": [],
   "source": [
    "\n",
    "\n",
    "r = requests.post(\n",
    "  'https://fink-portal.org/api/v1/latests',\n",
    "  json={\n",
    "    'class': 'Solar System MPC',\n",
    "    #'class': 'All classes',\n",
    "    'n': '100',                         \n",
    "    'startdate': '2024-02-01',  \n",
    "    'stopdate': '2024-02-07'    \n",
    "  }\n",
    ")\n",
    "\n",
    "pdf = pd.read_json(io.BytesIO(r.content))\n",
    "\n"
   ]
  },
  {
   "cell_type": "code",
   "execution_count": null,
   "id": "2a3b5a4a",
   "metadata": {},
   "outputs": [],
   "source": [
    "pdf\n"
   ]
  },
  {
   "cell_type": "code",
   "execution_count": null,
   "id": "d9a2ac25",
   "metadata": {},
   "outputs": [],
   "source": [
    "fig = plt.figure(figsize=(15, 10))\n",
    "\n",
    "plt.scatter(\n",
    "    pdf['i:jd'], pdf['i:dec'], \n",
    "    marker='o'\n",
    ")\n",
    "\n",
    "plt.gca().invert_xaxis()\n",
    "plt.title('100 alerts')\n",
    "plt.xlabel('julian date ')\n",
    "plt.ylabel('Declination of candidate; J2000 [deg]');"
   ]
  },
  {
   "cell_type": "code",
   "execution_count": null,
   "id": "4f15b756",
   "metadata": {},
   "outputs": [],
   "source": [
    "fig = plt.figure(figsize=(15, 10))\n",
    "\n",
    "plt.scatter(\n",
    "    pdf['i:jd'], pdf['i:dec'], \n",
    "    marker='o'\n",
    ")\n",
    "\n",
    "plt.gca().invert_xaxis()\n",
    "plt.title('100 alerts')\n",
    "plt.xlabel('julian date ')\n",
    "plt.ylabel('Declination of candidate; J2000 [deg]');"
   ]
  },
  {
   "cell_type": "code",
   "execution_count": null,
   "id": "efa5d2ad",
   "metadata": {},
   "outputs": [],
   "source": [
    "pdf['i:magnr']"
   ]
  },
  {
   "cell_type": "code",
   "execution_count": null,
   "id": "1281d4fd",
   "metadata": {},
   "outputs": [],
   "source": [
    "fig = plt.figure(figsize=(15, 5))\n",
    "\n",
    "colordic = {1: 'C0', 2: 'C1'}\n",
    "filtdic = {1: 'g', 2: 'r'}\n",
    "\n",
    "for filt in np.unique(pdf['i:fid']):\n",
    "    maskFilt = pdf['i:fid'] == filt\n",
    "\n",
    "    plt.errorbar(\n",
    "        pdf[maskFilt]['i:jd'].apply(lambda x: x - 2400000.5),\n",
    "        pdf[maskFilt]['i:magpsf'],\n",
    "        pdf[maskFilt]['i:sigmapsf'],\n",
    "        ls = '', marker='x', \n",
    "        color=colordic[filt], \n",
    "        label='{} band (PSF-fit)'.format(filtdic[filt]),\n",
    "    )\n",
    "\n",
    "\"\"\"    plt.errorbar(\n",
    "        pdf[maskFilt]['i:jd'].apply(lambda x: x - 2400000.5),\n",
    "        pdf[maskFilt]['i:magnr'],\n",
    "        ls = '--', \n",
    "        color=colordic[filt], \n",
    "        label='{} ref (DC)'.format(filtdic[filt]),\n",
    "    )\n",
    "\"\"\"\n",
    "\n",
    "\n",
    "#plt.axhline(y=ref_r, color=colordic[2], linestyle='--')\n",
    "#plt.axhline(y=ref_g, color=colordic[1], linestyle='--')\n",
    "plt.gca().invert_yaxis()\n",
    "plt.legend()\n",
    "plt.title('Comparison of PSF-fit')\n",
    "plt.xlabel('Modified Julian Date [UTC]')\n",
    "plt.ylabel('Magnitude');"
   ]
  },
  {
   "cell_type": "code",
   "execution_count": null,
   "id": "fa8184b0",
   "metadata": {},
   "outputs": [],
   "source": [
    "fig = plt.figure(figsize=(15, 10))\n",
    "\n",
    "plt.scatter(\n",
    "    pdfSSO['i:ra'], pdfSSO['i:dec'], \n",
    "    c=pdfSSO['i:magpsf'], marker='.', cmap = 'viridis_r'\n",
    ")\n",
    "\n",
    "cb = plt.colorbar(label='Magnitude')\n",
    "plt.gca().invert_xaxis()\n",
    "plt.title('100 SSO alerts (from MPC) between 2023-11-01 and 2023-11-03')\n",
    "plt.xlabel('RA [deg]')\n",
    "plt.ylabel('Dec [deg]');"
   ]
  }
 ],
 "metadata": {
  "kernelspec": {
   "display_name": "Python 3 (ipykernel)",
   "language": "python",
   "name": "python3"
  },
  "language_info": {
   "codemirror_mode": {
    "name": "ipython",
    "version": 3
   },
   "file_extension": ".py",
   "mimetype": "text/x-python",
   "name": "python",
   "nbconvert_exporter": "python",
   "pygments_lexer": "ipython3",
   "version": "3.11.5"
  }
 },
 "nbformat": 4,
 "nbformat_minor": 5
}
