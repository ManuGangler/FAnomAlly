{
 "cells": [
  {
   "cell_type": "code",
   "execution_count": 351,
   "id": "44f29f90",
   "metadata": {},
   "outputs": [],
   "source": [
    "import pandas as pd \n",
    "import numpy as np\n",
    "df = pd.read_parquet('../scripts/df_merged.parquet', engine='pyarrow')"
   ]
  },
  {
   "cell_type": "code",
   "execution_count": 352,
   "id": "609fdd36",
   "metadata": {},
   "outputs": [
    {
     "data": {
      "text/plain": [
       "(1831533, 10)"
      ]
     },
     "execution_count": 352,
     "metadata": {},
     "output_type": "execute_result"
    }
   ],
   "source": [
    "df.shape"
   ]
  },
  {
   "cell_type": "code",
   "execution_count": 3,
   "id": "6fd8f965",
   "metadata": {},
   "outputs": [
    {
     "data": {
      "text/plain": [
       "Index(['objectId', 'candid', 'jd', 'mjd', 'fid', 'dc_flux', 'dc_sigflux',\n",
       "       'nr_flux', 'nr_sigflux', 'source'],\n",
       "      dtype='object')"
      ]
     },
     "execution_count": 3,
     "metadata": {},
     "output_type": "execute_result"
    }
   ],
   "source": [
    "df.columns"
   ]
  },
  {
   "cell_type": "code",
   "execution_count": 4,
   "id": "5afbcabe",
   "metadata": {},
   "outputs": [
    {
     "data": {
      "text/html": [
       "<div>\n",
       "<style scoped>\n",
       "    .dataframe tbody tr th:only-of-type {\n",
       "        vertical-align: middle;\n",
       "    }\n",
       "\n",
       "    .dataframe tbody tr th {\n",
       "        vertical-align: top;\n",
       "    }\n",
       "\n",
       "    .dataframe thead th {\n",
       "        text-align: right;\n",
       "    }\n",
       "</style>\n",
       "<table border=\"1\" class=\"dataframe\">\n",
       "  <thead>\n",
       "    <tr style=\"text-align: right;\">\n",
       "      <th></th>\n",
       "      <th>mjd</th>\n",
       "      <th>fid</th>\n",
       "      <th>dc_flux</th>\n",
       "      <th>dc_sigflux</th>\n",
       "      <th>nr_flux</th>\n",
       "      <th>nr_sigflux</th>\n",
       "      <th>source</th>\n",
       "    </tr>\n",
       "  </thead>\n",
       "  <tbody>\n",
       "    <tr>\n",
       "      <th>0</th>\n",
       "      <td>59080</td>\n",
       "      <td>1</td>\n",
       "      <td>0.000286</td>\n",
       "      <td>0.000027</td>\n",
       "      <td>0.000286</td>\n",
       "      <td>0.000004</td>\n",
       "      <td>1</td>\n",
       "    </tr>\n",
       "  </tbody>\n",
       "</table>\n",
       "</div>"
      ],
      "text/plain": [
       "     mjd  fid   dc_flux  dc_sigflux   nr_flux  nr_sigflux  source\n",
       "0  59080    1  0.000286    0.000027  0.000286    0.000004       1"
      ]
     },
     "execution_count": 4,
     "metadata": {},
     "output_type": "execute_result"
    }
   ],
   "source": [
    "df[df['objectId'] == 'ZTF17aaaeclk'][['mjd', 'fid', 'dc_flux', 'dc_sigflux', 'nr_flux', 'nr_sigflux', 'source']].head(1)"
   ]
  },
  {
   "cell_type": "code",
   "execution_count": 5,
   "id": "6e814c95",
   "metadata": {
    "scrolled": true
   },
   "outputs": [],
   "source": [
    "unique_ids = df['objectId'].unique().tolist()"
   ]
  },
  {
   "cell_type": "code",
   "execution_count": 6,
   "id": "cae5f56a",
   "metadata": {
    "scrolled": true
   },
   "outputs": [
    {
     "name": "stdout",
     "output_type": "stream",
     "text": [
      "ZTF17aaaeclk\n"
     ]
    }
   ],
   "source": [
    "for i in unique_ids[0:1]:\n",
    "    print(i)\n",
    "    #print(df[df['objectId'] == i][['mjd', 'fid', 'dc_flux', 'dc_sigflux', 'nr_flux', 'nr_sigflux', 'source']])"
   ]
  },
  {
   "cell_type": "code",
   "execution_count": 7,
   "id": "fab2482e",
   "metadata": {},
   "outputs": [],
   "source": [
    "condition = df['source'] == 0\n",
    "df['dc_sigflux_weight'] = np.where(condition, 0, 1 / (df['dc_sigflux'] ** 2))\n",
    "df['nr_sigflux_weight'] = np.where(condition, 0, 1 / (df['nr_sigflux'] ** 2))"
   ]
  },
  {
   "cell_type": "code",
   "execution_count": 8,
   "id": "e249234c",
   "metadata": {},
   "outputs": [
    {
     "data": {
      "text/html": [
       "<div>\n",
       "<style scoped>\n",
       "    .dataframe tbody tr th:only-of-type {\n",
       "        vertical-align: middle;\n",
       "    }\n",
       "\n",
       "    .dataframe tbody tr th {\n",
       "        vertical-align: top;\n",
       "    }\n",
       "\n",
       "    .dataframe thead th {\n",
       "        text-align: right;\n",
       "    }\n",
       "</style>\n",
       "<table border=\"1\" class=\"dataframe\">\n",
       "  <thead>\n",
       "    <tr style=\"text-align: right;\">\n",
       "      <th></th>\n",
       "      <th>source</th>\n",
       "      <th>nr_sigflux_weight</th>\n",
       "    </tr>\n",
       "  </thead>\n",
       "  <tbody>\n",
       "    <tr>\n",
       "      <th>0</th>\n",
       "      <td>1</td>\n",
       "      <td>6.391653e+10</td>\n",
       "    </tr>\n",
       "    <tr>\n",
       "      <th>1</th>\n",
       "      <td>1</td>\n",
       "      <td>7.280090e+09</td>\n",
       "    </tr>\n",
       "    <tr>\n",
       "      <th>2</th>\n",
       "      <td>0</td>\n",
       "      <td>0.000000e+00</td>\n",
       "    </tr>\n",
       "    <tr>\n",
       "      <th>3</th>\n",
       "      <td>0</td>\n",
       "      <td>0.000000e+00</td>\n",
       "    </tr>\n",
       "    <tr>\n",
       "      <th>4</th>\n",
       "      <td>0</td>\n",
       "      <td>0.000000e+00</td>\n",
       "    </tr>\n",
       "    <tr>\n",
       "      <th>...</th>\n",
       "      <td>...</td>\n",
       "      <td>...</td>\n",
       "    </tr>\n",
       "    <tr>\n",
       "      <th>1831528</th>\n",
       "      <td>0</td>\n",
       "      <td>0.000000e+00</td>\n",
       "    </tr>\n",
       "    <tr>\n",
       "      <th>1831529</th>\n",
       "      <td>0</td>\n",
       "      <td>0.000000e+00</td>\n",
       "    </tr>\n",
       "    <tr>\n",
       "      <th>1831530</th>\n",
       "      <td>0</td>\n",
       "      <td>0.000000e+00</td>\n",
       "    </tr>\n",
       "    <tr>\n",
       "      <th>1831531</th>\n",
       "      <td>1</td>\n",
       "      <td>2.882772e+09</td>\n",
       "    </tr>\n",
       "    <tr>\n",
       "      <th>1831532</th>\n",
       "      <td>0</td>\n",
       "      <td>0.000000e+00</td>\n",
       "    </tr>\n",
       "  </tbody>\n",
       "</table>\n",
       "<p>1831533 rows × 2 columns</p>\n",
       "</div>"
      ],
      "text/plain": [
       "         source  nr_sigflux_weight\n",
       "0             1       6.391653e+10\n",
       "1             1       7.280090e+09\n",
       "2             0       0.000000e+00\n",
       "3             0       0.000000e+00\n",
       "4             0       0.000000e+00\n",
       "...         ...                ...\n",
       "1831528       0       0.000000e+00\n",
       "1831529       0       0.000000e+00\n",
       "1831530       0       0.000000e+00\n",
       "1831531       1       2.882772e+09\n",
       "1831532       0       0.000000e+00\n",
       "\n",
       "[1831533 rows x 2 columns]"
      ]
     },
     "execution_count": 8,
     "metadata": {},
     "output_type": "execute_result"
    }
   ],
   "source": [
    "df[['source','nr_sigflux_weight']]"
   ]
  },
  {
   "cell_type": "code",
   "execution_count": 218,
   "id": "b027d79e",
   "metadata": {},
   "outputs": [],
   "source": [
    "T1 = df[df['objectId'] == 'ZTF17aaaeclk'][['mjd', 'fid',\n",
    "                                           'dc_flux', 'dc_sigflux_weight',\n",
    "                                           'nr_flux', 'nr_sigflux_weight',\n",
    "                                           'source']]"
   ]
  },
  {
   "cell_type": "code",
   "execution_count": 219,
   "id": "87f3ceb5",
   "metadata": {},
   "outputs": [],
   "source": [
    "m = 1\n",
    "factor = 2*m -1 + 3*np.sqrt(2*(2*m -1))\n",
    "l = 1\n",
    "f_r = [None,None]#[0] * m\n",
    "w_r = [None,None]#[0] * m\n",
    "h_r = [None,None]#[0] * m\n",
    "alpha_r = [None,None]#[0] * m\n",
    "d_r = [None,None]#[0] * m"
   ]
  },
  {
   "cell_type": "code",
   "execution_count": 220,
   "id": "c7f1daa5",
   "metadata": {},
   "outputs": [],
   "source": [
    "f_r[1] = T1[T1['fid'] == 2]['dc_flux']\n",
    "w_r[1] = T1[T1['fid'] == 2]['dc_sigflux_weight']\n",
    "h_r[1] = T1[T1['fid'] == 2]['dc_flux'].loc[0:m]"
   ]
  },
  {
   "cell_type": "code",
   "execution_count": 221,
   "id": "0809be50",
   "metadata": {},
   "outputs": [
    {
     "data": {
      "text/plain": [
       "1    0.000636\n",
       "Name: dc_flux, dtype: float64"
      ]
     },
     "execution_count": 221,
     "metadata": {},
     "output_type": "execute_result"
    }
   ],
   "source": [
    "h_r[1]"
   ]
  },
  {
   "cell_type": "code",
   "execution_count": 222,
   "id": "0a02fca0",
   "metadata": {},
   "outputs": [
    {
     "data": {
      "text/plain": [
       "1.0679293960612513"
      ]
     },
     "execution_count": 222,
     "metadata": {},
     "output_type": "execute_result"
    }
   ],
   "source": [
    "s_n =0\n",
    "s_d=0\n",
    "for i in range(len(w_r[1])):\n",
    "    s_n += (h_r[1].iloc[0] * f_r[1].iloc[i:i+m] * w_r[1].iloc[i:i+m]).item()\n",
    "    s_d += (h_r[1].iloc[0]**2 * w_r[1].iloc[i:i+m]).item()\n",
    "alpha_r[1]  = s_n / s_d\n",
    "alpha_r[1]"
   ]
  },
  {
   "cell_type": "code",
   "execution_count": 223,
   "id": "a97de4c9",
   "metadata": {},
   "outputs": [
    {
     "data": {
      "text/plain": [
       "247.02033420794174"
      ]
     },
     "execution_count": 223,
     "metadata": {},
     "output_type": "execute_result"
    }
   ],
   "source": [
    "s =0\n",
    "for i in range(len(w_r[1])):\n",
    "    s += ((f_r[1].iloc[i:i+m] - alpha_r[1]* h_r[1].iloc[0])**2 * w_r[1].iloc[i:i+m] ).item()\n",
    "\n",
    "d_r[1]  = s\n",
    "d_r[1]"
   ]
  },
  {
   "cell_type": "code",
   "execution_count": null,
   "id": "c454d108",
   "metadata": {},
   "outputs": [],
   "source": []
  },
  {
   "cell_type": "code",
   "execution_count": 224,
   "id": "7839ddf2",
   "metadata": {},
   "outputs": [],
   "source": [
    "f_g = [None,None]#[0] * m\n",
    "w_g = [None,None]#[0] * m\n",
    "h_g = [None,None]#[0] * m\n",
    "alpha_g = [None,None]#[0] * m\n",
    "d_g = [None,None]#[0] * m"
   ]
  },
  {
   "cell_type": "code",
   "execution_count": 228,
   "id": "a0776bba",
   "metadata": {},
   "outputs": [
    {
     "data": {
      "text/plain": [
       "[None,\n",
       " 0    0.000286\n",
       " Name: dc_flux, dtype: float64]"
      ]
     },
     "execution_count": 228,
     "metadata": {},
     "output_type": "execute_result"
    }
   ],
   "source": [
    "f_g[1] = T1[T1['fid'] == 1]['dc_flux']\n",
    "w_g[1] = T1[T1['fid'] == 1]['dc_sigflux_weight']\n",
    "h_g[1] = T1[T1['fid'] == 1]['dc_flux'].loc[0:1]\n",
    "h_g"
   ]
  },
  {
   "cell_type": "code",
   "execution_count": 226,
   "id": "3091c8f3",
   "metadata": {},
   "outputs": [
    {
     "data": {
      "text/plain": [
       "0.9598034477576466"
      ]
     },
     "execution_count": 226,
     "metadata": {},
     "output_type": "execute_result"
    }
   ],
   "source": [
    "s_n =0\n",
    "s_d=0\n",
    "for i in range(len(w_g[1])):\n",
    "    s_n += (h_g[1].iloc[0] * f_g[1].iloc[i:i+m] * w_g[1].iloc[i:i+m]).item()\n",
    "    s_d += (h_g[1].iloc[0]**2 * w_g[1].iloc[i:i+m]).item()\n",
    "alpha_g[1]  = s_n / s_d\n",
    "alpha_g[1]"
   ]
  },
  {
   "cell_type": "code",
   "execution_count": 227,
   "id": "6a86ad71",
   "metadata": {},
   "outputs": [
    {
     "data": {
      "text/plain": [
       "1433.2969709333252"
      ]
     },
     "execution_count": 227,
     "metadata": {},
     "output_type": "execute_result"
    }
   ],
   "source": [
    "s =0\n",
    "for i in range(len(w_g[1])):\n",
    "    s += ((f_g[1].iloc[i:i+m] - alpha_g[1]* h_g[1].iloc[0])**2 * w_g[1].iloc[i:i+m]).item()\n",
    "\n",
    "d_g[1]  = s\n",
    "d_g[1]"
   ]
  },
  {
   "cell_type": "code",
   "execution_count": 169,
   "id": "737f1bc4",
   "metadata": {},
   "outputs": [
    {
     "data": {
      "text/plain": [
       "1680.3173051412668"
      ]
     },
     "execution_count": 169,
     "metadata": {},
     "output_type": "execute_result"
    }
   ],
   "source": [
    "d  = d_r[1] + d_g[1]\n",
    "d"
   ]
  },
  {
   "cell_type": "code",
   "execution_count": 170,
   "id": "4bf48a49",
   "metadata": {},
   "outputs": [
    {
     "data": {
      "text/plain": [
       "False"
      ]
     },
     "execution_count": 170,
     "metadata": {},
     "output_type": "execute_result"
    }
   ],
   "source": [
    "d <= factor"
   ]
  },
  {
   "cell_type": "code",
   "execution_count": 171,
   "id": "d7134470",
   "metadata": {},
   "outputs": [
    {
     "data": {
      "text/plain": [
       "5.242640687119286"
      ]
     },
     "execution_count": 171,
     "metadata": {},
     "output_type": "execute_result"
    }
   ],
   "source": [
    "factor"
   ]
  },
  {
   "cell_type": "code",
   "execution_count": 172,
   "id": "04b2c7fc",
   "metadata": {},
   "outputs": [
    {
     "data": {
      "text/html": [
       "<div>\n",
       "<style scoped>\n",
       "    .dataframe tbody tr th:only-of-type {\n",
       "        vertical-align: middle;\n",
       "    }\n",
       "\n",
       "    .dataframe tbody tr th {\n",
       "        vertical-align: top;\n",
       "    }\n",
       "\n",
       "    .dataframe thead th {\n",
       "        text-align: right;\n",
       "    }\n",
       "</style>\n",
       "<table border=\"1\" class=\"dataframe\">\n",
       "  <thead>\n",
       "    <tr style=\"text-align: right;\">\n",
       "      <th></th>\n",
       "      <th>mjd</th>\n",
       "      <th>fid</th>\n",
       "      <th>dc_flux</th>\n",
       "      <th>dc_sigflux_weight</th>\n",
       "      <th>nr_flux</th>\n",
       "      <th>nr_sigflux_weight</th>\n",
       "      <th>source</th>\n",
       "    </tr>\n",
       "  </thead>\n",
       "  <tbody>\n",
       "    <tr>\n",
       "      <th>0</th>\n",
       "      <td>59080</td>\n",
       "      <td>1</td>\n",
       "      <td>0.000286</td>\n",
       "      <td>1.353949e+09</td>\n",
       "      <td>0.000286</td>\n",
       "      <td>6.391653e+10</td>\n",
       "      <td>1</td>\n",
       "    </tr>\n",
       "    <tr>\n",
       "      <th>1</th>\n",
       "      <td>59080</td>\n",
       "      <td>2</td>\n",
       "      <td>0.000636</td>\n",
       "      <td>2.615609e+08</td>\n",
       "      <td>0.000636</td>\n",
       "      <td>7.280090e+09</td>\n",
       "      <td>1</td>\n",
       "    </tr>\n",
       "    <tr>\n",
       "      <th>2</th>\n",
       "      <td>59081</td>\n",
       "      <td>2</td>\n",
       "      <td>0.000679</td>\n",
       "      <td>0.000000e+00</td>\n",
       "      <td>0.000636</td>\n",
       "      <td>0.000000e+00</td>\n",
       "      <td>0</td>\n",
       "    </tr>\n",
       "    <tr>\n",
       "      <th>3</th>\n",
       "      <td>59081</td>\n",
       "      <td>1</td>\n",
       "      <td>0.000275</td>\n",
       "      <td>0.000000e+00</td>\n",
       "      <td>0.000286</td>\n",
       "      <td>0.000000e+00</td>\n",
       "      <td>0</td>\n",
       "    </tr>\n",
       "    <tr>\n",
       "      <th>4</th>\n",
       "      <td>59082</td>\n",
       "      <td>2</td>\n",
       "      <td>0.000679</td>\n",
       "      <td>0.000000e+00</td>\n",
       "      <td>0.000636</td>\n",
       "      <td>0.000000e+00</td>\n",
       "      <td>0</td>\n",
       "    </tr>\n",
       "    <tr>\n",
       "      <th>...</th>\n",
       "      <td>...</td>\n",
       "      <td>...</td>\n",
       "      <td>...</td>\n",
       "      <td>...</td>\n",
       "      <td>...</td>\n",
       "      <td>...</td>\n",
       "      <td>...</td>\n",
       "    </tr>\n",
       "    <tr>\n",
       "      <th>57</th>\n",
       "      <td>59108</td>\n",
       "      <td>2</td>\n",
       "      <td>0.000679</td>\n",
       "      <td>0.000000e+00</td>\n",
       "      <td>0.000636</td>\n",
       "      <td>0.000000e+00</td>\n",
       "      <td>0</td>\n",
       "    </tr>\n",
       "    <tr>\n",
       "      <th>58</th>\n",
       "      <td>59109</td>\n",
       "      <td>2</td>\n",
       "      <td>0.000679</td>\n",
       "      <td>0.000000e+00</td>\n",
       "      <td>0.000636</td>\n",
       "      <td>0.000000e+00</td>\n",
       "      <td>0</td>\n",
       "    </tr>\n",
       "    <tr>\n",
       "      <th>59</th>\n",
       "      <td>59109</td>\n",
       "      <td>1</td>\n",
       "      <td>0.000275</td>\n",
       "      <td>0.000000e+00</td>\n",
       "      <td>0.000286</td>\n",
       "      <td>0.000000e+00</td>\n",
       "      <td>0</td>\n",
       "    </tr>\n",
       "    <tr>\n",
       "      <th>60</th>\n",
       "      <td>59110</td>\n",
       "      <td>2</td>\n",
       "      <td>0.000891</td>\n",
       "      <td>2.117272e+09</td>\n",
       "      <td>0.000636</td>\n",
       "      <td>7.280090e+09</td>\n",
       "      <td>1</td>\n",
       "    </tr>\n",
       "    <tr>\n",
       "      <th>61</th>\n",
       "      <td>59110</td>\n",
       "      <td>1</td>\n",
       "      <td>0.000357</td>\n",
       "      <td>9.836937e+09</td>\n",
       "      <td>0.000286</td>\n",
       "      <td>6.391653e+10</td>\n",
       "      <td>1</td>\n",
       "    </tr>\n",
       "  </tbody>\n",
       "</table>\n",
       "<p>62 rows × 7 columns</p>\n",
       "</div>"
      ],
      "text/plain": [
       "      mjd  fid   dc_flux  dc_sigflux_weight   nr_flux  nr_sigflux_weight  \\\n",
       "0   59080    1  0.000286       1.353949e+09  0.000286       6.391653e+10   \n",
       "1   59080    2  0.000636       2.615609e+08  0.000636       7.280090e+09   \n",
       "2   59081    2  0.000679       0.000000e+00  0.000636       0.000000e+00   \n",
       "3   59081    1  0.000275       0.000000e+00  0.000286       0.000000e+00   \n",
       "4   59082    2  0.000679       0.000000e+00  0.000636       0.000000e+00   \n",
       "..    ...  ...       ...                ...       ...                ...   \n",
       "57  59108    2  0.000679       0.000000e+00  0.000636       0.000000e+00   \n",
       "58  59109    2  0.000679       0.000000e+00  0.000636       0.000000e+00   \n",
       "59  59109    1  0.000275       0.000000e+00  0.000286       0.000000e+00   \n",
       "60  59110    2  0.000891       2.117272e+09  0.000636       7.280090e+09   \n",
       "61  59110    1  0.000357       9.836937e+09  0.000286       6.391653e+10   \n",
       "\n",
       "    source  \n",
       "0        1  \n",
       "1        1  \n",
       "2        0  \n",
       "3        0  \n",
       "4        0  \n",
       "..     ...  \n",
       "57       0  \n",
       "58       0  \n",
       "59       0  \n",
       "60       1  \n",
       "61       1  \n",
       "\n",
       "[62 rows x 7 columns]"
      ]
     },
     "execution_count": 172,
     "metadata": {},
     "output_type": "execute_result"
    }
   ],
   "source": [
    "T1"
   ]
  },
  {
   "cell_type": "code",
   "execution_count": null,
   "id": "55762a40",
   "metadata": {},
   "outputs": [],
   "source": []
  },
  {
   "cell_type": "code",
   "execution_count": 323,
   "id": "9dbacaf4",
   "metadata": {},
   "outputs": [
    {
     "data": {
      "text/html": [
       "<div>\n",
       "<style scoped>\n",
       "    .dataframe tbody tr th:only-of-type {\n",
       "        vertical-align: middle;\n",
       "    }\n",
       "\n",
       "    .dataframe tbody tr th {\n",
       "        vertical-align: top;\n",
       "    }\n",
       "\n",
       "    .dataframe thead th {\n",
       "        text-align: right;\n",
       "    }\n",
       "</style>\n",
       "<table border=\"1\" class=\"dataframe\">\n",
       "  <thead>\n",
       "    <tr style=\"text-align: right;\">\n",
       "      <th></th>\n",
       "      <th>fid</th>\n",
       "      <th>dc_flux</th>\n",
       "    </tr>\n",
       "  </thead>\n",
       "  <tbody>\n",
       "    <tr>\n",
       "      <th>0</th>\n",
       "      <td>1</td>\n",
       "      <td>0.000286</td>\n",
       "    </tr>\n",
       "    <tr>\n",
       "      <th>1</th>\n",
       "      <td>2</td>\n",
       "      <td>0.000636</td>\n",
       "    </tr>\n",
       "    <tr>\n",
       "      <th>2</th>\n",
       "      <td>2</td>\n",
       "      <td>0.000679</td>\n",
       "    </tr>\n",
       "    <tr>\n",
       "      <th>3</th>\n",
       "      <td>1</td>\n",
       "      <td>0.000275</td>\n",
       "    </tr>\n",
       "    <tr>\n",
       "      <th>4</th>\n",
       "      <td>2</td>\n",
       "      <td>0.000679</td>\n",
       "    </tr>\n",
       "    <tr>\n",
       "      <th>...</th>\n",
       "      <td>...</td>\n",
       "      <td>...</td>\n",
       "    </tr>\n",
       "    <tr>\n",
       "      <th>1831528</th>\n",
       "      <td>2</td>\n",
       "      <td>0.001819</td>\n",
       "    </tr>\n",
       "    <tr>\n",
       "      <th>1831529</th>\n",
       "      <td>2</td>\n",
       "      <td>0.001819</td>\n",
       "    </tr>\n",
       "    <tr>\n",
       "      <th>1831530</th>\n",
       "      <td>1</td>\n",
       "      <td>0.001993</td>\n",
       "    </tr>\n",
       "    <tr>\n",
       "      <th>1831531</th>\n",
       "      <td>1</td>\n",
       "      <td>0.001581</td>\n",
       "    </tr>\n",
       "    <tr>\n",
       "      <th>1831532</th>\n",
       "      <td>2</td>\n",
       "      <td>0.001819</td>\n",
       "    </tr>\n",
       "  </tbody>\n",
       "</table>\n",
       "<p>1831533 rows × 2 columns</p>\n",
       "</div>"
      ],
      "text/plain": [
       "         fid   dc_flux\n",
       "0          1  0.000286\n",
       "1          2  0.000636\n",
       "2          2  0.000679\n",
       "3          1  0.000275\n",
       "4          2  0.000679\n",
       "...      ...       ...\n",
       "1831528    2  0.001819\n",
       "1831529    2  0.001819\n",
       "1831530    1  0.001993\n",
       "1831531    1  0.001581\n",
       "1831532    2  0.001819\n",
       "\n",
       "[1831533 rows x 2 columns]"
      ]
     },
     "execution_count": 323,
     "metadata": {},
     "output_type": "execute_result"
    }
   ],
   "source": [
    "df[['fid','dc_flux']]"
   ]
  },
  {
   "cell_type": "code",
   "execution_count": 350,
   "id": "148bf77f",
   "metadata": {},
   "outputs": [
    {
     "data": {
      "text/html": [
       "<div>\n",
       "<style scoped>\n",
       "    .dataframe tbody tr th:only-of-type {\n",
       "        vertical-align: middle;\n",
       "    }\n",
       "\n",
       "    .dataframe tbody tr th {\n",
       "        vertical-align: top;\n",
       "    }\n",
       "\n",
       "    .dataframe thead th {\n",
       "        text-align: right;\n",
       "    }\n",
       "</style>\n",
       "<table border=\"1\" class=\"dataframe\">\n",
       "  <thead>\n",
       "    <tr style=\"text-align: right;\">\n",
       "      <th></th>\n",
       "      <th>fid</th>\n",
       "      <th>dc_flux</th>\n",
       "    </tr>\n",
       "  </thead>\n",
       "  <tbody>\n",
       "    <tr>\n",
       "      <th>0</th>\n",
       "      <td>1</td>\n",
       "      <td>0.000286</td>\n",
       "    </tr>\n",
       "    <tr>\n",
       "      <th>1</th>\n",
       "      <td>2</td>\n",
       "      <td>0.000636</td>\n",
       "    </tr>\n",
       "  </tbody>\n",
       "</table>\n",
       "</div>"
      ],
      "text/plain": [
       "   fid   dc_flux\n",
       "0    1  0.000286\n",
       "1    2  0.000636"
      ]
     },
     "execution_count": 350,
     "metadata": {},
     "output_type": "execute_result"
    }
   ],
   "source": [
    "df[['fid', 'dc_flux']].iloc[:2*m]"
   ]
  },
  {
   "cell_type": "code",
   "execution_count": 341,
   "id": "e9221e41",
   "metadata": {},
   "outputs": [
    {
     "data": {
      "text/html": [
       "<div>\n",
       "<style scoped>\n",
       "    .dataframe tbody tr th:only-of-type {\n",
       "        vertical-align: middle;\n",
       "    }\n",
       "\n",
       "    .dataframe tbody tr th {\n",
       "        vertical-align: top;\n",
       "    }\n",
       "\n",
       "    .dataframe thead th {\n",
       "        text-align: right;\n",
       "    }\n",
       "</style>\n",
       "<table border=\"1\" class=\"dataframe\">\n",
       "  <thead>\n",
       "    <tr style=\"text-align: right;\">\n",
       "      <th></th>\n",
       "      <th>objectId</th>\n",
       "      <th>candid</th>\n",
       "      <th>jd</th>\n",
       "      <th>mjd</th>\n",
       "      <th>fid</th>\n",
       "      <th>dc_flux</th>\n",
       "      <th>dc_sigflux</th>\n",
       "      <th>nr_flux</th>\n",
       "      <th>nr_sigflux</th>\n",
       "      <th>source</th>\n",
       "      <th>dc_sigflux_weight</th>\n",
       "      <th>nr_sigflux_weight</th>\n",
       "    </tr>\n",
       "  </thead>\n",
       "  <tbody>\n",
       "    <tr>\n",
       "      <th>0</th>\n",
       "      <td>ZTF17aaaeclk</td>\n",
       "      <td>1356301332615015001</td>\n",
       "      <td>2.459111e+06</td>\n",
       "      <td>59080</td>\n",
       "      <td>1</td>\n",
       "      <td>0.000286</td>\n",
       "      <td>0.000027</td>\n",
       "      <td>0.000286</td>\n",
       "      <td>3.955427e-06</td>\n",
       "      <td>1</td>\n",
       "      <td>1.353949e+09</td>\n",
       "      <td>6.391653e+10</td>\n",
       "    </tr>\n",
       "    <tr>\n",
       "      <th>1</th>\n",
       "      <td>ZTF17aaaeclk</td>\n",
       "      <td>1356301332615015001</td>\n",
       "      <td>2.459111e+06</td>\n",
       "      <td>59080</td>\n",
       "      <td>2</td>\n",
       "      <td>0.000636</td>\n",
       "      <td>0.000062</td>\n",
       "      <td>0.000636</td>\n",
       "      <td>1.172011e-05</td>\n",
       "      <td>1</td>\n",
       "      <td>2.615609e+08</td>\n",
       "      <td>7.280090e+09</td>\n",
       "    </tr>\n",
       "    <tr>\n",
       "      <th>2</th>\n",
       "      <td>ZTF17aaaeclk</td>\n",
       "      <td>1356301332615015001</td>\n",
       "      <td>2.459111e+06</td>\n",
       "      <td>59081</td>\n",
       "      <td>2</td>\n",
       "      <td>0.000679</td>\n",
       "      <td>0.000133</td>\n",
       "      <td>0.000636</td>\n",
       "      <td>1.137121e-19</td>\n",
       "      <td>0</td>\n",
       "      <td>0.000000e+00</td>\n",
       "      <td>0.000000e+00</td>\n",
       "    </tr>\n",
       "    <tr>\n",
       "      <th>3</th>\n",
       "      <td>ZTF17aaaeclk</td>\n",
       "      <td>1356301332615015001</td>\n",
       "      <td>2.459111e+06</td>\n",
       "      <td>59081</td>\n",
       "      <td>1</td>\n",
       "      <td>0.000275</td>\n",
       "      <td>0.000119</td>\n",
       "      <td>0.000286</td>\n",
       "      <td>5.598796e-20</td>\n",
       "      <td>0</td>\n",
       "      <td>0.000000e+00</td>\n",
       "      <td>0.000000e+00</td>\n",
       "    </tr>\n",
       "    <tr>\n",
       "      <th>4</th>\n",
       "      <td>ZTF17aaaeclk</td>\n",
       "      <td>1356301332615015001</td>\n",
       "      <td>2.459111e+06</td>\n",
       "      <td>59082</td>\n",
       "      <td>2</td>\n",
       "      <td>0.000679</td>\n",
       "      <td>0.000133</td>\n",
       "      <td>0.000636</td>\n",
       "      <td>1.137121e-19</td>\n",
       "      <td>0</td>\n",
       "      <td>0.000000e+00</td>\n",
       "      <td>0.000000e+00</td>\n",
       "    </tr>\n",
       "    <tr>\n",
       "      <th>...</th>\n",
       "      <td>...</td>\n",
       "      <td>...</td>\n",
       "      <td>...</td>\n",
       "      <td>...</td>\n",
       "      <td>...</td>\n",
       "      <td>...</td>\n",
       "      <td>...</td>\n",
       "      <td>...</td>\n",
       "      <td>...</td>\n",
       "      <td>...</td>\n",
       "      <td>...</td>\n",
       "      <td>...</td>\n",
       "    </tr>\n",
       "    <tr>\n",
       "      <th>1831528</th>\n",
       "      <td>ZTF18abgjszd</td>\n",
       "      <td>1356153201015010008</td>\n",
       "      <td>2.459111e+06</td>\n",
       "      <td>59108</td>\n",
       "      <td>2</td>\n",
       "      <td>0.001819</td>\n",
       "      <td>0.000150</td>\n",
       "      <td>0.001902</td>\n",
       "      <td>0.000000e+00</td>\n",
       "      <td>0</td>\n",
       "      <td>0.000000e+00</td>\n",
       "      <td>0.000000e+00</td>\n",
       "    </tr>\n",
       "    <tr>\n",
       "      <th>1831529</th>\n",
       "      <td>ZTF18abgjszd</td>\n",
       "      <td>1356153201015010008</td>\n",
       "      <td>2.459111e+06</td>\n",
       "      <td>59109</td>\n",
       "      <td>2</td>\n",
       "      <td>0.001819</td>\n",
       "      <td>0.000150</td>\n",
       "      <td>0.001902</td>\n",
       "      <td>0.000000e+00</td>\n",
       "      <td>0</td>\n",
       "      <td>0.000000e+00</td>\n",
       "      <td>0.000000e+00</td>\n",
       "    </tr>\n",
       "    <tr>\n",
       "      <th>1831530</th>\n",
       "      <td>ZTF18abgjszd</td>\n",
       "      <td>1356153201015010008</td>\n",
       "      <td>2.459111e+06</td>\n",
       "      <td>59109</td>\n",
       "      <td>1</td>\n",
       "      <td>0.001993</td>\n",
       "      <td>0.000331</td>\n",
       "      <td>0.001838</td>\n",
       "      <td>4.540264e-10</td>\n",
       "      <td>0</td>\n",
       "      <td>0.000000e+00</td>\n",
       "      <td>0.000000e+00</td>\n",
       "    </tr>\n",
       "    <tr>\n",
       "      <th>1831531</th>\n",
       "      <td>ZTF18abgjszd</td>\n",
       "      <td>1356153201015010008</td>\n",
       "      <td>2.459111e+06</td>\n",
       "      <td>59110</td>\n",
       "      <td>1</td>\n",
       "      <td>0.001581</td>\n",
       "      <td>0.000028</td>\n",
       "      <td>0.001838</td>\n",
       "      <td>1.862494e-05</td>\n",
       "      <td>1</td>\n",
       "      <td>1.240177e+09</td>\n",
       "      <td>2.882772e+09</td>\n",
       "    </tr>\n",
       "    <tr>\n",
       "      <th>1831532</th>\n",
       "      <td>ZTF18abgjszd</td>\n",
       "      <td>1356153201015010008</td>\n",
       "      <td>2.459111e+06</td>\n",
       "      <td>59110</td>\n",
       "      <td>2</td>\n",
       "      <td>0.001819</td>\n",
       "      <td>0.000150</td>\n",
       "      <td>0.001902</td>\n",
       "      <td>0.000000e+00</td>\n",
       "      <td>0</td>\n",
       "      <td>0.000000e+00</td>\n",
       "      <td>0.000000e+00</td>\n",
       "    </tr>\n",
       "  </tbody>\n",
       "</table>\n",
       "<p>1831533 rows × 12 columns</p>\n",
       "</div>"
      ],
      "text/plain": [
       "             objectId               candid            jd    mjd  fid  \\\n",
       "0        ZTF17aaaeclk  1356301332615015001  2.459111e+06  59080    1   \n",
       "1        ZTF17aaaeclk  1356301332615015001  2.459111e+06  59080    2   \n",
       "2        ZTF17aaaeclk  1356301332615015001  2.459111e+06  59081    2   \n",
       "3        ZTF17aaaeclk  1356301332615015001  2.459111e+06  59081    1   \n",
       "4        ZTF17aaaeclk  1356301332615015001  2.459111e+06  59082    2   \n",
       "...               ...                  ...           ...    ...  ...   \n",
       "1831528  ZTF18abgjszd  1356153201015010008  2.459111e+06  59108    2   \n",
       "1831529  ZTF18abgjszd  1356153201015010008  2.459111e+06  59109    2   \n",
       "1831530  ZTF18abgjszd  1356153201015010008  2.459111e+06  59109    1   \n",
       "1831531  ZTF18abgjszd  1356153201015010008  2.459111e+06  59110    1   \n",
       "1831532  ZTF18abgjszd  1356153201015010008  2.459111e+06  59110    2   \n",
       "\n",
       "          dc_flux  dc_sigflux   nr_flux    nr_sigflux  source  \\\n",
       "0        0.000286    0.000027  0.000286  3.955427e-06       1   \n",
       "1        0.000636    0.000062  0.000636  1.172011e-05       1   \n",
       "2        0.000679    0.000133  0.000636  1.137121e-19       0   \n",
       "3        0.000275    0.000119  0.000286  5.598796e-20       0   \n",
       "4        0.000679    0.000133  0.000636  1.137121e-19       0   \n",
       "...           ...         ...       ...           ...     ...   \n",
       "1831528  0.001819    0.000150  0.001902  0.000000e+00       0   \n",
       "1831529  0.001819    0.000150  0.001902  0.000000e+00       0   \n",
       "1831530  0.001993    0.000331  0.001838  4.540264e-10       0   \n",
       "1831531  0.001581    0.000028  0.001838  1.862494e-05       1   \n",
       "1831532  0.001819    0.000150  0.001902  0.000000e+00       0   \n",
       "\n",
       "         dc_sigflux_weight  nr_sigflux_weight  \n",
       "0             1.353949e+09       6.391653e+10  \n",
       "1             2.615609e+08       7.280090e+09  \n",
       "2             0.000000e+00       0.000000e+00  \n",
       "3             0.000000e+00       0.000000e+00  \n",
       "4             0.000000e+00       0.000000e+00  \n",
       "...                    ...                ...  \n",
       "1831528       0.000000e+00       0.000000e+00  \n",
       "1831529       0.000000e+00       0.000000e+00  \n",
       "1831530       0.000000e+00       0.000000e+00  \n",
       "1831531       1.240177e+09       2.882772e+09  \n",
       "1831532       0.000000e+00       0.000000e+00  \n",
       "\n",
       "[1831533 rows x 12 columns]"
      ]
     },
     "execution_count": 341,
     "metadata": {},
     "output_type": "execute_result"
    }
   ],
   "source": [
    " df"
   ]
  },
  {
   "cell_type": "code",
   "execution_count": 349,
   "id": "581ba5a9",
   "metadata": {
    "scrolled": true
   },
   "outputs": [
    {
     "name": "stdout",
     "output_type": "stream",
     "text": [
      "   fid   dc_flux\n",
      "0    1  0.000286\n",
      "1    2  0.000636\n",
      "   fid   dc_flux\n",
      "0    1  0.000286\n",
      "1    2  0.000636\n"
     ]
    },
    {
     "ename": "ValueError",
     "evalue": "Unable to coerce to Series, length must be 2: given 31",
     "output_type": "error",
     "traceback": [
      "\u001b[0;31m---------------------------------------------------------------------------\u001b[0m",
      "\u001b[0;31mValueError\u001b[0m                                Traceback (most recent call last)",
      "Cell \u001b[0;32mIn[349], line 28\u001b[0m\n\u001b[1;32m     24\u001b[0m \u001b[38;5;28mprint\u001b[39m(Q)                \n\u001b[1;32m     25\u001b[0m \u001b[38;5;66;03m#print(f[j::j])                   \u001b[39;00m\n\u001b[1;32m     26\u001b[0m \u001b[38;5;66;03m#print(Q[:j] * f[j::j])  \u001b[39;00m\n\u001b[0;32m---> 28\u001b[0m s_n \u001b[38;5;241m=\u001b[39m (Q[:j] \u001b[38;5;241m*\u001b[39m f[:] \u001b[38;5;241m*\u001b[39m w[:])\n\u001b[1;32m     29\u001b[0m s_d \u001b[38;5;241m=\u001b[39m (Q[:j]\u001b[38;5;241m*\u001b[39m\u001b[38;5;241m*\u001b[39m\u001b[38;5;241m2\u001b[39m \u001b[38;5;241m*\u001b[39m w[:])\n\u001b[1;32m     31\u001b[0m alpha \u001b[38;5;241m=\u001b[39m s_n \u001b[38;5;241m/\u001b[39m s_d\n",
      "File \u001b[0;32m//anaconda3/lib/python3.11/site-packages/pandas/core/ops/common.py:81\u001b[0m, in \u001b[0;36m_unpack_zerodim_and_defer.<locals>.new_method\u001b[0;34m(self, other)\u001b[0m\n\u001b[1;32m     77\u001b[0m             \u001b[38;5;28;01mreturn\u001b[39;00m \u001b[38;5;28mNotImplemented\u001b[39m\n\u001b[1;32m     79\u001b[0m other \u001b[38;5;241m=\u001b[39m item_from_zerodim(other)\n\u001b[0;32m---> 81\u001b[0m \u001b[38;5;28;01mreturn\u001b[39;00m method(\u001b[38;5;28mself\u001b[39m, other)\n",
      "File \u001b[0;32m//anaconda3/lib/python3.11/site-packages/pandas/core/arraylike.py:202\u001b[0m, in \u001b[0;36mOpsMixin.__mul__\u001b[0;34m(self, other)\u001b[0m\n\u001b[1;32m    200\u001b[0m \u001b[38;5;129m@unpack_zerodim_and_defer\u001b[39m(\u001b[38;5;124m\"\u001b[39m\u001b[38;5;124m__mul__\u001b[39m\u001b[38;5;124m\"\u001b[39m)\n\u001b[1;32m    201\u001b[0m \u001b[38;5;28;01mdef\u001b[39;00m \u001b[38;5;21m__mul__\u001b[39m(\u001b[38;5;28mself\u001b[39m, other):\n\u001b[0;32m--> 202\u001b[0m     \u001b[38;5;28;01mreturn\u001b[39;00m \u001b[38;5;28mself\u001b[39m\u001b[38;5;241m.\u001b[39m_arith_method(other, operator\u001b[38;5;241m.\u001b[39mmul)\n",
      "File \u001b[0;32m//anaconda3/lib/python3.11/site-packages/pandas/core/frame.py:7455\u001b[0m, in \u001b[0;36mDataFrame._arith_method\u001b[0;34m(self, other, op)\u001b[0m\n\u001b[1;32m   7452\u001b[0m axis: Literal[\u001b[38;5;241m1\u001b[39m] \u001b[38;5;241m=\u001b[39m \u001b[38;5;241m1\u001b[39m  \u001b[38;5;66;03m# only relevant for Series other case\u001b[39;00m\n\u001b[1;32m   7453\u001b[0m other \u001b[38;5;241m=\u001b[39m ops\u001b[38;5;241m.\u001b[39mmaybe_prepare_scalar_for_op(other, (\u001b[38;5;28mself\u001b[39m\u001b[38;5;241m.\u001b[39mshape[axis],))\n\u001b[0;32m-> 7455\u001b[0m \u001b[38;5;28mself\u001b[39m, other \u001b[38;5;241m=\u001b[39m ops\u001b[38;5;241m.\u001b[39malign_method_FRAME(\u001b[38;5;28mself\u001b[39m, other, axis, flex\u001b[38;5;241m=\u001b[39m\u001b[38;5;28;01mTrue\u001b[39;00m, level\u001b[38;5;241m=\u001b[39m\u001b[38;5;28;01mNone\u001b[39;00m)\n\u001b[1;32m   7457\u001b[0m new_data \u001b[38;5;241m=\u001b[39m \u001b[38;5;28mself\u001b[39m\u001b[38;5;241m.\u001b[39m_dispatch_frame_op(other, op, axis\u001b[38;5;241m=\u001b[39maxis)\n\u001b[1;32m   7458\u001b[0m \u001b[38;5;28;01mreturn\u001b[39;00m \u001b[38;5;28mself\u001b[39m\u001b[38;5;241m.\u001b[39m_construct_result(new_data)\n",
      "File \u001b[0;32m//anaconda3/lib/python3.11/site-packages/pandas/core/ops/__init__.py:260\u001b[0m, in \u001b[0;36malign_method_FRAME\u001b[0;34m(left, right, axis, flex, level)\u001b[0m\n\u001b[1;32m    258\u001b[0m \u001b[38;5;28;01mif\u001b[39;00m \u001b[38;5;28misinstance\u001b[39m(right, np\u001b[38;5;241m.\u001b[39mndarray):\n\u001b[1;32m    259\u001b[0m     \u001b[38;5;28;01mif\u001b[39;00m right\u001b[38;5;241m.\u001b[39mndim \u001b[38;5;241m==\u001b[39m \u001b[38;5;241m1\u001b[39m:\n\u001b[0;32m--> 260\u001b[0m         right \u001b[38;5;241m=\u001b[39m to_series(right)\n\u001b[1;32m    262\u001b[0m     \u001b[38;5;28;01melif\u001b[39;00m right\u001b[38;5;241m.\u001b[39mndim \u001b[38;5;241m==\u001b[39m \u001b[38;5;241m2\u001b[39m:\n\u001b[1;32m    263\u001b[0m         \u001b[38;5;66;03m# We need to pass dtype=right.dtype to retain object dtype\u001b[39;00m\n\u001b[1;32m    264\u001b[0m         \u001b[38;5;66;03m#  otherwise we lose consistency with Index and array ops\u001b[39;00m\n\u001b[1;32m    265\u001b[0m         dtype \u001b[38;5;241m=\u001b[39m \u001b[38;5;28;01mNone\u001b[39;00m\n",
      "File \u001b[0;32m//anaconda3/lib/python3.11/site-packages/pandas/core/ops/__init__.py:252\u001b[0m, in \u001b[0;36malign_method_FRAME.<locals>.to_series\u001b[0;34m(right)\u001b[0m\n\u001b[1;32m    250\u001b[0m \u001b[38;5;28;01melse\u001b[39;00m:\n\u001b[1;32m    251\u001b[0m     \u001b[38;5;28;01mif\u001b[39;00m \u001b[38;5;28mlen\u001b[39m(left\u001b[38;5;241m.\u001b[39mcolumns) \u001b[38;5;241m!=\u001b[39m \u001b[38;5;28mlen\u001b[39m(right):\n\u001b[0;32m--> 252\u001b[0m         \u001b[38;5;28;01mraise\u001b[39;00m \u001b[38;5;167;01mValueError\u001b[39;00m(\n\u001b[1;32m    253\u001b[0m             msg\u001b[38;5;241m.\u001b[39mformat(req_len\u001b[38;5;241m=\u001b[39m\u001b[38;5;28mlen\u001b[39m(left\u001b[38;5;241m.\u001b[39mcolumns), given_len\u001b[38;5;241m=\u001b[39m\u001b[38;5;28mlen\u001b[39m(right))\n\u001b[1;32m    254\u001b[0m         )\n\u001b[1;32m    255\u001b[0m     right \u001b[38;5;241m=\u001b[39m left\u001b[38;5;241m.\u001b[39m_constructor_sliced(right, index\u001b[38;5;241m=\u001b[39mleft\u001b[38;5;241m.\u001b[39mcolumns, dtype\u001b[38;5;241m=\u001b[39mdtype)\n\u001b[1;32m    256\u001b[0m \u001b[38;5;28;01mreturn\u001b[39;00m right\n",
      "\u001b[0;31mValueError\u001b[0m: Unable to coerce to Series, length must be 2: given 31"
     ]
    }
   ],
   "source": [
    "m=1\n",
    "factor = 2*m -1 + 3*np.sqrt(2*(2*m -1))\n",
    "l=1\n",
    "Q = df[['fid', 'dc_flux']].iloc[:2*m]#.values # j:j+m ?\n",
    "print(Q)\n",
    "\n",
    "\n",
    "count = 0\n",
    "for k in unique_ids[0:1]:\n",
    "    #print(k)\n",
    "    T = df[df['objectId'] == k][['mjd', 'fid',\n",
    "                                           'dc_flux', 'dc_sigflux_weight',\n",
    "                                           'nr_flux', 'nr_sigflux_weight',\n",
    "                                           'source']]\n",
    "    for l in [0]:\n",
    "        # we don't use it rn \n",
    "        for j in range(1,m+1): \n",
    "            d=0\n",
    "            for filt in np.unique(T['fid']):\n",
    "                mask = T['fid'] == filt\n",
    "                #print(filt)\n",
    "                f = T[mask]['dc_flux'].values\n",
    "                w = T[mask]['dc_sigflux_weight'].values\n",
    "                print(Q)                \n",
    "                #print(f[j::j])                   \n",
    "                #print(Q[:j] * f[j::j])  \n",
    "                \n",
    "                s_n = (Q[:j] * f[:] * w[:])\n",
    "                s_d = (Q[:j]**2 * w[:])\n",
    "\n",
    "                alpha = s_n / s_d\n",
    "                #print(\"alpha\", alpha)\n",
    "                \n",
    "                d += np.sum(((f[::j] - alpha * Q[:j])**2) * w[::j])\n",
    "\n",
    "                #print()\n",
    "                #print(d)\n",
    "\n",
    "                #break\n",
    "            \n",
    "    if d <= factor: \n",
    "        #print(d)\n",
    "        count +=1\n",
    "        print(count, k)\n",
    "        \n",
    "print(count)\n",
    "   \n",
    "        "
   ]
  },
  {
   "cell_type": "code",
   "execution_count": 310,
   "id": "8791b3ac",
   "metadata": {},
   "outputs": [
    {
     "data": {
      "text/plain": [
       "array([0.0002863])"
      ]
     },
     "execution_count": 310,
     "metadata": {},
     "output_type": "execute_result"
    }
   ],
   "source": [
    "Q = df['dc_flux'].iloc[0:m].values\n",
    "Q"
   ]
  },
  {
   "cell_type": "code",
   "execution_count": 313,
   "id": "c2f764ae",
   "metadata": {},
   "outputs": [
    {
     "data": {
      "text/plain": [
       "array([1272.17541827, 1293.89931474, 1299.801054  ,  675.11231853,\n",
       "       1318.1653299 ,  740.9077833 ,   27.64713756,  735.92550232,\n",
       "        729.71713492,  626.58400586,  692.22452168,  890.3436218 ,\n",
       "          0.        ,  432.88527886,  501.195918  ,  623.78221033,\n",
       "        610.87485025,  664.37520522,    0.        ,    0.        ,\n",
       "          0.        ,    0.        ,  450.71877465,    0.        ,\n",
       "        303.20291098,    0.        ,    0.        ,  383.97890241,\n",
       "          0.        ,  751.07178494, 1426.36620699])"
      ]
     },
     "execution_count": 313,
     "metadata": {},
     "output_type": "execute_result"
    }
   ],
   "source": [
    "f*Q*w"
   ]
  },
  {
   "cell_type": "code",
   "execution_count": 254,
   "id": "40dd7b31",
   "metadata": {},
   "outputs": [
    {
     "name": "stdout",
     "output_type": "stream",
     "text": [
      "1\n",
      "2\n"
     ]
    }
   ],
   "source": [
    "for j in range(1,m+1): \n",
    "    print(j)"
   ]
  },
  {
   "cell_type": "code",
   "execution_count": 255,
   "id": "81f33f76",
   "metadata": {},
   "outputs": [
    {
     "data": {
      "text/plain": [
       "1    0.000636\n",
       "2    0.000679\n",
       "Name: dc_flux, dtype: float64"
      ]
     },
     "execution_count": 255,
     "metadata": {},
     "output_type": "execute_result"
    }
   ],
   "source": [
    "T[mask]['dc_flux'].iloc[0:2]"
   ]
  },
  {
   "cell_type": "code",
   "execution_count": 260,
   "id": "95202097",
   "metadata": {},
   "outputs": [
    {
     "data": {
      "text/plain": [
       "1    0.000636\n",
       "2    0.000679\n",
       "Name: dc_flux, dtype: float64"
      ]
     },
     "execution_count": 260,
     "metadata": {},
     "output_type": "execute_result"
    }
   ],
   "source": [
    "Q.iloc[0]"
   ]
  },
  {
   "cell_type": "code",
   "execution_count": null,
   "id": "59a83d9b",
   "metadata": {},
   "outputs": [],
   "source": []
  },
  {
   "cell_type": "code",
   "execution_count": null,
   "id": "9e7ec5fc",
   "metadata": {},
   "outputs": [],
   "source": []
  },
  {
   "cell_type": "code",
   "execution_count": 192,
   "id": "68fb8849",
   "metadata": {},
   "outputs": [
    {
     "data": {
      "text/html": [
       "<div>\n",
       "<style scoped>\n",
       "    .dataframe tbody tr th:only-of-type {\n",
       "        vertical-align: middle;\n",
       "    }\n",
       "\n",
       "    .dataframe tbody tr th {\n",
       "        vertical-align: top;\n",
       "    }\n",
       "\n",
       "    .dataframe thead th {\n",
       "        text-align: right;\n",
       "    }\n",
       "</style>\n",
       "<table border=\"1\" class=\"dataframe\">\n",
       "  <thead>\n",
       "    <tr style=\"text-align: right;\">\n",
       "      <th></th>\n",
       "      <th>objectId</th>\n",
       "      <th>candid</th>\n",
       "      <th>jd</th>\n",
       "      <th>mjd</th>\n",
       "      <th>fid</th>\n",
       "      <th>dc_flux</th>\n",
       "      <th>dc_sigflux</th>\n",
       "      <th>nr_flux</th>\n",
       "      <th>nr_sigflux</th>\n",
       "      <th>source</th>\n",
       "      <th>dc_sigflux_weight</th>\n",
       "      <th>nr_sigflux_weight</th>\n",
       "    </tr>\n",
       "  </thead>\n",
       "  <tbody>\n",
       "    <tr>\n",
       "      <th>0</th>\n",
       "      <td>ZTF17aaaeclk</td>\n",
       "      <td>1356301332615015001</td>\n",
       "      <td>2.459111e+06</td>\n",
       "      <td>59080</td>\n",
       "      <td>1</td>\n",
       "      <td>0.000286</td>\n",
       "      <td>0.000027</td>\n",
       "      <td>0.000286</td>\n",
       "      <td>3.955427e-06</td>\n",
       "      <td>1</td>\n",
       "      <td>1.353949e+09</td>\n",
       "      <td>6.391653e+10</td>\n",
       "    </tr>\n",
       "    <tr>\n",
       "      <th>1</th>\n",
       "      <td>ZTF17aaaeclk</td>\n",
       "      <td>1356301332615015001</td>\n",
       "      <td>2.459111e+06</td>\n",
       "      <td>59080</td>\n",
       "      <td>2</td>\n",
       "      <td>0.000636</td>\n",
       "      <td>0.000062</td>\n",
       "      <td>0.000636</td>\n",
       "      <td>1.172011e-05</td>\n",
       "      <td>1</td>\n",
       "      <td>2.615609e+08</td>\n",
       "      <td>7.280090e+09</td>\n",
       "    </tr>\n",
       "    <tr>\n",
       "      <th>2</th>\n",
       "      <td>ZTF17aaaeclk</td>\n",
       "      <td>1356301332615015001</td>\n",
       "      <td>2.459111e+06</td>\n",
       "      <td>59081</td>\n",
       "      <td>2</td>\n",
       "      <td>0.000679</td>\n",
       "      <td>0.000133</td>\n",
       "      <td>0.000636</td>\n",
       "      <td>1.137121e-19</td>\n",
       "      <td>0</td>\n",
       "      <td>0.000000e+00</td>\n",
       "      <td>0.000000e+00</td>\n",
       "    </tr>\n",
       "    <tr>\n",
       "      <th>3</th>\n",
       "      <td>ZTF17aaaeclk</td>\n",
       "      <td>1356301332615015001</td>\n",
       "      <td>2.459111e+06</td>\n",
       "      <td>59081</td>\n",
       "      <td>1</td>\n",
       "      <td>0.000275</td>\n",
       "      <td>0.000119</td>\n",
       "      <td>0.000286</td>\n",
       "      <td>5.598796e-20</td>\n",
       "      <td>0</td>\n",
       "      <td>0.000000e+00</td>\n",
       "      <td>0.000000e+00</td>\n",
       "    </tr>\n",
       "    <tr>\n",
       "      <th>4</th>\n",
       "      <td>ZTF17aaaeclk</td>\n",
       "      <td>1356301332615015001</td>\n",
       "      <td>2.459111e+06</td>\n",
       "      <td>59082</td>\n",
       "      <td>2</td>\n",
       "      <td>0.000679</td>\n",
       "      <td>0.000133</td>\n",
       "      <td>0.000636</td>\n",
       "      <td>1.137121e-19</td>\n",
       "      <td>0</td>\n",
       "      <td>0.000000e+00</td>\n",
       "      <td>0.000000e+00</td>\n",
       "    </tr>\n",
       "    <tr>\n",
       "      <th>5</th>\n",
       "      <td>ZTF17aaaeclk</td>\n",
       "      <td>1356301332615015001</td>\n",
       "      <td>2.459111e+06</td>\n",
       "      <td>59082</td>\n",
       "      <td>1</td>\n",
       "      <td>0.000286</td>\n",
       "      <td>0.000066</td>\n",
       "      <td>0.000286</td>\n",
       "      <td>3.955427e-06</td>\n",
       "      <td>1</td>\n",
       "      <td>2.325079e+08</td>\n",
       "      <td>6.391653e+10</td>\n",
       "    </tr>\n",
       "  </tbody>\n",
       "</table>\n",
       "</div>"
      ],
      "text/plain": [
       "       objectId               candid            jd    mjd  fid   dc_flux  \\\n",
       "0  ZTF17aaaeclk  1356301332615015001  2.459111e+06  59080    1  0.000286   \n",
       "1  ZTF17aaaeclk  1356301332615015001  2.459111e+06  59080    2  0.000636   \n",
       "2  ZTF17aaaeclk  1356301332615015001  2.459111e+06  59081    2  0.000679   \n",
       "3  ZTF17aaaeclk  1356301332615015001  2.459111e+06  59081    1  0.000275   \n",
       "4  ZTF17aaaeclk  1356301332615015001  2.459111e+06  59082    2  0.000679   \n",
       "5  ZTF17aaaeclk  1356301332615015001  2.459111e+06  59082    1  0.000286   \n",
       "\n",
       "   dc_sigflux   nr_flux    nr_sigflux  source  dc_sigflux_weight  \\\n",
       "0    0.000027  0.000286  3.955427e-06       1       1.353949e+09   \n",
       "1    0.000062  0.000636  1.172011e-05       1       2.615609e+08   \n",
       "2    0.000133  0.000636  1.137121e-19       0       0.000000e+00   \n",
       "3    0.000119  0.000286  5.598796e-20       0       0.000000e+00   \n",
       "4    0.000133  0.000636  1.137121e-19       0       0.000000e+00   \n",
       "5    0.000066  0.000286  3.955427e-06       1       2.325079e+08   \n",
       "\n",
       "   nr_sigflux_weight  \n",
       "0       6.391653e+10  \n",
       "1       7.280090e+09  \n",
       "2       0.000000e+00  \n",
       "3       0.000000e+00  \n",
       "4       0.000000e+00  \n",
       "5       6.391653e+10  "
      ]
     },
     "execution_count": 192,
     "metadata": {},
     "output_type": "execute_result"
    }
   ],
   "source": [
    "df[df['objectId'] == unique_ids[0]].head(6)"
   ]
  },
  {
   "cell_type": "code",
   "execution_count": 302,
   "id": "de1f401d",
   "metadata": {},
   "outputs": [
    {
     "name": "stdout",
     "output_type": "stream",
     "text": [
      "1 execution time: 0.2659939930017572\n",
      "2 execution time: 0.47643366300326306\n"
     ]
    }
   ],
   "source": [
    "\n",
    "import timeit\n",
    "\n",
    "def approach1():\n",
    "    condition = df['source'] == 0\n",
    "    df['dc_sigflux_weight'] = np.where(condition, 0, 1 / (df['dc_sigflux'] ** 2))\n",
    "    df['nr_sigflux_weight'] = np.where(condition, 0, 1 / (df['nr_sigflux'] ** 2))\n",
    "\n",
    "def approach2():\n",
    "    df['dc_sigflux_weight'] = 1 / (df['dc_sigflux'] ** 2)\n",
    "    df['nr_sigflux_weight'] = 1 / (df['nr_sigflux'] ** 2)\n",
    "    df['dc_sigflux_weight'] = df['dc_sigflux_weight'] * (df['source'] != 0)\n",
    "    df['nr_sigflux_weight'] = df['nr_sigflux_weight'] * (df['source'] != 0)\n",
    "\n",
    "time_approach2 = timeit.timeit(approach2, number=10)\n",
    "time_approach1 = timeit.timeit(approach1, number=10)\n",
    "\n",
    "print(\"1 execution time:\", time_approach1)\n",
    "print(\"2 execution time:\", time_approach2)\n"
   ]
  },
  {
   "cell_type": "code",
   "execution_count": null,
   "id": "074dfede",
   "metadata": {},
   "outputs": [],
   "source": []
  }
 ],
 "metadata": {
  "kernelspec": {
   "display_name": "Python 3 (ipykernel)",
   "language": "python",
   "name": "python3"
  },
  "language_info": {
   "codemirror_mode": {
    "name": "ipython",
    "version": 3
   },
   "file_extension": ".py",
   "mimetype": "text/x-python",
   "name": "python",
   "nbconvert_exporter": "python",
   "pygments_lexer": "ipython3",
   "version": "3.11.5"
  }
 },
 "nbformat": 4,
 "nbformat_minor": 5
}
