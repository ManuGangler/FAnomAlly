{
 "cells": [
  {
   "cell_type": "code",
   "execution_count": null,
   "id": "44f29f90",
   "metadata": {},
   "outputs": [],
   "source": [
    "import pandas as pd\n",
    "import numpy as np\n",
    "import time\n",
    "import matplotlib.pyplot as plt"
   ]
  },
  {
   "cell_type": "markdown",
   "id": "39761033",
   "metadata": {},
   "source": [
    "# Retrieve data"
   ]
  },
  {
   "cell_type": "markdown",
   "id": "1c647a84",
   "metadata": {},
   "source": [
    "We begin by fetching the reduced data using the Python script `data_transfer.py` from the file `df_merged.parquet`, then importing it into Pandas data frame."
   ]
  },
  {
   "cell_type": "code",
   "execution_count": null,
   "id": "5ab1f1df",
   "metadata": {},
   "outputs": [],
   "source": [
    "df = pd.read_parquet('../scripts/df_merged.parquet', engine='pyarrow')"
   ]
  },
  {
   "cell_type": "code",
   "execution_count": null,
   "id": "294f62aa",
   "metadata": {},
   "outputs": [],
   "source": [
    "df.head(2)"
   ]
  },
  {
   "cell_type": "code",
   "execution_count": null,
   "id": "609fdd36",
   "metadata": {},
   "outputs": [],
   "source": [
    "df.shape"
   ]
  },
  {
   "cell_type": "markdown",
   "id": "0d94d88b",
   "metadata": {},
   "source": [
    "Here we extract all unique IDs from our data frame:"
   ]
  },
  {
   "cell_type": "code",
   "execution_count": null,
   "id": "6e814c95",
   "metadata": {
    "scrolled": true
   },
   "outputs": [],
   "source": [
    "unique_ids = df['objectId'].unique().tolist()\n",
    "len(unique_ids)"
   ]
  },
  {
   "cell_type": "markdown",
   "id": "6df18f04",
   "metadata": {},
   "source": [
    "#"
   ]
  },
  {
   "cell_type": "markdown",
   "id": "d4f4b38e",
   "metadata": {},
   "source": [
    "To calculate the weight values \\(w_i\\), we use the formula: `w_i` =\\begin{cases}\n",
    "\\frac{1}{{\\sigma_i^2}}, & \\text{if data is available for day } i \\\\\n",
    "0, & \\text{otherwise}\n",
    "\\end{cases}"
   ]
  },
  {
   "cell_type": "code",
   "execution_count": null,
   "id": "52fbac42",
   "metadata": {},
   "outputs": [],
   "source": [
    "missing_data = (df['source'] == 0) | (df['dc_sigflux'] == 0)\n",
    "df['dc_weight'] = np.where(missing_data, 0, 1 / (df['dc_sigflux'] ** 2))\n",
    "df['nr_weight'] = np.where(missing_data, 0, 1 / (df['nr_sigflux'] ** 2))"
   ]
  },
  {
   "cell_type": "code",
   "execution_count": null,
   "id": "27587801",
   "metadata": {},
   "outputs": [],
   "source": [
    "df[['source','dc_weight']].head(3)"
   ]
  },
  {
   "cell_type": "markdown",
   "id": "21ef1374",
   "metadata": {},
   "source": [
    "# "
   ]
  },
  {
   "cell_type": "markdown",
   "id": "ccb06795",
   "metadata": {},
   "source": [
    "# "
   ]
  },
  {
   "cell_type": "markdown",
   "id": "ee558a98",
   "metadata": {},
   "source": [
    "# With distance - factor test "
   ]
  },
  {
   "cell_type": "markdown",
   "id": "0576f19f",
   "metadata": {},
   "source": [
    "We group the data by shared ID and create `NumPy` arrays for flux, weighted flux, and the source test(if it's a missing day(data)). We also determine the length of each time series."
   ]
  },
  {
   "cell_type": "code",
   "execution_count": null,
   "id": "53b745e0",
   "metadata": {},
   "outputs": [],
   "source": [
    "grouped = df.groupby('objectId')\n",
    "\n",
    "F = grouped['dc_flux'].apply(lambda x: x.values)#.values\n",
    "sig = grouped['dc_sigflux'].apply(lambda x: x.values)#.values\n",
    "W = grouped['dc_weight'].apply(lambda x: x.values)#.values\n",
    "source = grouped['source'].apply(lambda x: x.values)#.values\n",
    "lengths = grouped['source'].apply(lambda x: len(x))#.values\n",
    "\n",
    "\n",
    "# We are not working with this right now because it causes a problem (\n",
    "# the arrangement of values in these arrays might not be aligned perfectly with our expectations,\n",
    "# especially if the grouping operation resulted in different lengths of arrays for different groups)"
   ]
  },
  {
   "cell_type": "markdown",
   "id": "75b64914",
   "metadata": {},
   "source": [
    "We define the length of our query,window or chunk, along with the limit factor and the size of each window or chunk."
   ]
  },
  {
   "cell_type": "code",
   "execution_count": null,
   "id": "97e9e68d",
   "metadata": {},
   "outputs": [],
   "source": [
    "m=1\n",
    "factor = 2*m+1 + 3*np.sqrt(2*(2*m+1))\n",
    "chunk_size = 2 * (m + 1)"
   ]
  },
  {
   "cell_type": "markdown",
   "id": "d5ae9b24",
   "metadata": {},
   "source": [
    "The `'no_match_test'` function evaluates whether there are any matches in the provided array, which contains the source test values for a window. If the sum of the array is less than or equal to 1, indicating that all values are missing or only one value is present, the function returns -99. Otherwise, it returns -1 to initialize the window's status as 'no match'."
   ]
  },
  {
   "cell_type": "code",
   "execution_count": null,
   "id": "74191626",
   "metadata": {},
   "outputs": [],
   "source": [
    "def no_match_test(array):\n",
    "    if array.sum() <= 1 : \n",
    "        return -99 ## all are missing, or only one is\n",
    "    return -1 # initialise as no match  # can be modifieted ? "
   ]
  },
  {
   "cell_type": "markdown",
   "id": "93fecc96",
   "metadata": {},
   "source": [
    "\"`objects`\" list contains a subset of the objects we intend to work with.\n",
    "\n",
    "\"`L_max`\" is defined to facilitate partial iteration, serving as a debugging aid by allowing a limit to be set on the number of iterations performed.\n",
    "\n",
    "We initialize the NumPy arrays with `None` values."
   ]
  },
  {
   "cell_type": "code",
   "execution_count": null,
   "id": "7774a938",
   "metadata": {},
   "outputs": [],
   "source": [
    "objects = unique_ids[0:1000]\n",
    "num_objects = len(objects)\n",
    "L_max = int(num_objects/2)\n",
    "# L_max = 5\n",
    "print(\"L_max \", L_max)\n",
    "\n",
    "# T = np.empty(num_objects, dtype=object)\n",
    "# F = np.empty(num_objects, dtype=object)\n",
    "# W = np.empty(num_objects, dtype=object)\n",
    "# sig = np.empty(num_objects, dtype=object) ### we will remove it ! \n",
    "# source = np.empty(num_objects, dtype=object)\n",
    "# lengths= np.empty(num_objects, dtype=object)\n",
    "\n",
    "R = np.empty(num_objects, dtype=object)\n",
    "R_l = np.empty((num_objects, L_max), dtype=object)\n",
    "alp = np.empty((num_objects, L_max), dtype=object)\n",
    "d = np.empty((num_objects, L_max), dtype=object)"
   ]
  },
  {
   "cell_type": "code",
   "execution_count": null,
   "id": "a348066e",
   "metadata": {},
   "outputs": [],
   "source": [
    "indexes_objects = range(num_objects)\n",
    "Q = [None] * (L_max)"
   ]
  },
  {
   "cell_type": "markdown",
   "id": "12e82cf3",
   "metadata": {},
   "source": [
    "We initialize R using the '`no_match_test`' function."
   ]
  },
  {
   "cell_type": "code",
   "execution_count": null,
   "id": "cfa1a7c8",
   "metadata": {
    "scrolled": true
   },
   "outputs": [],
   "source": [
    "for k in indexes_objects:\n",
    "    ######### I'm not convinced by this solution. While it worked well before, but rn it needs optimiz ! \n",
    "#     T[k] = df[df['objectId'] == objects[k]][['mjd','dc_flux','dc_sigflux' ,'dc_weight','source','fid']]\n",
    "#     F[k] = T[k]['dc_flux'].values\n",
    "#     W[k] = T[k]['dc_weight'].values\n",
    "#     sig[k] = T[k]['dc_sigflux'].values\n",
    "#     source[k] = T[k]['source'].values\n",
    "#     lengths[k] = len(T[k])\n",
    "#     n = lengths[k]\n",
    "    n = lengths[objects[k]]\n",
    "    num_chunks = int(n // 2)-m \n",
    "\n",
    "    #print(n,num_chunks)\n",
    "\n",
    "    chunks = np.array([source[objects[k]][i*2 : (i*2+chunk_size)] for i in range(num_chunks)])\n",
    "    result = np.array(list(map(no_match_test, chunks)))\n",
    "    R[k] = result.copy()\n",
    "    \n",
    "    \n",
    "    for l in range(L_max):\n",
    "        R_l[k][l] = result.copy()\n",
    "    # a for loop isn't a good idea !!!! \n",
    "    \n"
   ]
  },
  {
   "cell_type": "markdown",
   "id": "96498701",
   "metadata": {},
   "source": [
    "### Loop to compute the distance of the subsequence in the time series to its nearest neighbor."
   ]
  },
  {
   "cell_type": "code",
   "execution_count": null,
   "id": "a891d484",
   "metadata": {
    "scrolled": false
   },
   "outputs": [],
   "source": [
    "start_time = time.time()\n",
    "\n",
    "\n",
    "l= 0\n",
    "while (l < L_max):\n",
    "    indexes_array = np.array([np.where(array == -1)[0] for array in R], dtype=object)\n",
    "    \n",
    "    has_non_empty_list = np.any([value.size > 0 for value in indexes_array])\n",
    "    if not has_non_empty_list:\n",
    "        print(\"break , l = \", l )\n",
    "        break\n",
    "        \n",
    "    for k in range(len(R)): # we can remove the loop for here ! ???\n",
    "          if indexes_array[k].size != 0:\n",
    "            f = F[objects[k]]\n",
    "            \n",
    "            index_no_match = indexes_array[k][0]\n",
    "\n",
    "            #print(index_no_match, R[k])\n",
    "            k_Query_taked = k \n",
    "            \n",
    "            Q[l] = f[index_no_match*2 : index_no_match*2 +chunk_size]\n",
    "            break\n",
    "\n",
    "    for k in range(len(objects)):\n",
    "        f = F[objects[k]]\n",
    "        w = W[objects[k]]\n",
    "        n = lengths[objects[k]]\n",
    "        n_c = n - 2*m # (number of chunks x 2) ! it's (n/2 - m) but to optimize we mutiply by 2 directly !  \n",
    "        #print(n, n_c,len(R[k]))\n",
    "\n",
    "\n",
    "\n",
    "        s_1 = np.zeros(n_c, dtype=float)\n",
    "        s_2 = np.zeros(n_c, dtype=float)\n",
    "        \n",
    "        for j in range(0,m+1): \n",
    "            h = np.tile(Q[l][j*2: j*2+2], (len(f[j*2:j*2+ n_c]) // 2, 1)).ravel() # array of h for r and g successive for the vectorisation\n",
    "\n",
    "            s_1[:] += (f[j*2:j*2+ n_c]*h*w[j*2:j*2+ n_c])\n",
    "            s_2[:] += (h**2 * w[j*2:j*2+ n_c])\n",
    "\n",
    "\n",
    "        s_n = s_1[::2] + s_1[1::2]  \n",
    "        s_d = s_2[::2] + s_2[1::2] \n",
    "        \n",
    "        mask_no_0 = (s_d != 0)\n",
    "        alp[k][l] = np.zeros_like(s_d, dtype=float)\n",
    "\n",
    "        alp[k][l][mask_no_0] = s_n[mask_no_0] / s_d[mask_no_0] # # Perform division only where s_d(i) is not zero\n",
    "\n",
    "        alpha = np.repeat(alp[k][l], 2) # duplicate alpha for each value (one for r and second for g)\n",
    "     \n",
    "    \n",
    "        dd = np.zeros(n_c, dtype=float)\n",
    "        \n",
    "        for j in range(0,m+1):\n",
    "            h = np.tile(Q[l][j*2: j*2+2], (len(f[j*2:j*2+ n_c]) // 2, 1)).ravel() # array of h for r and g successive for the vectorisation\n",
    "            \n",
    "            dd[:] += ((f[j*2:j*2+ n_c] - alpha[:] * h)**2) * w[j*2:j*2+ n_c] \n",
    "            #alpha[:n-j*2] ==> alpha[:]\n",
    "\n",
    "        d[k][l] = dd[::2] + dd[1::2]\n",
    "        \n",
    "        factor_comparison =  d[k][l] <= factor\n",
    "                \n",
    "        R[k][indexes_array[k][factor_comparison[indexes_array[k]]]] = l # explanation follows below!\n",
    "\n",
    "#         print(\"indexes_array\",indexes_array[k])\n",
    "#         print(\"factor_comparison\",factor_comparison)\n",
    "#         print(\"factor_comparison[indexes_array]\",factor_comparison[indexes_array[k]])\n",
    "#         print(\"indexes_array[factor_comparison[indexes_array]]\",indexes_array[k][factor_comparison[indexes_array[k]]])\n",
    "#         print(\"R[k]\",R[k])\n",
    "#         print(\"indexes_array[factor_comparison[indexes_array]]\",R[k][indexes_array[k][factor_comparison[indexes_array[k]]]])\n",
    "#         print()\n",
    "#         print()\n",
    "        for i in range(len(factor_comparison)):\n",
    "            if factor_comparison[i] and R_l[k][l][i] != -99:# and i != index_no_match: it isn't bad but It may \n",
    "                R_l[k][l][i] = l\n",
    "                \n",
    "        \"\"\"for i in indexes_array[k]:\n",
    "            #print(i)\n",
    "            if d[k][l][i] <= factor : \n",
    "                R[k][i] = l\"\"\"\n",
    "                \n",
    "    R_l[k_Query_taked][l][index_no_match] = -2\n",
    "#     R[k_Query_taked][index_no_match] = -2\n",
    "\n",
    "    \n",
    "     \n",
    "    #print(\"l = \",l)\n",
    " \n",
    "    l += 1 \n",
    "    \n",
    "print(\"l = \",l)\n",
    "\n",
    "\n",
    "\n",
    "end_time = time.time()\n",
    "\n",
    "# Compute the elapsed time\n",
    "elapsed_time = end_time - start_time\n",
    "\n",
    "print(\"Elapsed time:\", elapsed_time, \"seconds\")"
   ]
  },
  {
   "cell_type": "markdown",
   "id": "877d33b3",
   "metadata": {},
   "source": [
    "Let's break down the expression `R[k][indexes_array[k][factor_comparison[indexes_array[k]]]] = l` step by step:\n",
    "\n",
    "1. `indexes_array[k]`: This selects the array of indexes corresponding to the k-th element of `indexes_array`.\n",
    "2. `factor_comparison[indexes_array[k]]`: This applies boolean indexing to `factor_comparison` using the indexes from `indexes_array[k]`. It selects only the elements of `factor_comparison` corresponding to the indexes in `indexes_array[k]`.\n",
    "3. `indexes_array[k][factor_comparison[indexes_array[k]]]`: This gives the indices where the condition `factor_comparison` is true for the k-th element of `indexes_array`.\n",
    "4. `R[k][indexes_array[k][factor_comparison[indexes_array[k]]]]`: This uses the indices obtained in the previous step to select elements from the k-th row of `R`.\n",
    "5. `= l`: Finally, it assigns the value `l` to the selected elements of `R[k]`.\n"
   ]
  },
  {
   "cell_type": "code",
   "execution_count": null,
   "id": "89b788bf",
   "metadata": {},
   "outputs": [],
   "source": [
    "np.savez('nested_arrays.npz', array1=d, array2=R, array3=Q)\n",
    "\n",
    "# Load the arrays from the .npz file\n",
    "data = np.load('nested_arrays.npz', allow_pickle=True)\n",
    "\n",
    "# Retrieve the arrays from the loaded data\n",
    "# d1 = data['array1']\n",
    "# R1 = data['array2']\n",
    "# Q1 = data['array3']"
   ]
  },
  {
   "cell_type": "markdown",
   "id": "60e939f3",
   "metadata": {},
   "source": [
    "#"
   ]
  },
  {
   "cell_type": "markdown",
   "id": "d5529e2f",
   "metadata": {},
   "source": [
    "#"
   ]
  },
  {
   "cell_type": "markdown",
   "id": "97534fc3",
   "metadata": {},
   "source": [
    "# plot the results "
   ]
  },
  {
   "cell_type": "code",
   "execution_count": null,
   "id": "009b2d90",
   "metadata": {},
   "outputs": [],
   "source": [
    "k =0\n",
    "l = 0\n",
    "unique_ids[k]"
   ]
  },
  {
   "cell_type": "code",
   "execution_count": null,
   "id": "b4a99ca0",
   "metadata": {},
   "outputs": [],
   "source": [
    "#matches = number_matches(R_l[k])\n",
    "def number_matches(R_l_k):\n",
    "    # Get the length of the first sub-array\n",
    "    length = len(R_l_k[0])\n",
    "\n",
    "    # Initialize the list to store the number of matches for each index\n",
    "    matches = [0] * length\n",
    "\n",
    "    # Iterate through each sub-array\n",
    "    for sub_array in R_l_k:\n",
    "        # Iterate through each element and count matches for each index\n",
    "        for i, elem in enumerate(sub_array):\n",
    "            if elem >= 0:\n",
    "                matches[i] += 1\n",
    "\n",
    "    return matches"
   ]
  },
  {
   "cell_type": "code",
   "execution_count": null,
   "id": "df8c00de",
   "metadata": {},
   "outputs": [],
   "source": [
    "def number_matches_for_all_k(R_l):\n",
    "    all_matches = []  # Initialize a list to store matches for all values of k\n",
    "\n",
    "    # Iterate through each R_l[k]\n",
    "    for R_l_k in R_l:\n",
    "        # Get the length of the first sub-array\n",
    "        length = len(R_l_k[0])\n",
    "\n",
    "        # Initialize the list to store the number of matches for each index\n",
    "        matches = [0] * length\n",
    "\n",
    "        # Iterate through each sub-array\n",
    "        for sub_array in R_l_k:\n",
    "            # Iterate through each element and count matches for each index\n",
    "            for i, elem in enumerate(sub_array):\n",
    "                if elem >= 0:\n",
    "                    matches[i] += 1\n",
    "\n",
    "        all_matches.append(matches)  # Store matches for current k\n",
    "\n",
    "    return all_matches\n",
    "\n",
    "\n",
    "# all_matches will be a list where each element is matches for each k\n",
    "all_matches = number_matches_for_all_k(R_l)\n"
   ]
  },
  {
   "cell_type": "code",
   "execution_count": null,
   "id": "766997a3",
   "metadata": {},
   "outputs": [],
   "source": [
    "def lowest_values(all_matches):\n",
    "    lowest_values = []  # Initialize a list to store the lowest 10 values\n",
    "\n",
    "    # Iterate through each list of matches for each k\n",
    "    for k, matches_k in enumerate(all_matches):\n",
    "        # Iterate through each match count and index i\n",
    "        for i, match_count in enumerate(matches_k):\n",
    "            if R[k][i] !=-99:\n",
    "                lowest_values.append((match_count, k, i))  # Store match count, k, and i\n",
    "\n",
    "    # Sort the lowest values based on match count\n",
    "    lowest_values.sort(key=lambda x: x[0])\n",
    "\n",
    "    return lowest_values\n",
    "\n",
    "# lowest_ will be a list of tuples where each tuple contains (match_count, k, i)\n",
    "lowest = lowest_values(all_matches)\n",
    "lowest"
   ]
  },
  {
   "cell_type": "code",
   "execution_count": null,
   "id": "cb813924",
   "metadata": {},
   "outputs": [],
   "source": [
    "def plot_distance_flux(k,l):\n",
    "    \n",
    "    plt.figure(figsize=(14, 12))\n",
    "\n",
    "    # Plot for F[k]\n",
    "    plt.subplot(2, 1, 1)\n",
    "\n",
    "    for i in range(int(len(F[objects[k]])/2)):\n",
    "        if source[objects[k]][2*i] == 0:\n",
    "            marker = 'x'\n",
    "            plt.errorbar(i, F[objects[k]][2*i], \n",
    "                     #sig[objects[k]][2*i]*0.4,\n",
    "                     c='C0', marker=marker)\n",
    "        else:\n",
    "            marker = 'o'\n",
    "            plt.errorbar(i, F[objects[k]][2*i], \n",
    "                     sig[objects[k]][2*i],\n",
    "                     c='C0', marker=marker)\n",
    "\n",
    "        if source[objects[k]][2*i+1] == 0:\n",
    "            marker = 'x'\n",
    "            plt.errorbar(i, F[objects[k]][2*i+1],\n",
    "                     #sig[objects[k]][2*i+1]*0.4,\n",
    "                     c='C1', marker=marker)\n",
    "            \n",
    "        else:\n",
    "            marker = 'o'\n",
    "            plt.errorbar(i, F[objects[k]][2*i+1],\n",
    "                     sig[objects[k]][2*i+1],\n",
    "                     c='C1', marker=marker)\n",
    "        \n",
    "    plt.plot([], [], color='C1', marker='x', label='missing points !')\n",
    "    plt.plot([], [], color='C0', marker='o', label='origin')\n",
    "    plt.plot([], [], color='C0', marker='x', label='missing points !')\n",
    "    plt.plot([], [], color='C1', marker='o', label='origin')\n",
    "\n",
    "    plt.plot(range(int(len(F[objects[k]])/2)), F[objects[k]][::2], c='C0', linewidth = 1)\n",
    "    plt.plot(range(int(len(F[objects[k]])/2)), F[objects[k]][1::2], c='C1', linewidth = 1)\n",
    "\n",
    "    plt.plot(range(int(len(Q[l])/2)), Q[l][::2], c='g', label='Q[l]',marker='.', linewidth=3, zorder=3)\n",
    "    plt.plot(range(int(len(Q[l])/2)), Q[l][1::2], c='r', label='Q[l]',marker='.', linewidth=3, zorder=3)\n",
    "\n",
    "    # Define the window of indices\n",
    "    window_start = 0  # Index of the window start\n",
    "    window_end = int(len(Q[l])/2 - 1)  # Index of the window end\n",
    "\n",
    "    # Create an array of float indices\n",
    "    indices = np.arange(window_start, window_end + 1)\n",
    "    indices = np.concatenate(([indices[0] - 0.5], indices, [indices[-1] + 0.5]))\n",
    "\n",
    "    # Plot a shaded region for the window\n",
    "    plt.fill_between(indices, min(Q[l])/1.2, max(Q[l])*1.2, color='gray', alpha=0.2)\n",
    "\n",
    "    # plt.xlabel('Index')\n",
    "    plt.ylabel('Flux')\n",
    "    # plt.title('Flux Plot')\n",
    "    plt.legend()\n",
    "\n",
    "\n",
    "\n",
    "\n",
    "    ###############                       Plot for d[k][0]                       ###############\n",
    "\n",
    "    plt.subplot(2, 1, 2)\n",
    "    plt.plot(range(len(d[k][l])), d[k][l],color='C0', linestyle='-',linewidth=1)\n",
    "    matches = all_matches[k]\n",
    "    for i, match_count in enumerate(number_matches(R_l[k])):\n",
    "        plt.text(i+0.2, d[k][l][i]+d[k][l][i]*5/100, str(match_count), fontsize=10, color='red', ha='left')\n",
    "\n",
    "\n",
    "    # Plot dummy points with desired colors and markers\n",
    "    plt.plot([], [], color='black', marker='o', label='Query chosed')\n",
    "    plt.plot([], [], color='red', marker='x', label='missing cases !')\n",
    "    plt.plot([], [], color='blue', marker='s', label='Matched here')\n",
    "    plt.plot([], [], color='green', marker='*', label='Matches with a different `l` (Query)')\n",
    "    plt.plot([], [], color='yellow', marker='^', label=f'Not matched with any of the {L_max} options we selected')\n",
    "\n",
    "    for i, val in enumerate(R_l[k][l]):\n",
    "        if val == -99:\n",
    "            plt.scatter(i, d[k][l][i], color='red', marker='x', s=50)  # marker size 50\n",
    "        elif val == l:\n",
    "            plt.scatter(i, d[k][l][i], color='blue', marker='s', s=50)\n",
    "        elif val == -2:\n",
    "            plt.scatter(i, d[k][l][i], color='black', marker='o', s=50)  \n",
    "        #elif (val == -1) and (R[k][i] == -1 or R[k][i] == -2):\n",
    "        elif matches[i]==0:\n",
    "            plt.scatter(i, d[k][l][i], color='yellow', marker='^', s=50)  \n",
    "        else:\n",
    "            plt.scatter(i, d[k][l][i], color='green', marker='*', s=75)\n",
    "            \n",
    "            \n",
    "\n",
    "\n",
    "    plt.legend(fontsize=8) \n",
    "    #plt.legend(loc='upper right', fontsize=8)\n",
    "\n",
    "    plt.ylabel('distance')\n",
    "\n",
    "\n",
    "\n",
    "    ###############                       Plot for alpha[k][l]                       ###############\n",
    "\n",
    "#     plt.subplot(3, 1, 3)\n",
    "#     plt.plot(range(len(alp[k][l])), alp[k][l], marker='.', linestyle='-',color='black')\n",
    "#     plt.xlabel('Index')\n",
    "#     plt.ylabel('Value')\n",
    "#     # plt.title('alpha Plot')\n",
    "\n",
    "\n",
    "\n",
    "\n",
    "    plt.subplots_adjust(top=0.93)  # Adjust the top margin for the super title\n",
    "    plt.suptitle(f\"{objects[k]}, k = {k}, l = {l} \", fontname='Arial', fontsize=16, fontweight='bold')\n",
    "    #plt.tight_layout()\n",
    "    plt.show()\n",
    "\n"
   ]
  },
  {
   "cell_type": "code",
   "execution_count": null,
   "id": "958ef132",
   "metadata": {},
   "outputs": [],
   "source": []
  },
  {
   "cell_type": "markdown",
   "id": "4709df95",
   "metadata": {},
   "source": [
    "# plot by multiple l"
   ]
  },
  {
   "cell_type": "code",
   "execution_count": null,
   "id": "f5be99b7",
   "metadata": {
    "scrolled": false
   },
   "outputs": [],
   "source": [
    "l_values = [8,0,1,2,3]#range(L_max)  # Replace num_values_of_l with the actual number of l values\n",
    "k=1\n",
    "for l in l_values:\n",
    "    \n",
    "    plot_distance_flux(k,l)\n"
   ]
  },
  {
   "cell_type": "code",
   "execution_count": null,
   "id": "330b5bd6",
   "metadata": {},
   "outputs": [],
   "source": []
  },
  {
   "cell_type": "markdown",
   "id": "10cc999d",
   "metadata": {},
   "source": [
    "# plot  with one l "
   ]
  },
  {
   "cell_type": "code",
   "execution_count": null,
   "id": "4e7a24c7",
   "metadata": {
    "scrolled": false
   },
   "outputs": [],
   "source": [
    "# # Plotting\n",
    "plt.figure(figsize=(14, 12))\n",
    "# plt.subplots_adjust(top=0.80)  # Adjust the top margin for the super title\n",
    "# Plot for F[k]\n",
    "plt.subplot(3, 1, 1)\n",
    "\n",
    "# plt.errorbar(range(int(len(F[k])/2)), F[k][::2], W[k][::2], c='g', label='F[k] green',marker='o')\n",
    "# #plt.errorbar(range(int(len(F[k])/2)), F[k][1::2], W[k][1::2], c='r', label='F[k] red',marker='o')\n",
    "\n",
    "for i in range(int(len(F[objects[k]])/2)):\n",
    "    if source[objects[k]][2*i] == 0:\n",
    "        marker = 'x'\n",
    "    else:\n",
    "        marker = 'o'\n",
    "    plt.errorbar(i, F[objects[k]][2*i], \n",
    "                 sig[objects[k]][2*i]*0.4,\n",
    "                 c='C0', marker=marker)\n",
    "    \n",
    "    if source[objects[k]][2*i+1] == 0:\n",
    "        marker = 'x'\n",
    "        plt.errorbar(i, F[objects[k]][2*i+1],\n",
    "                 #sig[objects[k]][2*i+1]*0.4,\n",
    "                 c='C1', marker=marker)\n",
    "    else:\n",
    "        marker = 'o'\n",
    "        plt.errorbar(i, F[objects[k]][2*i+1],\n",
    "                 sig[objects[k]][2*i+1]*0.4,\n",
    "                 c='C1', marker=marker)\n",
    "plt.plot([], [], color='C1', marker='x', label='missing points !')\n",
    "plt.plot([], [], color='C0', marker='o', label='origin')\n",
    "plt.plot([], [], color='C0', marker='x', label='missing points !')\n",
    "plt.plot([], [], color='C1', marker='o', label='origin')\n",
    "\n",
    "plt.plot(range(int(len(F[objects[k]])/2)), F[objects[k]][::2], c='C0', linewidth = 1)\n",
    "plt.plot(range(int(len(F[objects[k]])/2)), F[objects[k]][1::2], c='C1', linewidth = 1)\n",
    "\n",
    "plt.plot(range(int(len(Q[l])/2)), Q[l][::2], c='g', label='Q[l]',marker='.', linewidth=3, zorder=3)\n",
    "plt.plot(range(int(len(Q[l])/2)), Q[l][1::2], c='r', label='Q[l]',marker='.', linewidth=3, zorder=3)\n",
    "\n",
    "# Define the window of indices\n",
    "window_start = -0  # Index of the window start\n",
    "window_end = int(len(Q[l])/2 - 1)  # Index of the window end\n",
    "\n",
    "# Create an array of float indices\n",
    "indices = np.arange(window_start, window_end + 1)\n",
    "indices = np.concatenate(([indices[0] - 0.5], indices, [indices[-1] + 0.5]))\n",
    "\n",
    "# Plot a shaded region for the window\n",
    "plt.fill_between(indices, min(Q[l])/1.2, max(Q[l])*1.2, color='gray', alpha=0.2)\n",
    "\n",
    "# plt.xlabel('Index')\n",
    "plt.ylabel('Flux')\n",
    "# plt.title('Flux Plot')\n",
    "plt.legend()\n",
    "\n",
    "\n",
    "\n",
    "\n",
    "#                                           Plot for d[k][0]                                      #\n",
    "\n",
    "plt.subplot(3, 1, 2)\n",
    "plt.plot(range(len(d[k][l])), d[k][l],color='C0', linestyle='-',linewidth=1)\n",
    "\n",
    "\n",
    "# Plot dummy points with desired colors and markers\n",
    "plt.plot([], [], color='black', marker='o', label='Query chosed')\n",
    "plt.plot([], [], color='red', marker='x', label='missing cases !')\n",
    "plt.plot([], [], color='blue', marker='s', label='Matched here')\n",
    "plt.plot([], [], color='green', marker='*', label='Matches with a different `l` (Query)')\n",
    "plt.plot([], [], color='yellow', marker='^', label=f'Not matched with any of the {L_max} options we selected')\n",
    "\n",
    "for i, val in enumerate(R_l[k][l]):\n",
    "    if val == -99:\n",
    "        plt.scatter(i, d[k][l][i], color='red', marker='x', s=50)  # Increase the marker size to 100\n",
    "    elif val == l:\n",
    "        plt.scatter(i, d[k][l][i], color='blue', marker='s', s=50)  # Increase the marker size to 100\n",
    "    elif val == -2:\n",
    "        plt.scatter(i, d[k][l][i], color='black', marker='o', s=50)  # Increase the marker size to 100\n",
    "    elif (val == -1) and (R[k][i] == -1):\n",
    "        plt.scatter(i, d[k][l][i], color='yellow', marker='^', s=50)  # Increase the marker size to 100\n",
    "    else:\n",
    "        plt.scatter(i, d[k][l][i], color='green', marker='*', s=75)  # Increase the marker size to 100\n",
    "\n",
    "\n",
    "\n",
    "plt.legend(fontsize=8) \n",
    "#plt.legend(loc='upper right', fontsize=8)\n",
    "\n",
    "plt.ylabel('distance')\n",
    "\n",
    "\n",
    "\n",
    "#                                           Plot for alpha[k][l]                                      #\n",
    "\n",
    "plt.subplot(3, 1, 3)\n",
    "plt.plot(range(len(alp[k][l])), alp[k][l], marker='.', linestyle='-',color='black')\n",
    "plt.xlabel('Index')\n",
    "plt.ylabel('Value')\n",
    "# plt.title('alpha Plot')\n",
    "\n",
    "\n",
    "\n",
    "\n",
    "plt.subplots_adjust(top=0.93)  # Adjust the top margin for the super title\n",
    "plt.suptitle(f\"{objects[k]}, k = {k}, l = {l} \", fontname='Arial', fontsize=16, fontweight='bold')\n",
    "#plt.tight_layout()\n",
    "plt.show()\n",
    "\n"
   ]
  },
  {
   "cell_type": "markdown",
   "id": "b3ac69fd",
   "metadata": {},
   "source": [
    "#"
   ]
  },
  {
   "cell_type": "markdown",
   "id": "809db1a0",
   "metadata": {},
   "source": [
    "# Distinguishing the two cases!"
   ]
  },
  {
   "cell_type": "code",
   "execution_count": null,
   "id": "4d581437",
   "metadata": {},
   "outputs": [],
   "source": [
    "m=1 # here the minimin is 1 !! \n",
    "factor = 2*m+1 + 3*np.sqrt(2*(2*m+1))\n",
    "chunk_size = 2 * (m + 1)"
   ]
  },
  {
   "cell_type": "code",
   "execution_count": null,
   "id": "e21aacb9",
   "metadata": {},
   "outputs": [],
   "source": [
    "# def no_match_test_s(array):\n",
    "#     global m\n",
    "#     if array.sum() <= 1 :\n",
    "#         if m == 0 and array.sum() == 0:\n",
    "#             return -99 ## all are missing, or all except one are\n",
    "#         elif m != 0:\n",
    "#             return -99\n",
    "#     return -1 # initialise as no match  # can be modifieted ? \n",
    "\n"
   ]
  },
  {
   "cell_type": "code",
   "execution_count": null,
   "id": "587bfd28",
   "metadata": {},
   "outputs": [],
   "source": [
    "objects = unique_ids[0:10]\n",
    "num_objects = len(objects)\n",
    "L_max = int(num_objects/2)\n",
    "\n",
    "print(\"L_max \", L_max)\n",
    "\n",
    "\n",
    "T = np.empty(num_objects, dtype=object)\n",
    "F = np.empty(num_objects, dtype=object)\n",
    "W = np.empty(num_objects, dtype=object)\n",
    "source = np.empty(num_objects, dtype=object)\n",
    "lengths= np.empty(num_objects, dtype=object)\n",
    "\n",
    "R_r = np.empty(num_objects, dtype=object)\n",
    "R_g = np.empty(num_objects, dtype=object)\n",
    "alp = np.empty((num_objects, L_max), dtype=object)\n",
    "d_r = np.empty((num_objects, L_max), dtype=object)\n",
    "d_g = np.empty((num_objects, L_max), dtype=object)"
   ]
  },
  {
   "cell_type": "code",
   "execution_count": null,
   "id": "6c1ae179",
   "metadata": {},
   "outputs": [],
   "source": [
    "indexes_objects = range(num_objects)\n",
    "Q = [None] * (L_max)"
   ]
  },
  {
   "cell_type": "code",
   "execution_count": null,
   "id": "59113c4a",
   "metadata": {},
   "outputs": [],
   "source": [
    "for k in indexes_objects:\n",
    "    T[k] = df[df['objectId'] == objects[k]][['mjd','dc_flux', 'dc_weight','source']]\n",
    "    F[k] = T[k]['dc_flux'].values\n",
    "    W[k] = T[k]['dc_weight'].values\n",
    "    source[k] = T[k]['source'].values\n",
    "    lengths[k] = len(T[k])\n",
    "    n = lengths[k]\n",
    "    num_chunks = int(n // 2)-m \n",
    "    \n",
    "    chunks_g = np.array([source[k][i*2 : (i*2+chunk_size):2] for i in range(num_chunks)])\n",
    "    chunks_r = np.array([source[k][1+i*2 : (i*2+chunk_size):2] for i in range(num_chunks)])\n",
    "    result_r = np.array(list(map(no_match_test, chunks_r)))\n",
    "    result_g = np.array(list(map(no_match_test, chunks_g)))\n",
    "    \n",
    "    R_r[k] = result_r\n",
    "    R_g[k] = result_g"
   ]
  },
  {
   "cell_type": "code",
   "execution_count": null,
   "id": "ef0064c2",
   "metadata": {
    "scrolled": true
   },
   "outputs": [],
   "source": [
    "start_time = time.time()\n",
    "\n",
    "\n",
    "l= 0\n",
    "while (l < L_max):\n",
    "    indexes_array_r = np.array([np.where(array == -1)[0] for array in R_r], dtype=object)\n",
    "    indexes_array_g = np.array([np.where(array == -1)[0] for array in R_g], dtype=object)\n",
    "    \n",
    "    empty_lists = np.all([value.size == 0 for value in indexes_array_r]) or np.all([value.size == 0 for value in indexes_array_g])\n",
    "    if empty_lists:\n",
    "        print(\"break , l = \", l )\n",
    "        break\n",
    "        \n",
    "    for k in range(len(R)): # we can remove the loop for here ! ???\n",
    "          if np.any(indexes_array_g[k]):\n",
    "            f = F[k]\n",
    "            \n",
    "            index_no_match = indexes_array_g[k][0]  * 2   # here x 2 because we have the indexes only for g (I need to check this point)        \n",
    "            Q[l] = f[index_no_match : index_no_match +chunk_size:2]\n",
    "            break\n",
    "            \n",
    "    for k in range(len(R)): # we can remove the loop for here ! ???\n",
    "          if np.any(indexes_array_r[k]):\n",
    "            f = F[k]\n",
    "            \n",
    "            index_no_match = indexes_array_r[k][0]  * 2\n",
    "            for i in range(1, chunk_size, 2):\n",
    "                 Q[l] = np.insert(Q[l], i, f[index_no_match + i : index_no_match + i + 1])\n",
    "\n",
    "            #Q[l] = f[index_no_match : index_no_match +chunk_size]\n",
    "            break    \n",
    "    \n",
    "    \n",
    "    \n",
    "    for k in range(len(objects)):\n",
    "        f = F[k]\n",
    "        w = W[k]\n",
    "        n = lengths[k]\n",
    "        n_c = n - 2*m # (number of chunks x 2) ! it's (n/2 - m) but to optimize we mutiply by 2 directly !  \n",
    "        #print(n, n_c,len(R[k]))\n",
    "\n",
    "\n",
    "\n",
    "        s_1 = np.zeros(n_c, dtype=float)\n",
    "        s_2 = np.zeros(n_c, dtype=float)\n",
    "        \n",
    "        for j in range(0,m+1): \n",
    "            h = np.tile(Q[l][j*2: j*2+2], (len(f[j*2:j*2+ n_c]) // 2, 1)).ravel() # array of h for r and g successive for the vectorisation\n",
    "\n",
    "            s_1[:] += (f[j*2:j*2+ n_c]*h*w[j*2:j*2+ n_c])\n",
    "            s_2[:] += (h**2 * w[j*2:j*2+ n_c])\n",
    "\n",
    "        s_n = s_1#[::2] + s_1[1::2]  # this needs to optimizate with new variables ! \n",
    "        s_d = s_2#[::2] + s_2[1::2] \n",
    "        \n",
    "        mask_no_0 = (s_d != 0)\n",
    "        alp[k][l] = np.zeros_like(s_d, dtype=float)\n",
    "\n",
    "        alp[k][l][mask_no_0] = s_n[mask_no_0] / s_d[mask_no_0] # # Perform division only where s_d(i) is not zero\n",
    "\n",
    "        alpha = alp[k][l]#np.repeat(alp[k][l], 2) # duplicate alpha for each value (one for r and second for g)\n",
    "     \n",
    "    \n",
    "        dd = np.zeros(n_c, dtype=float)\n",
    "        \n",
    "        for j in range(0,m+1):\n",
    "            h = np.tile(Q[l][j*2: j*2+2], (len(f[j*2:j*2+ n_c]) // 2, 1)).ravel() # array of h for r and g successive for the vectorisation\n",
    "            \n",
    "            dd[:] += ((f[j*2:j*2+ n_c] - alpha[:] * h)**2) * w[j*2:j*2+ n_c] \n",
    "            #alpha[:n-j*2] ==> alpha[:]\n",
    "\n",
    "        d_g[k][l] = dd[::2]\n",
    "        d_r[k][l] = dd[1::2]\n",
    "        \n",
    "        \"\"\"factor_comparison =  d_g[k][l] <= factor\n",
    "        R_g[k][indexes_array_g[k][factor_comparison[indexes_array_g[k]]]] = l # explanation follows below!\n",
    "                \n",
    "        factor_comparison =  d_r[k][l] <= factor\n",
    "        R_r[k][indexes_array_r[k][factor_comparison[indexes_array_r[k]]]] = l # explanation follows below!\"\"\"\n",
    "        \n",
    "\n",
    "        for i in indexes_array_g[k]:\n",
    "            if d_g[k][l][i] <= factor : \n",
    "                R_g[k][i] = l\n",
    "        for i in indexes_array_r[k]:\n",
    "            if d_r[k][l][i] <= factor : \n",
    "                R_r[k][i] = l\n",
    "     \n",
    "    #print(\"l = \",l)\n",
    "    \n",
    "    l += 1 \n",
    "    \n",
    "print(\"l = \",l)\n",
    "\n",
    "\n",
    "\n",
    "end_time = time.time()\n",
    "\n",
    "# Compute the elapsed time\n",
    "elapsed_time = end_time - start_time\n",
    "\n",
    "print(\"Elapsed time:\", elapsed_time, \"seconds\")"
   ]
  },
  {
   "cell_type": "markdown",
   "id": "e9f9647f",
   "metadata": {},
   "source": [
    "#"
   ]
  },
  {
   "cell_type": "code",
   "execution_count": null,
   "id": "afb5ed83",
   "metadata": {},
   "outputs": [],
   "source": [
    "k = 0\n",
    "l = 0\n",
    "unique_ids[k]"
   ]
  },
  {
   "cell_type": "code",
   "execution_count": null,
   "id": "ef7f2e35",
   "metadata": {},
   "outputs": [],
   "source": [
    "# # Plotting\n",
    "plt.figure(figsize=(18, 20))\n",
    "\n",
    "# Plot for F[k]\n",
    "plt.subplot(4, 1, 1)\n",
    "\n",
    "# plt.plot(range(int(len(F[k])/2)), F[k][::2], c='g', label='F[k] Even')\n",
    "#plt.plot(range(int(len(F[k])/2)), F[k][1::2], c='r', label='F[k] Odd')\n",
    "\n",
    "for i in range(int(len(F[k])/2)):\n",
    "    if source[k][2*i] == 0:\n",
    "        marker = 'x'\n",
    "    else:\n",
    "        marker = 'o'\n",
    "    plt.errorbar(i, F[k][2*i], \n",
    "                 sig[k][2*i]*0.4,\n",
    "                 c='g', marker=marker)\n",
    "    \n",
    "#     if source[k][2*i+1] == 0:\n",
    "#         marker = 'x'\n",
    "#     else:\n",
    "#         marker = 'o'\n",
    "#     plt.errorbar(i, F[k][2*i+1],\n",
    "#                  sig[k][2*i+1]*0.4,\n",
    "#                  c='r', marker=marker)\n",
    "# plt.plot([], [], color='red', marker='x', label='missing points !')\n",
    "plt.plot([], [], color='green', marker='o', label='origin')\n",
    "plt.plot([], [], color='green', marker='x', label='missing points !')\n",
    "# plt.plot([], [], color='red', marker='o', label='origin')\n",
    "\n",
    "\n",
    "plt.plot(range(int(len(F[k])/2)), F[k][::2], c='g', linewidth = 1)\n",
    "# plt.plot(range(int(len(F[k])/2)), F[k][1::2], c='r', linewidth = 1)\n",
    "\n",
    "\n",
    "plt.plot(range(int(len(Q[l])/2)), Q[l][::2], c='C0', label='Q[l]',marker='.')\n",
    "#plt.plot(range(int(len(Q[0])/2)), Q[l][1::2], c='C1', label='Q[l]',marker='.')\n",
    "\n",
    "# Define the window of indices\n",
    "window_start = -0  # Index of the window start\n",
    "window_end = int(len(Q[l])/2 - 1)  # Index of the window end\n",
    "\n",
    "# Create an array of float indices\n",
    "indices = np.arange(window_start, window_end + 1)\n",
    "indices = np.concatenate(([indices[0] - 0.5], indices, [indices[-1] + 0.5]))\n",
    "\n",
    "# Plot a shaded region for the window\n",
    "plt.fill_between(indices, min(Q[l][::2])/1.2, max(Q[l][::2])*1.2, color='gray', alpha=0.2)\n",
    "\n",
    "# plt.xlabel('Index')\n",
    "plt.ylabel('Flux')\n",
    "# plt.title('Flux Plot')\n",
    "plt.legend()\n",
    "\n",
    "# Plot for d[k][0]\n",
    "plt.subplot(4, 1, 2)\n",
    "plt.plot(range(len(d_g[k][l])), d_g[k][l], marker='o', linestyle='-')\n",
    "# plt.xlabel('Index')\n",
    "plt.ylabel('distance')\n",
    "# plt.title('distance Plot')\n",
    "\n",
    "# Plot for alphat[k][0]\n",
    "plt.subplot(4, 1, 4)\n",
    "plt.plot(range(len(alp[k][l][::2])), alp[k][l][::2], marker='.', linestyle='-',color='black')\n",
    "plt.xlabel('Index')\n",
    "plt.ylabel('alpha')\n",
    "# plt.title('alpha Plot')\n",
    "\n",
    "\n",
    "plt.subplot(4, 1, 3)\n",
    "# Plot dummy points with desired colors and markers\n",
    "plt.plot([], [], color='red', marker='x', label='missing cases !')\n",
    "plt.plot([], [], color='blue', marker='s', label='Matched here')\n",
    "plt.plot([], [], color='green', marker='s', label='Matches with a different `l` (possibly a smaller `l` from a previous instance)')\n",
    "\n",
    "for i, val in enumerate(R_g[k]):\n",
    "    if val == -99:\n",
    "        plt.scatter(i, 0, color='red', marker='x')\n",
    "    elif val == l:\n",
    "        plt.scatter(i, 0, color='blue', marker='s')\n",
    "    else:\n",
    "        plt.scatter(i, 0, color='green', marker='s')\n",
    "\n",
    "\n",
    "# plt.xlabel('Index')\n",
    "plt.ylabel('R[k]')\n",
    "# plt.title('R[k] Plot')\n",
    "plt.legend()  # Use unique custom legend labels\n",
    "        \n",
    "\n",
    "plt.subplots_adjust(top=0.93)  # Adjust the top margin for the super title\n",
    "plt.suptitle(f\"{objects[k]}\", fontname='Arial', fontsize=16, fontweight='bold')\n",
    "\n",
    "plt.show()\n",
    "\n"
   ]
  },
  {
   "cell_type": "code",
   "execution_count": null,
   "id": "16972d1b",
   "metadata": {
    "scrolled": false
   },
   "outputs": [],
   "source": [
    "# # Plotting\n",
    "plt.figure(figsize=(18, 20))\n",
    "\n",
    "# Plot for F[k]\n",
    "plt.subplot(4, 1, 1)\n",
    "\n",
    "# plt.plot(range(int(len(F[k])/2)), F[k][::2], c='g', label='F[k] Even')\n",
    "# plt.plot(range(int(len(F[k])/2)), F[k][1::2], c='r', label='F[k] Odd')\n",
    "\n",
    "for i in range(int(len(F[k])/2)):\n",
    "#     if source[k][2*i] == 0:\n",
    "#         marker = 'x'\n",
    "#     else:\n",
    "#         marker = 'o'\n",
    "#     plt.errorbar(i, F[k][2*i], \n",
    "#                  sig[k][2*i]*0.4,\n",
    "#                  c='g', marker=marker)\n",
    "    \n",
    "    if source[k][2*i+1] == 0:\n",
    "        marker = 'x'\n",
    "    else:\n",
    "        marker = 'o'\n",
    "    plt.errorbar(i, F[k][2*i+1],\n",
    "                 sig[k][2*i+1],\n",
    "                 c='r', marker=marker)\n",
    "plt.plot([], [], color='red', marker='x', label='missing points !')\n",
    "# plt.plot([], [], color='green', marker='o', label='origin')\n",
    "# plt.plot([], [], color='green', marker='x', label='missing points !')\n",
    "plt.plot([], [], color='red', marker='o', label='origin')\n",
    "\n",
    "\n",
    "# plt.plot(range(int(len(F[k])/2)), F[k][::2], c='g', linewidth = 1)\n",
    "plt.plot(range(int(len(F[k])/2)), F[k][1::2], c='r', linewidth = 1)\n",
    "\n",
    "\n",
    "# plt.plot(range(int(len(Q[l])/2)), Q[l][::2], c='C0', label='Q[l]',marker='.')\n",
    "plt.plot(range(int(len(Q[l])/2)), Q[l][1::2], c='C1', label='Q[l]',marker='.')\n",
    "\n",
    "# Define the window of indices\n",
    "window_start = -0  # Index of the window start\n",
    "window_end = int(len(Q[l])/2 - 1)  # Index of the window end\n",
    "\n",
    "# Create an array of float indices\n",
    "indices = np.arange(window_start, window_end + 1)\n",
    "indices = np.concatenate(([indices[0] - 0.5], indices, [indices[-1] + 0.5]))\n",
    "\n",
    "# Plot a shaded region for the window\n",
    "plt.fill_between(indices, min(Q[l][1::2])/1.2, max(Q[l][1::2])*1.2, color='gray', alpha=0.2)\n",
    "\n",
    "# plt.xlabel('Index')\n",
    "plt.ylabel('Flux')\n",
    "# plt.title('Flux Plot')\n",
    "plt.legend()\n",
    "\n",
    "# Plot for d[k][0]\n",
    "plt.subplot(4, 1, 2)\n",
    "plt.plot(range(len(d_r[k][l])), d_r[k][l], marker='o', linestyle='-')\n",
    "# plt.xlabel('Index')\n",
    "plt.ylabel('distance')\n",
    "# plt.title('distance Plot')\n",
    "\n",
    "# Plot for alphat[k][0]\n",
    "plt.subplot(4, 1, 4)\n",
    "plt.plot(range(len(alp[k][l][1::2])), alp[k][l][1::2], marker='.', linestyle='-',color='black')\n",
    "plt.xlabel('Index')\n",
    "plt.ylabel('alpha')\n",
    "# plt.title('alpha Plot')\n",
    "\n",
    "\n",
    "plt.subplot(4, 1, 3)\n",
    "# Plot dummy points with desired colors and markers\n",
    "plt.plot([], [], color='red', marker='x', label='missing cases !')\n",
    "plt.plot([], [], color='blue', marker='s', label='Matched here')\n",
    "plt.plot([], [], color='green', marker='s', label='Matches with a different `l` (possibly a smaller `l` from a previous instance)')\n",
    "\n",
    "for i, val in enumerate(R_r[k]):\n",
    "    if val == -99:\n",
    "        plt.scatter(i, 0, color='red', marker='x')\n",
    "    elif val == l:\n",
    "        plt.scatter(i, 0, color='blue', marker='s')\n",
    "    else:\n",
    "        plt.scatter(i, 0, color='green', marker='s')\n",
    "\n",
    "\n",
    "# plt.xlabel('Index')\n",
    "plt.ylabel('R[k]')\n",
    "# plt.title('R[k] Plot')\n",
    "plt.legend()  # Use unique custom legend labels\n",
    "        \n",
    "\n",
    "plt.subplots_adjust(top=0.93)  # Adjust the top margin for the super title\n",
    "plt.suptitle(f\"{objects[k]}, k = {k}, l = {l} \", fontname='Arial', fontsize=16, fontweight='bold')\n",
    "\n",
    "plt.show()\n",
    "\n"
   ]
  },
  {
   "cell_type": "code",
   "execution_count": null,
   "id": "cb9d4851",
   "metadata": {},
   "outputs": [],
   "source": []
  },
  {
   "cell_type": "code",
   "execution_count": null,
   "id": "f398b1ba",
   "metadata": {},
   "outputs": [],
   "source": [
    "import numpy as np\n",
    "\n",
    "# Given data\n",
    "f = np.array([0, 1, 2, 3, 4, 5, 6, 7, 8])\n",
    "index_no_match = 0\n",
    "chunk_size = 6\n",
    "\n",
    "# Initialize Q[l]\n",
    "Q = np.array([])\n",
    "\n",
    "# First part\n",
    "Q = f[index_no_match : index_no_match + chunk_size : 2]\n",
    "index_no_match = 0\n",
    "f = np.array([10, 11, 12, 13, 14, 15, 16, 17, 18])\n",
    "\n",
    "# Second part\n",
    "for i in range(1, chunk_size, 2):\n",
    "    Q = np.insert(Q, i, f[index_no_match + i : index_no_match + i + 1])\n",
    "\n",
    "# Print Q[l]\n",
    "print(Q)\n"
   ]
  },
  {
   "cell_type": "code",
   "execution_count": null,
   "id": "a35045de",
   "metadata": {},
   "outputs": [],
   "source": []
  },
  {
   "cell_type": "code",
   "execution_count": null,
   "id": "fc2ff03e",
   "metadata": {},
   "outputs": [],
   "source": []
  },
  {
   "cell_type": "markdown",
   "id": "a2d1aadf",
   "metadata": {},
   "source": [
    "#"
   ]
  },
  {
   "cell_type": "markdown",
   "id": "395df9c7",
   "metadata": {},
   "source": [
    "#"
   ]
  },
  {
   "cell_type": "markdown",
   "id": "1ffb1744",
   "metadata": {},
   "source": [
    "#"
   ]
  },
  {
   "cell_type": "markdown",
   "id": "2c1eaa46",
   "metadata": {},
   "source": [
    "#"
   ]
  },
  {
   "cell_type": "markdown",
   "id": "88c7109d",
   "metadata": {},
   "source": [
    "#"
   ]
  },
  {
   "cell_type": "markdown",
   "id": "6ec4a45a",
   "metadata": {},
   "source": [
    "#"
   ]
  },
  {
   "cell_type": "markdown",
   "id": "c76658af",
   "metadata": {},
   "source": [
    "#"
   ]
  },
  {
   "cell_type": "markdown",
   "id": "fec77da7",
   "metadata": {},
   "source": [
    "#"
   ]
  },
  {
   "cell_type": "markdown",
   "id": "0a04abf7",
   "metadata": {},
   "source": [
    "#"
   ]
  },
  {
   "cell_type": "markdown",
   "id": "b74d1ca4",
   "metadata": {},
   "source": [
    "# TEST"
   ]
  },
  {
   "cell_type": "code",
   "execution_count": null,
   "id": "5018a596",
   "metadata": {},
   "outputs": [],
   "source": [
    "list1 = [0,0,1,1,2,2,3,3,4,4,5,5,6,6,7,7,8,8,9,9]\n",
    "list2 = [[0,0,1,1],[1,1,2,2],[2,2,3,3],[3,3,4,4],[4,4,5,5]]"
   ]
  },
  {
   "cell_type": "code",
   "execution_count": null,
   "id": "2d8dbb5a",
   "metadata": {},
   "outputs": [],
   "source": [
    "m=1\n",
    "idx =3\n",
    "chunk_size = 2 * (m + 1)\n",
    "list1[idx*2:idx*2+chunk_size:2]"
   ]
  },
  {
   "cell_type": "code",
   "execution_count": null,
   "id": "2f66bf43",
   "metadata": {},
   "outputs": [],
   "source": [
    "m=1\n",
    "idx =3\n",
    "chunk_size = 2 * (m + 1)\n",
    "list1[idx*2:idx*2+chunk_size]"
   ]
  },
  {
   "cell_type": "code",
   "execution_count": null,
   "id": "8eafa347",
   "metadata": {
    "scrolled": true
   },
   "outputs": [],
   "source": [
    "R = np.empty(len(objects), dtype=object)\n",
    "\n",
    "m=1\n",
    "chunk_size =2 * (m + 1)\n",
    "\n",
    "for k in range(len(objects)):\n",
    "\n",
    "    n = len(source[k])\n",
    "    #num_chunks = n // chunk_size\n",
    "\n",
    "    #chunks = [source[k][i*chunk_size : (i+1)*chunk_size] for i in range(num_chunks)]\n",
    "    num_chunks = int(n // 2)-m \n",
    "\n",
    "    print(n,num_chunks)\n",
    "\n",
    "\n",
    "    chunks = np.array([source[k][i*2 : (i*2+chunk_size)] for i in range(num_chunks)])\n",
    "#     if m>0: \n",
    "#         for j in range(1, m+1):\n",
    "#             chunks.extend([source[k][i*chunk_size +j*2 : (i+1)*chunk_size+j*2] for i in range(num_chunks-1)])\n",
    "#     if m > 0:\n",
    "#         for j in range(1, m + 1):\n",
    "#             for i in range(num_chunks - 1):\n",
    "#                 chunks.append(source[k][i * chunk_size + j * 2: (i + 1) * chunk_size + j * 2])\n",
    "\n",
    "    #result = np.concatenate(np.array([no_match_test(chunk) for chunk in chunks]))  # Apply no_match_test directly\n",
    "    result = np.array(list(map(no_match_test, chunks)))\n",
    "    R[k] = result\n",
    "\n",
    "    ### le"
   ]
  },
  {
   "cell_type": "code",
   "execution_count": null,
   "id": "4c675867",
   "metadata": {},
   "outputs": [],
   "source": [
    "m=0\n",
    "for j in range(1, max(1, m+1)):\n",
    "    print(j*2)\n",
    "\n",
    "if m>0: \n",
    "    for j in range(1, m+1):\n",
    "        print(j*2)"
   ]
  },
  {
   "cell_type": "code",
   "execution_count": null,
   "id": "e1a056e5",
   "metadata": {},
   "outputs": [],
   "source": [
    "import timeit\n",
    "\n",
    "m = 100\n",
    "\n",
    "code_snippet_1 = \"\"\"\n",
    "s_1 = np.zeros(n, dtype=float)\n",
    "s_2 = np.zeros(n, dtype=float)\n",
    "s_3 = np.zeros(n, dtype=float)\n",
    "s_4 = np.zeros(n, dtype=float)\n",
    "s_5 = np.zeros(n, dtype=float)\n",
    "s_6 = np.zeros(n, dtype=float)\n",
    "\"\"\"\n",
    "\n",
    "code_snippet_2 = \"\"\"\n",
    "zeros = np.zeros(n, dtype=float)\n",
    "\n",
    "s_1 = zeros.copy()\n",
    "s_2 = zeros.copy()\n",
    "s_3 = zeros.copy()\n",
    "s_4 = zeros.copy()\n",
    "s_5 = zeros.copy()\n",
    "s_6 = zeros.copy()\n",
    "\n",
    "\"\"\"\n",
    "\n",
    "time_taken_1 = timeit.timeit(stmt=code_snippet_1, number=10000000, globals=globals())\n",
    "time_taken_2 = timeit.timeit(stmt=code_snippet_2, number=10000000, globals=globals())\n",
    "\n",
    "print(\"Time snippet 1:\", time_taken_1)\n",
    "print(\"Time snippet 2:\", time_taken_2)\n",
    "\n"
   ]
  },
  {
   "cell_type": "markdown",
   "id": "976d2a8e",
   "metadata": {},
   "source": [
    "#"
   ]
  },
  {
   "cell_type": "markdown",
   "id": "33360431",
   "metadata": {},
   "source": [
    "#"
   ]
  },
  {
   "cell_type": "markdown",
   "id": "e72635c7",
   "metadata": {},
   "source": [
    "#"
   ]
  },
  {
   "cell_type": "markdown",
   "id": "1e2107d7",
   "metadata": {},
   "source": [
    "# distance dict to dataframe "
   ]
  },
  {
   "cell_type": "code",
   "execution_count": null,
   "id": "8974dcef",
   "metadata": {
    "scrolled": true
   },
   "outputs": [],
   "source": [
    "d"
   ]
  },
  {
   "cell_type": "markdown",
   "id": "8b33fb05",
   "metadata": {},
   "source": [
    "#"
   ]
  },
  {
   "cell_type": "markdown",
   "id": "dd5bc118",
   "metadata": {},
   "source": [
    "#"
   ]
  },
  {
   "cell_type": "markdown",
   "id": "b650230b",
   "metadata": {},
   "source": [
    "# Trash"
   ]
  }
 ],
 "metadata": {
  "kernelspec": {
   "display_name": "Python 3 (ipykernel)",
   "language": "python",
   "name": "python3"
  },
  "language_info": {
   "codemirror_mode": {
    "name": "ipython",
    "version": 3
   },
   "file_extension": ".py",
   "mimetype": "text/x-python",
   "name": "python",
   "nbconvert_exporter": "python",
   "pygments_lexer": "ipython3",
   "version": "3.11.5"
  }
 },
 "nbformat": 4,
 "nbformat_minor": 5
}
