{
 "cells": [
  {
   "cell_type": "code",
   "execution_count": null,
   "id": "44f29f90",
   "metadata": {},
   "outputs": [],
   "source": [
    "import pandas as pd\n",
    "import numpy as np\n",
    "import time\n",
    "import matplotlib.pyplot as plt"
   ]
  },
  {
   "cell_type": "code",
   "execution_count": null,
   "id": "528e87a6",
   "metadata": {},
   "outputs": [],
   "source": [
    "import webbrowser\n",
    "\n",
    "def open_website(k):\n",
    "    website_url = f'https://fink-portal.org/{k}'\n",
    "    webbrowser.open(website_url)\n"
   ]
  },
  {
   "cell_type": "markdown",
   "id": "39761033",
   "metadata": {},
   "source": [
    "# Retrieve data"
   ]
  },
  {
   "cell_type": "markdown",
   "id": "1c647a84",
   "metadata": {},
   "source": [
    "We begin by fetching the reduced data using the Python script `data_transfer.py` from the file `df_merged.parquet`, then importing it into Pandas data frame."
   ]
  },
  {
   "cell_type": "code",
   "execution_count": null,
   "id": "5ab1f1df",
   "metadata": {},
   "outputs": [],
   "source": [
    "df = pd.read_parquet('../scripts/df_merged1.parquet', engine='pyarrow')"
   ]
  },
  {
   "cell_type": "code",
   "execution_count": null,
   "id": "294f62aa",
   "metadata": {},
   "outputs": [],
   "source": [
    "df.head(2)"
   ]
  },
  {
   "cell_type": "code",
   "execution_count": null,
   "id": "609fdd36",
   "metadata": {},
   "outputs": [],
   "source": [
    "df.shape"
   ]
  },
  {
   "cell_type": "markdown",
   "id": "0d94d88b",
   "metadata": {},
   "source": [
    "Here we extract all unique IDs from our data frame:"
   ]
  },
  {
   "cell_type": "code",
   "execution_count": null,
   "id": "6e814c95",
   "metadata": {
    "scrolled": true
   },
   "outputs": [],
   "source": [
    "unique_ids = df['objectId'].unique().tolist()\n",
    "len(unique_ids)"
   ]
  },
  {
   "cell_type": "markdown",
   "id": "6df18f04",
   "metadata": {},
   "source": [
    "#"
   ]
  },
  {
   "cell_type": "markdown",
   "id": "d4f4b38e",
   "metadata": {},
   "source": [
    "To calculate the weight values \\(w_i\\), we use the formula: `w_i` =\\begin{cases}\n",
    "\\frac{1}{{\\sigma_i^2}}, & \\text{if data is available for day } i \\\\\n",
    "0, & \\text{otherwise}\n",
    "\\end{cases}"
   ]
  },
  {
   "cell_type": "code",
   "execution_count": null,
   "id": "52fbac42",
   "metadata": {},
   "outputs": [],
   "source": [
    "missing_data = (df['source'] == 0) | (df['dc_sigflux'] == 0)\n",
    "df['dc_weight'] = np.where(missing_data, 0, 1 / (df['dc_sigflux'] ** 2))\n",
    "df['nr_weight'] = np.where(missing_data, 0, 1 / (df['nr_sigflux'] ** 2))"
   ]
  },
  {
   "cell_type": "code",
   "execution_count": null,
   "id": "27587801",
   "metadata": {},
   "outputs": [],
   "source": [
    "df[['source','dc_weight']].head(3)"
   ]
  },
  {
   "cell_type": "markdown",
   "id": "21ef1374",
   "metadata": {},
   "source": [
    "# "
   ]
  },
  {
   "cell_type": "markdown",
   "id": "ccb06795",
   "metadata": {},
   "source": [
    "# "
   ]
  },
  {
   "cell_type": "markdown",
   "id": "ee558a98",
   "metadata": {},
   "source": [
    "# With distance - factor test "
   ]
  },
  {
   "cell_type": "markdown",
   "id": "0576f19f",
   "metadata": {},
   "source": [
    "We group the data by shared ID and create `NumPy` arrays for flux, weighted flux, and the source test(if it's a missing day(data)). We also determine the length of each time series."
   ]
  },
  {
   "cell_type": "code",
   "execution_count": null,
   "id": "53b745e0",
   "metadata": {},
   "outputs": [],
   "source": [
    "grouped = df.groupby('objectId')\n",
    "\n",
    "F = grouped['dc_flux'].apply(lambda x: x.values)#.values\n",
    "sig = grouped['dc_sigflux'].apply(lambda x: x.values)#.values\n",
    "W = grouped['dc_weight'].apply(lambda x: x.values)#.values\n",
    "source = grouped['source'].apply(lambda x: x.values)#.values\n",
    "lengths = grouped['source'].apply(lambda x: len(x))#.values\n",
    "\n",
    "\n",
    "# We are not working with this right now because it causes a problem (\n",
    "# the arrangement of values in these arrays might not be aligned perfectly with our expectations,\n",
    "# especially if the grouping operation resulted in different lengths of arrays for different groups)"
   ]
  },
  {
   "cell_type": "markdown",
   "id": "75b64914",
   "metadata": {},
   "source": [
    "We define the length of our query,window or chunk, along with the limit factor and the size of each window or chunk."
   ]
  },
  {
   "cell_type": "code",
   "execution_count": null,
   "id": "97e9e68d",
   "metadata": {},
   "outputs": [],
   "source": [
    "m=0\n",
    "factor = 2*m+1 + 3*np.sqrt(2*(2*m+1))\n",
    "chunk_size = 2 * (m + 1)"
   ]
  },
  {
   "cell_type": "markdown",
   "id": "d5ae9b24",
   "metadata": {},
   "source": [
    "The `'no_match_test'` function evaluates whether there are any matches in the provided array, which contains the source test values for a window. If the sum of the array is less than or equal to 1, indicating that all values are missing or only one value is present, the function returns -99. Otherwise, it returns -1 to initialize the window's status as 'no match'."
   ]
  },
  {
   "cell_type": "code",
   "execution_count": null,
   "id": "74191626",
   "metadata": {},
   "outputs": [],
   "source": [
    "def no_match_test(array):\n",
    "    if array.sum() <= 1 : \n",
    "        return -99 ## all are missing, or only one is\n",
    "    return -1 # initialise as no match  # can be modifieted ? "
   ]
  },
  {
   "cell_type": "markdown",
   "id": "93fecc96",
   "metadata": {},
   "source": [
    "\"`objects`\" list contains a subset of the objects we intend to work with.\n",
    "\n",
    "\"`L_max`\" is defined to facilitate partial iteration, serving as a debugging aid by allowing a limit to be set on the number of iterations performed.\n",
    "\n",
    "We initialize the NumPy arrays with `None` values."
   ]
  },
  {
   "cell_type": "code",
   "execution_count": null,
   "id": "7774a938",
   "metadata": {
    "scrolled": false
   },
   "outputs": [],
   "source": [
    "objects = unique_ids#[0:3000]\n",
    "num_objects = len(objects)\n",
    "# L_max = int(num_objects/20)\n",
    "L_max = 119\n",
    "print(\"L_max \", L_max)\n",
    "\n",
    "R = np.empty(num_objects, dtype=object)\n",
    "Matches = np.empty(num_objects, dtype=object)\n",
    "R_l = np.empty((num_objects, L_max), dtype=object)\n",
    "num_by_obj = np.zeros((L_max,num_objects), dtype=object)\n",
    "alp = np.empty((num_objects, L_max), dtype=object)\n",
    "d = np.empty((num_objects, L_max), dtype=object)"
   ]
  },
  {
   "cell_type": "code",
   "execution_count": null,
   "id": "a348066e",
   "metadata": {},
   "outputs": [],
   "source": [
    "indexes_objects = range(num_objects)\n",
    "Q = [None] * (L_max)\n",
    "#num_by_Q = [0] * (L_max) ####### we don't need this one anymore <==> sum_i\n",
    "selected_Q_K_i = np.empty(L_max, dtype=object)"
   ]
  },
  {
   "cell_type": "markdown",
   "id": "12e82cf3",
   "metadata": {},
   "source": [
    "We initialize R using the '`no_match_test`' function."
   ]
  },
  {
   "cell_type": "code",
   "execution_count": null,
   "id": "cfa1a7c8",
   "metadata": {
    "scrolled": true
   },
   "outputs": [],
   "source": [
    "for k in indexes_objects:\n",
    "    \n",
    "    n = lengths[objects[k]]\n",
    "    num_chunks = int(n // 2)-m \n",
    "\n",
    "    #print(n,num_chunks)\n",
    "\n",
    "    chunks = np.array([source[objects[k]][i*2 : (i*2+chunk_size)] for i in range(num_chunks)])\n",
    "    result = np.array(list(map(no_match_test, chunks)))\n",
    "    R[k] = result.copy()\n",
    "    \n",
    "    #Matches[k] = np.zeros(num_chunks, dtype=int)\n",
    "    \n",
    "    for l in range(L_max):\n",
    "        R_l[k][l] = result.copy()\n",
    "    # a for loop isn't a good idea !!!! \n",
    "    \n"
   ]
  },
  {
   "cell_type": "markdown",
   "id": "96498701",
   "metadata": {},
   "source": [
    "### Loop to compute the distance of the subsequence in the time series to its nearest neighbor."
   ]
  },
  {
   "cell_type": "code",
   "execution_count": null,
   "id": "a891d484",
   "metadata": {
    "scrolled": false
   },
   "outputs": [],
   "source": [
    "start_time = time.time()\n",
    "\n",
    "l= 0\n",
    "while (l < L_max):\n",
    "    indexes_array = np.array([np.where(array == -1)[0] for array in R], dtype=object)\n",
    "    \n",
    "    has_non_empty_list = np.any([value.size > 0 for value in indexes_array])\n",
    "    if not has_non_empty_list:\n",
    "        print(\"break , l = \", l )\n",
    "        break\n",
    "    \n",
    "#     if l == 0:\n",
    "#         Q[0]= [0]  *chunk_size\n",
    "#     else:  \n",
    "    for k in range(len(R)): # we can remove the loop for here ! ???\n",
    "              if indexes_array[k].size != 0:\n",
    "                f = F[objects[k]]\n",
    "\n",
    "                index_no_match = indexes_array[k][0]\n",
    "\n",
    "                #print(index_no_match, R[k])\n",
    "                k_Query_taked = k\n",
    "                selected_Q_K_i[l] = [k,index_no_match]\n",
    "\n",
    "                Q[l] = f[index_no_match*2 : index_no_match*2 +chunk_size]\n",
    "                break\n",
    "\n",
    "            \n",
    "    for k in range(len(objects)):\n",
    "        f = F[objects[k]]\n",
    "        w = W[objects[k]]\n",
    "        n = lengths[objects[k]]\n",
    "        n_c = n - 2*m # (number of chunks x 2) ! it's (n/2 - m) but to optimize we mutiply by 2 directly !  \n",
    "        #print(n, n_c,len(R[k]))\n",
    "\n",
    "\n",
    "\n",
    "        s_1 = np.zeros(n_c, dtype=float)\n",
    "        s_2 = np.zeros(n_c, dtype=float)\n",
    "        \n",
    "        for j in range(0,m+1): \n",
    "            h = np.tile(Q[l][j*2: j*2+2], (len(f[j*2:j*2+ n_c]) // 2, 1)).ravel() # array of h for r and g successive for the vectorisation\n",
    "\n",
    "            s_1[:] += (f[j*2:j*2+ n_c]*h*w[j*2:j*2+ n_c])\n",
    "            s_2[:] += (h**2 * w[j*2:j*2+ n_c])\n",
    "\n",
    "\n",
    "        s_n = s_1[::2] + s_1[1::2]  \n",
    "        s_d = s_2[::2] + s_2[1::2] \n",
    "        \n",
    "        mask_no_0 = (s_d != 0)\n",
    "        alp[k][l] = np.zeros_like(s_d, dtype=float)\n",
    "\n",
    "        alp[k][l][mask_no_0] = s_n[mask_no_0] / s_d[mask_no_0] # # Perform division only where s_d(i) is not zero\n",
    "\n",
    "        alpha = np.repeat(alp[k][l], 2) # duplicate alpha for each value (one for r and second for g)\n",
    "     \n",
    "    \n",
    "        dd = np.zeros(n_c, dtype=float)\n",
    "        \n",
    "        for j in range(0,m+1):\n",
    "            h = np.tile(Q[l][j*2: j*2+2], (len(f[j*2:j*2+ n_c]) // 2, 1)).ravel() # array of h for r and g successive for the vectorisation\n",
    "            \n",
    "            dd[:] += ((f[j*2:j*2+ n_c] - alpha[:] * h)**2) * w[j*2:j*2+ n_c] \n",
    "            #alpha[:n-j*2] ==> alpha[:]\n",
    "\n",
    "        d[k][l] = dd[::2] + dd[1::2]\n",
    "        \n",
    "        factor_comparison =  d[k][l] <= factor\n",
    "                \n",
    "        R[k][indexes_array[k][factor_comparison[indexes_array[k]]]] = l # explanation follows below!\n",
    "        \n",
    "        #count = 0\n",
    "        for i in range(len(factor_comparison)):\n",
    "            if factor_comparison[i] and R_l[k][l][i] != -99:\n",
    "                R_l[k][l][i] = l\n",
    "                #count += 1 \n",
    "                #num_by_Q[l] +=1\n",
    "                num_by_obj[l][k]+=1\n",
    "\n",
    "                \n",
    "        \"\"\"if count >0:\n",
    "            for i in range(len(factor_comparison)):\n",
    "                  if factor_comparison[i] and R_l[k][l][i] != -99:# and i != index_no_match: it isn't bad but It may \n",
    "                        Matches[k][i] +=count\"\"\"\n",
    "    \n",
    "        \n",
    "                \n",
    "        \"\"\"for i in indexes_array[k]:\n",
    "            #print(i)\n",
    "            if d[k][l][i] <= factor : \n",
    "                R[k][i] = l\"\"\"\n",
    "#     print(count)\n",
    "#     if count >0:\n",
    "#             for k in range(len([R])):\n",
    "#                 factor_comparison =  d[k][l] <= factor\n",
    "\n",
    "#                 for i in range(len(factor_comparison)):\n",
    "#                     if factor_comparison[i] and R_l[k][l][i] != -99:# and i != index_no_match: it isn't bad but It may \n",
    "#                         Matches[k][i] +=count\n",
    "                \n",
    "#     if l>0:\n",
    "    R_l[k_Query_taked][l][index_no_match] = -2\n",
    "#     R[k_Query_taked][index_no_match] = -2\n",
    "\n",
    "    \n",
    "     \n",
    "    #print(\"l = \",l)\n",
    " \n",
    "    l += 1 \n",
    "    \n",
    "print(\"l = \",l)\n",
    "\n",
    "\n",
    "\n",
    "end_time = time.time()\n",
    "\n",
    "# Compute the elapsed time\n",
    "elapsed_time = end_time - start_time\n",
    "\n",
    "print(\"Elapsed time:\", elapsed_time, \"seconds\")"
   ]
  },
  {
   "cell_type": "markdown",
   "id": "877d33b3",
   "metadata": {},
   "source": [
    "Let's break down the expression `R[k][indexes_array[k][factor_comparison[indexes_array[k]]]] = l` step by step:\n",
    "\n",
    "1. `indexes_array[k]`: This selects the array of indexes corresponding to the k-th element of `indexes_array`.\n",
    "2. `factor_comparison[indexes_array[k]]`: This applies boolean indexing to `factor_comparison` using the indexes from `indexes_array[k]`. It selects only the elements of `factor_comparison` corresponding to the indexes in `indexes_array[k]`.\n",
    "3. `indexes_array[k][factor_comparison[indexes_array[k]]]`: This gives the indices where the condition `factor_comparison` is true for the k-th element of `indexes_array`.\n",
    "4. `R[k][indexes_array[k][factor_comparison[indexes_array[k]]]]`: This uses the indices obtained in the previous step to select elements from the k-th row of `R`.\n",
    "5. `= l`: Finally, it assigns the value `l` to the selected elements of `R[k]`.\n"
   ]
  },
  {
   "cell_type": "code",
   "execution_count": null,
   "id": "b44d3009",
   "metadata": {},
   "outputs": [],
   "source": [
    "# np.save('array1.npy', d)\n",
    "# np.save('array2.npy', R)\n",
    "# np.save('array3.npy', Q[:-40])\n",
    "# np.save('array4.npy', R_l)\n",
    "\n",
    "# Load arrays individually when needed\n",
    "# d = np.load('array1.npy', allow_pickle=True)\n",
    "# R = np.load('array2.npy', allow_pickle=True)\n",
    "# Q = np.load('array3.npy', allow_pickle=True)\n"
   ]
  },
  {
   "cell_type": "code",
   "execution_count": null,
   "id": "89b788bf",
   "metadata": {
    "scrolled": true
   },
   "outputs": [],
   "source": [
    "# np.savez('nested_arrays.npz', array1=d, array2=R, array3=Q[:], array4= R_l, array5 = selected_Q_K_i, array6= num_by_obj)\n",
    "# np.savez('nested_arrays.npz', array1=d, array2=R, array3=Q[:], array4=R_l, array5=selected_Q_K_i, array6=num_by_obj, additional_variable1=m, additional_variable2=additional_variable2)\n",
    "# Load the arrays from the .npz file\n",
    "#data = np.load('nested_arrays.npz', allow_pickle=True)\n",
    "\n",
    "# # Retrieve the arrays from the loaded data\n",
    "# d1 = data['array1']\n",
    "# R1 = data['array2']\n",
    "# Q1 = data['array3']"
   ]
  },
  {
   "cell_type": "code",
   "execution_count": null,
   "id": "dfaa721e",
   "metadata": {},
   "outputs": [],
   "source": [
    "# import h5py\n",
    "\n",
    "# # Assuming you have arrays d, R, Q, R_l, selected_Q_K_i, num_by_obj and additional variables additional_variable1, additional_variable2\n",
    "# # Convert arrays to a supported dtype\n",
    "# # d = d.astype(float)  # Example: converting to float\n",
    "# R = R.astype(float)\n",
    "# # Q = Q.astype(float)   # Example: converting to float\n",
    "# R_l = R_l.astype(float)\n",
    "# selected_Q_K_i = selected_Q_K_i.astype(float)\n",
    "# num_by_obj = num_by_obj.astype(int)  # Example: converting to integer\n",
    "\n",
    "# # Create an HDF5 file\n",
    "# with h5py.File('nested_arrays.h5', 'w') as hf:\n",
    "#     hf.create_dataset('array1', data=d)\n",
    "#     hf.create_dataset('array2', data=R)\n",
    "#     hf.create_dataset('array3', data=Q[:])\n",
    "#     hf.create_dataset('array4', data=R_l)\n",
    "#     hf.create_dataset('array5', data=selected_Q_K_i)\n",
    "#     hf.create_dataset('array6', data=num_by_obj)\n",
    "    \n",
    "#     # Add additional variables as attributes\n",
    "#     hf.attrs['additional_variable1'] = m\n",
    "#     hf.attrs['additional_variable2'] = chunk_size\n"
   ]
  },
  {
   "cell_type": "markdown",
   "id": "d25fd2b6",
   "metadata": {},
   "source": [
    "# "
   ]
  },
  {
   "cell_type": "markdown",
   "id": "e8f3881c",
   "metadata": {},
   "source": [
    "# "
   ]
  },
  {
   "cell_type": "markdown",
   "id": "edbe22e6",
   "metadata": {},
   "source": [
    "### Calculate the Matrix of Matches (with windows represented in rows and queries as columns)"
   ]
  },
  {
   "cell_type": "code",
   "execution_count": null,
   "id": "c31fd3e8",
   "metadata": {},
   "outputs": [],
   "source": [
    "R[0], R[0]!=-99, sum(R[0]!=-99)"
   ]
  },
  {
   "cell_type": "code",
   "execution_count": null,
   "id": "efdc75a6",
   "metadata": {},
   "outputs": [],
   "source": [
    "rangek = range(len(objects))\n",
    "\n",
    "# Initialize list to hold transposed arrays for each k\n",
    "transposed_arrays_list = []\n",
    "\n",
    "for k in rangek:  \n",
    "    # Determine max length of arrays in R_l[k]\n",
    "    max_length = max(len(arr) for arr in R_l[k])\n",
    "    # we can remove this\n",
    "\n",
    "    # Initialize transposed array\n",
    "    transposed_array = np.empty((max_length, len(R_l[k])), dtype=object)\n",
    "\n",
    "    # Transpose and store the arrays\n",
    "    for i in range(max_length):\n",
    "        for j, arr in enumerate(R_l[k]):\n",
    "            if arr[i] == -2 or arr[i] >= 0:\n",
    "                transposed_array[i][j] = 1\n",
    "            elif arr[i] == -99 :\n",
    "                transposed_array[i][j] = None\n",
    "            else:\n",
    "                transposed_array[i][j] = 0\n",
    "                \n",
    "                \n",
    "    # Append transposed array to the list\n",
    "    transposed_arrays_list.append(transposed_array)\n",
    "\n",
    "transposed_arrays_list"
   ]
  },
  {
   "cell_type": "code",
   "execution_count": null,
   "id": "6ecbcca6",
   "metadata": {},
   "outputs": [],
   "source": [
    "concatenated_array = np.concatenate(transposed_arrays_list, axis=0)\n",
    "concatenated_array"
   ]
  },
  {
   "cell_type": "code",
   "execution_count": null,
   "id": "0367adb2",
   "metadata": {},
   "outputs": [],
   "source": [
    "for i in concatenated_array: \n",
    "    print(i)\n",
    "    print()"
   ]
  },
  {
   "cell_type": "code",
   "execution_count": null,
   "id": "7636f0bc",
   "metadata": {
    "scrolled": true
   },
   "outputs": [],
   "source": [
    "sum_j = np.sum(concatenated_array, axis=1)\n",
    "#sum_j"
   ]
  },
  {
   "cell_type": "code",
   "execution_count": null,
   "id": "3767a706",
   "metadata": {
    "scrolled": true
   },
   "outputs": [],
   "source": [
    "sum_i = np.sum(concatenated_array, axis=0)\n",
    "#sum_i"
   ]
  },
  {
   "cell_type": "code",
   "execution_count": null,
   "id": "ef982c79",
   "metadata": {},
   "outputs": [],
   "source": [
    "max(sum_i),min(sum_i), np.argmax(sum_i), np.argmin(sum_i), selected_Q_K_i[94], selected_Q_K_i[100]"
   ]
  },
  {
   "cell_type": "code",
   "execution_count": null,
   "id": "2c0a4e9c",
   "metadata": {
    "scrolled": true
   },
   "outputs": [],
   "source": [
    "#flattened_array = np.concatenate([arr.flatten() for arr in sum_j])\n",
    "maximum_value = np.max(sum_j)\n",
    "maximum_value, np.argmax(sum_j),sum_j[155]"
   ]
  },
  {
   "cell_type": "code",
   "execution_count": null,
   "id": "713c60c5",
   "metadata": {},
   "outputs": [],
   "source": [
    "# Find indices of non-zero values\n",
    "non_zero_indices = np.argwhere(sum_j != 0).flatten()\n",
    "\n",
    "# Retrieve non-zero values\n",
    "non_zero_values = sum_j[non_zero_indices]\n",
    "\n",
    "# Find the index of the minimum non-zero value\n",
    "min_non_zero_index = non_zero_indices[np.argmin(non_zero_values)]\n",
    "\n",
    "min_non_zero_value = sum_j[min_non_zero_index]\n",
    "\n",
    "min_non_zero_value, min_non_zero_index"
   ]
  },
  {
   "cell_type": "code",
   "execution_count": null,
   "id": "0be1942c",
   "metadata": {
    "scrolled": true
   },
   "outputs": [],
   "source": [
    "s = 0\n",
    "global_inx = 633\n",
    "def get_k_i_of_row(global_inx):\n",
    "    if global_inx < (int(lengths[objects[0]]/2)-m):\n",
    "         return  0 , global_inx\n",
    "    for k in rangek:\n",
    "        global_inx -= (int(lengths[objects[k]]/2)-m)\n",
    "        if global_inx < (int(lengths[objects[k+1]]/2)-m):\n",
    "            return  k+1 , global_inx\n",
    "#def get\n",
    "get_k_i_of_row(31)"
   ]
  },
  {
   "cell_type": "code",
   "execution_count": null,
   "id": "8911ce7f",
   "metadata": {},
   "outputs": [],
   "source": [
    "# transform to a function \n",
    "F[objects[10662]], F[objects[10662]][7*2:7*2+chunk_size], objects[10662], W[objects[10662]][7*2:7*2+chunk_size]"
   ]
  },
  {
   "cell_type": "code",
   "execution_count": null,
   "id": "59fc98f9",
   "metadata": {},
   "outputs": [],
   "source": [
    "def if_a_query(k_TS, i_TS, selected_Q_K_i):\n",
    "    for index_Q, (k, i) in enumerate(selected_Q_K_i):\n",
    "        if k_TS == k and i_TS == i:\n",
    "            return True, index_Q, f\"This window is used as the {index_Q}th query! \"\n",
    "    return False, 0 , \"This window is not used as a query ! \""
   ]
  },
  {
   "cell_type": "code",
   "execution_count": null,
   "id": "5f621638",
   "metadata": {},
   "outputs": [],
   "source": [
    "num_by_Q[l]"
   ]
  },
  {
   "cell_type": "code",
   "execution_count": null,
   "id": "5d3b7e58",
   "metadata": {
    "scrolled": false
   },
   "outputs": [],
   "source": [
    "### max by j (as a window)\n",
    "k , i = get_k_i_of_row(155)\n",
    "l, string = if_a_query(k, i, selected_Q_K_i)\n",
    "print(objects[k],\"idx = \",i,\"l =\",l,\".\",string), plot_distance_flux(k,l)\n",
    "\n",
    "### min by j (as a window)\n",
    "k , i = get_k_i_of_row(global_inx)\n",
    "l, string = if_a_query(k, i, selected_Q_K_i)\n",
    "print(objects[k],\"idx = \",i,\"l =\",l,\".\",string), plot_distance_flux(k,l)\n",
    "\n",
    "k= 7683  ### 6 max by Q (as a Query )\n",
    "i = 6 \n",
    "l, string = if_a_query(k, i, selected_Q_K_i)\n",
    "print(objects[k],\"idx = \",i,\"l =\",l,\".\",string), plot_distance_flux(k,l)\n",
    "\n",
    "k=10662 #### 7 min by Q (as a Query )\n",
    "i = 7\n",
    "l, string = if_a_query(k, i, selected_Q_K_i)\n",
    "print(objects[k],\"idx = \",i,\"l =\",l,\".\",string), plot_distance_flux(k,l)\n",
    "\n",
    "\n"
   ]
  },
  {
   "cell_type": "code",
   "execution_count": null,
   "id": "3b677435",
   "metadata": {
    "scrolled": true
   },
   "outputs": [],
   "source": [
    "concatenated_array"
   ]
  },
  {
   "cell_type": "code",
   "execution_count": null,
   "id": "11c6b7ee",
   "metadata": {},
   "outputs": [],
   "source": [
    "concatenated_array[0][0]#[0:3]"
   ]
  },
  {
   "cell_type": "code",
   "execution_count": null,
   "id": "7e3643f7",
   "metadata": {},
   "outputs": [],
   "source": [
    "len(sum_j), len(concatenated_array)"
   ]
  },
  {
   "cell_type": "code",
   "execution_count": null,
   "id": "064d6bef",
   "metadata": {
    "scrolled": true
   },
   "outputs": [],
   "source": [
    "get_k_i_of_row(122),get_j_by_k(4)"
   ]
  },
  {
   "cell_type": "code",
   "execution_count": null,
   "id": "4df91c0f",
   "metadata": {},
   "outputs": [],
   "source": [
    "get_k_i_of_row(155), get_k_i_of_Q(100),  "
   ]
  },
  {
   "cell_type": "code",
   "execution_count": null,
   "id": "19b2d674",
   "metadata": {},
   "outputs": [],
   "source": [
    "def get_m(i,j):\n",
    "    return concatenated_array[j][i]\n",
    "\n",
    "def get_i_by_sum(i):\n",
    "        return sum_i[i]\n",
    "\n",
    "def get_j_by_sum(j):\n",
    "        return sum_j[j]\n",
    "\n",
    "    \n",
    "def get_k_i_of_Q(l):\n",
    "    return selected_Q_K_i[l]\n",
    "\n",
    "def get_j_by_k(k_selected):\n",
    "    global_inx = 0 \n",
    "    for k in rangek:\n",
    "        if k == k_selected:\n",
    "            return list(range(global_inx, global_inx + int(lengths[objects[k]] / 2) - m))\n",
    "        global_inx += (int(lengths[objects[k]] / 2) - m)\n",
    "\n"
   ]
  },
  {
   "cell_type": "code",
   "execution_count": null,
   "id": "d703a715",
   "metadata": {},
   "outputs": [],
   "source": [
    "total_matched = sum(sum_i) + sum(sum_j)\n",
    "total_matched"
   ]
  },
  {
   "cell_type": "code",
   "execution_count": null,
   "id": "ea9efea3",
   "metadata": {},
   "outputs": [],
   "source": [
    "I_i_j = concatenated_array[:].copy() #*(sum_i[:])\n",
    "I_i_j"
   ]
  },
  {
   "cell_type": "code",
   "execution_count": null,
   "id": "6b8b45f0",
   "metadata": {},
   "outputs": [],
   "source": [
    "for j, sj in enumerate(sum_j):\n",
    "    for i, si in enumerate(sum_i):\n",
    "        dn = (si*sj)\n",
    "        if dn == 0:\n",
    "            I_i_j[j][i] *= np.inf\n",
    "        else:\n",
    "            I_i_j[j][i] *= total_matched/ dn\n"
   ]
  },
  {
   "cell_type": "code",
   "execution_count": null,
   "id": "eec860dc",
   "metadata": {},
   "outputs": [],
   "source": [
    "I_i_j[0],I_i_j[4], I_i_j[1]"
   ]
  },
  {
   "cell_type": "code",
   "execution_count": null,
   "id": "dfa4e041",
   "metadata": {},
   "outputs": [],
   "source": [
    "nonzero_indices = np.nonzero(np.outer(sum_j, sum_i))\n",
    "\n",
    "# Update only non-zero elements\n",
    "I_i_j[nonzero_indices] = I_i_j[nonzero_indices] / (sum_i[nonzero_indices[1]] * sum_j[nonzero_indices[0]])\n",
    "\n",
    "# For zero elements in dn, replace them with np.inf\n",
    "#I_i_j[I_i_j == 0] = np.inf\n"
   ]
  },
  {
   "cell_type": "code",
   "execution_count": null,
   "id": "ba6108e5",
   "metadata": {},
   "outputs": [],
   "source": [
    "zero_indices = np.nonzero(~np.outer(sum_j, sum_i))\n",
    "I_i_j[zero_indices]"
   ]
  },
  {
   "cell_type": "markdown",
   "id": "6202add1",
   "metadata": {},
   "source": [
    "#"
   ]
  },
  {
   "cell_type": "markdown",
   "id": "7d9f608b",
   "metadata": {},
   "source": [
    "#"
   ]
  },
  {
   "cell_type": "markdown",
   "id": "dc673bbc",
   "metadata": {},
   "source": [
    "#"
   ]
  },
  {
   "cell_type": "markdown",
   "id": "60e939f3",
   "metadata": {},
   "source": [
    "#"
   ]
  },
  {
   "cell_type": "markdown",
   "id": "d5529e2f",
   "metadata": {},
   "source": [
    "#"
   ]
  },
  {
   "cell_type": "markdown",
   "id": "97534fc3",
   "metadata": {},
   "source": [
    "## Functions to compute the numbers of matches and plot the results "
   ]
  },
  {
   "cell_type": "markdown",
   "id": "697c7125",
   "metadata": {},
   "source": [
    "#### these functions should be in another file"
   ]
  },
  {
   "cell_type": "markdown",
   "id": "473f37f6",
   "metadata": {},
   "source": [
    "We don't need this one anymore ! "
   ]
  },
  {
   "cell_type": "code",
   "execution_count": null,
   "id": "fc82f18d",
   "metadata": {},
   "outputs": [],
   "source": [
    "def number_matches_for_all_k(R_l):\n",
    "    all_matches = [] \n",
    "    \n",
    "    # Iterate through each R_l[k]\n",
    "    for R_l_k in R_l:\n",
    "        # Get the length of the first sub-array\n",
    "        length = len(R_l_k[0])\n",
    "\n",
    "        # Initialize the list to store the number of matches for each index\n",
    "        matches = [0] * length\n",
    "\n",
    "        # Iterate through each sub-array\n",
    "        for sub_array in R_l_k:\n",
    "            # Iterate through each element and count matches for each index\n",
    "            for i, elem in enumerate(sub_array):\n",
    "                if elem >= 0 or elem ==-2:\n",
    "                    matches[i] += 1\n",
    "\n",
    "        all_matches.append(matches)  # Store matches for current k\n",
    "\n",
    "    return all_matches\n",
    "\n",
    "# all_matches will be a list where each element is matches for each k\n",
    "# all_matches = number_matches_for_all_k(R_l)\n"
   ]
  },
  {
   "cell_type": "code",
   "execution_count": null,
   "id": "2178ca34",
   "metadata": {},
   "outputs": [],
   "source": [
    "def lowest_values(all_matches):\n",
    "    lowest_values = []  # Initialize a list to store the lowest 10 values\n",
    "\n",
    "    # Iterate through each list of matches for each k\n",
    "    for k, matches_k in enumerate(all_matches):\n",
    "        # Iterate through each match count and index i\n",
    "        for i, match_count in enumerate(matches_k):\n",
    "            if R[k][i] !=-99:\n",
    "                lowest_values.append((match_count, k, i))  # Store match count, k, and i\n",
    "\n",
    "    # Sort the lowest values based on match count\n",
    "    lowest_values.sort(key=lambda x: x[0])\n",
    "\n",
    "    return lowest_values\n",
    "\n",
    "# lowest_ will be a list of tuples where each tuple contains (match_count, k, i)\n",
    "lowest = lowest_values(all_matches)\n",
    "# lowest"
   ]
  },
  {
   "cell_type": "code",
   "execution_count": null,
   "id": "73306060",
   "metadata": {},
   "outputs": [],
   "source": [
    "lowest"
   ]
  },
  {
   "cell_type": "code",
   "execution_count": null,
   "id": "ae3b690d",
   "metadata": {},
   "outputs": [],
   "source": [
    "alp[k][l].mean()"
   ]
  },
  {
   "cell_type": "code",
   "execution_count": null,
   "id": "46c58d25",
   "metadata": {},
   "outputs": [],
   "source": [
    "def plot_distance_flux(k,l,open_Fink= False):\n",
    "    \n",
    "    plt.figure(figsize=(14, 12))\n",
    "\n",
    "    # Plot for F[k]\n",
    "    plt.subplot(2, 1, 1)\n",
    "\n",
    "    for i in range(int(len(F[objects[k]])/2)):\n",
    "        if source[objects[k]][2*i] == 0:\n",
    "            marker = 'x'\n",
    "            plt.errorbar(i, F[objects[k]][2*i], \n",
    "                     #sig[objects[k]][2*i]*0.4,\n",
    "                     c='C0', marker=marker)\n",
    "        else:\n",
    "            marker = 'o'\n",
    "            plt.errorbar(i, F[objects[k]][2*i], \n",
    "                     sig[objects[k]][2*i],\n",
    "                     c='C0', marker=marker)\n",
    "\n",
    "        if source[objects[k]][2*i+1] == 0:\n",
    "            marker = 'x'\n",
    "            plt.errorbar(i, F[objects[k]][2*i+1],\n",
    "                     #sig[objects[k]][2*i+1]*0.4,\n",
    "                     c='C1', marker=marker)\n",
    "            \n",
    "        else:\n",
    "            marker = 'o'\n",
    "            plt.errorbar(i, F[objects[k]][2*i+1],\n",
    "                     sig[objects[k]][2*i+1],\n",
    "                     c='C1', marker=marker)\n",
    "            \n",
    "        a_query,l_1, string = if_a_query(k,i,selected_Q_K_i)\n",
    "            \n",
    "        if a_query and l_1 == l:\n",
    "            print(string)\n",
    "            \n",
    "            # Define the window of indices\n",
    "            window_start = i  # Index of the window start\n",
    "            window_end = i + int(len(Q[l])/2 - 1)  # Index of the window end\n",
    "\n",
    "            # Create an array of float indices\n",
    "            indices = np.arange(window_start, window_end + 1)\n",
    "            indices = np.concatenate(([indices[0] - 0.5], indices, [indices[-1] + 0.5]))\n",
    "\n",
    "            # Plot a shaded region for the window\n",
    "            plt.fill_between(indices, min(Q[l])/1.2, max(Q[l])*1.2, color='gray', alpha=0.2)\n",
    "            \n",
    "        \n",
    "    plt.plot([], [], color='C1', marker='x', label='missing points !')\n",
    "    plt.plot([], [], color='C0', marker='o', label='origin')\n",
    "    plt.plot([], [], color='C0', marker='x', label='missing points !')\n",
    "    plt.plot([], [], color='C1', marker='o', label='origin')\n",
    "    \n",
    "    \n",
    "    ################################### what about the seccond window !? \n",
    "    moy_alp = alp[k][l].mean()\n",
    "    moy_alp = np.median(F[k])/np.median(Q[l]) #Manu test\n",
    "\n",
    "    plt.plot(range(int(len(F[objects[k]])/2)), F[objects[k]][::2], c='C0', linewidth = 1)\n",
    "    plt.plot(range(int(len(F[objects[k]])/2)), F[objects[k]][1::2], c='C1', linewidth = 1)\n",
    "\n",
    "    plt.plot(np.arange(len(Q[l]) // 2) - 1-m, Q[l][::2]*moy_alp, c='g', label='Q[l]',marker='.', linewidth=3, zorder=3)\n",
    "    plt.plot(np.arange(len(Q[l]) // 2) - 1-m, Q[l][1::2]*moy_alp, c='r', label='Q[l]',marker='.', linewidth=3, zorder=3)\n",
    "\n",
    "    # Define the window of indices\n",
    "    window_start = -1-m  # Index of the window start\n",
    "    window_end = int(len(Q[l])/2 - 1-1 -m)  # Index of the window end\n",
    "\n",
    "    # Create an array of float indices\n",
    "    indices = np.arange(window_start, window_end + 1)\n",
    "    indices = np.concatenate(([indices[0] - 0.4], indices, [indices[-1] + 0.4]))\n",
    "\n",
    "    # Plot a shaded region for the window\n",
    "    plt.fill_between(indices, min(Q[l])/1.2*moy_alp, max(Q[l])*1.2*moy_alp, color='gray', alpha=0.2)\n",
    "\n",
    "    # plt.xlabel('Index')\n",
    "    plt.ylabel('Flux')\n",
    "    # plt.title('Flux Plot')\n",
    "    plt.legend()\n",
    "    \n",
    "\n",
    "\n",
    "\n",
    "\n",
    "    ###############                       Plot for d[k][0]                       ###############\n",
    "\n",
    "    plt.subplot(2, 1, 2)\n",
    "    plt.plot([-1, -1], [0, 0], color='none')  # Plot an empty line with zero length\n",
    "    plt.plot(range(len(d[k][l])), d[k][l],color='C0', linestyle='-',linewidth=1)\n",
    "#     matches = all_matches[k]#Matches[k]#\n",
    "#     for i, match_count in enumerate(matches):\n",
    "#         plt.text(i+0.2, d[k][l][i]+d[k][l][i]*5/100, str(match_count), fontsize=10, color='red', ha='left')\n",
    "    matches_idx = get_j_by_k(k)\n",
    "    matches2 = sum_j[matches_idx]\n",
    "\n",
    "    # Plot dummy points with desired colors and markers\n",
    "    plt.plot([], [], color='black', marker='o', label='Query chosed')\n",
    "    plt.plot([], [], color='red', marker='x', label='missing cases !')\n",
    "    plt.plot([], [], color='blue', marker='s', label='Matched here')\n",
    "    plt.plot([], [], color='green', marker='*', label='Matches with a different `l` (Query)')\n",
    "    plt.plot([], [], color='yellow', marker='^', label=f'Not matched with any of the {L_max} options we selected')\n",
    "    \n",
    "    \n",
    "    for i, val in enumerate(R_l[k][l]):\n",
    "            if val == -99:\n",
    "                plt.scatter(i, d[k][l][i], color='red', marker='x', s=50)  # marker size 50\n",
    "                plt.text(i+0.2, d[k][l][i]+d[k][l][i]*5/100, str(matches2[i]), fontsize=10, color='red', ha='left')\n",
    "\n",
    "            elif val == l:\n",
    "                plt.scatter(i, d[k][l][i], color='blue', marker='s', s=50)\n",
    "                plt.text(i+0.2, d[k][l][i]+d[k][l][i]*5/100, str(matches2[i]), fontsize=10, color='blue', ha='left')\n",
    "\n",
    "            elif val == -2:\n",
    "                plt.scatter(i, d[k][l][i], color='black', marker='o', s=50) \n",
    "                plt.text(i+0.2, d[k][l][i]+d[k][l][i]*5/100, str(matches2[i]), fontsize=10, color='black', ha='left')\n",
    "            elif matches2[i]==0:\n",
    "                plt.scatter(i, d[k][l][i], color='yellow', marker='^', s=50) \n",
    "                plt.text(i+0.2, d[k][l][i]+d[k][l][i]*5/100, str(matches2[i]), fontsize=10, color='yellow', ha='left')\n",
    "\n",
    "            else:\n",
    "                plt.scatter(i, d[k][l][i], color='green', marker='*', s=75)\n",
    "                plt.text(i+0.2, d[k][l][i]+d[k][l][i]*5/100, str(matches2[i]), fontsize=10, color='green', ha='left')\n",
    "\n",
    "\n",
    "\n",
    "\n",
    "    plt.legend(fontsize=8) \n",
    "    #plt.legend(loc='upper right', fontsize=8)\n",
    "\n",
    "    plt.ylabel('distance')\n",
    "\n",
    "\n",
    "\n",
    "    ###############                       Plot for alpha[k][l]                       ###############\n",
    "\n",
    "#     plt.subplot(3, 1, 3)\n",
    "#     plt.plot(range(len(alp[k][l])), alp[k][l], marker='.', linestyle='-',color='black')\n",
    "#     plt.xlabel('Index')\n",
    "#     plt.ylabel('Value')\n",
    "#     plt.title('alpha Plot')\n",
    "\n",
    "\n",
    "\n",
    "\n",
    "    plt.subplots_adjust(top=0.93)  # Adjust the top margin for the super title\n",
    "    plt.suptitle(f\"{objects[k]}, k = {k}, l = {l} \", fontname='Arial', fontsize=16, fontweight='bold')\n",
    "    #plt.tight_layout()\n",
    "    plt.show()\n",
    "    \n",
    "\n",
    "    if open_Fink:\n",
    "        open_website(objects[k])\n",
    "\n",
    "\n"
   ]
  },
  {
   "cell_type": "code",
   "execution_count": null,
   "id": "18df4480",
   "metadata": {
    "scrolled": false
   },
   "outputs": [],
   "source": [
    "plot_distance_flux(13653 ,0,True)\n",
    "plot_distance_flux(22696 ,94,True)\n"
   ]
  },
  {
   "cell_type": "code",
   "execution_count": null,
   "id": "25500dcb",
   "metadata": {},
   "outputs": [],
   "source": [
    "np.median(alp[0][0])"
   ]
  },
  {
   "cell_type": "code",
   "execution_count": null,
   "id": "52788691",
   "metadata": {},
   "outputs": [],
   "source": [
    "np.median(F[0])/np.median(Q[100])"
   ]
  },
  {
   "cell_type": "markdown",
   "id": "180bebc9",
   "metadata": {},
   "source": [
    "\n",
    "# \n"
   ]
  },
  {
   "cell_type": "markdown",
   "id": "7ae4c747",
   "metadata": {},
   "source": [
    "\n",
    "# \n"
   ]
  },
  {
   "cell_type": "markdown",
   "id": "105cd149",
   "metadata": {},
   "source": [
    "\n",
    "# \n"
   ]
  },
  {
   "cell_type": "markdown",
   "id": "eb496f08",
   "metadata": {},
   "source": [
    "# plot by multiple l"
   ]
  },
  {
   "cell_type": "code",
   "execution_count": null,
   "id": "d19767a5",
   "metadata": {},
   "outputs": [],
   "source": [
    "k=3\n",
    "l = 100\n",
    "Q[l], F[objects][k][:2], Q[l]* np.median(alp[k][l]),np.median(alp[k][l]), Q[l]* (alp[k][l]).mean()"
   ]
  },
  {
   "cell_type": "code",
   "execution_count": null,
   "id": "f5be99b7",
   "metadata": {
    "scrolled": false
   },
   "outputs": [],
   "source": [
    "l_values = [100,0]#32,33,1,4,5,12,15,26]#range(119)  #[0,1,2],2,3,4,5,6,7]#\n",
    "k_values=range(len(objects))\n",
    "k=1\n",
    "for l in l_values:\n",
    "    for k in k_values[:7]:\n",
    "        plot_distance_flux(k,l) # True == open website\n"
   ]
  },
  {
   "cell_type": "code",
   "execution_count": null,
   "id": "26803242",
   "metadata": {},
   "outputs": [],
   "source": []
  },
  {
   "cell_type": "code",
   "execution_count": null,
   "id": "07c0c07c",
   "metadata": {},
   "outputs": [],
   "source": []
  },
  {
   "cell_type": "markdown",
   "id": "b8cd1b2a",
   "metadata": {},
   "source": [
    "## plot histogram of numbers of matches for each Q"
   ]
  },
  {
   "cell_type": "code",
   "execution_count": null,
   "id": "3c82c2fa",
   "metadata": {},
   "outputs": [],
   "source": [
    "indexes = range(len(sum_i))\n",
    "\n",
    "# Plotting the histogram\n",
    "plt.hist(indexes, bins=len(sum_i), weights=sum_i, color='skyblue', edgecolor='black')\n",
    "\n",
    "# Adding labels and title\n",
    "plt.xlabel('Indexes')\n",
    "plt.ylabel('Numbers')\n",
    "plt.title('Histogram of numbers of matches for each Q ')\n",
    "\n",
    "# Display the histogram\n",
    "plt.show()"
   ]
  },
  {
   "cell_type": "code",
   "execution_count": null,
   "id": "5972afce",
   "metadata": {},
   "outputs": [],
   "source": [
    "max(sum_i),min(sum_i)"
   ]
  },
  {
   "cell_type": "code",
   "execution_count": null,
   "id": "c8e2eed8",
   "metadata": {},
   "outputs": [],
   "source": [
    "np.argmax(sum_i), np.argmin(sum_i)"
   ]
  },
  {
   "cell_type": "markdown",
   "id": "75d9f6be",
   "metadata": {},
   "source": [
    "## plot histogram of numbers of matches for a specific Q for all objects"
   ]
  },
  {
   "cell_type": "code",
   "execution_count": null,
   "id": "b0acab75",
   "metadata": {},
   "outputs": [],
   "source": [
    "num_by_obj"
   ]
  },
  {
   "cell_type": "code",
   "execution_count": null,
   "id": "aab74e23",
   "metadata": {
    "scrolled": false
   },
   "outputs": [],
   "source": [
    "l=94\n",
    "indexes = range(len(num_by_obj[l]))\n",
    "\n",
    "# Plotting the histogram\n",
    "plt.hist(indexes, bins=len(num_by_obj[l]), weights=num_by_obj[l], color='skyblue', edgecolor='black')\n",
    "\n",
    "# Adding labels and title\n",
    "plt.xlabel('Indexes')\n",
    "plt.ylabel('Numbers')\n",
    "plt.title('Histogram of numbers of matches for a specific Q for all objects')\n",
    "\n",
    "# Display the histoazgram\n",
    "plt.show()"
   ]
  },
  {
   "cell_type": "code",
   "execution_count": null,
   "id": "889c2de0",
   "metadata": {},
   "outputs": [],
   "source": [
    "count_minus_99 = np.array([np.sum(subarr == -99) for subarr in R])\n",
    "\n",
    "result = np.where(count_minus_99 <= 10, True, False)\n",
    "result,len(result)"
   ]
  },
  {
   "cell_type": "code",
   "execution_count": null,
   "id": "efce9866",
   "metadata": {},
   "outputs": [],
   "source": [
    "num_by_obj[0][result]"
   ]
  },
  {
   "cell_type": "code",
   "execution_count": null,
   "id": "7914576e",
   "metadata": {
    "scrolled": true
   },
   "outputs": [],
   "source": [
    "indices = np.where(result)[0]\n",
    "\n",
    "sub_arrays = num_by_obj[0][indices]\n",
    "sub_arrays, indices"
   ]
  },
  {
   "cell_type": "code",
   "execution_count": null,
   "id": "cb46bbe4",
   "metadata": {},
   "outputs": [],
   "source": [
    "k = indices[np.argmax(sub_arrays)]\n",
    "k"
   ]
  },
  {
   "cell_type": "code",
   "execution_count": null,
   "id": "ff183596",
   "metadata": {},
   "outputs": [],
   "source": [
    "plot_distance_flux(4,l)"
   ]
  },
  {
   "cell_type": "code",
   "execution_count": null,
   "id": "5d7d33df",
   "metadata": {},
   "outputs": [],
   "source": [
    "len(num_by_obj[l][indices])"
   ]
  },
  {
   "cell_type": "code",
   "execution_count": null,
   "id": "5e010d56",
   "metadata": {},
   "outputs": [],
   "source": [
    "l=94\n",
    "indexes = range(len(num_by_obj[l][indices]))\n",
    "\n",
    "# Plotting the histogram\n",
    "plt.hist(indices, bins=len(num_by_obj[l][indices]), weights=num_by_obj[l][indices], color='skyblue', edgecolor='black')\n",
    "\n",
    "# Adding labels and title\n",
    "plt.xlabel('Indexes')\n",
    "plt.ylabel('Numbers')\n",
    "plt.title('Histogram of numbers of matches for a specific Q for all objects')\n",
    "\n",
    "# Display the histoazgram\n",
    "plt.show()"
   ]
  },
  {
   "cell_type": "markdown",
   "id": "2e41abc0",
   "metadata": {},
   "source": [
    "### Compute the highest and the lowest indices "
   ]
  },
  {
   "cell_type": "code",
   "execution_count": null,
   "id": "71165151",
   "metadata": {},
   "outputs": [],
   "source": [
    "lowest_indices_array = []\n",
    "highest_indices_array = []\n",
    "sorted_indices_list = []\n",
    "\n",
    "# Assuming num_by_obj is your list of arrays\n",
    "for l in range(len(num_by_obj)):\n",
    "    # Convert the array to a numpy array\n",
    "    array = np.array(num_by_obj[l])\n",
    "\n",
    "    # Get indices of sorted array in ascending order\n",
    "    sorted_indices = np.argsort(array)\n",
    "    sorted_indices_list.append(sorted_indices)  # Append sorted indices list\n",
    "\n",
    "    # Indices of 10 lowest values\n",
    "    lowest_indices = sorted_indices[:10]\n",
    "\n",
    "    # Indices of 10 highest values\n",
    "    highest_indices = sorted_indices[-10:][::-1]  # Reverse to get highest indices\n",
    "\n",
    "    # Append indices to arrays\n",
    "    highest_indices_array.append(highest_indices)\n",
    "    \n",
    "    lowest_values = array[lowest_indices[0]]\n",
    "    all_lowest_indices = np.where(array == lowest_values)[0]\n",
    "    lowest_indices_array.append(all_lowest_indices)\n"
   ]
  },
  {
   "cell_type": "code",
   "execution_count": null,
   "id": "4eb7aa46",
   "metadata": {},
   "outputs": [],
   "source": [
    "sorted_indices_list[0][-10:][::-1]"
   ]
  },
  {
   "cell_type": "code",
   "execution_count": null,
   "id": "75333502",
   "metadata": {},
   "outputs": [],
   "source": [
    "l=94\n",
    "highest_indices_array[l],lowest_indices_array[l], len(lowest_indices_array[l])"
   ]
  },
  {
   "cell_type": "code",
   "execution_count": null,
   "id": "ea234c09",
   "metadata": {},
   "outputs": [],
   "source": [
    "for i,k in enumerate(objects):\n",
    "    if k == 'ZTF18cckcza':#'ZTF19acggsdc':\n",
    "        print(i)\n",
    "        break"
   ]
  },
  {
   "cell_type": "code",
   "execution_count": null,
   "id": "cd7703fa",
   "metadata": {},
   "outputs": [],
   "source": [
    "df[df['objectId'] == 'ZTF18cckcza']"
   ]
  },
  {
   "cell_type": "code",
   "execution_count": null,
   "id": "8ab41f0f",
   "metadata": {},
   "outputs": [],
   "source": [
    "plot_distance_flux(k,l,True)\n"
   ]
  },
  {
   "cell_type": "code",
   "execution_count": null,
   "id": "8233ad2f",
   "metadata": {},
   "outputs": [],
   "source": [
    "objects[23683]"
   ]
  },
  {
   "cell_type": "code",
   "execution_count": null,
   "id": "4dea8b6c",
   "metadata": {},
   "outputs": [],
   "source": [
    "lowest_indices_array[l], num_by_obj[l]"
   ]
  },
  {
   "cell_type": "code",
   "execution_count": null,
   "id": "3b25c677",
   "metadata": {
    "scrolled": false
   },
   "outputs": [],
   "source": [
    "l=94\n",
    "count = 1\n",
    "for k in sorted_indices_list[l][len(lowest_indices_array[l]):len(lowest_indices_array[l])+10]:\n",
    "    print(count)\n",
    "    count += 1\n",
    "    print(objects[k],k,\"l =\",l,\".\")\n",
    "    print(\"Number of matches in this object of this Q\",num_by_obj[l][k])\n",
    "    plot_distance_flux(k,l,True)\n",
    "    "
   ]
  },
  {
   "cell_type": "code",
   "execution_count": null,
   "id": "074cec4f",
   "metadata": {},
   "outputs": [],
   "source": [
    "sorted_indices_list"
   ]
  },
  {
   "cell_type": "code",
   "execution_count": null,
   "id": "728d789e",
   "metadata": {},
   "outputs": [],
   "source": [
    "\n"
   ]
  },
  {
   "cell_type": "markdown",
   "id": "85f67e2a",
   "metadata": {},
   "source": [
    "### "
   ]
  },
  {
   "cell_type": "markdown",
   "id": "db44927b",
   "metadata": {},
   "source": [
    "### "
   ]
  },
  {
   "cell_type": "markdown",
   "id": "deb24a58",
   "metadata": {},
   "source": [
    "### plot Qr/Qg "
   ]
  },
  {
   "cell_type": "code",
   "execution_count": null,
   "id": "87a56a52",
   "metadata": {},
   "outputs": [],
   "source": [
    "Q[94]"
   ]
  },
  {
   "cell_type": "code",
   "execution_count": null,
   "id": "03542f6b",
   "metadata": {
    "scrolled": false
   },
   "outputs": [],
   "source": [
    "Q_array = np.array(Q)\n",
    "ratios = Q_array[:, 0] / Q_array[:, 1]\n",
    "\n",
    "plt.plot(ratios)\n",
    "plt.title('Ratio of First Value to Second Value')\n",
    "plt.xlabel('Index')\n",
    "plt.ylabel('Ratio')\n",
    "plt.grid(True)\n",
    "plt.show()"
   ]
  },
  {
   "cell_type": "code",
   "execution_count": null,
   "id": "3fd66c04",
   "metadata": {},
   "outputs": [],
   "source": [
    "Q_array = np.array(Q)\n",
    "ratios = Q_array[:, 0] / Q_array[:, 1]\n",
    "\n",
    "plt.scatter(ratios[:],sum_i[:]) ###################### -3 to exclude the 800 .. \n",
    "plt.title('num of matches for each Q in function of Ratio ')\n",
    "plt.xlabel('Ratio Qr/Qg')\n",
    "plt.ylabel('num(l)')\n",
    "plt.grid(True)\n",
    "plt.show()"
   ]
  },
  {
   "cell_type": "code",
   "execution_count": null,
   "id": "9cde90ce",
   "metadata": {},
   "outputs": [],
   "source": [
    "Q"
   ]
  },
  {
   "cell_type": "code",
   "execution_count": null,
   "id": "396e7e15",
   "metadata": {},
   "outputs": [],
   "source": [
    "selected_Q_K_i[116], Q[116]"
   ]
  },
  {
   "cell_type": "code",
   "execution_count": null,
   "id": "258d303e",
   "metadata": {},
   "outputs": [],
   "source": [
    "plot_distance_flux(23056,116,True)\n",
    "print(objects[k])\n",
    "print(objects[23056])"
   ]
  },
  {
   "cell_type": "code",
   "execution_count": null,
   "id": "426d38d5",
   "metadata": {},
   "outputs": [],
   "source": [
    "ratios[np.argmax(sum_i)]"
   ]
  },
  {
   "cell_type": "code",
   "execution_count": null,
   "id": "36877115",
   "metadata": {},
   "outputs": [],
   "source": []
  },
  {
   "cell_type": "code",
   "execution_count": null,
   "id": "c644f182",
   "metadata": {
    "scrolled": true
   },
   "outputs": [],
   "source": [
    "ratios"
   ]
  },
  {
   "cell_type": "markdown",
   "id": "b3ac69fd",
   "metadata": {},
   "source": [
    "#"
   ]
  },
  {
   "cell_type": "markdown",
   "id": "809db1a0",
   "metadata": {},
   "source": [
    "# Distinguishing the two cases!"
   ]
  },
  {
   "cell_type": "code",
   "execution_count": null,
   "id": "4d581437",
   "metadata": {},
   "outputs": [],
   "source": [
    "m=1 # here the minimin is 1 !! \n",
    "factor = 2*m+1 + 3*np.sqrt(2*(2*m+1))\n",
    "chunk_size = 2 * (m + 1)"
   ]
  },
  {
   "cell_type": "code",
   "execution_count": null,
   "id": "587bfd28",
   "metadata": {},
   "outputs": [],
   "source": [
    "objects = unique_ids[0:10]\n",
    "num_objects = len(objects)\n",
    "L_max = int(num_objects/2)\n",
    "\n",
    "print(\"L_max \", L_max)\n",
    "\n",
    "R_r = np.empty(num_objects, dtype=object)\n",
    "R_g = np.empty(num_objects, dtype=object)\n",
    "\n",
    "R_l_r = np.empty((num_objects, L_max), dtype=object)\n",
    "R_l_g = np.empty((num_objects, L_max), dtype=object)\n",
    "\n",
    "alp = np.empty((num_objects, L_max), dtype=object)\n",
    "d_r = np.empty((num_objects, L_max), dtype=object)\n",
    "d_g = np.empty((num_objects, L_max), dtype=object)"
   ]
  },
  {
   "cell_type": "code",
   "execution_count": null,
   "id": "6c1ae179",
   "metadata": {},
   "outputs": [],
   "source": [
    "indexes_objects = range(num_objects)\n",
    "Q = [None] * (L_max)"
   ]
  },
  {
   "cell_type": "code",
   "execution_count": null,
   "id": "59113c4a",
   "metadata": {},
   "outputs": [],
   "source": [
    "for k in indexes_objects:\n",
    "\n",
    "    n = lengths[objects[k]]\n",
    "    num_chunks = int(n // 2)-m \n",
    "    \n",
    "    chunks_g = np.array([source[objects[k]][i*2 : (i*2+chunk_size):2] for i in range(num_chunks)])\n",
    "    chunks_r = np.array([source[objects[k]][1+i*2 : (i*2+chunk_size):2] for i in range(num_chunks)])\n",
    "    result_r = np.array(list(map(no_match_test, chunks_r)))\n",
    "    result_g = np.array(list(map(no_match_test, chunks_g)))\n",
    "    \n",
    "    R_r[k] = result_r.copy()\n",
    "    R_g[k] = result_g.copy()\n",
    "    \n",
    "        \n",
    "    for l in range(L_max):\n",
    "        R_l_r[k][l] = result_r.copy()\n",
    "        R_l_g[k][l] = result_g.copy()\n",
    "    # a for loop isn't a good idea !!!! \n",
    "        "
   ]
  },
  {
   "cell_type": "code",
   "execution_count": null,
   "id": "ef0064c2",
   "metadata": {
    "scrolled": true
   },
   "outputs": [],
   "source": [
    "start_time = time.time()\n",
    "\n",
    "\n",
    "l= 0\n",
    "while (l < L_max):\n",
    "    indexes_array_r = np.array([np.where(array == -1)[0] for array in R_r], dtype=object)\n",
    "    indexes_array_g = np.array([np.where(array == -1)[0] for array in R_g], dtype=object)\n",
    "#     break\n",
    "    empty_lists = np.all([value.size == 0 for value in indexes_array_r]) or np.all([value.size == 0 for value in indexes_array_g])\n",
    "    if empty_lists:\n",
    "        print(\"break , l = \", l )\n",
    "        break\n",
    "        \n",
    "    for k in range(len(R_g)): # we can remove the loop for here ! ???\n",
    "          if (indexes_array_g[k].size != 0):\n",
    "            f = F[objects[k]]\n",
    "            \n",
    "            k_Query_taked_g = k \n",
    "\n",
    "            index_no_match_g = indexes_array_g[k][0] # here x 2 because we have the indexes only for g (I need to check this point)        \n",
    "            Q[l] = f[index_no_match_g* 2  : index_no_match_g* 2  +chunk_size:2]\n",
    "            break\n",
    "            \n",
    "    for k in range(len(R_r)): # we can remove the loop for here ! ???\n",
    "          if (indexes_array_r[k].size != 0):\n",
    "            f = F[objects[k]]\n",
    "            k_Query_taked_r = k \n",
    "\n",
    "            index_no_match_r = indexes_array_r[k][0]  #+1\n",
    "            for i in range(1, chunk_size, 2):\n",
    "                 Q[l] = np.insert(Q[l], i, f[index_no_match_r*2 + i : index_no_match_r*2 + i + 1])\n",
    "\n",
    "            #Q[l] = f[index_no_match : index_no_match +chunk_size]\n",
    "            break    \n",
    "    \n",
    "    \n",
    "    \n",
    "    for k in range(len(objects)):\n",
    "        f = F[objects[k]]\n",
    "        w = W[objects[k]]\n",
    "        n = lengths[objects[k]]\n",
    "        n_c = n - 2*m # (number of chunks x 2) ! it's (n/2 - m) but to optimize we mutiply by 2 directly !  \n",
    "        #print(n, n_c,len(R[k]))\n",
    "\n",
    "\n",
    "\n",
    "        s_1 = np.zeros(n_c, dtype=float)\n",
    "        s_2 = np.zeros(n_c, dtype=float)\n",
    "        \n",
    "        for j in range(0,m+1): \n",
    "            h = np.tile(Q[l][j*2: j*2+2], (len(f[j*2:j*2+ n_c]) // 2, 1)).ravel() # array of h for r and g successive for the vectorisation\n",
    "\n",
    "            s_1[:] += (f[j*2:j*2+ n_c]*h*w[j*2:j*2+ n_c])\n",
    "            s_2[:] += (h**2 * w[j*2:j*2+ n_c])\n",
    "\n",
    "        s_n = s_1#[::2] + s_1[1::2]  # this needs to optimizate with new variables ! \n",
    "        s_d = s_2#[::2] + s_2[1::2] \n",
    "        \n",
    "        mask_no_0 = (s_d != 0)\n",
    "        alp[k][l] = np.zeros_like(s_d, dtype=float)\n",
    "\n",
    "        alp[k][l][mask_no_0] = s_n[mask_no_0] / s_d[mask_no_0] # # Perform division only where s_d(i) is not zero\n",
    "\n",
    "        alpha = alp[k][l]#np.repeat(alp[k][l], 2) # duplicate alpha for each value (one for r and second for g)\n",
    "     \n",
    "    \n",
    "        dd = np.zeros(n_c, dtype=float)\n",
    "        \n",
    "        for j in range(0,m+1):\n",
    "            h = np.tile(Q[l][j*2: j*2+2], (len(f[j*2:j*2+ n_c]) // 2, 1)).ravel() # array of h for r and g successive for the vectorisation\n",
    "            \n",
    "            dd[:] += ((f[j*2:j*2+ n_c] - alpha[:] * h)**2) * w[j*2:j*2+ n_c] \n",
    "            #alpha[:n-j*2] ==> alpha[:]\n",
    "\n",
    "        d_g[k][l] = dd[::2]\n",
    "        d_r[k][l] = dd[1::2]\n",
    "        \n",
    "        \"\"\"factor_comparison =  d_g[k][l] <= factor\n",
    "        R_g[k][indexes_array_g[k][factor_comparison[indexes_array_g[k]]]] = l # explanation follows below!\n",
    "                \n",
    "        factor_comparison =  d_r[k][l] <= factor\n",
    "        R_r[k][indexes_array_r[k][factor_comparison[indexes_array_r[k]]]] = l # explanation follows below!\"\"\"\n",
    "        \n",
    "\n",
    "        for i in indexes_array_g[k]:\n",
    "            if d_g[k][l][i] <= factor : \n",
    "                R_g[k][i] = l\n",
    "        for i in indexes_array_r[k]:\n",
    "            if d_r[k][l][i] <= factor : \n",
    "                R_r[k][i] = l\n",
    "                \n",
    "        factor_comparison = d_r[k][l] <= factor      \n",
    "        \n",
    "        for i in range(len(factor_comparison)):\n",
    "            if factor_comparison[i] and R_l_r[k][l][i] != -99: \n",
    "                R_l_r[k][l][i] = l\n",
    "            \n",
    "        factor_comparison = d_g[k][l] <= factor      \n",
    "\n",
    "        for i in range(len(factor_comparison)):\n",
    "            if factor_comparison[i] and R_l_g[k][l][i] != -99: \n",
    "                R_l_g[k][l][i] = l\n",
    "                \n",
    "        \"\"\"for i in indexes_array[k]:\n",
    "            #print(i)\n",
    "            if d[k][l][i] <= factor : \n",
    "                R[k][i] = l\"\"\"\n",
    "                \n",
    "    R_l_r[k_Query_taked_r][l][index_no_match_r] = -2\n",
    "    R_l_g[k_Query_taked_g][l][index_no_match_g] = -2\n",
    "\n",
    "    \n",
    "    l += 1 \n",
    "    \n",
    "print(\"l = \",l)\n",
    "\n",
    "\n",
    "\n",
    "end_time = time.time()\n",
    "\n",
    "# Compute the elapsed time\n",
    "elapsed_time = end_time - start_time\n",
    "\n",
    "print(\"Elapsed time:\", elapsed_time, \"seconds\")"
   ]
  },
  {
   "cell_type": "markdown",
   "id": "e9f9647f",
   "metadata": {},
   "source": [
    "#"
   ]
  },
  {
   "cell_type": "code",
   "execution_count": null,
   "id": "43c3b789",
   "metadata": {},
   "outputs": [],
   "source": [
    "all_matches_r = number_matches_for_all_k(R_l_r)\n",
    "all_matches_g = number_matches_for_all_k(R_l_g)\n"
   ]
  },
  {
   "cell_type": "code",
   "execution_count": null,
   "id": "afb5ed83",
   "metadata": {},
   "outputs": [],
   "source": [
    "k = 1\n",
    "l = 8\n",
    "unique_ids[k]"
   ]
  },
  {
   "cell_type": "code",
   "execution_count": null,
   "id": "c1a36981",
   "metadata": {},
   "outputs": [],
   "source": [
    "color = ['green','red']\n",
    "color_Q = ['C0','C1']\n",
    "\n",
    "def plot_distance_flux_r_g(k,l,j=0,d=d_g,R_l=R_l_g,matches=all_matches_g[k]): # default case : g (j=0 ==> green)\n",
    "    \n",
    "    # # Plotting\n",
    "    plt.figure(figsize=(15, 10))\n",
    "\n",
    "    # Plot for F[k]\n",
    "    plt.subplot(2, 1, 1)\n",
    "\n",
    "    for i in range(int(len(F[objects[k]])/2)):\n",
    "        if source[objects[k]][2*i+j] == 0:\n",
    "            marker = 'x'\n",
    "            plt.errorbar(i, F[objects[k]][2*i+j], \n",
    "                     #sig[objects[k]][2*i+j]*0.4,\n",
    "                     c=color[j], marker=marker)\n",
    "        else:\n",
    "            marker = 'o'\n",
    "            plt.errorbar(i, F[objects[k]][2*i+j], \n",
    "                         sig[objects[k]][2*i+j],\n",
    "                         c=color[j], marker=marker)\n",
    "\n",
    "\n",
    "    plt.plot([], [], color=color[j], marker='o', label='origin')\n",
    "    plt.plot([], [], color=color[j], marker='x', label='missing points !')\n",
    "\n",
    "\n",
    "    plt.plot(range(int(len(F[objects[k]])/2)), F[objects[k]][j::2], c=color[j], linewidth = 1)\n",
    "\n",
    "\n",
    "    plt.plot(range(int(len(Q[l])/2)), Q[l][j::2], c=color_Q[j], label='Q[l]',marker='.')\n",
    "\n",
    "    # Define the window of indices\n",
    "    window_start = -0  # Index of the window start\n",
    "    window_end = int(len(Q[l])/2 - 1)  # Index of the window end\n",
    "\n",
    "    # Create an array of float indices\n",
    "    indices = np.arange(window_start, window_end + 1)\n",
    "    indices = np.concatenate(([indices[0] - 0.5], indices, [indices[-1] + 0.5]))\n",
    "\n",
    "    # Plot a shaded region for the window\n",
    "    plt.fill_between(indices, min(Q[l][j::2])/1.2, max(Q[l][j::2])*1.2, color='gray', alpha=0.2)\n",
    "\n",
    "    plt.ylabel('Flux')\n",
    "    plt.legend()\n",
    "\n",
    "    # Plot for d[k][0]\n",
    "\n",
    "    plt.subplot(2, 1, 2)\n",
    "    plt.plot(range(len(d[k][l])), d[k][l],color='C0', linestyle='-',linewidth=1)\n",
    "\n",
    "        # Plot dummy points with desired colors and markers\n",
    "    plt.plot([], [], color='black', marker='o', label='Query chosed')\n",
    "    plt.plot([], [], color='red', marker='x', label='missing cases !')\n",
    "    plt.plot([], [], color='blue', marker='s', label='Matched here')\n",
    "    plt.plot([], [], color='green', marker='*', label='Matches with a different `l` (Query)')\n",
    "    plt.plot([], [], color='yellow', marker='^', label=f'Not matched with any of the {L_max} options we selected')\n",
    "\n",
    "    for i, val in enumerate(R_l[k][l]):\n",
    "            if val == -99:\n",
    "                plt.scatter(i, d[k][l][i], color='red', marker='x', s=50)  # marker size 50\n",
    "                plt.text(i+0.2, d[k][l][i]+d[k][l][i]*5/100, str(matches[i]), fontsize=10, color='red', ha='left')\n",
    "\n",
    "            elif val == l:\n",
    "                plt.scatter(i, d[k][l][i], color='blue', marker='s', s=50)\n",
    "                plt.text(i+0.2, d[k][l][i]+d[k][l][i]*5/100, str(matches[i]), fontsize=10, color='blue', ha='left')\n",
    "\n",
    "            elif val == -2:\n",
    "                plt.scatter(i, d[k][l][i], color='black', marker='o', s=50) \n",
    "                plt.text(i+0.2, d[k][l][i]+d[k][l][i]*5/100, str(matches[i]), fontsize=10, color='black', ha='left')\n",
    "            elif matches[i]==0:\n",
    "                plt.scatter(i, d[k][l][i], color='yellow', marker='^', s=50) \n",
    "                plt.text(i+0.2, d[k][l][i]+d[k][l][i]*5/100, str(matches[i]), fontsize=10, color='yellow', ha='left')\n",
    "\n",
    "            else:\n",
    "                plt.scatter(i, d[k][l][i], color='green', marker='*', s=75)\n",
    "                plt.text(i+0.2, d[k][l][i]+d[k][l][i]*5/100, str(matches[i]), fontsize=10, color='green', ha='left')\n",
    "\n",
    "\n",
    "\n",
    "\n",
    "    plt.legend(fontsize=8) \n",
    "\n",
    "    plt.ylabel('distance')\n",
    "\n",
    "\n",
    "    # # Plot for alphat[k][0]\n",
    "    # plt.subplot(4, 1, 4)\n",
    "    # plt.plot(range(len(alp[k][l][::2])), alp[k][l][::2], marker='.', linestyle='-',color='black')\n",
    "    # plt.xlabel('Index')\n",
    "    # plt.ylabel('alpha')\n",
    "    # # plt.title('alpha Plot')\n",
    "\n",
    "\n",
    "    plt.subplots_adjust(top=0.93)  # Adjust the top margin for the super title\n",
    "    plt.suptitle(f\"{objects[k]}, k ={k}, l ={l}\", fontname='Arial', fontsize=16, fontweight='bold')\n",
    "\n",
    "    plt.show()\n",
    "\n"
   ]
  },
  {
   "cell_type": "code",
   "execution_count": null,
   "id": "c4c86b0e",
   "metadata": {
    "scrolled": false
   },
   "outputs": [],
   "source": [
    "l_values = [0,1,2,3]#range(L_max)  \n",
    "k= 0\n",
    "for l in l_values:\n",
    "#     plot_distance_flux_r_g(k,l,1,d_r,R_l_r,all_matches_r[k])\n",
    "    plot_distance_flux_r_g(k,l,0,d_g,R_l_g,all_matches_g[k])\n",
    "    "
   ]
  },
  {
   "cell_type": "code",
   "execution_count": null,
   "id": "a35045de",
   "metadata": {},
   "outputs": [],
   "source": []
  },
  {
   "cell_type": "code",
   "execution_count": null,
   "id": "fc2ff03e",
   "metadata": {},
   "outputs": [],
   "source": []
  },
  {
   "cell_type": "markdown",
   "id": "a2d1aadf",
   "metadata": {},
   "source": [
    "#"
   ]
  },
  {
   "cell_type": "markdown",
   "id": "395df9c7",
   "metadata": {},
   "source": [
    "#"
   ]
  },
  {
   "cell_type": "markdown",
   "id": "1ffb1744",
   "metadata": {},
   "source": [
    "#"
   ]
  },
  {
   "cell_type": "markdown",
   "id": "2c1eaa46",
   "metadata": {},
   "source": [
    "#"
   ]
  },
  {
   "cell_type": "markdown",
   "id": "88c7109d",
   "metadata": {},
   "source": [
    "#"
   ]
  },
  {
   "cell_type": "markdown",
   "id": "6ec4a45a",
   "metadata": {},
   "source": [
    "#"
   ]
  },
  {
   "cell_type": "markdown",
   "id": "c76658af",
   "metadata": {},
   "source": [
    "#"
   ]
  },
  {
   "cell_type": "markdown",
   "id": "fec77da7",
   "metadata": {},
   "source": [
    "#"
   ]
  },
  {
   "cell_type": "markdown",
   "id": "0a04abf7",
   "metadata": {},
   "source": [
    "#"
   ]
  },
  {
   "cell_type": "markdown",
   "id": "b74d1ca4",
   "metadata": {},
   "source": [
    "# TEST"
   ]
  },
  {
   "cell_type": "code",
   "execution_count": null,
   "id": "f398b1ba",
   "metadata": {},
   "outputs": [],
   "source": [
    "import numpy as np\n",
    "\n",
    "# Given data\n",
    "f = np.array([0, 1, 2, 3, 4, 5, 6, 7, 8])\n",
    "index_no_match = 4\n",
    "chunk_size = 4\n",
    "\n",
    "# Initialize Q[l]\n",
    "Q = np.array([])\n",
    "\n",
    "# First part\n",
    "Q = f[index_no_match : index_no_match + chunk_size : 2]\n",
    "index_no_match = 2\n",
    "f = np.array([10, 11, 12, 13, 14, 15, 16, 17, 18,19])\n",
    "\n",
    "# Second part\n",
    "for i in range(1, chunk_size, 2):\n",
    "    print(i)\n",
    "    Q = np.insert(Q, i, f[index_no_match*2 + i : index_no_match*2 + i + 1])\n",
    "\n",
    "# Print Q[l]\n",
    "print(Q)\n",
    "# 15 17 =2\n",
    "# 13 15 =1"
   ]
  },
  {
   "cell_type": "code",
   "execution_count": null,
   "id": "5018a596",
   "metadata": {},
   "outputs": [],
   "source": [
    "list1 = [0,0,1,1,2,2,3,3,4,4,5,5,6,6,7,7,8,8,9,9]\n",
    "list2 = [[0,0,1,1],[1,1,2,2],[2,2,3,3],[3,3,4,4],[4,4,5,5]]"
   ]
  },
  {
   "cell_type": "code",
   "execution_count": null,
   "id": "2d8dbb5a",
   "metadata": {},
   "outputs": [],
   "source": [
    "m=1\n",
    "idx =3\n",
    "chunk_size = 2 * (m + 1)\n",
    "list1[idx*2:idx*2+chunk_size:2]"
   ]
  },
  {
   "cell_type": "code",
   "execution_count": null,
   "id": "2f66bf43",
   "metadata": {},
   "outputs": [],
   "source": [
    "m=1\n",
    "idx =3\n",
    "chunk_size = 2 * (m + 1)\n",
    "list1[idx*2:idx*2+chunk_size]"
   ]
  },
  {
   "cell_type": "code",
   "execution_count": null,
   "id": "8eafa347",
   "metadata": {
    "scrolled": true
   },
   "outputs": [],
   "source": [
    "R = np.empty(len(objects), dtype=object)\n",
    "\n",
    "m=1\n",
    "chunk_size =2 * (m + 1)\n",
    "\n",
    "for k in range(len(objects)):\n",
    "\n",
    "    n = len(source[k])\n",
    "    #num_chunks = n // chunk_size\n",
    "\n",
    "    #chunks = [source[k][i*chunk_size : (i+1)*chunk_size] for i in range(num_chunks)]\n",
    "    num_chunks = int(n // 2)-m \n",
    "\n",
    "    print(n,num_chunks)\n",
    "\n",
    "\n",
    "    chunks = np.array([source[k][i*2 : (i*2+chunk_size)] for i in range(num_chunks)])\n",
    "#     if m>0: \n",
    "#         for j in range(1, m+1):\n",
    "#             chunks.extend([source[k][i*chunk_size +j*2 : (i+1)*chunk_size+j*2] for i in range(num_chunks-1)])\n",
    "#     if m > 0:\n",
    "#         for j in range(1, m + 1):\n",
    "#             for i in range(num_chunks - 1):\n",
    "#                 chunks.append(source[k][i * chunk_size + j * 2: (i + 1) * chunk_size + j * 2])\n",
    "\n",
    "    #result = np.concatenate(np.array([no_match_test(chunk) for chunk in chunks]))  # Apply no_match_test directly\n",
    "    result = np.array(list(map(no_match_test, chunks)))\n",
    "    R[k] = result\n",
    "\n",
    "    ### le"
   ]
  },
  {
   "cell_type": "code",
   "execution_count": null,
   "id": "4c675867",
   "metadata": {},
   "outputs": [],
   "source": [
    "m=0\n",
    "for j in range(1, max(1, m+1)):\n",
    "    print(j*2)\n",
    "\n",
    "if m>0: \n",
    "    for j in range(1, m+1):\n",
    "        print(j*2)"
   ]
  },
  {
   "cell_type": "code",
   "execution_count": null,
   "id": "e1a056e5",
   "metadata": {},
   "outputs": [],
   "source": [
    "import timeit\n",
    "\n",
    "m = 100\n",
    "\n",
    "code_snippet_1 = \"\"\"\n",
    "s_1 = np.zeros(n, dtype=float)\n",
    "s_2 = np.zeros(n, dtype=float)\n",
    "s_3 = np.zeros(n, dtype=float)\n",
    "s_4 = np.zeros(n, dtype=float)\n",
    "s_5 = np.zeros(n, dtype=float)\n",
    "s_6 = np.zeros(n, dtype=float)\n",
    "\"\"\"\n",
    "\n",
    "code_snippet_2 = \"\"\"\n",
    "zeros = np.zeros(n, dtype=float)\n",
    "\n",
    "s_1 = zeros.copy()\n",
    "s_2 = zeros.copy()\n",
    "s_3 = zeros.copy()\n",
    "s_4 = zeros.copy()\n",
    "s_5 = zeros.copy()\n",
    "s_6 = zeros.copy()\n",
    "\n",
    "\"\"\"\n",
    "\n",
    "time_taken_1 = timeit.timeit(stmt=code_snippet_1, number=10000000, globals=globals())\n",
    "time_taken_2 = timeit.timeit(stmt=code_snippet_2, number=10000000, globals=globals())\n",
    "\n",
    "print(\"Time snippet 1:\", time_taken_1)\n",
    "print(\"Time snippet 2:\", time_taken_2)\n",
    "\n"
   ]
  },
  {
   "cell_type": "code",
   "execution_count": null,
   "id": "ff2949bc",
   "metadata": {},
   "outputs": [],
   "source": [
    "import timeit\n",
    "# First code snippet\n",
    "def first_code(): ##### this is better ! \n",
    "    I_i_j = concatenated_array[:]\n",
    "    for j, sj in enumerate(sum_j):\n",
    "        for i, si in enumerate(sum_i):\n",
    "            dn = (si * sj)\n",
    "            if dn == 0:\n",
    "                I_i_j[j][i] *= np.inf\n",
    "            else:\n",
    "                I_i_j[j][i] *= total_matched/ dn\n",
    "# Second code snippet\n",
    "def second_code():\n",
    "    I_i_j = concatenated_array[:] * total_matched\n",
    "    for j, sj in enumerate(sum_j):\n",
    "        for i, si in enumerate(sum_i):\n",
    "            dn = (si * sj)\n",
    "            if dn == 0:\n",
    "                I_i_j[j][i] *= np.inf\n",
    "            else:\n",
    "                I_i_j[j][i] /= dn\n",
    "\n",
    "# Test and compare the performance\n",
    "num_iterations = 1\n",
    "\n",
    "time_first = timeit.timeit(first_code, number=num_iterations)\n",
    "time_second = timeit.timeit(second_code, number=num_iterations)\n",
    "\n",
    "print(\"Time taken by first code snippet:\", time_first)\n",
    "print(\"Time taken by second code snippet:\", time_second)\n"
   ]
  },
  {
   "cell_type": "markdown",
   "id": "976d2a8e",
   "metadata": {},
   "source": [
    "#"
   ]
  },
  {
   "cell_type": "markdown",
   "id": "33360431",
   "metadata": {},
   "source": [
    "#"
   ]
  },
  {
   "cell_type": "markdown",
   "id": "e72635c7",
   "metadata": {},
   "source": [
    "#"
   ]
  },
  {
   "cell_type": "markdown",
   "id": "1e2107d7",
   "metadata": {},
   "source": [
    "# distance dict to dataframe "
   ]
  },
  {
   "cell_type": "code",
   "execution_count": null,
   "id": "8974dcef",
   "metadata": {
    "scrolled": true
   },
   "outputs": [],
   "source": [
    "d"
   ]
  },
  {
   "cell_type": "markdown",
   "id": "8b33fb05",
   "metadata": {},
   "source": [
    "#"
   ]
  },
  {
   "cell_type": "markdown",
   "id": "dd5bc118",
   "metadata": {},
   "source": [
    "#"
   ]
  },
  {
   "cell_type": "markdown",
   "id": "b650230b",
   "metadata": {},
   "source": [
    "# Trash"
   ]
  },
  {
   "cell_type": "code",
   "execution_count": null,
   "id": "ef7f2e35",
   "metadata": {},
   "outputs": [],
   "source": [
    "def plot_distance_flux_g(k,l):\n",
    "    \n",
    "    # # Plotting\n",
    "    plt.figure(figsize=(15, 10))\n",
    "\n",
    "    # Plot for F[k]\n",
    "    plt.subplot(2, 1, 1)\n",
    "\n",
    "    # plt.plot(range(int(len(F[k])/2)), F[k][::2], c='g', label='F[k] Even')\n",
    "    #plt.plot(range(int(len(F[k])/2)), F[k][1::2], c='r', label='F[k] Odd')\n",
    "\n",
    "    for i in range(int(len(F[objects[k]])/2)):\n",
    "        if source[objects[k]][2*i] == 0:\n",
    "            marker = 'x'\n",
    "            plt.errorbar(i, F[objects[k]][2*i], \n",
    "                     #sig[objects[k]][2*i]*0.4,\n",
    "                     c='g', marker=marker)\n",
    "        else:\n",
    "            marker = 'o'\n",
    "            plt.errorbar(i, F[objects[k]][2*i], \n",
    "                         sig[objects[k]][2*i],\n",
    "                         c='g', marker=marker)\n",
    "\n",
    "    #     if source[k][2*i+1] == 0:\n",
    "    #         marker = 'x'\n",
    "    #     else:\n",
    "    #         marker = 'o'\n",
    "    #     plt.errorbar(i, F[k][2*i+1],\n",
    "    #                  sig[k][2*i+1]*0.4,\n",
    "    #                  c='r', marker=marker)\n",
    "    # plt.plot([], [], color='red', marker='x', label='missing points !')\n",
    "    plt.plot([], [], color='green', marker='o', label='origin')\n",
    "    plt.plot([], [], color='green', marker='x', label='missing points !')\n",
    "    # plt.plot([], [], color='red', marker='o', label='origin')\n",
    "\n",
    "\n",
    "    plt.plot(range(int(len(F[objects[k]])/2)), F[objects[k]][::2], c='g', linewidth = 1)\n",
    "    # plt.plot(range(int(len(F[k])/2)), F[k][1::2], c='r', linewidth = 1)\n",
    "\n",
    "\n",
    "    plt.plot(range(int(len(Q[l])/2)), Q[l][::2], c='C0', label='Q[l]',marker='.')\n",
    "    #plt.plot(range(int(len(Q[0])/2)), Q[l][1::2], c='C1', label='Q[l]',marker='.')\n",
    "\n",
    "    # Define the window of indices\n",
    "    window_start = -0  # Index of the window start\n",
    "    window_end = int(len(Q[l])/2 - 1)  # Index of the window end\n",
    "\n",
    "    # Create an array of float indices\n",
    "    indices = np.arange(window_start, window_end + 1)\n",
    "    indices = np.concatenate(([indices[0] - 0.5], indices, [indices[-1] + 0.5]))\n",
    "\n",
    "    # Plot a shaded region for the window\n",
    "    plt.fill_between(indices, min(Q[l][::2])/1.2, max(Q[l][::2])*1.2, color='gray', alpha=0.2)\n",
    "\n",
    "    # plt.xlabel('Index')\n",
    "    plt.ylabel('Flux')\n",
    "    # plt.title('Flux Plot')\n",
    "    plt.legend()\n",
    "\n",
    "    # Plot for d[k][0]\n",
    "\n",
    "    plt.subplot(2, 1, 2)\n",
    "    plt.plot(range(len(d_g[k][l])), d_g[k][l],color='C0', linestyle='-',linewidth=1)\n",
    "    matches = all_matches_g[k]\n",
    "    for i, match_count in enumerate(matches):\n",
    "        plt.text(i+0.2, d_g[k][l][i]+d_g[k][l][i]*5/100, str(match_count), fontsize=10, color='red', ha='left')\n",
    "\n",
    "\n",
    "        # Plot dummy points with desired colors and markers\n",
    "    plt.plot([], [], color='black', marker='o', label='Query chosed')\n",
    "    plt.plot([], [], color='red', marker='x', label='missing cases !')\n",
    "    plt.plot([], [], color='blue', marker='s', label='Matched here')\n",
    "    plt.plot([], [], color='green', marker='*', label='Matches with a different `l` (Query)')\n",
    "    plt.plot([], [], color='yellow', marker='^', label=f'Not matched with any of the {L_max} options we selected')\n",
    "\n",
    "    for i, val in enumerate(R_l_g[k][l]):\n",
    "            if val == -99:\n",
    "                plt.scatter(i, d_g[k][l][i], color='red', marker='x', s=50)  # marker size 50\n",
    "            elif val == l:\n",
    "                plt.scatter(i, d_g[k][l][i], color='blue', marker='s', s=50)\n",
    "            elif val == -2:\n",
    "                plt.scatter(i, d_g[k][l][i], color='black', marker='o', s=50)  \n",
    "\n",
    "            elif matches[i]==0:\n",
    "                plt.scatter(i, d_g[k][l][i], color='yellow', marker='^', s=50)  \n",
    "            else:\n",
    "                plt.scatter(i, d_g[k][l][i], color='green', marker='*', s=75)\n",
    "\n",
    "\n",
    "\n",
    "\n",
    "    plt.legend(fontsize=8) \n",
    "\n",
    "    plt.ylabel('distance')\n",
    "\n",
    "\n",
    "    # # Plot for alphat[k][0]\n",
    "    # plt.subplot(4, 1, 4)\n",
    "    # plt.plot(range(len(alp[k][l][::2])), alp[k][l][::2], marker='.', linestyle='-',color='black')\n",
    "    # plt.xlabel('Index')\n",
    "    # plt.ylabel('alpha')\n",
    "    # # plt.title('alpha Plot')\n",
    "\n",
    "\n",
    "    plt.subplots_adjust(top=0.93)  # Adjust the top margin for the super title\n",
    "    plt.suptitle(f\"{objects[k]}\", fontname='Arial', fontsize=16, fontweight='bold')\n",
    "\n",
    "    plt.show()\n",
    "\n"
   ]
  },
  {
   "cell_type": "code",
   "execution_count": null,
   "id": "16972d1b",
   "metadata": {
    "scrolled": false
   },
   "outputs": [],
   "source": [
    "def plot_distance_flux_r(k,l):\n",
    "    \n",
    "    # # Plotting\n",
    "    plt.figure(figsize=(15, 10))\n",
    "\n",
    "    # Plot for F[k]\n",
    "    plt.subplot(2, 1, 1)\n",
    "\n",
    "    # plt.plot(range(int(len(F[k])/2)), F[k][::2], c='g', label='F[k] Even')\n",
    "    #plt.plot(range(int(len(F[k])/2)), F[k][1::2], c='r', label='F[k] Odd')\n",
    "\n",
    "    for i in range(int(len(F[objects[k]])/2)):\n",
    "#         if source[objects[k]][2*i] == 0:\n",
    "#             marker = 'x'\n",
    "#             plt.errorbar(i, F[objects[k]][2*i], \n",
    "#                      #sig[objects[k]][2*i]*0.4,\n",
    "#                      c='g', marker=marker)\n",
    "#         else:\n",
    "#             marker = 'o'\n",
    "#             plt.errorbar(i, F[objects[k]][2*i], \n",
    "#                          sig[objects[k]][2*i]*0.4,\n",
    "#                          c='g', marker=marker)\n",
    "\n",
    "        if source[objects[k]][2*i+1] == 0:\n",
    "            marker = 'x'\n",
    "            plt.errorbar(i, F[objects[k]][2*i+1],\n",
    "                     #sig[objects[k]][2*i+1]*0.4,\n",
    "                     c='r', marker=marker)\n",
    "        else:\n",
    "            marker = 'o'\n",
    "            plt.errorbar(i, F[objects[k]][2*i+1],\n",
    "                     sig[objects[k]][2*i+1],\n",
    "                     c='r', marker=marker)\n",
    "            \n",
    "    plt.plot([], [], color='red', marker='x', label='missing points !')\n",
    "#     plt.plot([], [], color='green', marker='o', label='origin')\n",
    "#     plt.plot([], [], color='green', marker='x', label='missing points !')\n",
    "    plt.plot([], [], color='red', marker='o', label='origin')\n",
    "\n",
    "\n",
    "#     plt.plot(range(int(len(F[objects[k]])/2)), F[objects[k]][::2], c='g', linewidth = 1)\n",
    "    plt.plot(range(int(len(F[objects[k]])/2)), F[objects[k]][1::2], c='r', linewidth = 1)\n",
    "\n",
    "\n",
    "#     plt.plot(range(int(len(Q[l])/2)), Q[l][::2], c='C0', label='Q[l]',marker='.')\n",
    "    plt.plot(range(int(len(Q[l])/2)), Q[l][1::2], c='C1', label='Q[l]',marker='.')\n",
    "\n",
    "    # Define the window of indices\n",
    "    window_start = -0  # Index of the window start\n",
    "    window_end = int(len(Q[l])/2 - 1)  # Index of the window end\n",
    "\n",
    "    # Create an array of float indices\n",
    "    indices = np.arange(window_start, window_end + 1)\n",
    "    indices = np.concatenate(([indices[0] - 0.5], indices, [indices[-1] + 0.5]))\n",
    "\n",
    "    # Plot a shaded region for the window\n",
    "    plt.fill_between(indices, min(Q[l][1::2])/1.2, max(Q[l][1::2])*1.2, color='gray', alpha=0.2)\n",
    "\n",
    "    # plt.xlabel('Index')\n",
    "    plt.ylabel('Flux')\n",
    "    # plt.title('Flux Plot')\n",
    "    plt.legend()\n",
    "\n",
    "    # Plot for d[k][0]\n",
    "\n",
    "    plt.subplot(2, 1, 2)\n",
    "    plt.plot(range(len(d_r[k][l])), d_r[k][l],color='C0', linestyle='-',linewidth=1)\n",
    "    matches = all_matches_r[k]\n",
    "#     for i, match_count in enumerate(matches):\n",
    "#         print(match_count)\n",
    "        #plt.text(i+0.2, d_r[k][l][i]+d_r[k][l][i]*5/100, str(match_count), fontsize=10, color='red', ha='left')\n",
    "\n",
    "\n",
    "        # Plot dummy points with desired colors and markers\n",
    "    plt.plot([], [], color='black', marker='o', label='Query chosed')\n",
    "    plt.plot([], [], color='red', marker='x', label='missing cases !')\n",
    "    plt.plot([], [], color='blue', marker='s', label='Matched here')\n",
    "    plt.plot([], [], color='green', marker='*', label='Matches with a different `l` (Query)')\n",
    "    plt.plot([], [], color='yellow', marker='^', label=f'Not matched with any of the {L_max} options we selected')\n",
    "\n",
    "    for i, val in enumerate(R_l_r[k][l]):\n",
    "            if val == -99:\n",
    "                plt.scatter(i, d_r[k][l][i], color='red', marker='x', s=50)  # marker size 50\n",
    "                plt.text(i+0.2, d_r[k][l][i]+d_r[k][l][i]*5/100, str(matches[i]), fontsize=10, color='red', ha='left')\n",
    "\n",
    "            elif val == l:\n",
    "                plt.scatter(i, d_r[k][l][i], color='blue', marker='s', s=50)\n",
    "                plt.text(i+0.2, d_r[k][l][i]+d_r[k][l][i]*5/100, str(matches[i]), fontsize=10, color='blue', ha='left')\n",
    "\n",
    "            elif val == -2:\n",
    "                plt.scatter(i, d_r[k][l][i], color='black', marker='o', s=50) \n",
    "                plt.text(i+0.2, d_r[k][l][i]+d_r[k][l][i]*5/100, str(matches[i]), fontsize=10, color='black', ha='left')\n",
    "            elif matches[i]==0:\n",
    "                plt.scatter(i, d_r[k][l][i], color='yellow', marker='^', s=50) \n",
    "                plt.text(i+0.2, d_r[k][l][i]+d_r[k][l][i]*5/100, str(matches[i]), fontsize=10, color='yellow', ha='left')\n",
    "\n",
    "            else:\n",
    "                plt.scatter(i, d_r[k][l][i], color='green', marker='*', s=75)\n",
    "                \n",
    "                plt.text(i+0.2, d_r[k][l][i]+d_r[k][l][i]*5/100, str(matches[i]), fontsize=10, color='green', ha='left')\n",
    "\n",
    "\n",
    "\n",
    "\n",
    "\n",
    "    plt.legend(fontsize=8) \n",
    "\n",
    "    plt.ylabel('distance')\n",
    "\n",
    "\n",
    "    # # Plot for alphat[k][0]\n",
    "    # plt.subplot(4, 1, 4)\n",
    "    # plt.plot(range(len(alp[k][l][::2])), alp[k][l][::2], marker='.', linestyle='-',color='black')\n",
    "    # plt.xlabel('Index')\n",
    "    # plt.ylabel('alpha')\n",
    "    # # plt.title('alpha Plot')\n",
    "\n",
    "\n",
    "    plt.subplots_adjust(top=0.93)  # Adjust the top margin for the super title\n",
    "    plt.suptitle(f\"{objects[k]}, k= {k}, l = {l}\", fontname='Arial', fontsize=16, fontweight='bold')\n",
    "\n",
    "    plt.show()\n",
    "\n"
   ]
  }
 ],
 "metadata": {
  "kernelspec": {
   "display_name": "Python 3 (ipykernel)",
   "language": "python",
   "name": "python3"
  },
  "language_info": {
   "codemirror_mode": {
    "name": "ipython",
    "version": 3
   },
   "file_extension": ".py",
   "mimetype": "text/x-python",
   "name": "python",
   "nbconvert_exporter": "python",
   "pygments_lexer": "ipython3",
   "version": "3.11.5"
  }
 },
 "nbformat": 4,
 "nbformat_minor": 5
}
