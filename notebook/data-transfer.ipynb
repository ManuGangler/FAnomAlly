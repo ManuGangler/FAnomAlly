{
 "cells": [
  {
   "cell_type": "code",
   "execution_count": null,
   "id": "121ca0d1",
   "metadata": {},
   "outputs": [],
   "source": [
    "import io\n",
    "import requests\n",
    "\n",
    "from PIL import Image as im\n",
    "\n",
    "import pandas as pd\n",
    "import numpy as np\n",
    "\n",
    "import matplotlib.pyplot as plt\n",
    "import seaborn as sns\n",
    "sns.set_context('talk')"
   ]
  },
  {
   "cell_type": "code",
   "execution_count": null,
   "id": "c6810444",
   "metadata": {},
   "outputs": [],
   "source": [
    "import pandas as pd\n",
    "\n",
    "pdf = pd.read_parquet('../../ftransfer_ztf_2024-02-01_689626')\n"
   ]
  },
  {
   "cell_type": "code",
   "execution_count": null,
   "id": "c1f1c861",
   "metadata": {},
   "outputs": [],
   "source": [
    "pdf"
   ]
  },
  {
   "cell_type": "code",
   "execution_count": null,
   "id": "f65a7c6d",
   "metadata": {},
   "outputs": [],
   "source": [
    "Id = pdf['objectId'][1]\n",
    "\n",
    "id_plus_repete = pdf['objectId'].value_counts().idxmax()\n",
    "\n",
    "# We select data based on their shared ID, (here opting for the most frequently occurring alert).\n",
    "pdf_selectionne = pdf.loc[pdf['objectId'] == id_plus_repete]\n",
    "\n"
   ]
  },
  {
   "cell_type": "code",
   "execution_count": null,
   "id": "025ed850",
   "metadata": {},
   "outputs": [],
   "source": [
    "# Selecting the final alert ( if the data is ordered).\n",
    "pdf_selectionne = pdf_selectionne.iloc[-1]"
   ]
  },
  {
   "cell_type": "code",
   "execution_count": null,
   "id": "0769a4d9",
   "metadata": {},
   "outputs": [],
   "source": [
    "pdf_selectionne['objectId']"
   ]
  },
  {
   "cell_type": "code",
   "execution_count": null,
   "id": "dd821f99",
   "metadata": {
    "scrolled": true
   },
   "outputs": [],
   "source": [
    "pdf_selectionne_cand = pdf_selectionne['prv_candidates'] "
   ]
  },
  {
   "cell_type": "code",
   "execution_count": null,
   "id": "cd041afd",
   "metadata": {},
   "outputs": [],
   "source": [
    "#  'candidate' the actual value \n",
    "keys = pdf_selectionne_cand[0].keys()\n",
    "actual_cand = {key: pdf_selectionne['candidate'][key] for key in keys if key in pdf_selectionne['candidate']}\n"
   ]
  },
  {
   "cell_type": "code",
   "execution_count": null,
   "id": "b2516f71",
   "metadata": {},
   "outputs": [],
   "source": [
    "liste_dicts = list(pdf_selectionne_cand)\n",
    "liste_dicts.append(actual_cand)\n",
    "df = pd.DataFrame(liste_dicts)"
   ]
  },
  {
   "cell_type": "code",
   "execution_count": null,
   "id": "977d234b",
   "metadata": {},
   "outputs": [],
   "source": [
    "df"
   ]
  },
  {
   "cell_type": "code",
   "execution_count": null,
   "id": "30ab3c87",
   "metadata": {},
   "outputs": [],
   "source": [
    "\n",
    "mjd = df['jd'].apply(lambda x: x - 2400000.5)\n",
    "\n",
    "fig = plt.figure(figsize=(25, 15))\n",
    "\n",
    "colordic = {1: 'C0', 2: 'C1'}\n",
    "filtdic = {1: 'g', 2: 'r'}\n",
    "\n",
    "# valid values \n",
    "maskValid = (df['rb'] > 0.55) & (df['nbad'] == 0)\n",
    "# Upper limit values\n",
    "maskUpper = pd.isna(df['magpsf'])\n",
    "#bad quality values \n",
    "maskBadquality = ~maskValid & ~maskUpper\n",
    "\n",
    "\n",
    "for filt in np.unique(df['fid']):\n",
    "    maskFilt = df['fid'] == filt\n",
    "\n",
    "    plt.errorbar(\n",
    "        df[maskValid & maskFilt]['jd'].apply(lambda x: x - 2400000.5),\n",
    "        df[maskValid & maskFilt]['magpsf'],\n",
    "        df[maskValid & maskFilt]['sigmapsf'],\n",
    "        ls = '', marker='o', color=colordic[filt], label='{} band'.format(filtdic[filt])\n",
    "    )\n",
    "\n",
    "    plt.plot(\n",
    "        df[maskUpper & maskFilt]['jd'].apply(lambda x: x - 2400000.5),\n",
    "        df[maskUpper & maskFilt]['diffmaglim'],\n",
    "        ls='', marker='v', color=colordic[filt], markerfacecolor='none'\n",
    "    )\n",
    "    \n",
    "\n",
    "    plt.errorbar(\n",
    "        df[maskBadquality & maskFilt]['jd'].apply(lambda x: x - 2400000.5),\n",
    "        df[maskBadquality & maskFilt]['magpsf'],\n",
    "        df[maskBadquality & maskFilt]['sigmapsf'],\n",
    "        ls='', marker='^', color=colordic[filt]\n",
    "    )\n",
    "\n",
    "plt.ylim(12, 22)\n",
    "plt.gca().invert_yaxis()\n",
    "plt.legend()\n",
    "plt.title('Difference image PSF-fit magnitude')\n",
    "plt.xlabel('Modified Julian Date [UTC]')\n",
    "plt.ylabel('Difference Magnitude');\n"
   ]
  },
  {
   "cell_type": "code",
   "execution_count": null,
   "id": "b29e8605",
   "metadata": {},
   "outputs": [],
   "source": [
    "\n",
    " \n",
    "\n",
    "fig = plt.figure(figsize=(15, 5))\n",
    "\n",
    "colordic = {1: 'C0', 2: 'C1'}\n",
    "filtdic = {1: 'g', 2: 'r'}\n",
    "    \n",
    "maskValid = (df['rb'] > 0.55) & (df['nbad'] == 0)\n",
    "\n",
    "    \n",
    "#t or 1 => candidate is from positive (sci minus ref) subtraction;\n",
    "#f or 0 => candidate is from negative (ref minus sci) subtraction\"\n",
    "maskneg = (df['isdiffpos'] == 't') | (df['isdiffpos'] == 1)\n",
    "maskpos = (df['isdiffpos'] == 'f') | (df['isdiffpos'] == 0)\n",
    "\n",
    "for filt in np.unique(df['fid']):\n",
    "    maskFilt = df['fid'] == filt\n",
    "\n",
    "    # candidates from negative \n",
    "\n",
    "    plt.errorbar(\n",
    "        df[maskValid & maskFilt & maskneg ]['jd'].apply(lambda x: x - 2400000.5),\n",
    "        df[maskValid & maskFilt & maskneg ]['magpsf'],\n",
    "        df[maskValid & maskFilt & maskneg ]['sigmapsf'],\n",
    "        ls = '', marker='o', color=colordic[filt], label='{} band'.format(filtdic[filt])\n",
    "    )\n",
    "    \n",
    "    # candidates from positive \n",
    "    plt.errorbar(\n",
    "        df[maskValid & maskFilt &  maskpos ]['jd'].apply(lambda x: x - 2400000.5),\n",
    "        df[maskValid & maskFilt &  maskpos ]['magpsf'],\n",
    "        df[maskValid & maskFilt &  maskpos ]['sigmapsf'],\n",
    "        ls = '', marker='^', color=colordic[filt], label='{} band'.format(filtdic[filt])\n",
    "    )\n",
    "    \n",
    "\n",
    "plt.ylim(12, 22)\n",
    "plt.gca().invert_yaxis()\n",
    "plt.legend()\n",
    "plt.title('Difference image PSF-fit magnitude')\n",
    "plt.xlabel('Modified Julian Date [UTC]')\n",
    "plt.ylabel('Difference Magnitude');\n",
    "\n"
   ]
  },
  {
   "cell_type": "code",
   "execution_count": null,
   "id": "ba23d5c6",
   "metadata": {},
   "outputs": [],
   "source": [
    "# from fink_science.conversion import dc_mag\n",
    "from fink_utils.photometry.conversion import dc_mag\n",
    "from fink_utils.photometry.utils import is_source_behind\n",
    "\n",
    "# Take only valid measurements\n",
    "maskValid = (df['rb'] > 0.55) & (df['nbad'] == 0)\n",
    "df_valid = df[maskValid].sort_values('jd', ascending=False)\n",
    "\n",
    "isSource = is_source_behind(\n",
    "    df_valid['distnr'].values[0]\n",
    ")\n",
    "\n",
    "if isSource:\n",
    "    print('It looks like there is a source behind. Lets compute the DC magnitude instead.')\n",
    "    \n",
    "    # Use DC magnitude instead of difference mag\n",
    "    mag_dc, err_dc = np.transpose(\n",
    "        [\n",
    "            dc_mag(*args) for args in zip(\n",
    "                df_valid['magpsf'].astype(float).values,\n",
    "                df_valid['sigmapsf'].astype(float).values,\n",
    "                df_valid['magnr'].astype(float).values,\n",
    "                df_valid['sigmagnr'].astype(float).values,\n",
    "                df_valid['isdiffpos'].values\n",
    "            )\n",
    "        ]\n",
    "    )\n",
    "    \n",
    "    df_valid['mag_dc'] = mag_dc\n",
    "    df_valid['err_dc'] = err_dc\n",
    "else:\n",
    "    print('No source found -- keeping PSF fit magnitude')\n",
    "    df_valid['mag_dc'] = df_valid['magpsf']\n",
    "    df_valid['err_dc'] = df_valid['sigmapsf']\n",
    "\n"
   ]
  },
  {
   "cell_type": "code",
   "execution_count": null,
   "id": "253f8d6d",
   "metadata": {},
   "outputs": [],
   "source": [
    "fig = plt.figure(figsize=(15, 5))\n",
    "\n",
    "colordic = {1: 'C0', 2: 'C1'}\n",
    "filtdic = {1: 'g', 2: 'r'}\n",
    "\n",
    "for filt in np.unique(df_valid['fid']):\n",
    "    maskFilt = df_valid['fid'] == filt\n",
    "\n",
    "    plt.errorbar(\n",
    "        df_valid[maskFilt]['jd'].apply(lambda x: x - 2400000.5),\n",
    "        df_valid[maskFilt]['magpsf'],\n",
    "        df_valid[maskFilt]['sigmapsf'],\n",
    "        ls = '', marker='x', \n",
    "        color=colordic[filt], \n",
    "        label='{} band (PSF-fit)'.format(filtdic[filt]),\n",
    "    )\n",
    "    \n",
    "    \n",
    "    plt.errorbar(\n",
    "        df_valid[maskFilt]['jd'].apply(lambda x: x - 2400000.5),\n",
    "        df_valid[maskFilt]['mag_dc'],\n",
    "        df_valid[maskFilt]['err_dc'],\n",
    "        ls = '', marker='o', \n",
    "        color=colordic[filt], \n",
    "        label='{} band (DC)'.format(filtdic[filt]),\n",
    "    )\n",
    "    #To show if there is a variance in the reference\n",
    "    plt.errorbar(\n",
    "        df_valid[maskFilt]['jd'].apply(lambda x: x - 2400000.5),\n",
    "        df_valid[maskFilt]['magnr'],\n",
    "        ls = '--', \n",
    "        color=colordic[filt], \n",
    "        label='{} ref (DC)'.format(filtdic[filt]),\n",
    "    )\n",
    "    \n",
    "\n",
    "ref_r = df_valid['magnr']*(df_valid['fid']==2)\n",
    "\n",
    "ref_r = (ref_r[ref_r != 0]).mean()\n",
    "\n",
    "ref_g = df_valid['magnr']*(df_valid['fid']==1)\n",
    "\n",
    "ref_g = (ref_g[ref_g != 0]).mean()\n",
    "\n",
    "\n",
    "print(ref_r, ref_g)\n",
    "#  Average Values (Used in Fink)\n",
    "#plt.axhline(y=ref_r, color=colordic[2], linestyle='--')\n",
    "#plt.axhline(y=ref_g, color=colordic[1], linestyle='--')\n",
    "plt.gca().invert_yaxis()\n",
    "plt.legend()\n",
    "plt.title('Comparison of PSF-fit and DC magnitudes')\n",
    "plt.xlabel('Modified Julian Date [UTC]')\n",
    "plt.ylabel('Magnitude');"
   ]
  },
  {
   "cell_type": "code",
   "execution_count": null,
   "id": "c24e6f76",
   "metadata": {},
   "outputs": [],
   "source": [
    "fig = plt.figure(figsize=(15, 7))\n",
    "\n",
    "from fink_utils.photometry.conversion import apparent_flux\n",
    "\n",
    "\n",
    "dc_flux, dc_sigflux = np.transpose(\n",
    "        [\n",
    "            apparent_flux(*args, jansky=True) for args in zip(\n",
    "                df_valid['magpsf'].astype(float).values,\n",
    "                df_valid['sigmapsf'].astype(float).values,\n",
    "                df_valid['magnr'].astype(float).values,\n",
    "                df_valid['sigmagnr'].astype(float).values,\n",
    "                df_valid['isdiffpos'].values\n",
    "            )\n",
    "        ]\n",
    ")\n",
    "\n",
    "df_valid['dc_flux'] = dc_flux\n",
    "df_valid['dc_sigflux'] = dc_sigflux\n",
    "\n",
    "\n",
    "for filt in np.unique(df['fid']):\n",
    "    mask = df_valid['fid'] == filt\n",
    "    sub = df_valid[mask]\n",
    "    plt.errorbar(\n",
    "        sub['jd'].apply(lambda x: x - 2400000.5),\n",
    "        sub['dc_flux']*1e3,#*1e7/3, \n",
    "        sub['dc_sigflux']*1e3,#*1e7/3, \n",
    "        ls='', \n",
    "        marker='o',\n",
    "        label=filt\n",
    "    )\n",
    "plt.legend()\n",
    "\n",
    "plt.xlabel('Modified Julian Date [UTC]')\n",
    "plt.ylabel('Apparent DC flux (millijanksy)');\n"
   ]
  },
  {
   "cell_type": "markdown",
   "id": "1ce90642",
   "metadata": {},
   "source": [
    "# Data by days "
   ]
  },
  {
   "cell_type": "code",
   "execution_count": null,
   "id": "2a164aaa",
   "metadata": {},
   "outputs": [],
   "source": [
    "df['mjd'] = df['jd'].apply(lambda x: x - 2400000.5)"
   ]
  },
  {
   "cell_type": "code",
   "execution_count": null,
   "id": "71135d36",
   "metadata": {},
   "outputs": [],
   "source": [
    "# Convert 'mjd' to integer to remove fractional part\n",
    "df['mjd'] = df['mjd'].astype(int)\n",
    "df2 = df.groupby('mjd')"
   ]
  },
  {
   "cell_type": "code",
   "execution_count": null,
   "id": "02448135",
   "metadata": {},
   "outputs": [],
   "source": [
    "df2.size()"
   ]
  },
  {
   "cell_type": "code",
   "execution_count": null,
   "id": "554703fb",
   "metadata": {},
   "outputs": [],
   "source": [
    "counts_per_day = df2.count()\n",
    "\"\"\"#sum_per_day = df2.sum()\n",
    "\n",
    "median_per_day = df2.median()\n",
    "min_per_day = df2.min()\n",
    "max_per_day = df2.max()\n",
    "std_per_day = df2.std()\n",
    "variance_per_day = df2.var()\n",
    "first_per_day = df2.first()\n",
    "last_per_day = df2.last()\"\"\"\n",
    "counts_per_day"
   ]
  },
  {
   "cell_type": "code",
   "execution_count": null,
   "id": "4085dc9d",
   "metadata": {},
   "outputs": [],
   "source": [
    "df2"
   ]
  },
  {
   "cell_type": "code",
   "execution_count": null,
   "id": "2e5b2dfc",
   "metadata": {},
   "outputs": [],
   "source": [
    "# Assuming df2 contains the DataFrame grouped by 'mjd'\n",
    "# Calculate the average of 'magpsf' for each day\n",
    "df_mod = df2['magpsf'].mean().reset_index()\n",
    "\n",
    "# Resetting index will convert the 'mjd' index to a column and reset the row index\n"
   ]
  },
  {
   "cell_type": "code",
   "execution_count": null,
   "id": "3a464d59",
   "metadata": {},
   "outputs": [],
   "source": [
    "df_mod"
   ]
  }
 ],
 "metadata": {
  "kernelspec": {
   "display_name": "Python 3 (ipykernel)",
   "language": "python",
   "name": "python3"
  },
  "language_info": {
   "codemirror_mode": {
    "name": "ipython",
    "version": 3
   },
   "file_extension": ".py",
   "mimetype": "text/x-python",
   "name": "python",
   "nbconvert_exporter": "python",
   "pygments_lexer": "ipython3",
   "version": "3.11.5"
  }
 },
 "nbformat": 4,
 "nbformat_minor": 5
}
