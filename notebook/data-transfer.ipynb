{
 "cells": [
  {
   "cell_type": "markdown",
   "id": "c83deedd-96ed-4b4d-98d5-a155dd674a7f",
   "metadata": {},
   "source": [
    "## User and environment definitions"
   ]
  },
  {
   "cell_type": "code",
   "execution_count": 1,
   "id": "8e9590be-8490-4ff3-9b92-45fa16daef99",
   "metadata": {},
   "outputs": [],
   "source": [
    "input_file='../../ftransfer_ztf_2024-02-01_689626'"
   ]
  },
  {
   "cell_type": "code",
   "execution_count": 2,
   "id": "22166c0f-26ba-479d-b41e-2e86af3d0c0c",
   "metadata": {},
   "outputs": [
    {
     "name": "stdout",
     "output_type": "stream",
     "text": [
      "\u001b[34m../../ftransfer_ztf_2024-02-01_689626\u001b[m\u001b[m/\n"
     ]
    }
   ],
   "source": [
    "%ls -d $input_file"
   ]
  },
  {
   "cell_type": "markdown",
   "id": "604bc63c-a0d8-4dee-82e8-cbf72bab6ef2",
   "metadata": {},
   "source": [
    "## Python imports"
   ]
  },
  {
   "cell_type": "code",
   "execution_count": 3,
   "id": "121ca0d1",
   "metadata": {},
   "outputs": [],
   "source": [
    "import pandas as pd\n",
    "import numpy as np\n",
    "import matplotlib.pyplot as plt\n"
   ]
  },
  {
   "cell_type": "markdown",
   "id": "003db791-8f9a-4688-b52e-e222d8fb2715",
   "metadata": {},
   "source": [
    "#"
   ]
  },
  {
   "cell_type": "markdown",
   "id": "302f8385",
   "metadata": {},
   "source": [
    "# 1) Upload data"
   ]
  },
  {
   "cell_type": "markdown",
   "id": "e68831f6",
   "metadata": {},
   "source": [
    "Initially, we acquired the data from FINK using the link provided: https://fink-portal.org/download.\n",
    "\n",
    "#### Now, let's import the data into Pandas."
   ]
  },
  {
   "cell_type": "code",
   "execution_count": 4,
   "id": "c6810444",
   "metadata": {},
   "outputs": [],
   "source": [
    "pdf = pd.read_parquet('../../ftransfer_ztf_2024-02-01_689626')"
   ]
  },
  {
   "cell_type": "code",
   "execution_count": 5,
   "id": "a0005021",
   "metadata": {},
   "outputs": [
    {
     "data": {
      "text/html": [
       "<div>\n",
       "<style scoped>\n",
       "    .dataframe tbody tr th:only-of-type {\n",
       "        vertical-align: middle;\n",
       "    }\n",
       "\n",
       "    .dataframe tbody tr th {\n",
       "        vertical-align: top;\n",
       "    }\n",
       "\n",
       "    .dataframe thead th {\n",
       "        text-align: right;\n",
       "    }\n",
       "</style>\n",
       "<table border=\"1\" class=\"dataframe\">\n",
       "  <thead>\n",
       "    <tr style=\"text-align: right;\">\n",
       "      <th></th>\n",
       "      <th>candid</th>\n",
       "      <th>schemavsn</th>\n",
       "      <th>publisher</th>\n",
       "      <th>objectId</th>\n",
       "      <th>candidate</th>\n",
       "      <th>prv_candidates</th>\n",
       "      <th>cutoutScience</th>\n",
       "      <th>cutoutTemplate</th>\n",
       "      <th>cutoutDifference</th>\n",
       "      <th>cdsxmatch</th>\n",
       "      <th>...</th>\n",
       "      <th>fink_broker_version</th>\n",
       "      <th>fink_science_version</th>\n",
       "      <th>timestamp</th>\n",
       "      <th>year</th>\n",
       "      <th>month</th>\n",
       "      <th>day</th>\n",
       "      <th>tnsclass</th>\n",
       "      <th>lc_features_g</th>\n",
       "      <th>lc_features_r</th>\n",
       "      <th>finkclass</th>\n",
       "    </tr>\n",
       "  </thead>\n",
       "  <tbody>\n",
       "    <tr>\n",
       "      <th>0</th>\n",
       "      <td>1356264842615015004</td>\n",
       "      <td>3.3</td>\n",
       "      <td>Fink</td>\n",
       "      <td>ZTF17aaaeclk</td>\n",
       "      <td>{'aimage': 0.7979999780654907, 'aimagerat': 0....</td>\n",
       "      <td>[{'aimage': 0.75, 'aimagerat': 0.3048779964447...</td>\n",
       "      <td>{'fileName': 'candid1356264842615015004_pid135...</td>\n",
       "      <td>{'fileName': 'candid1356264842615015004_ref.fi...</td>\n",
       "      <td>{'fileName': 'candid1356264842615015004_pid135...</td>\n",
       "      <td>**</td>\n",
       "      <td>...</td>\n",
       "      <td>1.4</td>\n",
       "      <td>0.5.1</td>\n",
       "      <td>2020-09-18 06:21:22.996783</td>\n",
       "      <td>2020</td>\n",
       "      <td>9</td>\n",
       "      <td>18</td>\n",
       "      <td>Unknown</td>\n",
       "      <td>{'amplitude': 0.8889999389648438, 'anderson_da...</td>\n",
       "      <td>{'amplitude': None, 'anderson_darling_normal':...</td>\n",
       "      <td>**</td>\n",
       "    </tr>\n",
       "    <tr>\n",
       "      <th>1</th>\n",
       "      <td>1356465031915010013</td>\n",
       "      <td>3.3</td>\n",
       "      <td>Fink</td>\n",
       "      <td>ZTF17aaarimh</td>\n",
       "      <td>{'aimage': 0.5720000267028809, 'aimagerat': 0....</td>\n",
       "      <td>[{'aimage': None, 'aimagerat': None, 'bimage':...</td>\n",
       "      <td>{'fileName': 'candid1356465031915010013_pid135...</td>\n",
       "      <td>{'fileName': 'candid1356465031915010013_ref.fi...</td>\n",
       "      <td>{'fileName': 'candid1356465031915010013_pid135...</td>\n",
       "      <td>**</td>\n",
       "      <td>...</td>\n",
       "      <td>1.4</td>\n",
       "      <td>0.5.1</td>\n",
       "      <td>2020-09-18 11:09:38.99808</td>\n",
       "      <td>2020</td>\n",
       "      <td>9</td>\n",
       "      <td>18</td>\n",
       "      <td>Unknown</td>\n",
       "      <td>{'amplitude': 0.8722000122070312, 'anderson_da...</td>\n",
       "      <td>{'amplitude': 1.0413002967834473, 'anderson_da...</td>\n",
       "      <td>**</td>\n",
       "    </tr>\n",
       "  </tbody>\n",
       "</table>\n",
       "<p>2 rows × 28 columns</p>\n",
       "</div>"
      ],
      "text/plain": [
       "                candid schemavsn publisher      objectId  \\\n",
       "0  1356264842615015004       3.3      Fink  ZTF17aaaeclk   \n",
       "1  1356465031915010013       3.3      Fink  ZTF17aaarimh   \n",
       "\n",
       "                                           candidate  \\\n",
       "0  {'aimage': 0.7979999780654907, 'aimagerat': 0....   \n",
       "1  {'aimage': 0.5720000267028809, 'aimagerat': 0....   \n",
       "\n",
       "                                      prv_candidates  \\\n",
       "0  [{'aimage': 0.75, 'aimagerat': 0.3048779964447...   \n",
       "1  [{'aimage': None, 'aimagerat': None, 'bimage':...   \n",
       "\n",
       "                                       cutoutScience  \\\n",
       "0  {'fileName': 'candid1356264842615015004_pid135...   \n",
       "1  {'fileName': 'candid1356465031915010013_pid135...   \n",
       "\n",
       "                                      cutoutTemplate  \\\n",
       "0  {'fileName': 'candid1356264842615015004_ref.fi...   \n",
       "1  {'fileName': 'candid1356465031915010013_ref.fi...   \n",
       "\n",
       "                                    cutoutDifference cdsxmatch  ...  \\\n",
       "0  {'fileName': 'candid1356264842615015004_pid135...        **  ...   \n",
       "1  {'fileName': 'candid1356465031915010013_pid135...        **  ...   \n",
       "\n",
       "   fink_broker_version  fink_science_version                   timestamp  \\\n",
       "0                  1.4                 0.5.1  2020-09-18 06:21:22.996783   \n",
       "1                  1.4                 0.5.1   2020-09-18 11:09:38.99808   \n",
       "\n",
       "   year  month  day  tnsclass  \\\n",
       "0  2020      9   18   Unknown   \n",
       "1  2020      9   18   Unknown   \n",
       "\n",
       "                                       lc_features_g  \\\n",
       "0  {'amplitude': 0.8889999389648438, 'anderson_da...   \n",
       "1  {'amplitude': 0.8722000122070312, 'anderson_da...   \n",
       "\n",
       "                                       lc_features_r finkclass  \n",
       "0  {'amplitude': None, 'anderson_darling_normal':...        **  \n",
       "1  {'amplitude': 1.0413002967834473, 'anderson_da...        **  \n",
       "\n",
       "[2 rows x 28 columns]"
      ]
     },
     "execution_count": 5,
     "metadata": {},
     "output_type": "execute_result"
    }
   ],
   "source": [
    "pdf.head(2)"
   ]
  },
  {
   "cell_type": "markdown",
   "id": "1fb204e6",
   "metadata": {},
   "source": [
    "#### Here we calculate the first and last days on which an alert was recorded across all the data. \n",
    "we're identifying the earliest and latest dates observed across all the alerts in the entire dataset."
   ]
  },
  {
   "cell_type": "code",
   "execution_count": 6,
   "id": "271e2749",
   "metadata": {},
   "outputs": [],
   "source": [
    "#jd_series = pdf.candidate.apply(pd.Series)['jd']\n",
    "# optimization:\n",
    "jd_series = pdf.candidate.apply(lambda a:a['jd'])\n",
    "last_day = jd_series.max()\n",
    "\n",
    "# this is not the perfect way to verify the min but we suppose that 'jd' is sorted\n",
    "#first_day = last_day\n",
    "#for k in range(len(pdf)):\n",
    "#    if first_day > pdf.prv_candidates[k][0]['jd']:\n",
    "#        first_day = pdf.prv_candidates[k][0]['jd']\n",
    "# optimization : \n",
    "first_day = np.min(pdf.prv_candidates.apply(lambda a: a[0]['jd']))"
   ]
  },
  {
   "cell_type": "markdown",
   "id": "eaa8df7d-19cc-4d4a-bfd1-7846ec7c204c",
   "metadata": {},
   "source": [
    "#"
   ]
  },
  {
   "cell_type": "markdown",
   "id": "228083e5",
   "metadata": {},
   "source": [
    "# 2) Select alert and build the data Frame"
   ]
  },
  {
   "cell_type": "markdown",
   "id": "7207add8",
   "metadata": {},
   "source": [
    "### We select alerts (data) based on their shared ID "
   ]
  },
  {
   "cell_type": "code",
   "execution_count": 204,
   "id": "f65a7c6d",
   "metadata": {},
   "outputs": [],
   "source": [
    "Id = pdf['objectId'][4771]\n",
    "\n",
    "id_most_repeated = pdf['objectId'].value_counts().idxmax()\n",
    "\n",
    "Id = \"ZTF18acoyqvk\" # max by j (for all Q) here we got = 119 on idx = 13 (all Q matched)\n",
    "# Id = \"ZTF18abosdhe\" #min by j ,  ( idx = 5 , with one Q )\n",
    "\n",
    "#Id = \"ZTF18adarfuu\" # max by Q idx = 6\n",
    "Id = \"ZTF18aaxyrcb\" # min by Q idx = 7\n",
    "Id = \"ZTF19abizgyw\" # <10 data \n",
    "\n",
    "Id = \"ZTF18acckcza\" # Anomaly data analysis \n",
    "Id = \"ZTF18acevrat\" # probUpperlim\n",
    "Id = \"ZTF17aaafgst\" # prob stop\n",
    "Id = \"ZTF17aacezky\"\n",
    "Id = \"ZTF18abhqeds\" # no dc_mag ! \n",
    "Id = \"ZTF17aaaenex\" # ratio 35 we still have upp prob\n",
    "Id = \"ZTF17aabunxe\"\n",
    "pdf_filter_by_shared_Id = pdf.loc[pdf['objectId'] == Id]"
   ]
  },
  {
   "cell_type": "markdown",
   "id": "b24c0c24",
   "metadata": {},
   "source": [
    "### Choose the last alert "
   ]
  },
  {
   "cell_type": "code",
   "execution_count": 205,
   "id": "217fc502",
   "metadata": {},
   "outputs": [],
   "source": [
    "candidate_df = pdf_filter_by_shared_Id['candidate'].apply(pd.Series)\n",
    "\n",
    "candidate_df = candidate_df.sort_values(by= 'jd')\n",
    "index_max_jd = candidate_df.index[-1]\n",
    "\n",
    "# select this candidate\n",
    "pdf_last_alert = pdf_filter_by_shared_Id.loc[index_max_jd]"
   ]
  },
  {
   "cell_type": "markdown",
   "id": "07c878ac",
   "metadata": {},
   "source": [
    "### Transform the data of all candidates (including `prv_candidates` and the last one) into a DataFrame."
   ]
  },
  {
   "cell_type": "code",
   "execution_count": 206,
   "id": "dd821f99",
   "metadata": {
    "scrolled": true
   },
   "outputs": [],
   "source": [
    "pdf_selec_cands = pdf_last_alert['prv_candidates'] "
   ]
  },
  {
   "cell_type": "code",
   "execution_count": 207,
   "id": "cd041afd",
   "metadata": {},
   "outputs": [],
   "source": [
    "#  add 'candidate' the actual value \n",
    "keys = pdf_selec_cands[0].keys()\n",
    "latest_cand = {key: pdf_last_alert['candidate'][key] for key in keys if key in pdf_last_alert['candidate']}"
   ]
  },
  {
   "cell_type": "code",
   "execution_count": 208,
   "id": "b2516f71",
   "metadata": {},
   "outputs": [],
   "source": [
    "liste_dicts = list(pdf_selec_cands)\n",
    "liste_dicts.append(latest_cand)\n",
    "df = pd.DataFrame(liste_dicts)"
   ]
  },
  {
   "cell_type": "code",
   "execution_count": 209,
   "id": "bbcf1d24-06b4-46ff-8e55-8a6fa8c245af",
   "metadata": {},
   "outputs": [
    {
     "data": {
      "text/html": [
       "<div>\n",
       "<style scoped>\n",
       "    .dataframe tbody tr th:only-of-type {\n",
       "        vertical-align: middle;\n",
       "    }\n",
       "\n",
       "    .dataframe tbody tr th {\n",
       "        vertical-align: top;\n",
       "    }\n",
       "\n",
       "    .dataframe thead th {\n",
       "        text-align: right;\n",
       "    }\n",
       "</style>\n",
       "<table border=\"1\" class=\"dataframe\">\n",
       "  <thead>\n",
       "    <tr style=\"text-align: right;\">\n",
       "      <th></th>\n",
       "      <th>aimage</th>\n",
       "      <th>aimagerat</th>\n",
       "      <th>bimage</th>\n",
       "      <th>bimagerat</th>\n",
       "      <th>candid</th>\n",
       "      <th>chinr</th>\n",
       "      <th>chipsf</th>\n",
       "      <th>classtar</th>\n",
       "      <th>clrcoeff</th>\n",
       "      <th>clrcounc</th>\n",
       "      <th>...</th>\n",
       "      <th>sigmagnr</th>\n",
       "      <th>sigmapsf</th>\n",
       "      <th>sky</th>\n",
       "      <th>ssdistnr</th>\n",
       "      <th>ssmagnr</th>\n",
       "      <th>ssnamenr</th>\n",
       "      <th>sumrat</th>\n",
       "      <th>tblid</th>\n",
       "      <th>xpos</th>\n",
       "      <th>ypos</th>\n",
       "    </tr>\n",
       "  </thead>\n",
       "  <tbody>\n",
       "    <tr>\n",
       "      <th>0</th>\n",
       "      <td>0.659</td>\n",
       "      <td>0.362088</td>\n",
       "      <td>0.642</td>\n",
       "      <td>0.352747</td>\n",
       "      <td>1.326399e+18</td>\n",
       "      <td>0.688</td>\n",
       "      <td>80.404297</td>\n",
       "      <td>0.982</td>\n",
       "      <td>-0.053212</td>\n",
       "      <td>0.000009</td>\n",
       "      <td>...</td>\n",
       "      <td>0.021</td>\n",
       "      <td>0.043491</td>\n",
       "      <td>-0.018594</td>\n",
       "      <td>NaN</td>\n",
       "      <td>NaN</td>\n",
       "      <td>None</td>\n",
       "      <td>1.000000</td>\n",
       "      <td>14.0</td>\n",
       "      <td>1316.390015</td>\n",
       "      <td>2415.030029</td>\n",
       "    </tr>\n",
       "    <tr>\n",
       "      <th>1</th>\n",
       "      <td>0.658</td>\n",
       "      <td>0.560778</td>\n",
       "      <td>0.606</td>\n",
       "      <td>0.516462</td>\n",
       "      <td>1.326407e+18</td>\n",
       "      <td>0.688</td>\n",
       "      <td>88.751801</td>\n",
       "      <td>1.000</td>\n",
       "      <td>-0.049472</td>\n",
       "      <td>0.000009</td>\n",
       "      <td>...</td>\n",
       "      <td>0.021</td>\n",
       "      <td>0.057937</td>\n",
       "      <td>0.358397</td>\n",
       "      <td>NaN</td>\n",
       "      <td>NaN</td>\n",
       "      <td>None</td>\n",
       "      <td>1.000000</td>\n",
       "      <td>6.0</td>\n",
       "      <td>1315.660034</td>\n",
       "      <td>2416.129883</td>\n",
       "    </tr>\n",
       "    <tr>\n",
       "      <th>2</th>\n",
       "      <td>0.802</td>\n",
       "      <td>0.689860</td>\n",
       "      <td>0.646</td>\n",
       "      <td>0.555673</td>\n",
       "      <td>1.326409e+18</td>\n",
       "      <td>0.897</td>\n",
       "      <td>113.718002</td>\n",
       "      <td>0.580</td>\n",
       "      <td>-0.061101</td>\n",
       "      <td>0.000007</td>\n",
       "      <td>...</td>\n",
       "      <td>0.019</td>\n",
       "      <td>0.094168</td>\n",
       "      <td>0.030722</td>\n",
       "      <td>NaN</td>\n",
       "      <td>NaN</td>\n",
       "      <td>None</td>\n",
       "      <td>0.948785</td>\n",
       "      <td>12.0</td>\n",
       "      <td>2445.479980</td>\n",
       "      <td>2383.139893</td>\n",
       "    </tr>\n",
       "    <tr>\n",
       "      <th>3</th>\n",
       "      <td>0.679</td>\n",
       "      <td>0.277143</td>\n",
       "      <td>0.630</td>\n",
       "      <td>0.257143</td>\n",
       "      <td>1.326414e+18</td>\n",
       "      <td>0.556</td>\n",
       "      <td>97.642799</td>\n",
       "      <td>0.983</td>\n",
       "      <td>-0.063194</td>\n",
       "      <td>0.000007</td>\n",
       "      <td>...</td>\n",
       "      <td>0.014</td>\n",
       "      <td>0.046184</td>\n",
       "      <td>0.272080</td>\n",
       "      <td>NaN</td>\n",
       "      <td>NaN</td>\n",
       "      <td>None</td>\n",
       "      <td>0.945546</td>\n",
       "      <td>2.0</td>\n",
       "      <td>833.463989</td>\n",
       "      <td>545.151001</td>\n",
       "    </tr>\n",
       "    <tr>\n",
       "      <th>4</th>\n",
       "      <td>0.660</td>\n",
       "      <td>0.547019</td>\n",
       "      <td>0.553</td>\n",
       "      <td>0.458335</td>\n",
       "      <td>1.326419e+18</td>\n",
       "      <td>0.897</td>\n",
       "      <td>67.039902</td>\n",
       "      <td>0.997</td>\n",
       "      <td>-0.056736</td>\n",
       "      <td>0.000008</td>\n",
       "      <td>...</td>\n",
       "      <td>0.019</td>\n",
       "      <td>0.081176</td>\n",
       "      <td>0.116171</td>\n",
       "      <td>NaN</td>\n",
       "      <td>NaN</td>\n",
       "      <td>None</td>\n",
       "      <td>0.966041</td>\n",
       "      <td>11.0</td>\n",
       "      <td>2457.439941</td>\n",
       "      <td>2383.040039</td>\n",
       "    </tr>\n",
       "    <tr>\n",
       "      <th>...</th>\n",
       "      <td>...</td>\n",
       "      <td>...</td>\n",
       "      <td>...</td>\n",
       "      <td>...</td>\n",
       "      <td>...</td>\n",
       "      <td>...</td>\n",
       "      <td>...</td>\n",
       "      <td>...</td>\n",
       "      <td>...</td>\n",
       "      <td>...</td>\n",
       "      <td>...</td>\n",
       "      <td>...</td>\n",
       "      <td>...</td>\n",
       "      <td>...</td>\n",
       "      <td>...</td>\n",
       "      <td>...</td>\n",
       "      <td>...</td>\n",
       "      <td>...</td>\n",
       "      <td>...</td>\n",
       "      <td>...</td>\n",
       "      <td>...</td>\n",
       "    </tr>\n",
       "    <tr>\n",
       "      <th>149</th>\n",
       "      <td>NaN</td>\n",
       "      <td>NaN</td>\n",
       "      <td>NaN</td>\n",
       "      <td>NaN</td>\n",
       "      <td>NaN</td>\n",
       "      <td>NaN</td>\n",
       "      <td>NaN</td>\n",
       "      <td>NaN</td>\n",
       "      <td>0.093471</td>\n",
       "      <td>0.000006</td>\n",
       "      <td>...</td>\n",
       "      <td>NaN</td>\n",
       "      <td>NaN</td>\n",
       "      <td>NaN</td>\n",
       "      <td>NaN</td>\n",
       "      <td>NaN</td>\n",
       "      <td>None</td>\n",
       "      <td>NaN</td>\n",
       "      <td>NaN</td>\n",
       "      <td>NaN</td>\n",
       "      <td>NaN</td>\n",
       "    </tr>\n",
       "    <tr>\n",
       "      <th>150</th>\n",
       "      <td>1.294</td>\n",
       "      <td>0.199384</td>\n",
       "      <td>1.170</td>\n",
       "      <td>0.180277</td>\n",
       "      <td>1.356352e+18</td>\n",
       "      <td>0.556</td>\n",
       "      <td>12.847600</td>\n",
       "      <td>0.967</td>\n",
       "      <td>-0.043422</td>\n",
       "      <td>0.000013</td>\n",
       "      <td>...</td>\n",
       "      <td>0.014</td>\n",
       "      <td>0.043624</td>\n",
       "      <td>0.015621</td>\n",
       "      <td>NaN</td>\n",
       "      <td>NaN</td>\n",
       "      <td>None</td>\n",
       "      <td>1.000000</td>\n",
       "      <td>4.0</td>\n",
       "      <td>862.903992</td>\n",
       "      <td>805.216003</td>\n",
       "    </tr>\n",
       "    <tr>\n",
       "      <th>151</th>\n",
       "      <td>NaN</td>\n",
       "      <td>NaN</td>\n",
       "      <td>NaN</td>\n",
       "      <td>NaN</td>\n",
       "      <td>NaN</td>\n",
       "      <td>NaN</td>\n",
       "      <td>NaN</td>\n",
       "      <td>NaN</td>\n",
       "      <td>-0.055285</td>\n",
       "      <td>0.000013</td>\n",
       "      <td>...</td>\n",
       "      <td>NaN</td>\n",
       "      <td>NaN</td>\n",
       "      <td>NaN</td>\n",
       "      <td>NaN</td>\n",
       "      <td>NaN</td>\n",
       "      <td>None</td>\n",
       "      <td>NaN</td>\n",
       "      <td>NaN</td>\n",
       "      <td>NaN</td>\n",
       "      <td>NaN</td>\n",
       "    </tr>\n",
       "    <tr>\n",
       "      <th>152</th>\n",
       "      <td>0.517</td>\n",
       "      <td>0.241589</td>\n",
       "      <td>0.418</td>\n",
       "      <td>0.195327</td>\n",
       "      <td>1.356369e+18</td>\n",
       "      <td>0.251</td>\n",
       "      <td>51.536499</td>\n",
       "      <td>0.999</td>\n",
       "      <td>0.081370</td>\n",
       "      <td>0.000057</td>\n",
       "      <td>...</td>\n",
       "      <td>0.014</td>\n",
       "      <td>0.094887</td>\n",
       "      <td>-0.842980</td>\n",
       "      <td>NaN</td>\n",
       "      <td>NaN</td>\n",
       "      <td>None</td>\n",
       "      <td>0.922170</td>\n",
       "      <td>5.0</td>\n",
       "      <td>857.789978</td>\n",
       "      <td>805.476013</td>\n",
       "    </tr>\n",
       "    <tr>\n",
       "      <th>153</th>\n",
       "      <td>0.822</td>\n",
       "      <td>0.402941</td>\n",
       "      <td>0.725</td>\n",
       "      <td>0.355392</td>\n",
       "      <td>1.356371e+18</td>\n",
       "      <td>0.260</td>\n",
       "      <td>28.089403</td>\n",
       "      <td>0.999</td>\n",
       "      <td>0.082038</td>\n",
       "      <td>0.000063</td>\n",
       "      <td>...</td>\n",
       "      <td>0.014</td>\n",
       "      <td>0.094350</td>\n",
       "      <td>0.387413</td>\n",
       "      <td>-999.0</td>\n",
       "      <td>-999.0</td>\n",
       "      <td>null</td>\n",
       "      <td>0.977459</td>\n",
       "      <td>132.0</td>\n",
       "      <td>1348.023926</td>\n",
       "      <td>2674.348877</td>\n",
       "    </tr>\n",
       "  </tbody>\n",
       "</table>\n",
       "<p>154 rows × 57 columns</p>\n",
       "</div>"
      ],
      "text/plain": [
       "     aimage  aimagerat  bimage  bimagerat        candid  chinr      chipsf  \\\n",
       "0     0.659   0.362088   0.642   0.352747  1.326399e+18  0.688   80.404297   \n",
       "1     0.658   0.560778   0.606   0.516462  1.326407e+18  0.688   88.751801   \n",
       "2     0.802   0.689860   0.646   0.555673  1.326409e+18  0.897  113.718002   \n",
       "3     0.679   0.277143   0.630   0.257143  1.326414e+18  0.556   97.642799   \n",
       "4     0.660   0.547019   0.553   0.458335  1.326419e+18  0.897   67.039902   \n",
       "..      ...        ...     ...        ...           ...    ...         ...   \n",
       "149     NaN        NaN     NaN        NaN           NaN    NaN         NaN   \n",
       "150   1.294   0.199384   1.170   0.180277  1.356352e+18  0.556   12.847600   \n",
       "151     NaN        NaN     NaN        NaN           NaN    NaN         NaN   \n",
       "152   0.517   0.241589   0.418   0.195327  1.356369e+18  0.251   51.536499   \n",
       "153   0.822   0.402941   0.725   0.355392  1.356371e+18  0.260   28.089403   \n",
       "\n",
       "     classtar  clrcoeff  clrcounc  ...  sigmagnr  sigmapsf       sky  \\\n",
       "0       0.982 -0.053212  0.000009  ...     0.021  0.043491 -0.018594   \n",
       "1       1.000 -0.049472  0.000009  ...     0.021  0.057937  0.358397   \n",
       "2       0.580 -0.061101  0.000007  ...     0.019  0.094168  0.030722   \n",
       "3       0.983 -0.063194  0.000007  ...     0.014  0.046184  0.272080   \n",
       "4       0.997 -0.056736  0.000008  ...     0.019  0.081176  0.116171   \n",
       "..        ...       ...       ...  ...       ...       ...       ...   \n",
       "149       NaN  0.093471  0.000006  ...       NaN       NaN       NaN   \n",
       "150     0.967 -0.043422  0.000013  ...     0.014  0.043624  0.015621   \n",
       "151       NaN -0.055285  0.000013  ...       NaN       NaN       NaN   \n",
       "152     0.999  0.081370  0.000057  ...     0.014  0.094887 -0.842980   \n",
       "153     0.999  0.082038  0.000063  ...     0.014  0.094350  0.387413   \n",
       "\n",
       "     ssdistnr  ssmagnr  ssnamenr    sumrat  tblid         xpos         ypos  \n",
       "0         NaN      NaN      None  1.000000   14.0  1316.390015  2415.030029  \n",
       "1         NaN      NaN      None  1.000000    6.0  1315.660034  2416.129883  \n",
       "2         NaN      NaN      None  0.948785   12.0  2445.479980  2383.139893  \n",
       "3         NaN      NaN      None  0.945546    2.0   833.463989   545.151001  \n",
       "4         NaN      NaN      None  0.966041   11.0  2457.439941  2383.040039  \n",
       "..        ...      ...       ...       ...    ...          ...          ...  \n",
       "149       NaN      NaN      None       NaN    NaN          NaN          NaN  \n",
       "150       NaN      NaN      None  1.000000    4.0   862.903992   805.216003  \n",
       "151       NaN      NaN      None       NaN    NaN          NaN          NaN  \n",
       "152       NaN      NaN      None  0.922170    5.0   857.789978   805.476013  \n",
       "153    -999.0   -999.0      null  0.977459  132.0  1348.023926  2674.348877  \n",
       "\n",
       "[154 rows x 57 columns]"
      ]
     },
     "execution_count": 209,
     "metadata": {},
     "output_type": "execute_result"
    }
   ],
   "source": [
    "df"
   ]
  },
  {
   "cell_type": "markdown",
   "id": "c7eb6079",
   "metadata": {},
   "source": [
    "#"
   ]
  },
  {
   "cell_type": "markdown",
   "id": "c7f4c784",
   "metadata": {},
   "source": [
    "# 3) plot Difference Magnitude in Modified Julian Date [UTC]\n"
   ]
  },
  {
   "cell_type": "markdown",
   "id": "3cd102bb",
   "metadata": {},
   "source": [
    "_Circles (●) with error bars show valid alerts that pass the Fink quality cuts.\n",
    "In addition, the Difference magnitude view shows:\n",
    "\n",
    "_upper triangles with errors (▲), representing alert measurements that do not satisfy Fink quality cuts, but are nevetheless contained in the history of valid alerts and used by classifiers.\n",
    "\n",
    "_lower triangles (▽), representing 5-sigma magnitude limit in difference image based on PSF-fit photometry contained in the history of valid alerts."
   ]
  },
  {
   "cell_type": "code",
   "execution_count": 210,
   "id": "d6ea9693-17b1-4648-966b-c6b313cb9281",
   "metadata": {},
   "outputs": [],
   "source": [
    "# NOTE : this cell is never used...\n",
    "\n",
    "#mask1 = (df['rb'] >= 0.55) & (df['nbad'] == 0)\n",
    "#mask2 = (df['rb'] >= 0.55) & (df['nbad'] == 0) & (abs(df['magdiff']) <= 0.1)\n",
    "\n",
    "#mask1 == mask2"
   ]
  },
  {
   "cell_type": "code",
   "execution_count": 211,
   "id": "d67373ad-dc5c-456d-9832-ea3cae26210d",
   "metadata": {},
   "outputs": [],
   "source": [
    "#this cell cannot work here\n",
    "#plt.errorbar(\n",
    "#        df[maskValid & maskFilt]['jd'].apply(lambda x: x - 2400000.5),\n",
    "#        df[maskValid & maskFilt]['magpsf'],\n",
    "#        df[maskValid & maskFilt]['sigmapsf'],\n",
    "#        ls = '', marker='o', color=colordic[filt], label='{} band'.format(filtdic[filt])\n",
    "#    )"
   ]
  },
  {
   "cell_type": "code",
   "execution_count": 212,
   "id": "30ab3c87",
   "metadata": {},
   "outputs": [
    {
     "data": {
      "image/png": "[encoded data removed]",
      "text/plain": [
       "<Figure size 1500x700 with 1 Axes>"
      ]
     },
     "metadata": {},
     "output_type": "display_data"
    }
   ],
   "source": [
    "fig = plt.figure(figsize=(15, 7))\n",
    "\n",
    "colordic = {1: 'C0', 2: 'C1'}\n",
    "filtdic = {1: 'g', 2: 'r'}\n",
    "\n",
    "# valid values \n",
    "maskValid = (df['rb'] >= 0.55) & (df['nbad'] == 0) #& (abs(df['magdiff']) <= 0.1)# magdiff = magap - magpsf\n",
    "# Upper limit values\n",
    "maskUpper = pd.isna(df['magpsf'])\n",
    "#bad quality values \n",
    "maskBadquality = ~maskValid & ~maskUpper\n",
    "\n",
    "for filt in np.unique(df['fid']):\n",
    "    maskFilt = df['fid'] == filt\n",
    "\n",
    "    plt.errorbar(\n",
    "        df[maskValid & maskFilt]['jd'].apply(lambda x: x - 2400000.5),\n",
    "        df[maskValid & maskFilt]['magpsf'],\n",
    "        df[maskValid & maskFilt]['sigmapsf'],\n",
    "        ls = '', marker='o', color=colordic[filt], label='{} band'.format(filtdic[filt])\n",
    "    )\n",
    "\n",
    "    plt.plot(\n",
    "        df[maskUpper & maskFilt]['jd'].apply(lambda x: x - 2400000.5),\n",
    "        df[maskUpper & maskFilt]['diffmaglim'],\n",
    "        ls='', marker='v', color=colordic[filt], markerfacecolor='none'\n",
    "    )\n",
    "    \n",
    "\n",
    "    plt.errorbar(\n",
    "        df[maskBadquality & maskFilt]['jd'].apply(lambda x: x - 2400000.5),\n",
    "        df[maskBadquality & maskFilt]['magpsf'],\n",
    "        df[maskBadquality & maskFilt]['sigmapsf'],\n",
    "        ls='', marker='^', color=colordic[filt]\n",
    "    )\n",
    "\n",
    "#plt.ylim(14, 18)\n",
    "#plt.xlim(59084, 59086)\n",
    "plt.gca().invert_yaxis()\n",
    "plt.legend()\n",
    "plt.title('Difference image PSF-fit magnitude')\n",
    "plt.xlabel('Modified Julian Date [UTC]')\n",
    "plt.ylabel('Difference Magnitude');\n"
   ]
  },
  {
   "cell_type": "markdown",
   "id": "3d35bf46",
   "metadata": {},
   "source": [
    "# Plot the magnitude difference for valid data."
   ]
  },
  {
   "cell_type": "markdown",
   "id": "9a34ecf0",
   "metadata": {},
   "source": [
    "Distinguishing between positive differences represented by circles and negative differences represented by triangles."
   ]
  },
  {
   "cell_type": "code",
   "execution_count": 213,
   "id": "b29e8605",
   "metadata": {},
   "outputs": [
    {
     "data": {
      "image/png": "[encoded data removed]",
      "text/plain": [
       "<Figure size 1500x500 with 1 Axes>"
      ]
     },
     "metadata": {},
     "output_type": "display_data"
    }
   ],
   "source": [
    "fig = plt.figure(figsize=(15, 5))\n",
    "\n",
    "colordic = {1: 'C0', 2: 'C1'}\n",
    "filtdic = {1: 'g', 2: 'r'}\n",
    "    \n",
    "maskValid = (df['rb'] >= 0.55) & (df['nbad'] == 0)\n",
    "\n",
    "    \n",
    "#t or 1 => candidate is from positive (sci minus ref) subtraction;\n",
    "#f or 0 => candidate is from negative (ref minus sci) subtraction\"\n",
    "maskpos = (df['isdiffpos'] == 't') | (df['isdiffpos'] == '1')\n",
    "maskneg = (df['isdiffpos'] == 'f') | (df['isdiffpos'] == '0')\n",
    "\n",
    "for filt in np.unique(df['fid']):\n",
    "    maskFilt = df['fid'] == filt\n",
    "\n",
    "    # candidates from negative \n",
    "\n",
    "    plt.errorbar(\n",
    "        df[maskValid & maskFilt & maskneg ]['jd'].apply(lambda x: x - 2400000.5),\n",
    "        df[maskValid & maskFilt & maskneg ]['magpsf'],\n",
    "        df[maskValid & maskFilt & maskneg ]['sigmapsf'],\n",
    "        ls = '', marker='^', color=colordic[filt], label='{} (-)'.format(filtdic[filt])\n",
    "    )\n",
    "    \n",
    "    # candidates from positive \n",
    "    plt.errorbar(\n",
    "        df[maskValid & maskFilt &  maskpos ]['jd'].apply(lambda x: x - 2400000.5),\n",
    "        df[maskValid & maskFilt &  maskpos ]['magpsf'],\n",
    "        df[maskValid & maskFilt &  maskpos ]['sigmapsf'],\n",
    "        ls = '', marker='o', color=colordic[filt], label='{} (+)'.format(filtdic[filt])\n",
    "    )\n",
    "    \n",
    "\n",
    "#plt.ylim(12, 22)\n",
    "plt.gca().invert_yaxis()\n",
    "plt.legend()\n",
    "plt.title('Difference image PSF-fit magnitude')\n",
    "plt.xlabel('Modified Julian Date [UTC]')\n",
    "plt.ylabel('Difference Magnitude');\n",
    "\n"
   ]
  },
  {
   "cell_type": "markdown",
   "id": "0dc7320a",
   "metadata": {},
   "source": [
    "# "
   ]
  },
  {
   "cell_type": "markdown",
   "id": "a9302975",
   "metadata": {},
   "source": [
    "# 5) Calculate and plot Apparent DC flux  "
   ]
  },
  {
   "cell_type": "markdown",
   "id": "a87c69e3",
   "metadata": {},
   "source": [
    "We utilize a function(`apparent_flux`) located within the `fink_utils` package to compute the apparent flux for the valid data."
   ]
  },
  {
   "cell_type": "code",
   "execution_count": 214,
   "id": "44059ccb",
   "metadata": {},
   "outputs": [],
   "source": [
    "from typing import Tuple\n",
    "def apparent_flux_New(\n",
    "    magpsf: float,\n",
    "    sigmapsf: float,\n",
    "    magnr: float,\n",
    "    sigmagnr: float,\n",
    "    isdiffpos: int,    \n",
    "    is_Source: bool = True,\n",
    "    jansky: bool = True\n",
    "\n",
    ") -> Tuple[float, float]:\n",
    "    \"\"\"Compute apparent flux from difference magnitude supplied by ZTF\n",
    "    Implemented according to p.107 of the ZTF Science Data System Explanatory Supplement\n",
    "    https://irsa.ipac.caltech.edu/data/ZTF/docs/ztf_explanatory_supplement.pdf\n",
    "\n",
    "    Parameters\n",
    "    ---------\n",
    "    magpsf,sigmapsf; floats\n",
    "        magnitude from PSF-fit photometry, and 1-sigma error\n",
    "    magnr,sigmagnr: floats\n",
    "        magnitude of nearest source in reference image PSF-catalog\n",
    "        within 30 arcsec and 1-sigma error\n",
    "    isdiffpos: str\n",
    "        t or 1 => candidate is from positive (sci minus ref) subtraction;\n",
    "        f or 0 => candidate is from negative (ref minus sci) subtraction\n",
    "    jansky: bool\n",
    "        If True, normalise units to Jansky. Default is True.\n",
    "\n",
    "    Returns\n",
    "    --------\n",
    "    dc_flux: float\n",
    "        Apparent flux\n",
    "    dc_sigflux: float\n",
    "        Error on apparent flux\n",
    "    \"\"\"\n",
    "    if magpsf is None or magnr < 0:\n",
    "        return float(\"Nan\"), float(\"Nan\")\n",
    "    \n",
    "    \n",
    "\n",
    "    difference_flux = 10 ** (-0.4 * magpsf)\n",
    "    difference_sigflux = (sigmapsf / 1.0857) * difference_flux\n",
    "\n",
    "    if is_Source: \n",
    "\n",
    "        ref_flux = 10 ** (-0.4 * magnr)\n",
    "        ref_sigflux = (sigmagnr / 1.0857) * ref_flux\n",
    "\n",
    "        # add or subract difference flux based on isdiffpos\n",
    "        if (isdiffpos == 't') or (isdiffpos == '1'):\n",
    "            dc_flux = ref_flux + difference_flux\n",
    "        else:\n",
    "            dc_flux = ref_flux - difference_flux\n",
    "\n",
    "        # assumes errors are independent. Maybe too conservative.\n",
    "        dc_sigflux = np.sqrt(difference_sigflux**2 + ref_sigflux**2)\n",
    "        \n",
    "    else:\n",
    "        dc_flux= difference_flux #E.G. : I would expext a - for negatives...\n",
    "        dc_sigflux = difference_sigflux\n",
    "        \n",
    "        \n",
    "    if jansky:\n",
    "        dc_flux *= 3631\n",
    "        dc_sigflux *= 3631\n",
    "\n",
    "    return dc_flux, dc_sigflux\n",
    "    \n",
    "    \n",
    "    "
   ]
  },
  {
   "cell_type": "code",
   "execution_count": 215,
   "id": "c24e6f76",
   "metadata": {},
   "outputs": [
    {
     "data": {
      "image/png": "[encoded data removed]",
      "text/plain": [
       "<Figure size 1400x500 with 1 Axes>"
      ]
     },
     "metadata": {},
     "output_type": "display_data"
    }
   ],
   "source": [
    "fig = plt.figure(figsize=(14, 5))\n",
    "from fink_utils.photometry.utils import is_source_behind\n",
    "\n",
    "# from fink_utils.photometry.conversion import apparent_flux\n",
    "\n",
    "\n",
    "# Take only valid measurements\n",
    "maskValid = (df['rb'] >= 0.55) & (df['nbad'] == 0)\n",
    "df_valid = df[maskValid].sort_values('jd')\n",
    "df_valid['is_Source'] = is_source_behind(df_valid['distnr'])\n",
    "\n",
    "# dc_flux, dc_sigflux = np.transpose(\n",
    "#         [\n",
    "#             apparent_flux(*args, jansky=True) for args in zip(\n",
    "#                 df_valid['magpsf'].astype(float).values,\n",
    "#                 df_valid['sigmapsf'].astype(float).values,\n",
    "#                 df_valid['magnr'].astype(float).values,\n",
    "#                 df_valid['sigmagnr'].astype(float).values,\n",
    "#                 df_valid['isdiffpos'].values\n",
    "#             )\n",
    "#         ]\n",
    "# )\n",
    "\n",
    "# df_valid['dc_flux_origin'] = dc_flux\n",
    "\n",
    "# df_valid['dc_sigflux_origin'] = dc_sigflux\n",
    "\n",
    "dc_flux, dc_sigflux = np.transpose(\n",
    "        [\n",
    "            apparent_flux_New(*args, jansky=True) for args in zip(\n",
    "                df_valid['magpsf'].astype(float).values,\n",
    "                df_valid['sigmapsf'].astype(float).values,\n",
    "                df_valid['magnr'].astype(float).values,\n",
    "                df_valid['sigmagnr'].astype(float).values,\n",
    "                df_valid['isdiffpos'].values,\n",
    "                df_valid['is_Source'].astype(bool).values\n",
    "\n",
    "            )\n",
    "        ]\n",
    ")\n",
    "\n",
    "df_valid['dc_flux'] = dc_flux\n",
    "df_valid['dc_sigflux'] = dc_sigflux\n",
    "\n",
    "\n",
    "\n",
    "for filt in np.unique(df['fid']):\n",
    "    mask = df_valid['fid'] == filt\n",
    "    sub = df_valid[mask]\n",
    "    plt.errorbar(\n",
    "        sub['jd'].apply(lambda x: x - 2400000.5),\n",
    "        sub['dc_flux']*1e3,\n",
    "        sub['dc_sigflux']*1e3,\n",
    "        ls='', \n",
    "        marker='o',\n",
    "        label=str(filt)\n",
    "    )\n",
    "plt.legend()\n",
    "\n",
    "plt.xlabel('Modified Julian Date [UTC]')\n",
    "plt.ylabel('Apparent DC flux (millijanksy)');\n"
   ]
  },
  {
   "cell_type": "markdown",
   "id": "befe5d71",
   "metadata": {},
   "source": [
    "## Apparent flux for the nearest source"
   ]
  },
  {
   "cell_type": "markdown",
   "id": "8f45ab7e",
   "metadata": {},
   "source": [
    "We create a function `flux_nr` to determine the apparent flux for the nearest source in the reference image.\n",
    "\n",
    "Please don't overlook downloading the FAnomAly package."
   ]
  },
  {
   "cell_type": "code",
   "execution_count": 216,
   "id": "5fc5f794",
   "metadata": {},
   "outputs": [],
   "source": [
    "from FAnomAly.flux import flux_nr\n",
    "\n",
    "nr_flux, nr_sigflux = np.transpose(\n",
    "        [\n",
    "            flux_nr(*args, jansky=True) for args in zip(\n",
    "                df_valid['magnr'].astype(float).values,\n",
    "                df_valid['sigmagnr'].astype(float).values\n",
    "            )\n",
    "        ]\n",
    ")\n",
    "\n",
    "df_valid['nr_flux'] = nr_flux\n",
    "df_valid['nr_sigflux'] = nr_sigflux\n"
   ]
  },
  {
   "cell_type": "markdown",
   "id": "bce599bb",
   "metadata": {},
   "source": [
    "# "
   ]
  },
  {
   "cell_type": "markdown",
   "id": "146da65d",
   "metadata": {},
   "source": [
    "# 4) Verify whether there is a source behind the object."
   ]
  },
  {
   "cell_type": "markdown",
   "id": "2fa7f388",
   "metadata": {},
   "source": [
    "If so, we compute the magnitude DC using the new `dc_mag` function."
   ]
  },
  {
   "cell_type": "markdown",
   "id": "9a17e03a",
   "metadata": {},
   "source": [
    " And we extract a subset of validated data into a dataframe for further analysis"
   ]
  },
  {
   "cell_type": "code",
   "execution_count": 217,
   "id": "f276686d",
   "metadata": {},
   "outputs": [],
   "source": [
    "# from FAnomAly.dc_mag import dc_mag\n",
    "# from fink_utils.photometry.conversion import dc_mag\n",
    "\n",
    "\n",
    "\n",
    "# mag_dc, err_dc = np.transpose(\n",
    "#     [\n",
    "#         dc_mag(*args) for args in zip(\n",
    "#             df_valid['magpsf'].astype(float).values,\n",
    "#             df_valid['sigmapsf'].astype(float).values,\n",
    "#             df_valid['magnr'].astype(float).values,\n",
    "#             df_valid['sigmagnr'].astype(float).values,\n",
    "#             df_valid['isdiffpos'].values,\n",
    "#             df_valid['is_Source'].astype(bool).values\n",
    "\n",
    "#         )\n",
    "#     ]\n",
    "#  )\n",
    "\n",
    "# df_valid['mag_dc'] = mag_dc\n",
    "# df_valid['err_dc'] = err_dc\n",
    "\n",
    "# # apparent mag and its error from fluxes\n",
    "mag_dc = -2.5 * np.log10(df_valid['dc_flux'] / 3631) \n",
    "err_dc = df_valid['dc_sigflux'] / df_valid['dc_flux'] * 1.0857\n",
    "\n",
    "\n",
    "df_valid['mag_dc'] = mag_dc\n",
    "df_valid['err_dc'] = err_dc\n"
   ]
  },
  {
   "cell_type": "markdown",
   "id": "2eeb64c6",
   "metadata": {},
   "source": [
    "### Next, we plot the comparison between PSF-fit magnitudes and DC magnitudes."
   ]
  },
  {
   "cell_type": "markdown",
   "id": "e8f96483",
   "metadata": {},
   "source": [
    "We calculate the reference value as the average magnitude of the nearest source in the reference image PSF catalog.\n"
   ]
  },
  {
   "cell_type": "code",
   "execution_count": 218,
   "id": "68e6f1cc-ace4-4116-a7bf-eaadcd0a303d",
   "metadata": {},
   "outputs": [],
   "source": [
    "ref_value_r = np.sqrt((df_valid[df_valid['fid'] == 2]['magnr'] ** 2).mean())# Quadratic Mean\n",
    "ref_value_g = np.sqrt((df_valid[df_valid['fid'] == 1]['magnr'] ** 2).mean())"
   ]
  },
  {
   "cell_type": "code",
   "execution_count": 219,
   "id": "253f8d6d",
   "metadata": {},
   "outputs": [
    {
     "data": {
      "image/png": "[encoded data removed]",
      "text/plain": [
       "<Figure size 1500x500 with 1 Axes>"
      ]
     },
     "metadata": {},
     "output_type": "display_data"
    }
   ],
   "source": [
    "fig = plt.figure(figsize=(15, 5))\n",
    "\n",
    "colordic = {1: 'C0', 2: 'C1'}\n",
    "filtdic = {1: 'g', 2: 'r'}\n",
    "\n",
    "for filt in np.unique(df_valid['fid']):\n",
    "    maskFilt = df_valid['fid'] == filt\n",
    "\n",
    "#     plt.errorbar(\n",
    "#         df_valid[maskFilt]['jd'].apply(lambda x: x - 2400000.5),\n",
    "#         df_valid[maskFilt]['magpsf'],\n",
    "#         df_valid[maskFilt]['sigmapsf'],\n",
    "#         ls = '', marker='s', \n",
    "#         color=colordic[filt], \n",
    "#         label='{} band (PSF-fit)'.format(filtdic[filt]),\n",
    "#     )\n",
    "    \n",
    "    \n",
    "    plt.errorbar(\n",
    "        df_valid[maskFilt]['jd'].apply(lambda x: x - 2400000.5),\n",
    "        df_valid[maskFilt]['mag_dc'],\n",
    "        df_valid[maskFilt]['err_dc'],\n",
    "        ls = '', marker='o', \n",
    "        color=colordic[filt], \n",
    "        label='{} band (DC)'.format(filtdic[filt]),\n",
    "    )\n",
    "    #To show if there is a variance in the reference( magnitude of the nearest source in the reference image PSF)\n",
    "    plt.errorbar(\n",
    "        df_valid[maskFilt]['jd'].apply(lambda x: x - 2400000.5),\n",
    "        df_valid[maskFilt]['magnr'],\n",
    "        ls = '--', \n",
    "        color=colordic[filt], \n",
    "        label='{} ref (DC)'.format(filtdic[filt]),\n",
    "    )\n",
    "    \n",
    "# plt.ylim(10,20)\n",
    "\n",
    "#  Average Values (Used in Fink)\n",
    "#plt.axhline(y=ref_value_r, color=colordic[2], linestyle='--')\n",
    "#plt.axhline(y=ref_value_g, color=colordic[1], linestyle='--')\n",
    "plt.gca().invert_yaxis()\n",
    "plt.legend()\n",
    "plt.title('Comparison of PSF-fit and DC magnitudes')\n",
    "plt.xlabel('Modified Julian Date [UTC]')\n",
    "plt.ylabel('Magnitude');"
   ]
  },
  {
   "cell_type": "markdown",
   "id": "40b07b1b",
   "metadata": {},
   "source": [
    "# "
   ]
  },
  {
   "cell_type": "markdown",
   "id": "7a76716d",
   "metadata": {},
   "source": [
    "#"
   ]
  },
  {
   "cell_type": "markdown",
   "id": "372399a2",
   "metadata": {},
   "source": [
    "# "
   ]
  },
  {
   "cell_type": "markdown",
   "id": "765880f1",
   "metadata": {},
   "source": [
    "# 6) Data missing \n"
   ]
  },
  {
   "cell_type": "markdown",
   "id": "d0759eda",
   "metadata": {},
   "source": [
    "Our objective here is to retrieve the missing data values, particularly for cases where they represent upper limits."
   ]
  },
  {
   "cell_type": "code",
   "execution_count": 220,
   "id": "b76bd9ed",
   "metadata": {},
   "outputs": [],
   "source": [
    "# Take only Upper limits data\n",
    "maskUpper = pd.isna(df['magpsf'])\n",
    "df_Upper = df[maskUpper].sort_values('jd')"
   ]
  },
  {
   "cell_type": "markdown",
   "id": "54621832",
   "metadata": {},
   "source": [
    "#### Convert 'mjd' to integer to remove fractional part\n"
   ]
  },
  {
   "cell_type": "code",
   "execution_count": 221,
   "id": "40e77a1e-6b69-477f-a7fb-350352c86153",
   "metadata": {},
   "outputs": [],
   "source": [
    "df_valid['mjd'] = (df_valid['jd'] - 2400000.5).astype(int)\n",
    "df_Upper['mjd'] = (df_Upper['jd'] - 2400000.5).astype(int)"
   ]
  },
  {
   "cell_type": "code",
   "execution_count": 222,
   "id": "282196c2-fa82-4231-8aa3-f137370b2d14",
   "metadata": {},
   "outputs": [],
   "source": [
    "min_mjd = int(first_day - 2400000.5) #df_by_days['mjd'].min()\n",
    "max_mjd = int(last_day  - 2400000.5)"
   ]
  },
  {
   "cell_type": "markdown",
   "id": "d8bab7df-ab4a-41be-a25c-0aafaaaa1497",
   "metadata": {},
   "source": [
    "# "
   ]
  },
  {
   "cell_type": "markdown",
   "id": "261a5ed4",
   "metadata": {},
   "source": [
    "Compute the average of the sigma magnitude values for the nearest sources."
   ]
  },
  {
   "cell_type": "markdown",
   "id": "c926d3fb",
   "metadata": {},
   "source": [
    "We define a function named `apparent_flux_Upper` to calculate the apparent flux, along with its associated sigma (error), for both the DC flux and NR flux, specifically for data representing upper limits."
   ]
  },
  {
   "cell_type": "code",
   "execution_count": 223,
   "id": "58e475b2",
   "metadata": {},
   "outputs": [],
   "source": [
    "df_valid['source'] = 1"
   ]
  },
  {
   "cell_type": "code",
   "execution_count": 224,
   "id": "a2c50a51",
   "metadata": {},
   "outputs": [
    {
     "data": {
      "text/plain": [
       "(2459080.6432407, 2459111.0274074)"
      ]
     },
     "execution_count": 224,
     "metadata": {},
     "output_type": "execute_result"
    }
   ],
   "source": [
    "first_day, last_day"
   ]
  },
  {
   "cell_type": "code",
   "execution_count": 225,
   "id": "1b6927f2",
   "metadata": {},
   "outputs": [],
   "source": [
    "\n",
    "is_Source_by_fid = df_valid.groupby(['fid', 'is_Source']).size().unstack(fill_value=0).sort_index()\n",
    "\n",
    "# # Determine which count is highest\n",
    "is_Source_by_fid['Highest_bool'] = is_Source_by_fid.idxmax(axis=1)\n"
   ]
  },
  {
   "cell_type": "code",
   "execution_count": 226,
   "id": "e0559398-cf26-4cde-af12-885399aa8cb5",
   "metadata": {},
   "outputs": [],
   "source": [
    "if len(df_valid[df_valid['fid'] == 1]) ==0 : \n",
    "    # if we don't have data for green alerts we drop the green upperlim \n",
    "    # Not the best solution but Missing data is better than false data \n",
    "    df_Upper.drop(df_Upper[df_Upper['fid'] == 1].index, inplace=True)\n",
    "    \n",
    "    # We append two data points with zero values. This aids our algorithm without introducing any risk.\n",
    "    new_rows = pd.DataFrame({'fid': [1, 1],\n",
    "                             'mjd': [first_day - 2400000.5, last_day - 2400000.5],#[df_valid['jd'].min(), df_valid['jd'].max()],\n",
    "                             'dc_flux': [0, 0],\n",
    "                             'dc_sigflux': [0, 0],\n",
    "                             'nr_flux' : [0,0],\n",
    "                             'nr_sigflux':[0,0], \n",
    "                             'source': [0,0],\n",
    "                             'is_Source': [is_Source_by_fid['Highest_bool'].iloc[0],is_Source_by_fid['Highest_bool'].iloc[0]]\n",
    "                            })\n",
    "\n",
    "    df_valid = pd.concat([df_valid, new_rows], ignore_index=True)\n",
    "\n",
    "elif len(df_valid[df_valid['fid'] == 2]) ==0 : \n",
    "    df_Upper.drop(df_Upper[df_Upper['fid'] == 2].index, inplace=True)\n",
    "    \n",
    "        \n",
    "    new_rows = pd.DataFrame({'fid': [2, 2],\n",
    "                             'mjd': [first_day - 2400000.5, last_day - 2400000.5],\n",
    "                             'dc_flux': [0, 0],\n",
    "                             'dc_sigflux': [0, 0],\n",
    "                             'nr_flux' : [0,0],\n",
    "                             'nr_sigflux':[0,0],\n",
    "                             'source': [0,0],\n",
    "                             'is_Source': [is_Source_by_fid['Highest_bool'].iloc[0],is_Source_by_fid['Highest_bool'].iloc[0]]\n",
    "                             \n",
    "                           })\n",
    "\n",
    "    df_valid = pd.concat([df_valid, new_rows], ignore_index=True)"
   ]
  },
  {
   "cell_type": "markdown",
   "id": "d5da86dc-4d2f-4f55-b1b9-63bf3fa7d224",
   "metadata": {},
   "source": [
    "#### Remove the upper limit if a valid data exists on the same day."
   ]
  },
  {
   "cell_type": "code",
   "execution_count": 227,
   "id": "d97d2a2a-b399-415f-ad3f-c2e956dc1fc0",
   "metadata": {},
   "outputs": [],
   "source": [
    "def get_interval(target_mjd,fid, min_mjd, max_mjd,df_valid):\n",
    "    lower_bound = min_mjd\n",
    "    upper_bound = max_mjd\n",
    "#     print(lower_bound,upper_bound )\n",
    "    for index, row in df_valid[df_valid['fid'] == fid].iterrows():\n",
    "        if row['mjd'] < target_mjd:\n",
    "            lower_bound = row['mjd']\n",
    "        else:\n",
    "            upper_bound = row['mjd']\n",
    "            break\n",
    "    return lower_bound,upper_bound "
   ]
  },
  {
   "cell_type": "code",
   "execution_count": 228,
   "id": "5cf4650e-606f-405f-b787-7795554169f4",
   "metadata": {},
   "outputs": [],
   "source": [
    "def get_pos_neg(x,magpsf, magnr): # change the name ! \n",
    "    #A = 2 ## here for pos flux, =1/2 for neg \n",
    "    if (x == 't') or (x == '1'):\n",
    "        return magpsf < (magnr+0)\n",
    "    # maskneg = (df['isdiffpos'] == 'f') | (df['isdiffpos'] == '0')\n",
    "    return magpsf < (magnr+2.5*np.log10(2))"
   ]
  },
  {
   "cell_type": "code",
   "execution_count": 229,
   "id": "53efd649-7a4c-42ed-8a9f-fe718dd54c00",
   "metadata": {},
   "outputs": [
    {
     "name": "stdout",
     "output_type": "stream",
     "text": [
      "1\n",
      "59080 59110\n",
      "1 59095 59093 59096 17.29490089416504 16.30780029296875 14.767000198364258 14.777999877929688\n",
      "1 59095 59093 59096 17.29490089416504 16.30780029296875 14.767000198364258 14.777999877929688\n",
      "1 59095 59093 59096 17.29490089416504 16.30780029296875 14.767000198364258 14.777999877929688\n",
      "1 59109 59107 59110 16.672399520874023 16.578699111938477 14.878000259399414 14.767000198364258\n",
      "1 59109 59107 59110 16.672399520874023 16.578699111938477 14.878000259399414 14.767000198364258\n",
      "1 59109 59107 59110 16.672399520874023 16.578699111938477 14.878000259399414 14.767000198364258\n",
      "1 59109 59107 59110 16.672399520874023 16.578699111938477 14.878000259399414 14.767000198364258\n",
      "2\n",
      "59081 59110\n",
      "2 59086 59085 59087 16.15530014038086 17.04829978942871 14.472999572753906 14.472999572753906\n",
      "2 59086 59085 59087 16.15530014038086 17.04829978942871 14.472999572753906 14.472999572753906\n",
      "2 59086 59085 59087 16.15530014038086 17.04829978942871 14.472999572753906 14.472999572753906\n",
      "2 59086 59085 59087 16.15530014038086 17.04829978942871 14.472999572753906 14.472999572753906\n",
      "2 59086 59085 59087 16.15530014038086 17.04829978942871 14.472999572753906 14.472999572753906\n",
      "2 59086 59085 59087 16.15530014038086 17.04829978942871 14.472999572753906 14.472999572753906\n",
      "2 59090 59089 59094 16.310199737548828 16.2632999420166 14.472999572753906 14.472999572753906\n",
      "2 59090 59089 59094 16.310199737548828 16.2632999420166 14.472999572753906 14.472999572753906\n",
      "2 59090 59089 59094 16.310199737548828 16.2632999420166 14.472999572753906 14.472999572753906\n",
      "2 59093 59089 59094 16.310199737548828 16.2632999420166 14.472999572753906 14.472999572753906\n",
      "2 59095 59094 59097 16.2632999420166 17.269899368286133 14.472999572753906 14.517999649047852\n",
      "2 59095 59094 59097 16.2632999420166 17.269899368286133 14.472999572753906 14.517999649047852\n",
      "2 59096 59094 59097 16.2632999420166 17.269899368286133 14.472999572753906 14.517999649047852\n",
      "2 59096 59094 59097 16.2632999420166 17.269899368286133 14.472999572753906 14.517999649047852\n",
      "2 59096 59094 59097 16.2632999420166 17.269899368286133 14.472999572753906 14.517999649047852\n",
      "2 59099 59098 59106 16.970600128173828 16.871999740600586 14.472999572753906 14.472999572753906\n",
      "2 59099 59098 59106 16.970600128173828 16.871999740600586 14.472999572753906 14.472999572753906\n",
      "2 59102 59098 59106 16.970600128173828 16.871999740600586 14.472999572753906 14.472999572753906\n",
      "2 59102 59098 59106 16.970600128173828 16.871999740600586 14.472999572753906 14.472999572753906\n",
      "2 59104 59098 59106 16.970600128173828 16.871999740600586 14.472999572753906 14.472999572753906\n",
      "2 59104 59098 59106 16.970600128173828 16.871999740600586 14.472999572753906 14.472999572753906\n",
      "2 59104 59098 59106 16.970600128173828 16.871999740600586 14.472999572753906 14.472999572753906\n",
      "2 59109 59108 59110 16.870399475097656 16.684457778930664 14.472999572753906 14.517999649047852\n",
      "2 59109 59108 59110 16.870399475097656 16.684457778930664 14.472999572753906 14.517999649047852\n",
      "2 59109 59108 59110 16.870399475097656 16.684457778930664 14.472999572753906 14.517999649047852\n",
      "2 59109 59108 59110 16.870399475097656 16.684457778930664 14.472999572753906 14.517999649047852\n",
      "2 59109 59108 59110 16.870399475097656 16.684457778930664 14.472999572753906 14.517999649047852\n"
     ]
    }
   ],
   "source": [
    "    \n",
    "for filt in np.unique(df_valid['fid']):\n",
    "    print(filt)\n",
    "    df_fid = df_valid[df_valid['fid'] == filt]\n",
    "    min_mjd2 = df_fid['mjd'].min()\n",
    "    max_mjd2 = df_fid['mjd'].max()\n",
    "    print(min_mjd2,max_mjd2)\n",
    "\n",
    "    \n",
    "    for index, row in df_Upper[df_Upper['fid'] == filt][['mjd']].iterrows():\n",
    "        # If valid data and an upper limit are both present in a given day, \n",
    "        # we only consider the valid data, (we drope upperlim)\n",
    "        if len(df_fid[df_fid['mjd'] == row['mjd']]) > 0 :\n",
    "            df_Upper.drop(index, inplace=True)\n",
    "        # elif row['mjd'] < min_mjd2 or row['mjd'] > max_mjd: \n",
    "        #     df_Upper.drop(index, inplace=True)\n",
    "\n",
    "        \n",
    "        elif row['mjd'] < min_mjd2 : #or row['mjd'] > max_mjd: \n",
    "             df_min = df_fid[(df_fid['mjd'] == min_mjd2)]\n",
    "             idx = df_min['magpsf'].idxmax()\n",
    "             x = df_min['isdiffpos'].loc[idx]\n",
    "             magpsf_down, magnr_down = df_min[['magpsf','magnr']].loc[idx]\n",
    "             if get_pos_neg(x,magpsf_down, magnr_down): \n",
    "                 df_Upper.drop(index, inplace=True)\n",
    "\n",
    "        elif row['mjd'] > max_mjd2 :\n",
    "             df_max = df_fid[(df_fid['mjd'] == max_mjd2)]\n",
    "             idx = df_max['magpsf'].idxmax()\n",
    "             x = df_max['isdiffpos'].loc[idx]\n",
    "             magpsf_up, magnr_up = df_max[['magpsf','magnr']].loc[idx]\n",
    "             if get_pos_neg(x,magpsf_up, magnr_up): \n",
    "                 df_Upper.drop(index, inplace=True)\n",
    "\n",
    "\n",
    "        else:\n",
    "            lower_bound,upper_bound = get_interval(row['mjd'],filt, min_mjd2, max_mjd2, df_valid)\n",
    "            # print(filt, row['mjd'], lower_bound, upper_bound)\n",
    "                  \n",
    "            df_down = df_fid[(df_fid['mjd'] == lower_bound)]\n",
    "            idx_down = df_down['magpsf'].idxmax()\n",
    "            x_down = df_down['isdiffpos'].loc[idx_down]\n",
    "            magnr_down, magpsf_down = df_down[['magnr','magpsf']].loc[idx_down]\n",
    "\n",
    "\n",
    "            df_up = df_fid[(df_fid['mjd'] == upper_bound)]\n",
    "            idx_up = df_up['magpsf'].idxmax()\n",
    "            x_up = df_up['isdiffpos'].loc[idx_up]\n",
    "            magnr_up, magpsf_up = df_up[['magnr','magpsf']].loc[idx_up]\n",
    "            \n",
    "            \n",
    "            print(filt, row['mjd'], lower_bound, upper_bound, magpsf_down, magpsf_up, magnr_down, magnr_up)\n",
    "            if get_pos_neg(x_down, magpsf_down, magnr_down) and get_pos_neg(x_up, magpsf_up, magnr_up):\n",
    "                print(\"A>1\")\n",
    "                df_Upper.drop(index, inplace=True)\n",
    "\n",
    "\n",
    "            "
   ]
  },
  {
   "cell_type": "code",
   "execution_count": 230,
   "id": "73a247d0-0756-43af-8a11-877c10d5fb3e",
   "metadata": {},
   "outputs": [],
   "source": [
    "there_upper = (len(df_Upper)>0)\n",
    "if there_upper:\n",
    "    \n",
    "    is_Source_by_fid = df_valid.groupby(['fid', 'is_Source']).size().unstack(fill_value=0).sort_index()\n",
    "\n",
    "    # # Determine which count is highest\n",
    "    is_Source_by_fid['Highest_bool'] = is_Source_by_fid.idxmax(axis=1)\n",
    "    ### if there is no valid data we drop upper limit data (so why do we still modify its mean !)\n",
    "\n",
    "    \n",
    "    \n",
    "    if is_Source_by_fid['Highest_bool'].iloc[0]: \n",
    "        mean_sigmnr_g = np.sqrt((df_valid[df_valid['fid'] == 1]['sigmagnr'] ** 2).mean())\n",
    "    else:\n",
    "        ref_value_g = np.inf\n",
    "        mean_sigmnr_g = 0\n",
    "\n",
    "        \n",
    "    if is_Source_by_fid['Highest_bool'].iloc[1]: \n",
    "        mean_sigmnr_r = np.sqrt((df_valid[df_valid['fid'] == 2]['sigmagnr'] ** 2).mean())\n",
    "    else:\n",
    "        ref_value_r = np.inf\n",
    "        mean_sigmnr_r = 0\n",
    "                \n",
    "        \n",
    "    \n",
    "    from FAnomAly.flux import apparent_flux_Upper\n",
    "\n",
    "    dc_flux, dc_sigflux,nr_sigflux = np.transpose(\n",
    "        [\n",
    "            apparent_flux_Upper(*args, ref_value_r, ref_value_g, mean_sigmnr_r, mean_sigmnr_g, jansky=True) for args in zip(\n",
    "                df_Upper['diffmaglim'].astype(float).values,\n",
    "                df_Upper['fid'].astype(int).values,\n",
    "\n",
    "            )  \n",
    "        ]\n",
    "     )\n",
    "\n",
    "    df_Upper['dc_flux'] = dc_flux\n",
    "    df_Upper['dc_sigflux'] = dc_sigflux\n",
    "    df_Upper['nr_sigflux'] = nr_sigflux\n",
    "    df_Upper['nr_flux'] = dc_flux"
   ]
  },
  {
   "cell_type": "markdown",
   "id": "e64a918d",
   "metadata": {},
   "source": [
    "### Plot the apparent DC flux (in millijansky) for both valid and upper limits data."
   ]
  },
  {
   "cell_type": "code",
   "execution_count": 231,
   "id": "db693860",
   "metadata": {},
   "outputs": [
    {
     "data": {
      "image/png": "[encoded data removed]",
      "text/plain": [
       "<Figure size 1500x700 with 1 Axes>"
      ]
     },
     "metadata": {},
     "output_type": "display_data"
    }
   ],
   "source": [
    "fig = plt.figure(figsize=(15, 7))\n",
    "\n",
    "\n",
    "for filt in np.unique(df['fid']):\n",
    "    mask = df_valid['fid'] == filt\n",
    "    sub = df_valid[mask]\n",
    "    plt.errorbar(\n",
    "        sub['mjd'],#.apply(lambda x: x - 2400000.5),\n",
    "        sub['dc_flux']*1e3, \n",
    "        sub['dc_sigflux']*1e3,\n",
    "        ls='', \n",
    "        marker='o',\n",
    "        color=colordic[filt], \n",
    "\n",
    "        label=f\"{filt} valid\"\n",
    "    )\n",
    "    \n",
    "    if there_upper:\n",
    "        mask2 = df_Upper['fid'] == filt\n",
    "        plt.errorbar(\n",
    "        df_Upper[mask2]['mjd'],#.apply(lambda x: x - 2400000.5),\n",
    "        df_Upper[mask2]['dc_flux']*1e3,\n",
    "        df_Upper[mask2]['dc_sigflux']*1e3,\n",
    "        ls='', \n",
    "        marker='.',\n",
    "        color=colordic[filt], \n",
    "\n",
    "        label=f\"{filt} Upperlim\"\n",
    "        )\n",
    "#     break\n",
    "        \n",
    "plt.legend()\n",
    "\n",
    "plt.xlabel('Modified Julian Date [UTC]')\n",
    "plt.ylabel('Apparent DC flux (millijanksy)');"
   ]
  },
  {
   "cell_type": "markdown",
   "id": "a7453ea6",
   "metadata": {},
   "source": [
    "# "
   ]
  },
  {
   "cell_type": "markdown",
   "id": "85cf0776",
   "metadata": {},
   "source": [
    "# "
   ]
  },
  {
   "cell_type": "markdown",
   "id": "fbae0fe5",
   "metadata": {},
   "source": [
    "# 7) Combine Upper with valid "
   ]
  },
  {
   "cell_type": "markdown",
   "id": "616249f2",
   "metadata": {},
   "source": [
    "We merge the data from the upper limit and valid datasets based on specific columns."
   ]
  },
  {
   "cell_type": "code",
   "execution_count": 232,
   "id": "cd84cb6d-c758-40cd-9e62-b2139c1e2346",
   "metadata": {},
   "outputs": [],
   "source": [
    "df_valid['is_valid'] = True\n",
    "df_Upper['is_valid'] = False"
   ]
  },
  {
   "cell_type": "code",
   "execution_count": 233,
   "id": "83977c33",
   "metadata": {},
   "outputs": [],
   "source": [
    "columns_to_keep = ['mjd', 'fid','dc_flux', 'dc_sigflux', 'nr_flux', 'nr_sigflux','source','is_valid']\n",
    "if there_upper: \n",
    "    df_Upper['source'] = 1\n",
    "    combined_df = pd.concat([df_Upper[columns_to_keep], df_valid[columns_to_keep]], axis=0)\n",
    "else:\n",
    "    combined_df = df_valid[columns_to_keep].copy()"
   ]
  },
  {
   "cell_type": "code",
   "execution_count": 234,
   "id": "58ffe38b",
   "metadata": {},
   "outputs": [],
   "source": [
    "combined_df.sort_index(inplace=True)"
   ]
  },
  {
   "cell_type": "code",
   "execution_count": 235,
   "id": "58d6a86d",
   "metadata": {},
   "outputs": [
    {
     "data": {
      "text/html": [
       "<div>\n",
       "<style scoped>\n",
       "    .dataframe tbody tr th:only-of-type {\n",
       "        vertical-align: middle;\n",
       "    }\n",
       "\n",
       "    .dataframe tbody tr th {\n",
       "        vertical-align: top;\n",
       "    }\n",
       "\n",
       "    .dataframe thead th {\n",
       "        text-align: right;\n",
       "    }\n",
       "</style>\n",
       "<table border=\"1\" class=\"dataframe\">\n",
       "  <thead>\n",
       "    <tr style=\"text-align: right;\">\n",
       "      <th></th>\n",
       "      <th>mjd</th>\n",
       "      <th>fid</th>\n",
       "      <th>dc_flux</th>\n",
       "      <th>dc_sigflux</th>\n",
       "      <th>nr_flux</th>\n",
       "      <th>nr_sigflux</th>\n",
       "      <th>source</th>\n",
       "      <th>is_valid</th>\n",
       "    </tr>\n",
       "  </thead>\n",
       "  <tbody>\n",
       "    <tr>\n",
       "      <th>0</th>\n",
       "      <td>59080</td>\n",
       "      <td>1</td>\n",
       "      <td>0.005585</td>\n",
       "      <td>0.000099</td>\n",
       "      <td>0.004063</td>\n",
       "      <td>0.000079</td>\n",
       "      <td>1</td>\n",
       "      <td>True</td>\n",
       "    </tr>\n",
       "    <tr>\n",
       "      <th>1</th>\n",
       "      <td>59080</td>\n",
       "      <td>1</td>\n",
       "      <td>0.005488</td>\n",
       "      <td>0.000109</td>\n",
       "      <td>0.004063</td>\n",
       "      <td>0.000079</td>\n",
       "      <td>1</td>\n",
       "      <td>True</td>\n",
       "    </tr>\n",
       "  </tbody>\n",
       "</table>\n",
       "</div>"
      ],
      "text/plain": [
       "     mjd  fid   dc_flux  dc_sigflux   nr_flux  nr_sigflux  source  is_valid\n",
       "0  59080    1  0.005585    0.000099  0.004063    0.000079       1      True\n",
       "1  59080    1  0.005488    0.000109  0.004063    0.000079       1      True"
      ]
     },
     "execution_count": 235,
     "metadata": {},
     "output_type": "execute_result"
    }
   ],
   "source": [
    "combined_df.head(2)"
   ]
  },
  {
   "cell_type": "markdown",
   "id": "daf479ce",
   "metadata": {},
   "source": [
    "# "
   ]
  },
  {
   "cell_type": "markdown",
   "id": "a7dbd07c",
   "metadata": {},
   "source": [
    "# "
   ]
  },
  {
   "cell_type": "markdown",
   "id": "d5b941e8",
   "metadata": {},
   "source": [
    "# 8) Data by days "
   ]
  },
  {
   "cell_type": "markdown",
   "id": "6ade442e",
   "metadata": {},
   "source": [
    "Here, we group the data by modified Julian date on a daily basis and by filter ID (1 for g, 2 for R, 3 for i), computing the average values of flux and sigma flux(for both DC and NR) using the `Weighted_Mean` functions."
   ]
  },
  {
   "cell_type": "code",
   "execution_count": 236,
   "id": "2423f88e",
   "metadata": {},
   "outputs": [],
   "source": [
    "# combined_df.loc[:, 'mjd'] = (combined_df['jd'] - 2400000.5).astype(int)"
   ]
  },
  {
   "cell_type": "markdown",
   "id": "560339d1",
   "metadata": {},
   "source": [
    "#### group the data by mjd and by filter"
   ]
  },
  {
   "cell_type": "code",
   "execution_count": 237,
   "id": "70711f96",
   "metadata": {},
   "outputs": [],
   "source": [
    "df_group = combined_df.groupby(['mjd','fid'])"
   ]
  },
  {
   "cell_type": "markdown",
   "id": "cd94fb10",
   "metadata": {},
   "source": [
    "#### calculate the average values"
   ]
  },
  {
   "cell_type": "code",
   "execution_count": 238,
   "id": "2c011297",
   "metadata": {},
   "outputs": [],
   "source": [
    "from FAnomAly.Weighted_Mean import Weighted_Mean_general\n",
    "\n",
    "df_by_days = pd.DataFrame()\n",
    "df_by_days = df_group.apply(Weighted_Mean_general, flux_col='dc_flux', sigflux_col='dc_sigflux')"
   ]
  },
  {
   "cell_type": "code",
   "execution_count": 239,
   "id": "aaf35e26",
   "metadata": {},
   "outputs": [],
   "source": [
    "df_by_days[['nr_flux', 'nr_sigflux']] = df_group.apply(Weighted_Mean_general, flux_col='nr_flux',sigflux_col='nr_sigflux')"
   ]
  },
  {
   "cell_type": "markdown",
   "id": "31273442",
   "metadata": {},
   "source": [
    "We extract the initial value from the 'source' column within each group. It's noteworthy that on any given day (represented by 'r/g'), there might be either missing data or available data."
   ]
  },
  {
   "cell_type": "code",
   "execution_count": 240,
   "id": "52214c97",
   "metadata": {},
   "outputs": [],
   "source": [
    "df_by_days['source'] = df_group.apply(lambda group: group['source'].iloc[0])\n",
    "df_by_days['is_valid'] = df_group.apply(lambda group: group['is_valid'].iloc[0])"
   ]
  },
  {
   "cell_type": "code",
   "execution_count": 241,
   "id": "ad74da68",
   "metadata": {
    "scrolled": true
   },
   "outputs": [],
   "source": [
    "# Only once !...\n",
    "df_by_days.reset_index(inplace=True)"
   ]
  },
  {
   "cell_type": "code",
   "execution_count": 242,
   "id": "22b932d1",
   "metadata": {},
   "outputs": [
    {
     "data": {
      "text/html": [
       "<div>\n",
       "<style scoped>\n",
       "    .dataframe tbody tr th:only-of-type {\n",
       "        vertical-align: middle;\n",
       "    }\n",
       "\n",
       "    .dataframe tbody tr th {\n",
       "        vertical-align: top;\n",
       "    }\n",
       "\n",
       "    .dataframe thead th {\n",
       "        text-align: right;\n",
       "    }\n",
       "</style>\n",
       "<table border=\"1\" class=\"dataframe\">\n",
       "  <thead>\n",
       "    <tr style=\"text-align: right;\">\n",
       "      <th></th>\n",
       "      <th>mjd</th>\n",
       "      <th>fid</th>\n",
       "      <th>dc_flux</th>\n",
       "      <th>dc_sigflux</th>\n",
       "      <th>nr_flux</th>\n",
       "      <th>nr_sigflux</th>\n",
       "      <th>source</th>\n",
       "      <th>is_valid</th>\n",
       "    </tr>\n",
       "  </thead>\n",
       "  <tbody>\n",
       "    <tr>\n",
       "      <th>0</th>\n",
       "      <td>59080</td>\n",
       "      <td>1</td>\n",
       "      <td>0.005448</td>\n",
       "      <td>0.000035</td>\n",
       "      <td>0.004384</td>\n",
       "      <td>0.000072</td>\n",
       "      <td>1</td>\n",
       "      <td>True</td>\n",
       "    </tr>\n",
       "    <tr>\n",
       "      <th>1</th>\n",
       "      <td>59081</td>\n",
       "      <td>1</td>\n",
       "      <td>0.004911</td>\n",
       "      <td>0.000089</td>\n",
       "      <td>0.004063</td>\n",
       "      <td>0.000056</td>\n",
       "      <td>1</td>\n",
       "      <td>True</td>\n",
       "    </tr>\n",
       "    <tr>\n",
       "      <th>2</th>\n",
       "      <td>59081</td>\n",
       "      <td>2</td>\n",
       "      <td>0.006481</td>\n",
       "      <td>0.000097</td>\n",
       "      <td>0.005900</td>\n",
       "      <td>0.000076</td>\n",
       "      <td>1</td>\n",
       "      <td>True</td>\n",
       "    </tr>\n",
       "    <tr>\n",
       "      <th>3</th>\n",
       "      <td>59082</td>\n",
       "      <td>1</td>\n",
       "      <td>0.003895</td>\n",
       "      <td>0.000094</td>\n",
       "      <td>0.004455</td>\n",
       "      <td>0.000078</td>\n",
       "      <td>1</td>\n",
       "      <td>True</td>\n",
       "    </tr>\n",
       "    <tr>\n",
       "      <th>4</th>\n",
       "      <td>59082</td>\n",
       "      <td>2</td>\n",
       "      <td>0.005387</td>\n",
       "      <td>0.000155</td>\n",
       "      <td>0.005900</td>\n",
       "      <td>0.000152</td>\n",
       "      <td>1</td>\n",
       "      <td>True</td>\n",
       "    </tr>\n",
       "    <tr>\n",
       "      <th>5</th>\n",
       "      <td>59084</td>\n",
       "      <td>1</td>\n",
       "      <td>0.003722</td>\n",
       "      <td>0.000106</td>\n",
       "      <td>0.004455</td>\n",
       "      <td>0.000078</td>\n",
       "      <td>1</td>\n",
       "      <td>True</td>\n",
       "    </tr>\n",
       "    <tr>\n",
       "      <th>6</th>\n",
       "      <td>59084</td>\n",
       "      <td>2</td>\n",
       "      <td>0.004889</td>\n",
       "      <td>0.000088</td>\n",
       "      <td>0.005705</td>\n",
       "      <td>0.000093</td>\n",
       "      <td>1</td>\n",
       "      <td>True</td>\n",
       "    </tr>\n",
       "    <tr>\n",
       "      <th>7</th>\n",
       "      <td>59085</td>\n",
       "      <td>1</td>\n",
       "      <td>0.005166</td>\n",
       "      <td>0.000035</td>\n",
       "      <td>0.004384</td>\n",
       "      <td>0.000097</td>\n",
       "      <td>1</td>\n",
       "      <td>True</td>\n",
       "    </tr>\n",
       "    <tr>\n",
       "      <th>8</th>\n",
       "      <td>59085</td>\n",
       "      <td>2</td>\n",
       "      <td>0.007095</td>\n",
       "      <td>0.000043</td>\n",
       "      <td>0.005775</td>\n",
       "      <td>0.000069</td>\n",
       "      <td>1</td>\n",
       "      <td>True</td>\n",
       "    </tr>\n",
       "    <tr>\n",
       "      <th>9</th>\n",
       "      <td>59086</td>\n",
       "      <td>1</td>\n",
       "      <td>0.004028</td>\n",
       "      <td>0.000262</td>\n",
       "      <td>0.004375</td>\n",
       "      <td>0.000131</td>\n",
       "      <td>1</td>\n",
       "      <td>True</td>\n",
       "    </tr>\n",
       "    <tr>\n",
       "      <th>10</th>\n",
       "      <td>59086</td>\n",
       "      <td>2</td>\n",
       "      <td>0.005797</td>\n",
       "      <td>0.000045</td>\n",
       "      <td>0.005797</td>\n",
       "      <td>0.000040</td>\n",
       "      <td>1</td>\n",
       "      <td>False</td>\n",
       "    </tr>\n",
       "    <tr>\n",
       "      <th>11</th>\n",
       "      <td>59087</td>\n",
       "      <td>2</td>\n",
       "      <td>0.005349</td>\n",
       "      <td>0.000165</td>\n",
       "      <td>0.005900</td>\n",
       "      <td>0.000152</td>\n",
       "      <td>1</td>\n",
       "      <td>True</td>\n",
       "    </tr>\n",
       "    <tr>\n",
       "      <th>12</th>\n",
       "      <td>59088</td>\n",
       "      <td>1</td>\n",
       "      <td>0.003398</td>\n",
       "      <td>0.000046</td>\n",
       "      <td>0.004375</td>\n",
       "      <td>0.000131</td>\n",
       "      <td>1</td>\n",
       "      <td>True</td>\n",
       "    </tr>\n",
       "    <tr>\n",
       "      <th>13</th>\n",
       "      <td>59088</td>\n",
       "      <td>2</td>\n",
       "      <td>0.004924</td>\n",
       "      <td>0.000172</td>\n",
       "      <td>0.005900</td>\n",
       "      <td>0.000152</td>\n",
       "      <td>1</td>\n",
       "      <td>True</td>\n",
       "    </tr>\n",
       "    <tr>\n",
       "      <th>14</th>\n",
       "      <td>59089</td>\n",
       "      <td>1</td>\n",
       "      <td>0.005437</td>\n",
       "      <td>0.000072</td>\n",
       "      <td>0.004260</td>\n",
       "      <td>0.000196</td>\n",
       "      <td>1</td>\n",
       "      <td>True</td>\n",
       "    </tr>\n",
       "    <tr>\n",
       "      <th>15</th>\n",
       "      <td>59089</td>\n",
       "      <td>2</td>\n",
       "      <td>0.006994</td>\n",
       "      <td>0.000084</td>\n",
       "      <td>0.005748</td>\n",
       "      <td>0.000067</td>\n",
       "      <td>1</td>\n",
       "      <td>True</td>\n",
       "    </tr>\n",
       "    <tr>\n",
       "      <th>16</th>\n",
       "      <td>59090</td>\n",
       "      <td>1</td>\n",
       "      <td>0.005030</td>\n",
       "      <td>0.000117</td>\n",
       "      <td>0.004346</td>\n",
       "      <td>0.000209</td>\n",
       "      <td>1</td>\n",
       "      <td>True</td>\n",
       "    </tr>\n",
       "    <tr>\n",
       "      <th>17</th>\n",
       "      <td>59090</td>\n",
       "      <td>2</td>\n",
       "      <td>0.005797</td>\n",
       "      <td>0.000067</td>\n",
       "      <td>0.005797</td>\n",
       "      <td>0.000056</td>\n",
       "      <td>1</td>\n",
       "      <td>False</td>\n",
       "    </tr>\n",
       "    <tr>\n",
       "      <th>18</th>\n",
       "      <td>59091</td>\n",
       "      <td>1</td>\n",
       "      <td>0.004150</td>\n",
       "      <td>0.000062</td>\n",
       "      <td>0.004500</td>\n",
       "      <td>0.000058</td>\n",
       "      <td>1</td>\n",
       "      <td>True</td>\n",
       "    </tr>\n",
       "    <tr>\n",
       "      <th>19</th>\n",
       "      <td>59092</td>\n",
       "      <td>1</td>\n",
       "      <td>0.003581</td>\n",
       "      <td>0.000059</td>\n",
       "      <td>0.004484</td>\n",
       "      <td>0.000047</td>\n",
       "      <td>1</td>\n",
       "      <td>True</td>\n",
       "    </tr>\n",
       "    <tr>\n",
       "      <th>20</th>\n",
       "      <td>59093</td>\n",
       "      <td>1</td>\n",
       "      <td>0.004914</td>\n",
       "      <td>0.000055</td>\n",
       "      <td>0.004346</td>\n",
       "      <td>0.000209</td>\n",
       "      <td>1</td>\n",
       "      <td>True</td>\n",
       "    </tr>\n",
       "    <tr>\n",
       "      <th>21</th>\n",
       "      <td>59093</td>\n",
       "      <td>2</td>\n",
       "      <td>0.005797</td>\n",
       "      <td>0.000179</td>\n",
       "      <td>0.005797</td>\n",
       "      <td>0.000097</td>\n",
       "      <td>1</td>\n",
       "      <td>False</td>\n",
       "    </tr>\n",
       "    <tr>\n",
       "      <th>22</th>\n",
       "      <td>59094</td>\n",
       "      <td>2</td>\n",
       "      <td>0.007003</td>\n",
       "      <td>0.000069</td>\n",
       "      <td>0.005775</td>\n",
       "      <td>0.000120</td>\n",
       "      <td>1</td>\n",
       "      <td>True</td>\n",
       "    </tr>\n",
       "    <tr>\n",
       "      <th>23</th>\n",
       "      <td>59095</td>\n",
       "      <td>1</td>\n",
       "      <td>0.004327</td>\n",
       "      <td>0.000066</td>\n",
       "      <td>0.004327</td>\n",
       "      <td>0.000042</td>\n",
       "      <td>1</td>\n",
       "      <td>False</td>\n",
       "    </tr>\n",
       "    <tr>\n",
       "      <th>24</th>\n",
       "      <td>59095</td>\n",
       "      <td>2</td>\n",
       "      <td>0.005797</td>\n",
       "      <td>0.000133</td>\n",
       "      <td>0.005797</td>\n",
       "      <td>0.000069</td>\n",
       "      <td>1</td>\n",
       "      <td>False</td>\n",
       "    </tr>\n",
       "    <tr>\n",
       "      <th>25</th>\n",
       "      <td>59096</td>\n",
       "      <td>1</td>\n",
       "      <td>0.003366</td>\n",
       "      <td>0.000082</td>\n",
       "      <td>0.004455</td>\n",
       "      <td>0.000078</td>\n",
       "      <td>1</td>\n",
       "      <td>True</td>\n",
       "    </tr>\n",
       "    <tr>\n",
       "      <th>26</th>\n",
       "      <td>59096</td>\n",
       "      <td>2</td>\n",
       "      <td>0.005797</td>\n",
       "      <td>0.000090</td>\n",
       "      <td>0.005797</td>\n",
       "      <td>0.000056</td>\n",
       "      <td>1</td>\n",
       "      <td>False</td>\n",
       "    </tr>\n",
       "    <tr>\n",
       "      <th>27</th>\n",
       "      <td>59097</td>\n",
       "      <td>1</td>\n",
       "      <td>0.003347</td>\n",
       "      <td>0.000049</td>\n",
       "      <td>0.004260</td>\n",
       "      <td>0.000113</td>\n",
       "      <td>1</td>\n",
       "      <td>True</td>\n",
       "    </tr>\n",
       "    <tr>\n",
       "      <th>28</th>\n",
       "      <td>59097</td>\n",
       "      <td>2</td>\n",
       "      <td>0.005223</td>\n",
       "      <td>0.000070</td>\n",
       "      <td>0.005705</td>\n",
       "      <td>0.000093</td>\n",
       "      <td>1</td>\n",
       "      <td>True</td>\n",
       "    </tr>\n",
       "    <tr>\n",
       "      <th>29</th>\n",
       "      <td>59098</td>\n",
       "      <td>2</td>\n",
       "      <td>0.006435</td>\n",
       "      <td>0.000062</td>\n",
       "      <td>0.005775</td>\n",
       "      <td>0.000120</td>\n",
       "      <td>1</td>\n",
       "      <td>True</td>\n",
       "    </tr>\n",
       "    <tr>\n",
       "      <th>30</th>\n",
       "      <td>59099</td>\n",
       "      <td>2</td>\n",
       "      <td>0.005797</td>\n",
       "      <td>0.000100</td>\n",
       "      <td>0.005797</td>\n",
       "      <td>0.000069</td>\n",
       "      <td>1</td>\n",
       "      <td>False</td>\n",
       "    </tr>\n",
       "    <tr>\n",
       "      <th>31</th>\n",
       "      <td>59102</td>\n",
       "      <td>2</td>\n",
       "      <td>0.005797</td>\n",
       "      <td>0.000268</td>\n",
       "      <td>0.005797</td>\n",
       "      <td>0.000069</td>\n",
       "      <td>1</td>\n",
       "      <td>False</td>\n",
       "    </tr>\n",
       "    <tr>\n",
       "      <th>32</th>\n",
       "      <td>59104</td>\n",
       "      <td>2</td>\n",
       "      <td>0.005797</td>\n",
       "      <td>0.000098</td>\n",
       "      <td>0.005797</td>\n",
       "      <td>0.000056</td>\n",
       "      <td>1</td>\n",
       "      <td>False</td>\n",
       "    </tr>\n",
       "    <tr>\n",
       "      <th>33</th>\n",
       "      <td>59106</td>\n",
       "      <td>1</td>\n",
       "      <td>0.003431</td>\n",
       "      <td>0.000061</td>\n",
       "      <td>0.004484</td>\n",
       "      <td>0.000047</td>\n",
       "      <td>1</td>\n",
       "      <td>True</td>\n",
       "    </tr>\n",
       "    <tr>\n",
       "      <th>34</th>\n",
       "      <td>59106</td>\n",
       "      <td>2</td>\n",
       "      <td>0.005114</td>\n",
       "      <td>0.000171</td>\n",
       "      <td>0.005775</td>\n",
       "      <td>0.000120</td>\n",
       "      <td>1</td>\n",
       "      <td>True</td>\n",
       "    </tr>\n",
       "    <tr>\n",
       "      <th>35</th>\n",
       "      <td>59107</td>\n",
       "      <td>1</td>\n",
       "      <td>0.004841</td>\n",
       "      <td>0.000098</td>\n",
       "      <td>0.004063</td>\n",
       "      <td>0.000079</td>\n",
       "      <td>1</td>\n",
       "      <td>True</td>\n",
       "    </tr>\n",
       "    <tr>\n",
       "      <th>36</th>\n",
       "      <td>59108</td>\n",
       "      <td>2</td>\n",
       "      <td>0.006494</td>\n",
       "      <td>0.000061</td>\n",
       "      <td>0.005775</td>\n",
       "      <td>0.000120</td>\n",
       "      <td>1</td>\n",
       "      <td>True</td>\n",
       "    </tr>\n",
       "    <tr>\n",
       "      <th>37</th>\n",
       "      <td>59109</td>\n",
       "      <td>1</td>\n",
       "      <td>0.004327</td>\n",
       "      <td>0.000040</td>\n",
       "      <td>0.004327</td>\n",
       "      <td>0.000036</td>\n",
       "      <td>1</td>\n",
       "      <td>False</td>\n",
       "    </tr>\n",
       "    <tr>\n",
       "      <th>38</th>\n",
       "      <td>59109</td>\n",
       "      <td>2</td>\n",
       "      <td>0.005797</td>\n",
       "      <td>0.000060</td>\n",
       "      <td>0.005797</td>\n",
       "      <td>0.000043</td>\n",
       "      <td>1</td>\n",
       "      <td>False</td>\n",
       "    </tr>\n",
       "    <tr>\n",
       "      <th>39</th>\n",
       "      <td>59110</td>\n",
       "      <td>1</td>\n",
       "      <td>0.003652</td>\n",
       "      <td>0.000067</td>\n",
       "      <td>0.004500</td>\n",
       "      <td>0.000058</td>\n",
       "      <td>1</td>\n",
       "      <td>True</td>\n",
       "    </tr>\n",
       "    <tr>\n",
       "      <th>40</th>\n",
       "      <td>59110</td>\n",
       "      <td>2</td>\n",
       "      <td>0.004990</td>\n",
       "      <td>0.000104</td>\n",
       "      <td>0.005775</td>\n",
       "      <td>0.000120</td>\n",
       "      <td>1</td>\n",
       "      <td>True</td>\n",
       "    </tr>\n",
       "  </tbody>\n",
       "</table>\n",
       "</div>"
      ],
      "text/plain": [
       "      mjd  fid   dc_flux  dc_sigflux   nr_flux  nr_sigflux  source  is_valid\n",
       "0   59080    1  0.005448    0.000035  0.004384    0.000072       1      True\n",
       "1   59081    1  0.004911    0.000089  0.004063    0.000056       1      True\n",
       "2   59081    2  0.006481    0.000097  0.005900    0.000076       1      True\n",
       "3   59082    1  0.003895    0.000094  0.004455    0.000078       1      True\n",
       "4   59082    2  0.005387    0.000155  0.005900    0.000152       1      True\n",
       "5   59084    1  0.003722    0.000106  0.004455    0.000078       1      True\n",
       "6   59084    2  0.004889    0.000088  0.005705    0.000093       1      True\n",
       "7   59085    1  0.005166    0.000035  0.004384    0.000097       1      True\n",
       "8   59085    2  0.007095    0.000043  0.005775    0.000069       1      True\n",
       "9   59086    1  0.004028    0.000262  0.004375    0.000131       1      True\n",
       "10  59086    2  0.005797    0.000045  0.005797    0.000040       1     False\n",
       "11  59087    2  0.005349    0.000165  0.005900    0.000152       1      True\n",
       "12  59088    1  0.003398    0.000046  0.004375    0.000131       1      True\n",
       "13  59088    2  0.004924    0.000172  0.005900    0.000152       1      True\n",
       "14  59089    1  0.005437    0.000072  0.004260    0.000196       1      True\n",
       "15  59089    2  0.006994    0.000084  0.005748    0.000067       1      True\n",
       "16  59090    1  0.005030    0.000117  0.004346    0.000209       1      True\n",
       "17  59090    2  0.005797    0.000067  0.005797    0.000056       1     False\n",
       "18  59091    1  0.004150    0.000062  0.004500    0.000058       1      True\n",
       "19  59092    1  0.003581    0.000059  0.004484    0.000047       1      True\n",
       "20  59093    1  0.004914    0.000055  0.004346    0.000209       1      True\n",
       "21  59093    2  0.005797    0.000179  0.005797    0.000097       1     False\n",
       "22  59094    2  0.007003    0.000069  0.005775    0.000120       1      True\n",
       "23  59095    1  0.004327    0.000066  0.004327    0.000042       1     False\n",
       "24  59095    2  0.005797    0.000133  0.005797    0.000069       1     False\n",
       "25  59096    1  0.003366    0.000082  0.004455    0.000078       1      True\n",
       "26  59096    2  0.005797    0.000090  0.005797    0.000056       1     False\n",
       "27  59097    1  0.003347    0.000049  0.004260    0.000113       1      True\n",
       "28  59097    2  0.005223    0.000070  0.005705    0.000093       1      True\n",
       "29  59098    2  0.006435    0.000062  0.005775    0.000120       1      True\n",
       "30  59099    2  0.005797    0.000100  0.005797    0.000069       1     False\n",
       "31  59102    2  0.005797    0.000268  0.005797    0.000069       1     False\n",
       "32  59104    2  0.005797    0.000098  0.005797    0.000056       1     False\n",
       "33  59106    1  0.003431    0.000061  0.004484    0.000047       1      True\n",
       "34  59106    2  0.005114    0.000171  0.005775    0.000120       1      True\n",
       "35  59107    1  0.004841    0.000098  0.004063    0.000079       1      True\n",
       "36  59108    2  0.006494    0.000061  0.005775    0.000120       1      True\n",
       "37  59109    1  0.004327    0.000040  0.004327    0.000036       1     False\n",
       "38  59109    2  0.005797    0.000060  0.005797    0.000043       1     False\n",
       "39  59110    1  0.003652    0.000067  0.004500    0.000058       1      True\n",
       "40  59110    2  0.004990    0.000104  0.005775    0.000120       1      True"
      ]
     },
     "execution_count": 242,
     "metadata": {},
     "output_type": "execute_result"
    }
   ],
   "source": [
    "df_by_days#.tail(2)"
   ]
  },
  {
   "cell_type": "code",
   "execution_count": null,
   "id": "e6471168-6b86-40fc-85dd-adb31db144cd",
   "metadata": {},
   "outputs": [],
   "source": []
  },
  {
   "cell_type": "markdown",
   "id": "9428ad40",
   "metadata": {},
   "source": [
    "# "
   ]
  },
  {
   "cell_type": "markdown",
   "id": "aed6faa8",
   "metadata": {},
   "source": [
    "# "
   ]
  },
  {
   "cell_type": "markdown",
   "id": "a40124d6",
   "metadata": {},
   "source": [
    "# 9) Fill the missing days ! "
   ]
  },
  {
   "cell_type": "markdown",
   "id": "c53876f8",
   "metadata": {},
   "source": [
    "If there are missing days without alerts in the data, we can fill these gaps by inserting average values."
   ]
  },
  {
   "cell_type": "code",
   "execution_count": 243,
   "id": "f33983e1",
   "metadata": {},
   "outputs": [
    {
     "name": "stdout",
     "output_type": "stream",
     "text": [
      "1\n",
      "2\n"
     ]
    }
   ],
   "source": [
    "from FAnomAly.Weighted_Mean import Weighted_Mean_all\n",
    "\n",
    "min_mjd = int(first_day - 2400000.5) #df_by_days['mjd'].min()\n",
    "max_mjd = int(last_day  - 2400000.5) #df_by_days['mjd'].max()\n",
    "# Create a DataFrame all_days containing a range of MJD values from the minimum to the maximum MJD found in df_by_days.\n",
    "all_days = pd.DataFrame({'mjd': range(min_mjd, max_mjd + 1)}) # + 1 i need to check this one ! \n",
    "\n",
    "df_extended = df_by_days\n",
    "# df_extended['source'] = 1 # I need to check for this one\n",
    "\n",
    "\n",
    "there_missing_data = (df_by_days.shape[0] < (max_mjd -min_mjd +1)*2)\n",
    "if there_missing_data:        \n",
    "     for filt in np.unique(df_extended['fid']):\n",
    "        print(filt)\n",
    "        mask = df_extended['fid'] == filt\n",
    "        sub = df_extended[mask]\n",
    "        data_days = df_extended[mask]['mjd']\n",
    "\n",
    "        missing_days = all_days[~all_days['mjd'].isin(data_days)]\n",
    "    \n",
    "    \n",
    "        df_predic = pd.DataFrame(index=missing_days['mjd'])\n",
    "    \n",
    "        dc_flux ,nr_flux = Weighted_Mean_all(sub)\n",
    "        \n",
    "        dc_sigflux = sub['dc_flux'].std()\n",
    "        nr_sigflux = sub['nr_flux'].std()\n",
    "        \n",
    "        #print(dc_flux*1e3, dc_sigflux*1e3 ,nr_flux*1e3 ,nr_sigflux*1e3)\n",
    "\n",
    "        \n",
    "        df_predic[['fid','dc_flux', 'dc_sigflux' ,'nr_flux' ,'nr_sigflux']] = [filt,dc_flux, dc_sigflux ,nr_flux ,nr_sigflux]\n",
    "        df_predic['source'] = 0\n",
    "\n",
    "        # Add a new column 'source' to df_extended\n",
    "\n",
    "        df_extended = pd.concat([df_extended, df_predic.reset_index()], ignore_index=True)\n",
    "        "
   ]
  },
  {
   "cell_type": "code",
   "execution_count": 244,
   "id": "a7c40a59",
   "metadata": {},
   "outputs": [],
   "source": [
    "df_extended.sort_values(by=['mjd','fid'],   inplace=True)\n",
    "df_extended.reset_index(drop= True, inplace=True)"
   ]
  },
  {
   "cell_type": "code",
   "execution_count": 245,
   "id": "18e4d55b",
   "metadata": {},
   "outputs": [
    {
     "data": {
      "text/html": [
       "<div>\n",
       "<style scoped>\n",
       "    .dataframe tbody tr th:only-of-type {\n",
       "        vertical-align: middle;\n",
       "    }\n",
       "\n",
       "    .dataframe tbody tr th {\n",
       "        vertical-align: top;\n",
       "    }\n",
       "\n",
       "    .dataframe thead th {\n",
       "        text-align: right;\n",
       "    }\n",
       "</style>\n",
       "<table border=\"1\" class=\"dataframe\">\n",
       "  <thead>\n",
       "    <tr style=\"text-align: right;\">\n",
       "      <th></th>\n",
       "      <th>mjd</th>\n",
       "      <th>fid</th>\n",
       "      <th>dc_flux</th>\n",
       "      <th>dc_sigflux</th>\n",
       "      <th>nr_flux</th>\n",
       "      <th>nr_sigflux</th>\n",
       "      <th>source</th>\n",
       "      <th>is_valid</th>\n",
       "    </tr>\n",
       "  </thead>\n",
       "  <tbody>\n",
       "    <tr>\n",
       "      <th>0</th>\n",
       "      <td>59080</td>\n",
       "      <td>1</td>\n",
       "      <td>0.005448</td>\n",
       "      <td>0.000035</td>\n",
       "      <td>0.004384</td>\n",
       "      <td>0.000072</td>\n",
       "      <td>1</td>\n",
       "      <td>True</td>\n",
       "    </tr>\n",
       "    <tr>\n",
       "      <th>1</th>\n",
       "      <td>59080</td>\n",
       "      <td>2</td>\n",
       "      <td>0.006127</td>\n",
       "      <td>0.000665</td>\n",
       "      <td>0.005794</td>\n",
       "      <td>0.000055</td>\n",
       "      <td>0</td>\n",
       "      <td>NaN</td>\n",
       "    </tr>\n",
       "  </tbody>\n",
       "</table>\n",
       "</div>"
      ],
      "text/plain": [
       "     mjd  fid   dc_flux  dc_sigflux   nr_flux  nr_sigflux  source is_valid\n",
       "0  59080    1  0.005448    0.000035  0.004384    0.000072       1     True\n",
       "1  59080    2  0.006127    0.000665  0.005794    0.000055       0      NaN"
      ]
     },
     "execution_count": 245,
     "metadata": {},
     "output_type": "execute_result"
    }
   ],
   "source": [
    "df_extended.head(2)"
   ]
  },
  {
   "cell_type": "code",
   "execution_count": 246,
   "id": "1024b5d3",
   "metadata": {},
   "outputs": [
    {
     "data": {
      "text/plain": [
       "(62, 8)"
      ]
     },
     "execution_count": 246,
     "metadata": {},
     "output_type": "execute_result"
    }
   ],
   "source": [
    "df_extended.shape"
   ]
  },
  {
   "cell_type": "markdown",
   "id": "f5c4a387",
   "metadata": {},
   "source": [
    "### plot apparent  DC and nr flux in millijanksy "
   ]
  },
  {
   "cell_type": "code",
   "execution_count": 247,
   "id": "49b1137c",
   "metadata": {},
   "outputs": [
    {
     "data": {
      "image/png": "[encoded data removed]",
      "text/plain": [
       "<Figure size 1000x700 with 1 Axes>"
      ]
     },
     "metadata": {},
     "output_type": "display_data"
    }
   ],
   "source": [
    "fig = plt.figure(figsize=(10, 7))\n",
    "\n",
    "colordic = {1: 'C0', 2: 'C1'}\n",
    "filtdic = {1: 'g', 2: 'r'}\n",
    "\n",
    "\n",
    "for filt in np.unique(df_extended['fid']):\n",
    "    mask = df_extended['fid'] == filt\n",
    "    mask_missing =  df_extended['source'] == 0\n",
    "    mask_original = df_extended['source'] == 1\n",
    "    sub2 = df_extended[mask & mask_missing]\n",
    "    sub = df_extended[mask & mask_original]\n",
    "    \n",
    "    plt.errorbar(\n",
    "        sub['mjd'],\n",
    "        sub['dc_flux']*1e3, \n",
    "        sub['dc_sigflux']*1e3,\n",
    "        ls='', \n",
    "        marker='o',\n",
    "        color=colordic[filt], \n",
    "\n",
    "        label=f\"{filt} original flux dc\"\n",
    "    )\n",
    "    plt.errorbar(\n",
    "        sub2['mjd'],\n",
    "        sub2['dc_flux']*1e3, \n",
    "#         sub2['dc_sigflux']*1e3,\n",
    "        ls='', \n",
    "        marker='x',\n",
    "        color=colordic[filt], \n",
    "\n",
    "        label=f\"{filt} Missing flux dc\"\n",
    "    )\n",
    "    \n",
    "    \n",
    "\n",
    "    \"\"\"plt.errorbar(\n",
    "        df[mask]['mjd'],\n",
    "        df[mask]['nr_flux']*1e3,\n",
    "        df[mask]['nr_sigflux']*1e3,\n",
    "        ls='', \n",
    "        marker='.',\n",
    "        color=colordic[filt], \n",
    "\n",
    "        label=f\"{filt} all nr\"\n",
    "    )\"\"\"\n",
    "    \n",
    "    \n",
    "    \n",
    "plt.legend()\n",
    "\n",
    "plt.xlabel('Modified Julian Date [UTC]')\n",
    "plt.ylabel('Apparent  DC and nr flux (millijanksy)');"
   ]
  },
  {
   "cell_type": "code",
   "execution_count": 248,
   "id": "02336833",
   "metadata": {},
   "outputs": [
    {
     "data": {
      "text/plain": [
       "62"
      ]
     },
     "execution_count": 248,
     "metadata": {},
     "output_type": "execute_result"
    }
   ],
   "source": [
    "len(df_extended['dc_flux'])"
   ]
  },
  {
   "cell_type": "code",
   "execution_count": 249,
   "id": "a6175091",
   "metadata": {
    "scrolled": true
   },
   "outputs": [
    {
     "data": {
      "text/plain": [
       "array([0.88928433, 0.75785022, 0.72304134, 0.71966531, 0.76126016,\n",
       "       0.72820513, 0.69486941, 0.82426709, 0.690035  , 0.77732391,\n",
       "       0.86769622, 0.67729531, 0.584447  , 0.84766939, 0.62963276,\n",
       "       0.74647891, 0.58065873, 0.64075311, 0.68517274, 0.76059589,\n",
       "       0.71966531, 0.71966531, 0.76059589, 0.71966531, 0.76059589,\n",
       "       0.71966531, 0.67092193, 0.79014006, 0.67899904, 0.74647891,\n",
       "       0.7318178 ])"
      ]
     },
     "execution_count": 249,
     "metadata": {},
     "output_type": "execute_result"
    }
   ],
   "source": [
    "test = df_extended['dc_flux'][::2].values/df_extended['dc_flux'][1::2].values\n",
    "test"
   ]
  },
  {
   "cell_type": "code",
   "execution_count": 250,
   "id": "6c034a4d",
   "metadata": {},
   "outputs": [
    {
     "data": {
      "text/plain": [
       "0.8676962189408125"
      ]
     },
     "execution_count": 250,
     "metadata": {},
     "output_type": "execute_result"
    }
   ],
   "source": [
    "test[10]"
   ]
  },
  {
   "cell_type": "code",
   "execution_count": 251,
   "id": "3cfe88c2",
   "metadata": {},
   "outputs": [
    {
     "data": {
      "image/png": "[encoded data removed]",
      "text/plain": [
       "<Figure size 1500x700 with 1 Axes>"
      ]
     },
     "metadata": {},
     "output_type": "display_data"
    }
   ],
   "source": [
    "fig = plt.figure(figsize=(15, 7))\n",
    "\n",
    "\n",
    "for filt in np.unique(df_by_days['fid']):\n",
    "    mask = df_by_days['fid'] == filt\n",
    "    sub = df_by_days\n",
    "    plt.errorbar(\n",
    "        sub[mask]['mjd'],\n",
    "        sub[mask]['dc_flux']*1e3, \n",
    "        sub[mask]['dc_sigflux']*1e3,\n",
    "        ls='', \n",
    "        marker='o',\n",
    "        color=colordic[filt], \n",
    "\n",
    "        label=f\"{filt} all flux dc\"\n",
    "    )\n",
    "    \n",
    "\n",
    "    \"\"\"plt.errorbar(\n",
    "        df[mask]['mjd'],\n",
    "        df[mask]['nr_flux']*1e3,\n",
    "        df[mask]['nr_sigflux']*1e3,\n",
    "        ls='', \n",
    "        marker='.',\n",
    "        color=colordic[filt], \n",
    "\n",
    "        label=f\"{filt} all nr\"\n",
    "    )\"\"\"\n",
    "    \n",
    "    \n",
    "    \n",
    "plt.legend()\n",
    "\n",
    "plt.xlabel('Modified Julian Date [UTC]')\n",
    "plt.ylabel('Apparent  DC and nr flux (millijanksy)');"
   ]
  },
  {
   "cell_type": "markdown",
   "id": "8dbdaf6f",
   "metadata": {},
   "source": [
    "# "
   ]
  },
  {
   "cell_type": "markdown",
   "id": "02ff4db1",
   "metadata": {},
   "source": [
    "# "
   ]
  },
  {
   "cell_type": "markdown",
   "id": "6503bea0",
   "metadata": {},
   "source": [
    "# 10) Create a final dataframe to consolidate the values of this alert into a single row."
   ]
  },
  {
   "cell_type": "markdown",
   "id": "f4a7954a",
   "metadata": {},
   "source": [
    "In this dataframe, include another dataframe as a dictionary containing the values of mjd,flux, sigma, and so on."
   ]
  },
  {
   "cell_type": "code",
   "execution_count": 252,
   "id": "0fe5da42",
   "metadata": {},
   "outputs": [],
   "source": [
    "df_anomaly = pd.DataFrame()\n",
    "df_anomaly['objectId'] = [pdf_last_alert.objectId]\n",
    "df_anomaly['candid'] = [pdf_last_alert.candid]\n",
    "df_anomaly['jd'] = [pdf_last_alert.candidate['jd']]\n",
    "df_anomaly['df'] = [df_extended.to_dict()]"
   ]
  },
  {
   "cell_type": "code",
   "execution_count": 253,
   "id": "5c058243",
   "metadata": {},
   "outputs": [
    {
     "data": {
      "text/html": [
       "<div>\n",
       "<style scoped>\n",
       "    .dataframe tbody tr th:only-of-type {\n",
       "        vertical-align: middle;\n",
       "    }\n",
       "\n",
       "    .dataframe tbody tr th {\n",
       "        vertical-align: top;\n",
       "    }\n",
       "\n",
       "    .dataframe thead th {\n",
       "        text-align: right;\n",
       "    }\n",
       "</style>\n",
       "<table border=\"1\" class=\"dataframe\">\n",
       "  <thead>\n",
       "    <tr style=\"text-align: right;\">\n",
       "      <th></th>\n",
       "      <th>objectId</th>\n",
       "      <th>candid</th>\n",
       "      <th>jd</th>\n",
       "      <th>df</th>\n",
       "    </tr>\n",
       "  </thead>\n",
       "  <tbody>\n",
       "    <tr>\n",
       "      <th>0</th>\n",
       "      <td>ZTF17aabunxe</td>\n",
       "      <td>1356370680315010132</td>\n",
       "      <td>2.459111e+06</td>\n",
       "      <td>{'mjd': {0: 59080, 1: 59080, 2: 59081, 3: 5908...</td>\n",
       "    </tr>\n",
       "  </tbody>\n",
       "</table>\n",
       "</div>"
      ],
      "text/plain": [
       "       objectId               candid            jd  \\\n",
       "0  ZTF17aabunxe  1356370680315010132  2.459111e+06   \n",
       "\n",
       "                                                  df  \n",
       "0  {'mjd': {0: 59080, 1: 59080, 2: 59081, 3: 5908...  "
      ]
     },
     "execution_count": 253,
     "metadata": {},
     "output_type": "execute_result"
    }
   ],
   "source": [
    "df_anomaly"
   ]
  },
  {
   "cell_type": "code",
   "execution_count": 254,
   "id": "5a7ddc53",
   "metadata": {},
   "outputs": [],
   "source": [
    "#Here's an example of how we can utilize the dataframe of the first row:\n",
    "df_test = pd.DataFrame.from_dict(df_anomaly['df'].iloc[0])"
   ]
  },
  {
   "cell_type": "code",
   "execution_count": 255,
   "id": "23333851",
   "metadata": {
    "scrolled": true
   },
   "outputs": [
    {
     "data": {
      "text/html": [
       "<div>\n",
       "<style scoped>\n",
       "    .dataframe tbody tr th:only-of-type {\n",
       "        vertical-align: middle;\n",
       "    }\n",
       "\n",
       "    .dataframe tbody tr th {\n",
       "        vertical-align: top;\n",
       "    }\n",
       "\n",
       "    .dataframe thead th {\n",
       "        text-align: right;\n",
       "    }\n",
       "</style>\n",
       "<table border=\"1\" class=\"dataframe\">\n",
       "  <thead>\n",
       "    <tr style=\"text-align: right;\">\n",
       "      <th></th>\n",
       "      <th>mjd</th>\n",
       "      <th>fid</th>\n",
       "      <th>dc_flux</th>\n",
       "      <th>dc_sigflux</th>\n",
       "      <th>nr_flux</th>\n",
       "      <th>nr_sigflux</th>\n",
       "      <th>source</th>\n",
       "      <th>is_valid</th>\n",
       "    </tr>\n",
       "  </thead>\n",
       "  <tbody>\n",
       "    <tr>\n",
       "      <th>0</th>\n",
       "      <td>59080</td>\n",
       "      <td>1</td>\n",
       "      <td>0.005448</td>\n",
       "      <td>0.000035</td>\n",
       "      <td>0.004384</td>\n",
       "      <td>0.000072</td>\n",
       "      <td>1</td>\n",
       "      <td>True</td>\n",
       "    </tr>\n",
       "    <tr>\n",
       "      <th>1</th>\n",
       "      <td>59080</td>\n",
       "      <td>2</td>\n",
       "      <td>0.006127</td>\n",
       "      <td>0.000665</td>\n",
       "      <td>0.005794</td>\n",
       "      <td>0.000055</td>\n",
       "      <td>0</td>\n",
       "      <td>NaN</td>\n",
       "    </tr>\n",
       "    <tr>\n",
       "      <th>2</th>\n",
       "      <td>59081</td>\n",
       "      <td>1</td>\n",
       "      <td>0.004911</td>\n",
       "      <td>0.000089</td>\n",
       "      <td>0.004063</td>\n",
       "      <td>0.000056</td>\n",
       "      <td>1</td>\n",
       "      <td>True</td>\n",
       "    </tr>\n",
       "    <tr>\n",
       "      <th>3</th>\n",
       "      <td>59081</td>\n",
       "      <td>2</td>\n",
       "      <td>0.006481</td>\n",
       "      <td>0.000097</td>\n",
       "      <td>0.005900</td>\n",
       "      <td>0.000076</td>\n",
       "      <td>1</td>\n",
       "      <td>True</td>\n",
       "    </tr>\n",
       "  </tbody>\n",
       "</table>\n",
       "</div>"
      ],
      "text/plain": [
       "     mjd  fid   dc_flux  dc_sigflux   nr_flux  nr_sigflux  source is_valid\n",
       "0  59080    1  0.005448    0.000035  0.004384    0.000072       1     True\n",
       "1  59080    2  0.006127    0.000665  0.005794    0.000055       0      NaN\n",
       "2  59081    1  0.004911    0.000089  0.004063    0.000056       1     True\n",
       "3  59081    2  0.006481    0.000097  0.005900    0.000076       1     True"
      ]
     },
     "execution_count": 255,
     "metadata": {},
     "output_type": "execute_result"
    }
   ],
   "source": [
    "df_test.head(4)"
   ]
  },
  {
   "cell_type": "markdown",
   "id": "b1adb25b",
   "metadata": {},
   "source": [
    "# "
   ]
  },
  {
   "cell_type": "markdown",
   "id": "f6cf81c9",
   "metadata": {},
   "source": [
    "# "
   ]
  },
  {
   "cell_type": "markdown",
   "id": "cfc2d06d-edd7-4fc4-9f7e-2a2f2f3fe23b",
   "metadata": {},
   "source": [
    "# 11) Alternate logic"
   ]
  },
  {
   "cell_type": "markdown",
   "id": "da659376-88a5-4167-ba62-4a2acc59edcb",
   "metadata": {},
   "source": [
    "Here, the logic si to perform the operations in this order\n",
    "* Transform differential magnitude to flux (for valid points only)\n",
    "* Apply magnr to flux to homogeneize the 0-points\n",
    "* But subtract the average magnr to get back to differential photometry\n",
    "* *Interpolate* with Gaussian Processes\n",
    "* Add back magnr average"
   ]
  },
  {
   "cell_type": "markdown",
   "id": "e8f76edc-f4e4-45c3-8c2b-fe0fcfc63bf4",
   "metadata": {},
   "source": [
    "#### Same as part 5) before, with modificaitons"
   ]
  },
  {
   "cell_type": "code",
   "execution_count": 256,
   "id": "215e2659-f05f-4f6a-9426-7b9f33280fe4",
   "metadata": {},
   "outputs": [],
   "source": [
    "from typing import Tuple\n",
    "\n",
    "def apparent_diff_flux(\n",
    "    magpsf: float,\n",
    "    sigmapsf: float,\n",
    "    magnr: float,\n",
    "    sigmagnr: float,\n",
    "    isdiffpos: int, \n",
    "    fid: int,\n",
    "    is_Source: bool = True,\n",
    "    jansky: bool = True\n",
    "\n",
    ") -> Tuple[float, float]:\n",
    "    \"\"\"Compute apparent flux from difference magnitude supplied by ZTF\n",
    "    Implemented according to p.107 of the ZTF Science Data System Explanatory Supplement\n",
    "    https://irsa.ipac.caltech.edu/data/ZTF/docs/ztf_explanatory_supplement.pdf\n",
    "\n",
    "    Parameters\n",
    "    ---------\n",
    "    magpsf,sigmapsf; floats\n",
    "        magnitude from PSF-fit photometry, and 1-sigma error\n",
    "    magnr,sigmagnr: floats\n",
    "        magnitude of nearest source in reference image PSF-catalog\n",
    "        within 30 arcsec and 1-sigma error\n",
    "    isdiffpos: str\n",
    "        t or 1 => candidate is from positive (sci minus ref) subtraction;\n",
    "        f or 0 => candidate is from negative (ref minus sci) subtraction\n",
    "    fid: int\n",
    "        Filter id\n",
    "    jansky: bool\n",
    "        If True, normalise units to Jansky. Default is True.\n",
    "\n",
    "    Returns\n",
    "    --------\n",
    "    dc_flux: float\n",
    "        Apparent flux\n",
    "    dc_sigflux: float\n",
    "        Error on apparent flux\n",
    "    \"\"\"\n",
    "    #if magpsf is None or magnr < 0:\n",
    "    #    return float(\"Nan\"), float(\"Nan\")\n",
    "\n",
    "    dc_flux = 10 ** (-0.4 * magpsf)\n",
    "    dc_sigflux = (sigmapsf / 1.0857) * dc_flux\n",
    "    positive=np.ones_like(dc_flux)\n",
    "    positive = np.where((isdiffpos == 't') | (isdiffpos == '1'),positive,-positive)\n",
    "    #if (isdiffpos == 't') or (isdiffpos == '1'):\n",
    "    #    pass\n",
    "            #dc_flux = + difference_flux\n",
    "    #else:\n",
    "    #        dc_flux *= - 1\n",
    "    dc_flux *= positive\n",
    "\n",
    "    if np.any(is_Source): \n",
    "        # Tweak the 0-level based on \n",
    "        ref_flux = 10 ** (-0.4 * magnr)\n",
    "        ref_w = 1/((sigmagnr / 1.0857) * ref_flux)**2 # we only need weights for average\n",
    "        avg_flux=np.zeros(3)\n",
    "        for filt in (1,2):\n",
    "            avg_flux[filt]=np.sum(ref_flux[fid==filt]*ref_w[fid==filt])/np.sum(ref_w[fid==filt])\n",
    "            dc_flux[fid==filt] += ref_flux[fid==filt] - avg_flux[filt]\n",
    "\n",
    "        # Note : errors to be added at a later stage... \n",
    "        \n",
    "    if jansky:\n",
    "        dc_flux *= 3631\n",
    "        dc_sigflux *= 3631\n",
    "\n",
    "    return dc_flux, dc_sigflux,avg_flux\n",
    "    \n",
    "    \n",
    "    "
   ]
  },
  {
   "cell_type": "code",
   "execution_count": 257,
   "id": "d2ce7fca-e508-4a90-b667-58904acbb32b",
   "metadata": {},
   "outputs": [],
   "source": [
    "dc_flux, dc_sigflux,avg_flux = apparent_diff_flux(\n",
    "                df_valid['magpsf'].astype(float).values,\n",
    "                df_valid['sigmapsf'].astype(float).values,\n",
    "                df_valid['magnr'].astype(float).values,\n",
    "                df_valid['sigmagnr'].astype(float).values,\n",
    "                df_valid['isdiffpos'].values,\n",
    "                df_valid['fid'].values,\n",
    "                df_valid['is_Source'].astype(bool).values,\n",
    "                jansky=True\n",
    "\n",
    "            )\n",
    "\n",
    "df_valid['dc_flux']=dc_flux\n",
    "df_valid['dc_sigflux']=dc_sigflux"
   ]
  },
  {
   "cell_type": "code",
   "execution_count": 258,
   "id": "0bf029db-38f4-4b8b-abdc-72b3d89e03dd",
   "metadata": {},
   "outputs": [],
   "source": [
    "from FAnomAly.Weighted_Mean import Weighted_Mean_general\n",
    "\n",
    "combined_df = df_valid[columns_to_keep].copy()\n",
    "df_group = combined_df.groupby(['mjd','fid'])\n",
    "\n",
    "df_by_days = pd.DataFrame()\n",
    "df_by_days = df_group.apply(Weighted_Mean_general, flux_col='dc_flux', sigflux_col='dc_sigflux')\n",
    "df_by_days.reset_index(inplace=True)"
   ]
  },
  {
   "cell_type": "code",
   "execution_count": 259,
   "id": "18943920-a0eb-4f20-9b76-e10c3f89ec2f",
   "metadata": {},
   "outputs": [
    {
     "data": {
      "image/png": "[encoded data removed]",
      "text/plain": [
       "<Figure size 1500x700 with 1 Axes>"
      ]
     },
     "metadata": {},
     "output_type": "display_data"
    }
   ],
   "source": [
    "fig = plt.figure(figsize=(15, 7))\n",
    "\n",
    "\n",
    "for filt in np.unique(df_by_days['fid']):\n",
    "    mask = df_by_days['fid'] == filt\n",
    "    sub = df_by_days\n",
    "    plt.errorbar(\n",
    "        sub[mask]['mjd'],\n",
    "        sub[mask]['dc_flux']*1e3, \n",
    "        sub[mask]['dc_sigflux']*1e3,\n",
    "        ls='', \n",
    "        marker='o',\n",
    "        color=colordic[filt], \n",
    "\n",
    "        label=f\"{filt} all flux dc\"\n",
    "    )\n",
    "    \n",
    "\n",
    "    \"\"\"plt.errorbar(\n",
    "        df[mask]['mjd'],\n",
    "        df[mask]['nr_flux']*1e3,\n",
    "        df[mask]['nr_sigflux']*1e3,\n",
    "        ls='', \n",
    "        marker='.',\n",
    "        color=colordic[filt], \n",
    "\n",
    "        label=f\"{filt} all nr\"\n",
    "    )\"\"\"\n",
    "    \n",
    "    \n",
    "    \n",
    "plt.legend()\n",
    "\n",
    "plt.xlabel('Modified Julian Date [UTC]')\n",
    "plt.ylabel('Apparent  DC and nr flux (millijanksy)');"
   ]
  },
  {
   "cell_type": "code",
   "execution_count": null,
   "id": "5f3e63cd-d3ee-4782-b3a1-e83b0d851f2b",
   "metadata": {},
   "outputs": [],
   "source": []
  },
  {
   "cell_type": "markdown",
   "id": "a8c97570-5343-4f6f-a1e2-3a1daefe22e1",
   "metadata": {},
   "source": [
    "#### Fill gaps with Gaussian Processes"
   ]
  },
  {
   "cell_type": "code",
   "execution_count": 260,
   "id": "21df04de-1d5e-46c1-bf3d-0eb2bbc9ebf5",
   "metadata": {},
   "outputs": [],
   "source": [
    "from sklearn.gaussian_process import GaussianProcessRegressor\n",
    "from sklearn.gaussian_process.kernels import RBF\n",
    "kernel = 1 * RBF(length_scale=5.0, length_scale_bounds=(5e-1, 5e2))"
   ]
  },
  {
   "cell_type": "code",
   "execution_count": 261,
   "id": "8cb8eb5f-b3f7-4055-a073-50b9d58d616a",
   "metadata": {},
   "outputs": [
    {
     "data": {
      "text/plain": [
       "(array([-0.01631046, -0.01653736, -0.01588058, -0.01651605, -0.01630145,\n",
       "        -0.01675044, -0.01627145]),\n",
       " array([-42027.64916038,  12232.60193789,  55247.90170194,  47469.1318133 ,\n",
       "         -3953.54096874, -51743.02558689, -51961.0236052 ,  -4405.49497211,\n",
       "         47202.10367898,  55413.31824487,  12677.1992644 , -41715.92201067,\n",
       "        -57756.80891736, -20695.99633147,  35394.19618935,  58944.47564277,\n",
       "         28301.35598399, -28363.37724706, -58952.42868312, -35341.00711154,\n",
       "         20764.12229056,  57780.38906909,  41673.98638636, -12748.48054495,\n",
       "        -55451.69658107, -47173.46093956,   4476.85108645,  52012.84497718,\n",
       "         51729.26848792,   3885.22686474, -47532.55372278]))"
      ]
     },
     "execution_count": 261,
     "metadata": {},
     "output_type": "execute_result"
    }
   ],
   "source": [
    "Y_train,np.squeeze(X * np.sin(X))"
   ]
  },
  {
   "cell_type": "code",
   "execution_count": 262,
   "id": "87c8be8d-caf0-4b9b-a2f1-e60505907623",
   "metadata": {},
   "outputs": [
    {
     "name": "stderr",
     "output_type": "stream",
     "text": [
      "/opt/anaconda3/lib/python3.11/site-packages/sklearn/gaussian_process/kernels.py:420: ConvergenceWarning: The optimal value found for dimension 0 of parameter k1__constant_value is close to the specified lower bound 1e-05. Decreasing the bound and calling fit again may find a better value.\n",
      "  warnings.warn(\n",
      "/opt/anaconda3/lib/python3.11/site-packages/sklearn/gaussian_process/kernels.py:420: ConvergenceWarning: The optimal value found for dimension 0 of parameter k1__constant_value is close to the specified lower bound 1e-05. Decreasing the bound and calling fit again may find a better value.\n",
      "  warnings.warn(\n"
     ]
    },
    {
     "data": {
      "image/png": "[encoded data removed]",
      "text/plain": [
       "<Figure size 640x480 with 1 Axes>"
      ]
     },
     "metadata": {},
     "output_type": "display_data"
    }
   ],
   "source": [
    "for filt in np.unique(df_by_days.fid):\n",
    "    X_train=df_by_days[df_by_days.fid==filt].mjd.values.reshape(-1, 1)\n",
    "    Y_train=np.squeeze(df_by_days[df_by_days.fid==filt].dc_flux.values)\n",
    "    Sig_train = np.squeeze(df_by_days[df_by_days.fid==filt].dc_sigflux.values)\n",
    "    \n",
    "    X=np.arange(min_mjd,max_mjd+1,1).reshape(-1, 1)\n",
    "\n",
    "    gaussian_process = GaussianProcessRegressor( kernel=kernel, alpha=Sig_train**2, n_restarts_optimizer=9 )\n",
    "    gaussian_process.fit(X_train, Y_train)\n",
    "    mean_prediction, std_prediction = gaussian_process.predict(X, return_std=True)\n",
    "\n",
    "    plt.errorbar(\n",
    "        X_train, Y_train, Sig_train,\n",
    "        ls='', \n",
    "        marker='o',\n",
    "        color=colordic[filt], \n",
    "        label=f\"{filt} valid difference flux\"\n",
    "    )\n",
    "\n",
    "    plt.plot(\n",
    "        X,mean_prediction, c=colordic[filt], \n",
    "        label=f\"{filt} GP prediction\"\n",
    "    )\n",
    "\n",
    "    plt.fill_between(\n",
    "        X[:,0],mean_prediction+std_prediction, mean_prediction-std_prediction,color=colordic[filt], alpha=0.3\n",
    "    )"
   ]
  },
  {
   "cell_type": "code",
   "execution_count": null,
   "id": "7a598f73-2316-46bd-b577-1c27d5159109",
   "metadata": {},
   "outputs": [],
   "source": [
    "### Note : this is only the difference flux.\n",
    "-> One has to add back \n",
    "-->  magnr for valid data\n",
    "-->  avg_magnr for missing data"
   ]
  }
 ],
 "metadata": {
  "kernelspec": {
   "display_name": "Python 3 (ipykernel)",
   "language": "python",
   "name": "python3"
  },
  "language_info": {
   "codemirror_mode": {
    "name": "ipython",
    "version": 3
   },
   "file_extension": ".py",
   "mimetype": "text/x-python",
   "name": "python",
   "nbconvert_exporter": "python",
   "pygments_lexer": "ipython3",
   "version": "3.11.7"
  },
  "widgets": {
   "application/vnd.jupyter.widget-state+json": {
    "state": {},
    "version_major": 2,
    "version_minor": 0
   }
  }
 },
 "nbformat": 4,
 "nbformat_minor": 5
}
