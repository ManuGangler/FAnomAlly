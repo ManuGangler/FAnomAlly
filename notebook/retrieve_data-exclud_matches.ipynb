{
 "cells": [
  {
   "cell_type": "code",
   "execution_count": null,
   "id": "44f29f90",
   "metadata": {},
   "outputs": [],
   "source": [
    "import pandas as pd\n",
    "import numpy as np\n",
    "import time\n",
    "import matplotlib.pyplot as plt\n",
    "import ipywidgets as widgets\n",
    "\n",
    "# from pastamarkers import markers"
   ]
  },
  {
   "cell_type": "code",
   "execution_count": null,
   "id": "528e87a6",
   "metadata": {},
   "outputs": [],
   "source": [
    "import webbrowser\n",
    "\n",
    "def open_website(k):\n",
    "    website_url = f'https://fink-portal.org/{k}'\n",
    "    webbrowser.open(website_url)\n"
   ]
  },
  {
   "cell_type": "code",
   "execution_count": null,
   "id": "384cd343",
   "metadata": {},
   "outputs": [],
   "source": [
    "import io\n",
    "import requests\n",
    "\n",
    "def get_classification(Id):\n",
    "    r = requests.post(\n",
    "      'https://fink-portal.org/api/v1/objects',\n",
    "      json={\n",
    "        'objectId': Id,\n",
    "      }\n",
    "    )\n",
    "\n",
    "    # Format output in a DataFrame\n",
    "    pdf = pd.read_json(io.BytesIO(r.content))\n",
    "        \n",
    "    \n",
    "        \n",
    "    # Get value counts for each classification\n",
    "    class_counts = pdf['v:classification'].value_counts()\n",
    "\n",
    "    # Calculate total count\n",
    "    total_count = class_counts.sum()\n",
    "\n",
    "    # Calculate percentage for each classification\n",
    "    class_percentages = (class_counts / total_count * 100).round(1)\n",
    "    \n",
    "    # Convert to dictionary\n",
    "    class_percentages_dict = class_percentages.to_dict()\n",
    "    print(\"class :\")\n",
    "    for class_name, percentage in class_percentages_dict.items():\n",
    "        print(f\"          {class_name} : {percentage:.1f}%\") \n",
    "            \n",
    "#     return class_percentages_dict\n"
   ]
  },
  {
   "cell_type": "markdown",
   "id": "39761033",
   "metadata": {},
   "source": [
    "# Retrieve data"
   ]
  },
  {
   "cell_type": "markdown",
   "id": "1c647a84",
   "metadata": {},
   "source": [
    "We begin by fetching the reduced data using the Python script `data_transfer.py` from the file `df_merged.parquet`, then importing it into Pandas data frame."
   ]
  },
  {
   "cell_type": "code",
   "execution_count": null,
   "id": "5ab1f1df",
   "metadata": {},
   "outputs": [],
   "source": [
    "df = pd.read_parquet('../scripts/df_after_upper_vs_valid.parquet', engine='pyarrow')"
   ]
  },
  {
   "cell_type": "code",
   "execution_count": null,
   "id": "294f62aa",
   "metadata": {},
   "outputs": [],
   "source": [
    "df.head(2)"
   ]
  },
  {
   "cell_type": "code",
   "execution_count": null,
   "id": "609fdd36",
   "metadata": {},
   "outputs": [],
   "source": [
    "df.shape"
   ]
  },
  {
   "cell_type": "markdown",
   "id": "0d94d88b",
   "metadata": {},
   "source": [
    "Here we extract all unique IDs from our data frame:"
   ]
  },
  {
   "cell_type": "code",
   "execution_count": null,
   "id": "6e814c95",
   "metadata": {
    "scrolled": true
   },
   "outputs": [],
   "source": [
    "unique_ids = df['objectId'].unique().tolist()\n",
    "len(unique_ids)"
   ]
  },
  {
   "cell_type": "markdown",
   "id": "6df18f04",
   "metadata": {},
   "source": [
    "#"
   ]
  },
  {
   "cell_type": "markdown",
   "id": "d4f4b38e",
   "metadata": {},
   "source": [
    "To calculate the weight values \\(w_i\\), we use the formula: `w_i` =\\begin{cases}\n",
    "\\frac{1}{{\\sigma_i^2}}, & \\text{if data is available for day } i \\\\\n",
    "0, & \\text{otherwise}\n",
    "\\end{cases}"
   ]
  },
  {
   "cell_type": "code",
   "execution_count": null,
   "id": "52fbac42",
   "metadata": {},
   "outputs": [],
   "source": [
    "missing_data = (df['source'] == 0) | (df['dc_sigflux'] == 0)\n",
    "df['dc_weight'] = np.where(missing_data, 0, 1 / (df['dc_sigflux'] ** 2))\n",
    "df['nr_weight'] = np.where(missing_data, 0, 1 / (df['nr_sigflux'] ** 2))"
   ]
  },
  {
   "cell_type": "code",
   "execution_count": null,
   "id": "27587801",
   "metadata": {},
   "outputs": [],
   "source": [
    "df[['source','dc_weight']].head(3)"
   ]
  },
  {
   "cell_type": "markdown",
   "id": "21ef1374",
   "metadata": {},
   "source": [
    "# "
   ]
  },
  {
   "cell_type": "markdown",
   "id": "ccb06795",
   "metadata": {},
   "source": [
    "# "
   ]
  },
  {
   "cell_type": "markdown",
   "id": "ee558a98",
   "metadata": {},
   "source": [
    "# With distance - factor test "
   ]
  },
  {
   "cell_type": "markdown",
   "id": "0576f19f",
   "metadata": {},
   "source": [
    "We group the data by shared ID and create `NumPy` arrays for flux, weighted flux, and the source test(if it's a missing day(data)). We also determine the length of each time series."
   ]
  },
  {
   "cell_type": "code",
   "execution_count": null,
   "id": "53b745e0",
   "metadata": {},
   "outputs": [],
   "source": [
    "grouped = df.groupby('objectId')\n",
    "\n",
    "F = grouped['dc_flux'].apply(lambda x: x.values)#.values\n",
    "sig = grouped['dc_sigflux'].apply(lambda x: x.values)#.values\n",
    "W = grouped['dc_weight'].apply(lambda x: x.values)#.values\n",
    "source = grouped['source'].apply(lambda x: x.values)#.values\n",
    "lengths = grouped['source'].apply(lambda x: len(x))#.values\n",
    "mjd = grouped['mjd'].apply(lambda x: x.values)#.values\n"
   ]
  },
  {
   "cell_type": "markdown",
   "id": "75b64914",
   "metadata": {},
   "source": [
    "We define the length of our query,window or chunk, along with the limit factor and the size of each window or chunk."
   ]
  },
  {
   "cell_type": "code",
   "execution_count": null,
   "id": "97e9e68d",
   "metadata": {},
   "outputs": [],
   "source": [
    "m=0\n",
    "factor = 2*m+1 + 3*np.sqrt(2*(2*m+1))\n",
    "chunk_size = 2 * (m + 1)"
   ]
  },
  {
   "cell_type": "markdown",
   "id": "d5ae9b24",
   "metadata": {},
   "source": [
    "The `'no_match_test'` function evaluates whether there are any matches in the provided array, which contains the source test values for a window. If the sum of the array is less than or equal to 1, indicating that all values are missing or only one value is present, the function returns -99. Otherwise, it returns -1 to initialize the window's status as 'no match'."
   ]
  },
  {
   "cell_type": "code",
   "execution_count": null,
   "id": "74191626",
   "metadata": {},
   "outputs": [],
   "source": [
    "def no_match_test(array):\n",
    "    if array.sum() <= 1 : \n",
    "        return -99 ## all are missing, or all except one\n",
    "    return -1 # initialise as no match  # can be modifieted ? "
   ]
  },
  {
   "cell_type": "markdown",
   "id": "93fecc96",
   "metadata": {},
   "source": [
    "\"`objects`\" list contains a subset of the objects we intend to work with.\n",
    "\n",
    "\"`L_max`\" is defined to facilitate partial iteration, serving as a debugging aid by allowing a limit to be set on the number of iterations performed.\n",
    "\n",
    "We initialize the NumPy arrays with `None` values."
   ]
  },
  {
   "cell_type": "code",
   "execution_count": null,
   "id": "7774a938",
   "metadata": {},
   "outputs": [],
   "source": [
    "objects = unique_ids#[0:3000]\n",
    "num_objects = len(objects)\n",
    "# L_max = int(num_objects/2)\n",
    "L_max = 116\n",
    "print(\"L_max \", L_max)\n",
    "\n",
    "R = np.empty(num_objects, dtype=object)\n",
    "Matches = np.empty(num_objects, dtype=object)\n",
    "R_l = np.empty((num_objects, L_max), dtype=object)\n",
    "num_by_obj = np.zeros((L_max,num_objects), dtype=object)\n",
    "alp = np.empty((num_objects, L_max), dtype=object)\n",
    "d = np.empty((num_objects, L_max), dtype=object)"
   ]
  },
  {
   "cell_type": "code",
   "execution_count": null,
   "id": "a348066e",
   "metadata": {},
   "outputs": [],
   "source": [
    "indexes_objects = range(num_objects)\n",
    "Q = [None] * (L_max)\n",
    "num_left_by_Q = [0] * (L_max) ####### we don't need this one anymore <==> sum_i\n",
    "selected_Q_K_i = np.empty(L_max, dtype=object)"
   ]
  },
  {
   "cell_type": "markdown",
   "id": "12e82cf3",
   "metadata": {},
   "source": [
    "We initialize R using the '`no_match_test`' function."
   ]
  },
  {
   "cell_type": "code",
   "execution_count": null,
   "id": "cfa1a7c8",
   "metadata": {
    "scrolled": true
   },
   "outputs": [],
   "source": [
    "for k in indexes_objects:\n",
    "    \n",
    "    n = lengths[objects[k]]\n",
    "    num_chunks = int(n // 2)-m \n",
    "\n",
    "    #print(n,num_chunks)\n",
    "\n",
    "    chunks = np.array([source[objects[k]][i*2 : (i*2+chunk_size)] for i in range(num_chunks)])\n",
    "    result = np.array(list(map(no_match_test, chunks)))\n",
    "    R[k] = result.copy()\n",
    "    \n",
    "    #Matches[k] = np.zeros(num_chunks, dtype=int)\n",
    "    \n",
    "    for l in range(L_max):\n",
    "        R_l[k][l] = result.copy()\n",
    "    # a for loop isn't a good idea !!!! \n",
    "    \n"
   ]
  },
  {
   "cell_type": "markdown",
   "id": "96498701",
   "metadata": {},
   "source": [
    "### Loop to compute the distance of the subsequence in the time series to its nearest neighbor."
   ]
  },
  {
   "cell_type": "code",
   "execution_count": null,
   "id": "a891d484",
   "metadata": {},
   "outputs": [],
   "source": [
    "start_time = time.time()\n",
    "rangek2 = list(range(len(objects)))\n",
    "     \n",
    "l= 0\n",
    "while (l < L_max):\n",
    "    indexes_array = np.array([np.where(array == -1)[0] for array in R], dtype=object)\n",
    "    rangek2 = [i for i in range(len(objects)) if len(indexes_array[i]) > 0]\n",
    "\n",
    "    has_empty_list = len(rangek2) == 0\n",
    "    if has_empty_list:\n",
    "        print(\"break , l = \", l )\n",
    "        break\n",
    "        \n",
    "    num_left_by_Q[l] = len(rangek2)\n",
    "        \n",
    "    k = rangek2[0]\n",
    "        \n",
    "    f = F[objects[k]]\n",
    "    index_no_match = indexes_array[k][0]\n",
    "    k_Query_taked = k\n",
    "    selected_Q_K_i[l] = [k,index_no_match]\n",
    "    Q[l] = f[index_no_match*2 : index_no_match*2 +chunk_size]\n",
    "\n",
    "\n",
    "            \n",
    "    for k in rangek2:\n",
    "        f = F[objects[k]]\n",
    "        w = W[objects[k]]\n",
    "        n = lengths[objects[k]]\n",
    "        n_c = n - 2*m # (number of chunks x 2) ! it's (n/2 - m) but to optimize we mutiply by 2 directly !  \n",
    "        #print(n, n_c,len(R[k]))\n",
    "\n",
    "\n",
    "\n",
    "        s_1 = np.zeros(n_c, dtype=float)\n",
    "        s_2 = np.zeros(n_c, dtype=float)\n",
    "        \n",
    "        for j in range(0,m+1): \n",
    "            h = np.tile(Q[l][j*2: j*2+2], (len(f[j*2:j*2+ n_c]) // 2, 1)).ravel() # array of h for r and g successive for the vectorisation\n",
    "\n",
    "            s_1[:] += (f[j*2:j*2+ n_c]*h*w[j*2:j*2+ n_c])\n",
    "            s_2[:] += (h**2 * w[j*2:j*2+ n_c])\n",
    "\n",
    "\n",
    "        s_n = s_1[::2] + s_1[1::2]  \n",
    "        s_d = s_2[::2] + s_2[1::2] \n",
    "        \n",
    "        mask_no_0 = (s_d != 0)\n",
    "        alp[k][l] = np.zeros_like(s_d, dtype=float)\n",
    "\n",
    "        alp[k][l][mask_no_0] = s_n[mask_no_0] / s_d[mask_no_0] # # Perform division only where s_d(i) is not zero\n",
    "\n",
    "        alpha = np.repeat(alp[k][l], 2) # duplicate alpha for each value (one for r and second for g)\n",
    "     \n",
    "    \n",
    "        dd = np.zeros(n_c, dtype=float)\n",
    "        \n",
    "        for j in range(0,m+1):\n",
    "            h = np.tile(Q[l][j*2: j*2+2], (len(f[j*2:j*2+ n_c]) // 2, 1)).ravel() # array of h for r and g successive for the vectorisation\n",
    "            \n",
    "            dd[:] += ((f[j*2:j*2+ n_c] - alpha[:] * h)**2) * w[j*2:j*2+ n_c] \n",
    "            #alpha[:n-j*2] ==> alpha[:]\n",
    "\n",
    "        d[k][l] = dd[::2] + dd[1::2]\n",
    "        \n",
    "        factor_comparison =  d[k][l] <= factor\n",
    "                \n",
    "        R[k][indexes_array[k][factor_comparison[indexes_array[k]]]] = l # explanation follows below!\n",
    "        \n",
    "        #count = 0\n",
    "        for i in range(len(factor_comparison)):\n",
    "            if factor_comparison[i] and R_l[k][l][i] != -99:\n",
    "                R_l[k][l][i] = l\n",
    "                num_by_obj[l][k]+=1\n",
    "    \n",
    "    \n",
    "\n",
    "                \n",
    "\n",
    "    R_l[k_Query_taked][l][index_no_match] = -2\n",
    "\n",
    " \n",
    "    l += 1 \n",
    "    \n",
    "print(\"l = \",l)\n",
    "\n",
    "\n",
    "\n",
    "end_time = time.time()\n",
    "\n",
    "# Compute the elapsed time\n",
    "elapsed_time = end_time - start_time\n",
    "\n",
    "print(\"Elapsed time:\", elapsed_time, \"seconds\")"
   ]
  },
  {
   "cell_type": "markdown",
   "id": "877d33b3",
   "metadata": {},
   "source": [
    "Let's break down the expression `R[k][indexes_array[k][factor_comparison[indexes_array[k]]]] = l` step by step:\n",
    "\n",
    "1. `indexes_array[k]`: This selects the array of indexes corresponding to the k-th element of `indexes_array`.\n",
    "2. `factor_comparison[indexes_array[k]]`: This applies boolean indexing to `factor_comparison` using the indexes from `indexes_array[k]`. It selects only the elements of `factor_comparison` corresponding to the indexes in `indexes_array[k]`.\n",
    "3. `indexes_array[k][factor_comparison[indexes_array[k]]]`: This gives the indices where the condition `factor_comparison` is true for the k-th element of `indexes_array`.\n",
    "4. `R[k][indexes_array[k][factor_comparison[indexes_array[k]]]]`: This uses the indices obtained in the previous step to select elements from the k-th row of `R`.\n",
    "5. `= l`: Finally, it assigns the value `l` to the selected elements of `R[k]`.\n"
   ]
  },
  {
   "cell_type": "code",
   "execution_count": null,
   "id": "6ef2d73d",
   "metadata": {},
   "outputs": [],
   "source": [
    "num_left_by_Q"
   ]
  },
  {
   "cell_type": "code",
   "execution_count": null,
   "id": "ebc3bf00",
   "metadata": {},
   "outputs": [],
   "source": [
    "plt.scatter(range(L_max),num_left_by_Q)\n",
    "\n",
    "plt.xlabel('Queries')\n",
    "plt.ylabel('Nb objs left')\n",
    "plt.title('Number of objects left in function of queries.')\n",
    "\n",
    "\n",
    "# Create DataFrame\n",
    "data = {'Queries': range(L_max), 'Nb objs left': num_left_by_Q}\n",
    "df = pd.DataFrame(data)\n",
    "\n",
    "# Export to Excel\n",
    "df.to_csv('num_left_by_Q.csv', index=False)\n",
    "\n",
    "# Show the plot\n",
    "plt.show()\n"
   ]
  },
  {
   "cell_type": "code",
   "execution_count": null,
   "id": "dfdba210",
   "metadata": {},
   "outputs": [],
   "source": [
    "rangek2"
   ]
  },
  {
   "cell_type": "code",
   "execution_count": null,
   "id": "fa66b802",
   "metadata": {},
   "outputs": [],
   "source": [
    "R[31518]"
   ]
  },
  {
   "cell_type": "code",
   "execution_count": null,
   "id": "3c2c5f55",
   "metadata": {},
   "outputs": [],
   "source": [
    "R_l[0]"
   ]
  },
  {
   "cell_type": "markdown",
   "id": "d25fd2b6",
   "metadata": {},
   "source": [
    "# "
   ]
  },
  {
   "cell_type": "markdown",
   "id": "e8f3881c",
   "metadata": {},
   "source": [
    "# "
   ]
  },
  {
   "cell_type": "markdown",
   "id": "edbe22e6",
   "metadata": {},
   "source": [
    "### Calculate the Matrix of Matches (with windows represented in rows and queries as columns)"
   ]
  },
  {
   "cell_type": "code",
   "execution_count": null,
   "id": "652af59c",
   "metadata": {
    "scrolled": true
   },
   "outputs": [],
   "source": [
    "rangek = range(len(objects))\n",
    "\n",
    "# Initialize list to hold transposed arrays for each k\n",
    "Matrices_by_k = []\n",
    "\n",
    "no_missing = np.zeros(len(rangek), dtype= object)\n",
    "length_no_missing = np.zeros(len(rangek), dtype= int)\n",
    "\n",
    "Reference_Table_list = []\n",
    "\n",
    "for k in rangek:\n",
    "    no_missing[k] = np.where(R[k] != -99)[0]  \n",
    "    \n",
    "    length_no_missing[k] = len(no_missing[k])\n",
    "    \n",
    "    # Initialize transposed array\n",
    "    Matrix= np.empty((length_no_missing[k], len(R_l[k])), dtype=object)\n",
    "    \n",
    "    refrence_table_k = np.empty(length_no_missing[k], dtype=object)\n",
    "    \n",
    "    # Transpose and store the arrays\n",
    "    for i, idx in enumerate(no_missing[k]):\n",
    "        for j, arr in enumerate(R_l[k]):\n",
    "            if arr[idx] == -2 or arr[idx] >= 0:\n",
    "                Matrix[i][j] = 1\n",
    "            else:\n",
    "                Matrix[i][j] = 0\n",
    "                \n",
    "        refrence_table_k [i] =  np.array([k ,idx])\n",
    "\n",
    "                \n",
    "    # Append transposed array to the list\n",
    "    Matrices_by_k.append(Matrix)\n",
    "    Reference_Table_list.append(refrence_table_k)\n",
    "\n",
    "Matrices_by_k"
   ]
  },
  {
   "cell_type": "code",
   "execution_count": null,
   "id": "6ecbcca6",
   "metadata": {},
   "outputs": [],
   "source": [
    "Matrix_Matches = np.concatenate(Matrices_by_k, axis=0)\n",
    "Reference_Table = np.concatenate(Reference_Table_list, axis=0)\n",
    "Matrix_Matches"
   ]
  },
  {
   "cell_type": "code",
   "execution_count": null,
   "id": "e891665b",
   "metadata": {
    "scrolled": true
   },
   "outputs": [],
   "source": [
    "len(Reference_Table),Reference_Table\n"
   ]
  },
  {
   "cell_type": "code",
   "execution_count": null,
   "id": "8b59afb8",
   "metadata": {},
   "outputs": [],
   "source": [
    "def get_i_values_for_k(specific_k):\n",
    "    return no_missing[specific_k]\n",
    "get_i_values_for_k(0)  "
   ]
  },
  {
   "cell_type": "code",
   "execution_count": null,
   "id": "b137b418",
   "metadata": {},
   "outputs": [],
   "source": [
    "def get_k_i_for_row(global_idx):\n",
    "    return Reference_Table[global_idx]\n",
    "k,i = get_k_i_for_row(2)\n",
    "k,i"
   ]
  },
  {
   "cell_type": "code",
   "execution_count": null,
   "id": "378fc768",
   "metadata": {},
   "outputs": [],
   "source": [
    "def get_i_indexes_for_k(specific_k):\n",
    "    idx = 0 \n",
    "    for k in rangek:\n",
    "        if k == specific_k:\n",
    "            return list(range(idx, idx + length_no_missing[k]))\n",
    "        idx += length_no_missing[k]\n",
    "\n",
    "get_i_indexes_for_k(0)"
   ]
  },
  {
   "cell_type": "code",
   "execution_count": null,
   "id": "7636f0bc",
   "metadata": {
    "scrolled": true
   },
   "outputs": [],
   "source": [
    "sum_j_rows = np.sum(Matrix_Matches, axis=1)\n",
    "sum_j_rows\n"
   ]
  },
  {
   "cell_type": "code",
   "execution_count": null,
   "id": "3767a706",
   "metadata": {
    "scrolled": true
   },
   "outputs": [],
   "source": [
    "sum_i_columns = np.sum(Matrix_Matches, axis=0)\n",
    "sum_i_columns"
   ]
  },
  {
   "cell_type": "markdown",
   "id": "18dc6171",
   "metadata": {},
   "source": [
    "#"
   ]
  },
  {
   "cell_type": "markdown",
   "id": "122e3e9a",
   "metadata": {},
   "source": [
    "#"
   ]
  },
  {
   "cell_type": "markdown",
   "id": "f5104ad6",
   "metadata": {},
   "source": [
    "# Matrix only for queries (len(Qs) x len(Qs))"
   ]
  },
  {
   "cell_type": "code",
   "execution_count": null,
   "id": "c34455e7",
   "metadata": {},
   "outputs": [],
   "source": [
    "Matrix_Queries = []\n",
    "\n",
    "for k,i in selected_Q_K_i:#[:5]:\n",
    "    #print(get_i_values_for_k(k),i)\n",
    "    i_k = np.where(get_i_values_for_k(k) == i)[0][0]\n",
    "    #print(get_i_indexes_for_k(k),i_k)\n",
    "    global_idx = get_i_indexes_for_k(k)[i_k]\n",
    "    Matrix_Queries.append(Matrix_Matches[global_idx])\n",
    "\n",
    "    #[0][0]\n",
    "Matrix_Queries"
   ]
  },
  {
   "cell_type": "code",
   "execution_count": null,
   "id": "4edc176c",
   "metadata": {},
   "outputs": [],
   "source": [
    "len(Matrix_Queries)"
   ]
  },
  {
   "cell_type": "code",
   "execution_count": null,
   "id": "8dea3f34",
   "metadata": {},
   "outputs": [],
   "source": [
    "sum_j_rows_queries = np.sum(Matrix_Queries, axis=1)\n",
    "\n",
    "sum_i_columns_queries = np.sum(Matrix_Queries, axis=0)\n",
    "sum_i_columns_queries,sum_j_rows_queries"
   ]
  },
  {
   "cell_type": "code",
   "execution_count": null,
   "id": "4a90ce5e",
   "metadata": {},
   "outputs": [],
   "source": [
    "sum_i_columns_queries.argmax(),sum_i_columns_queries.max()"
   ]
  },
  {
   "cell_type": "code",
   "execution_count": null,
   "id": "874e80f1",
   "metadata": {},
   "outputs": [],
   "source": [
    "sum_j_rows_queries.argmax(), sum_j_rows_queries.max()"
   ]
  },
  {
   "cell_type": "code",
   "execution_count": null,
   "id": "d8913a14",
   "metadata": {},
   "outputs": [],
   "source": [
    "sum_j_rows_queries.sum(), sum_i_columns_queries.sum()"
   ]
  },
  {
   "cell_type": "markdown",
   "id": "5be8fbe7",
   "metadata": {},
   "source": [
    "#"
   ]
  },
  {
   "cell_type": "markdown",
   "id": "1955aea2",
   "metadata": {},
   "source": [
    "#"
   ]
  },
  {
   "cell_type": "code",
   "execution_count": null,
   "id": "afd3e344",
   "metadata": {},
   "outputs": [],
   "source": [
    "total_matches = sum(sum_i_columns) + sum(sum_j_rows)\n",
    "\n",
    "I_i_j = Matrix_Matches[:].copy() #*(sum_i[:])\n",
    "I_i_j\n"
   ]
  },
  {
   "cell_type": "code",
   "execution_count": null,
   "id": "b3c8b062",
   "metadata": {},
   "outputs": [],
   "source": [
    "for j, sj in enumerate(sum_j_rows):\n",
    "    for i, si in enumerate(sum_i_columns):\n",
    "        dn = (si*sj)\n",
    "        if dn == 0:\n",
    "            I_i_j[j][i] *= np.inf # we don't need this anymore , No, we do , if l_max != len(Q)\n",
    "        else:\n",
    "            I_i_j[j][i] *= total_matches/ dn\n",
    "I_i_j"
   ]
  },
  {
   "cell_type": "code",
   "execution_count": null,
   "id": "3d604b28",
   "metadata": {},
   "outputs": [],
   "source": [
    "# nonzero_indices = np.nonzero(np.outer(sum_j, sum_i))\n",
    "\n",
    "# # Update only non-zero elements\n",
    "# I_i_j[nonzero_indices] = I_i_j[nonzero_indices] / (sum_i[nonzero_indices[1]] * sum_j[nonzero_indices[0]])\n",
    "\n",
    "# #I_i_j[I_i_j == 0] = np.inf\n"
   ]
  },
  {
   "cell_type": "markdown",
   "id": "d52920ca",
   "metadata": {},
   "source": [
    "#"
   ]
  },
  {
   "cell_type": "markdown",
   "id": "6ef3b010",
   "metadata": {},
   "source": [
    "###### Compute the query with the highest number of matches and the one with the fewest matches."
   ]
  },
  {
   "cell_type": "code",
   "execution_count": null,
   "id": "ef982c79",
   "metadata": {},
   "outputs": [],
   "source": [
    "max(sum_i_columns),min(sum_i_columns), np.argmax(sum_i_columns), np.argmin(sum_i_columns), selected_Q_K_i[94], selected_Q_K_i[100]"
   ]
  },
  {
   "cell_type": "markdown",
   "id": "b225b1e2",
   "metadata": {},
   "source": [
    "###### Compute the window with the highest number of matches on queries and the one with the fewest matches."
   ]
  },
  {
   "cell_type": "code",
   "execution_count": null,
   "id": "2c0a4e9c",
   "metadata": {
    "scrolled": true
   },
   "outputs": [],
   "source": [
    "#flattened_array = np.concatenate([arr.flatten() for arr in sum_j])\n",
    "maximum_value = np.max(sum_j_rows)\n",
    "maximum_value, np.argmax(sum_j_rows),sum_j_rows[155]"
   ]
  },
  {
   "cell_type": "code",
   "execution_count": null,
   "id": "713c60c5",
   "metadata": {},
   "outputs": [],
   "source": [
    "# Find indices of non-zero values\n",
    "non_zero_indices = np.argwhere(sum_j_rows != 0).flatten()\n",
    "\n",
    "# Retrieve non-zero values\n",
    "non_zero_values = sum_j_rows[non_zero_indices]\n",
    "\n",
    "# Find the index of the minimum non-zero value\n",
    "min_non_zero_index = non_zero_indices[np.argmin(non_zero_values)]\n",
    "\n",
    "min_non_zero_value = sum_j_rows[min_non_zero_index]\n",
    "\n",
    "min_non_zero_value, min_non_zero_index"
   ]
  },
  {
   "cell_type": "markdown",
   "id": "61491c0b",
   "metadata": {},
   "source": [
    "# "
   ]
  },
  {
   "cell_type": "markdown",
   "id": "293a9d9b",
   "metadata": {},
   "source": [
    "### Function to detect a specific window in a time series (specified by its object and index within this object)."
   ]
  },
  {
   "cell_type": "code",
   "execution_count": null,
   "id": "59fc98f9",
   "metadata": {},
   "outputs": [],
   "source": [
    "def if_a_query(k_TS, i_TS, selected_Q_K_i):\n",
    "    mask = selected_Q_K_i != None\n",
    "    for index_Q, (k, i) in enumerate(selected_Q_K_i[mask]):\n",
    "        if k_TS == k and i_TS == i:\n",
    "            return True, index_Q, f\"This window is used as the {index_Q}th query! \"\n",
    "    return False, 0 , \"This window is not used as a query ! \""
   ]
  },
  {
   "cell_type": "code",
   "execution_count": null,
   "id": "19b2d674",
   "metadata": {},
   "outputs": [],
   "source": [
    "def get_m(i,j):\n",
    "    return concatenated_array[j][i] ### I need to check this 2 j,i or i,j\n",
    "\n",
    "def get_i_by_sum(i):\n",
    "        return sum_i_columns[i]\n",
    "\n",
    "def get_j_by_sum(j):\n",
    "        return sum_i_columns[j]\n",
    "\n",
    "    \n",
    "def get_k_i_of_Q(l):\n",
    "    return selected_Q_K_i[l]\n"
   ]
  },
  {
   "cell_type": "code",
   "execution_count": null,
   "id": "c8781d9f",
   "metadata": {
    "scrolled": true
   },
   "outputs": [],
   "source": [
    "# a_query, l , string = if_a_query(22,5,selected_Q_K_i)\n",
    "# plot_distance_flux(22,l)"
   ]
  },
  {
   "cell_type": "markdown",
   "id": "6202add1",
   "metadata": {},
   "source": [
    "#"
   ]
  },
  {
   "cell_type": "markdown",
   "id": "7d9f608b",
   "metadata": {},
   "source": [
    "#"
   ]
  },
  {
   "cell_type": "markdown",
   "id": "dc673bbc",
   "metadata": {},
   "source": [
    "#"
   ]
  },
  {
   "cell_type": "code",
   "execution_count": null,
   "id": "9dded427-053b-47f8-a91f-b250799ce8b6",
   "metadata": {},
   "outputs": [],
   "source": [
    "# import ipywidgets as widgets\n",
    "\n",
    "# Define a function to be called when the button is clicked\n",
    "def on_button_click(b):\n",
    "    print(\"Button clicked\")\n",
    "\n",
    "# Create a button widget\n",
    "button = widgets.Button(description=\"Click me!\")\n",
    "\n",
    "# Connect the button widget to the function\n",
    "button.on_click(on_button_click)\n",
    "\n",
    "# Display the button\n",
    "display(button)\n"
   ]
  },
  {
   "cell_type": "markdown",
   "id": "60e939f3",
   "metadata": {},
   "source": [
    "#"
   ]
  },
  {
   "cell_type": "markdown",
   "id": "d5529e2f",
   "metadata": {},
   "source": [
    "#"
   ]
  },
  {
   "cell_type": "markdown",
   "id": "97534fc3",
   "metadata": {},
   "source": [
    "## Functions to compute the numbers of matches and plot the results "
   ]
  },
  {
   "cell_type": "markdown",
   "id": "697c7125",
   "metadata": {},
   "source": [
    "#### these functions should be in another file"
   ]
  },
  {
   "cell_type": "code",
   "execution_count": null,
   "id": "46c58d25",
   "metadata": {},
   "outputs": [],
   "source": [
    "def plot_distance_flux(k,l,open_Fink= False):\n",
    "    print(\"\\n______________________________________________________________________________________________\")\n",
    "    print(f\"{objects[k]}\")\n",
    "    get_classification(objects[k])\n",
    "    \n",
    "#     for class_name, percentage in dict_classes.items():\n",
    "#         print(f\"                        {class_name} : {percentage:.1f}%\") \n",
    "    import ipywidgets as widgets\n",
    "          \n",
    "    button = widgets.Button(description=f\"open in FINK\")\n",
    "    # Capture current values of kk and l in lambda's default arguments\n",
    "    button.on_click(lambda _, k=k : on_button_clicked_plot(objects[k]))\n",
    "    display(button)\n",
    "\n",
    "    \n",
    "    plt.figure(figsize=(14, 12))\n",
    "\n",
    "    # Plot for F[k]\n",
    "    plt.subplot(2, 1, 1)\n",
    "\n",
    "    for i in range(int(len(F[objects[k]])/2)):\n",
    "        if source.loc[objects[k]][2*i] == 0:\n",
    "            marker = 'x'\n",
    "            plt.errorbar(mjd.loc[objects[k]][2*i], F.loc[objects[k]][2*i], \n",
    "                     #sig[objects[k]][2*i]*0.4,\n",
    "                     c='C0', marker='x')\n",
    "        else:\n",
    "            marker = 'o'\n",
    "            plt.errorbar(mjd.loc[objects[k]][2*i], F.loc[objects[k]][2*i], \n",
    "                     sig.loc[objects[k]][2*i],\n",
    "                     c='C0', marker='o')\n",
    "\n",
    "        if source.loc[objects[k]][2*i+1] == 0:\n",
    "            marker = 'x'\n",
    "            plt.errorbar(mjd.loc[objects[k]][2*i+1], F.loc[objects[k]][2*i+1],\n",
    "                     #sig[objects[k]][2*i+1]*0.4,\n",
    "                     c='C1', marker='x')\n",
    "            \n",
    "        else:\n",
    "            marker = 'o'\n",
    "            plt.errorbar(mjd.loc[objects[k]][2*i+1], F.loc[objects[k]][2*i+1],\n",
    "                     sig.loc[objects[k]][2*i+1],\n",
    "                     c='C1', marker='o')\n",
    "            \n",
    "        a_query,l_1, string = if_a_query(k,i,selected_Q_K_i)\n",
    "            \n",
    "        if a_query and l_1 == l:\n",
    "            print(string)\n",
    "            \n",
    "            # Define the window of indices\n",
    "            window_start = mjd.loc[objects[k]][2*i]  # Index of the window start\n",
    "            window_end = mjd.loc[objects[k]][2*i] + int(len(Q[l])/2 - 1)  # Index of the window end\n",
    "            \n",
    "            \n",
    "            # Create an array of float indices\n",
    "            indices = np.arange(window_start, window_end + 1)\n",
    "            indices = np.concatenate(([indices[0] - 0.5], indices, [indices[-1] + 0.5]))\n",
    "\n",
    "            # Plot a shaded region for the window\n",
    "            plt.fill_between(indices, min(Q[l])/1.2, max(Q[l])*1.2, color='gray', alpha=0.2)\n",
    "            \n",
    "        \n",
    "    plt.plot([], [], color='C1', marker='x', label='missing points !')\n",
    "    plt.plot([], [], color='C0', marker='o', label='origin')\n",
    "    plt.plot([], [], color='C0', marker='x', label='missing points !')\n",
    "    plt.plot([], [], color='C1', marker='o', label='origin')\n",
    "    \n",
    "   \n",
    "    ################################### what about the seccond window !? \n",
    "    moy_alp = 1+0*alp[k][l].mean()\n",
    "    #moy_alp = np.median(F[k])/np.median(Q[l]) #Manu test\n",
    "\n",
    "    plt.plot(mjd.loc[objects[k]][::2], F.loc[objects[k]][::2], c='C0', linewidth = 1)\n",
    "    plt.plot(mjd.loc[objects[k]][1::2], F.loc[objects[k]][1::2], c='C1', linewidth = 1)\n",
    "\n",
    "    plt.plot(np.arange(len(Q[l]) // 2) - 1-m + mjd.loc[objects[k]][0], Q[l][::2]*moy_alp, c='g', label='Q[l]',marker='.', linewidth=3, zorder=3)\n",
    "    plt.plot(np.arange(len(Q[l]) // 2) - 1-m + mjd.loc[objects[k]][0], Q[l][1::2]*moy_alp, c='r', label='Q[l]',marker='.', linewidth=3, zorder=3)\n",
    "\n",
    "    # Define the window of indices\n",
    "    window_start = -1-m + mjd.loc[objects[k]][0] # Index of the window start\n",
    "    window_end = int(len(Q[l])/2 - 1-1 -m)+ mjd.loc[objects[k]][0]  # Index of the window end\n",
    "\n",
    "    # Create an array of float indices\n",
    "    indices = np.arange(window_start, window_end + 1)\n",
    "    indices = np.concatenate(([indices[0] - 0.4], indices, [indices[-1] + 0.4]))\n",
    "\n",
    "    # Plot a shaded region for the window\n",
    "    plt.fill_between(indices, min(Q[l])/1.2*moy_alp, max(Q[l])*1.2*moy_alp, color='gray', alpha=0.2)\n",
    "\n",
    "    # plt.xlabel('Index')\n",
    "    plt.ylabel('Flux')\n",
    "    # plt.title('Flux Plot')\n",
    "    plt.legend()\n",
    "    \n",
    "\n",
    "\n",
    "\n",
    "\n",
    "#     ###############                       Plot for d[k][0]                       ###############\n",
    "\n",
    "    plt.subplot(2, 1, 2)\n",
    "    plt.plot([-1-m, -1-m], [0, 0], color='none')  # Plot an empty line with zero length\n",
    "    plt.plot(range(len(d[k][l])), d[k][l],color='C0', linestyle='-',linewidth=1)\n",
    "    \n",
    "#     matches = all_matches[k]#Matches[k]#\n",
    "#     for i, match_count in enumerate(matches):\n",
    "#         plt.text(i+0.2, d[k][l][i]+d[k][l][i]*5/100, str(match_count), fontsize=10, color='red', ha='left')\n",
    "    matches_idx = get_i_indexes_for_k(k)\n",
    "    matches2 = sum_j_rows[matches_idx]\n",
    "\n",
    "    # Plot dummy points with desired colors and markers\n",
    "    plt.plot([], [], color='black', marker='o', label='Query chosed')#markers.soli\n",
    "    plt.plot([], [], color='red', marker='x', label='missing cases !')\n",
    "    plt.plot([], [], color='blue', marker='s', label='Matched here')#markers.ravioli\n",
    "    plt.plot([], [], color='green', marker='*', label='Matches with a different `l` (Query)')#markers.stelline\n",
    "    plt.plot([], [], color='yellow', marker='^', label=f'Not matched with any of the {L_max} options we selected') #markers.tortellini\n",
    "    \n",
    "    c= 0\n",
    "    \n",
    "    for i, val in enumerate(R_l[k][l]):\n",
    "            if val == -99:\n",
    "                plt.scatter(i, d[k][l][i], color='red', marker='x', s=50)  # marker size 50\n",
    "                plt.text(i+0.2, d[k][l][i]+d[k][l][i]*5/100, 0, fontsize=10, color='red', ha='left')\n",
    "                c+=1\n",
    "#                 plt.text(i+0.2, d[k][l][i]+d[k][l][i]*5/100, 0*str(matches2[i]), fontsize=10, color='red', ha='left')\n",
    "\n",
    "            elif val == l:\n",
    "                plt.scatter(i, d[k][l][i], color='blue', marker='s', s=50)\n",
    "                plt.text(i+0.2, d[k][l][i]+d[k][l][i]*5/100, str(matches2[i-c]), fontsize=10, color='blue', ha='left')\n",
    "\n",
    "            elif val == -2:\n",
    "                plt.scatter(i, d[k][l][i], color='black', marker='o', s=50) \n",
    "                plt.text(i+0.2, d[k][l][i]+d[k][l][i]*5/100, str(matches2[i-c]), fontsize=10, color='black', ha='left')\n",
    "\n",
    "            elif matches2[i-c]==0:\n",
    "                plt.scatter(i, d[k][l][i], color='yellow', marker='^', s=50) \n",
    "                plt.text(i+0.2, d[k][l][i]+d[k][l][i]*5/100, str(matches2[i-c]), fontsize=10, color='yellow', ha='left')\n",
    "\n",
    "            else:\n",
    "                plt.scatter(i, d[k][l][i], color='green', marker='*', s=75)\n",
    "                plt.text(i+0.2, d[k][l][i]+d[k][l][i]*5/100, str(matches2[i-c]), fontsize=10, color='green', ha='left')\n",
    "\n",
    "\n",
    "\n",
    "\n",
    "    plt.legend(fontsize=8) \n",
    "    #plt.legend(loc='upper right', fontsize=8)\n",
    "\n",
    "    plt.ylabel('distance')\n",
    "\n",
    "\n",
    "\n",
    "    ###############                       Plot for alpha[k][l]                       ###############\n",
    "\n",
    "#     plt.subplot(3, 1, 3)\n",
    "#     plt.plot(range(len(alp[k][l])), alp[k][l], marker='.', linestyle='-',color='black')\n",
    "#     plt.xlabel('Index')\n",
    "#     plt.ylabel('Value')\n",
    "#     plt.title('alpha Plot')\n",
    "\n",
    "\n",
    "\n",
    "\n",
    "    plt.subplots_adjust(top=0.93)  # Adjust the top margin for the super title\n",
    "    plt.suptitle(f\"{objects[k]}, k = {k}, l = {l} \", fontname='Arial', fontsize=16, fontweight='bold')\n",
    "    plt.show()\n",
    "    \n",
    "\n",
    "    if open_Fink:\n",
    "        open_website(objects[k])\n",
    "\n",
    "\n",
    "def on_button_clicked_plot(Id):\n",
    "    print(\"URL opened\")\n",
    "    open_website(Id)\n"
   ]
  },
  {
   "cell_type": "code",
   "execution_count": null,
   "id": "ce100169",
   "metadata": {},
   "outputs": [],
   "source": [
    "plot_distance_flux(0,0)"
   ]
  },
  {
   "cell_type": "markdown",
   "id": "180bebc9",
   "metadata": {},
   "source": [
    "\n",
    "# \n"
   ]
  },
  {
   "cell_type": "markdown",
   "id": "7ae4c747",
   "metadata": {},
   "source": [
    "\n",
    "# \n"
   ]
  },
  {
   "cell_type": "markdown",
   "id": "105cd149",
   "metadata": {},
   "source": [
    "\n",
    "# \n"
   ]
  },
  {
   "cell_type": "markdown",
   "id": "eb496f08",
   "metadata": {},
   "source": [
    "# plot by multiple l"
   ]
  },
  {
   "cell_type": "code",
   "execution_count": null,
   "id": "2d2f223f",
   "metadata": {
    "scrolled": true
   },
   "outputs": [],
   "source": [
    "# for l in [0,1]:\n",
    "#     for k in [0,1]:\n",
    "#         plot_distance_flux(k,l)"
   ]
  },
  {
   "cell_type": "code",
   "execution_count": null,
   "id": "f5be99b7",
   "metadata": {
    "scrolled": true
   },
   "outputs": [],
   "source": [
    "# l_values = [100,0]#range(119)\n",
    "# k_values=range(len(objects))\n",
    "# k=1\n",
    "# for l in l_values:\n",
    "#     for k in k_values[:7]:\n",
    "#         plot_distance_flux(k,l) # True == open website\n"
   ]
  },
  {
   "cell_type": "markdown",
   "id": "b8cd1b2a",
   "metadata": {},
   "source": [
    "#"
   ]
  },
  {
   "cell_type": "markdown",
   "id": "0ae5716a",
   "metadata": {},
   "source": [
    "## plot histogram of numbers of matches for each Q"
   ]
  },
  {
   "cell_type": "markdown",
   "id": "670b5761",
   "metadata": {},
   "source": [
    "We graph the number of matches for each query."
   ]
  },
  {
   "cell_type": "code",
   "execution_count": null,
   "id": "3c82c2fa",
   "metadata": {},
   "outputs": [],
   "source": [
    "indexes = range(len(sum_i_columns))\n",
    "\n",
    "# Plotting the histogram\n",
    "plt.hist(indexes, bins=len(sum_i_columns), weights=sum_i_columns, color='C1', edgecolor='white')\n",
    "\n",
    "# Adding labels and title\n",
    "plt.xlabel('Indices')\n",
    "plt.ylabel('Numbers')\n",
    "plt.title('Histogram of numbers of matches for each Q ')\n",
    "\n",
    "# Display the histogram\n",
    "plt.show()\n",
    "\n",
    "\n",
    "# Compute the highest and lowest 10 values and their indexes\n",
    "sorted_indices = sorted(range(len(sum_i_columns)), key=lambda i: sum_i_columns[i])\n",
    "lowest_10_indices = sorted_indices[:20]\n",
    "highest_10_indices = sorted_indices[-10:][::-1]  # Reverse to get in descending order\n",
    "\n",
    "total_windows = len(Matrix_Matches)\n",
    "\n",
    "# Print the highest and lowest 10 values and their indexes with percentages\n",
    "print(\"Highest 10:\\n\")\n",
    "for i in highest_10_indices:\n",
    "    percentage = (sum_i_columns[i] / total_windows) * 100\n",
    "    print(f\"Index: {i}, Matches: {sum_i_columns[i]}, Percentage: {percentage:.2f}%\")\n",
    "\n",
    "print(\"\\n\\nLowest 10:\\n\")\n",
    "for i in lowest_10_indices:\n",
    "    percentage = (sum_i_columns[i] / total_windows) * 100\n",
    "    print(f\"Index: {i}, Matches: {sum_i_columns[i]}, Percentage: {percentage:.2f}%\")\n",
    "\n",
    "    \n",
    "    \n"
   ]
  },
  {
   "cell_type": "code",
   "execution_count": null,
   "id": "a092856c",
   "metadata": {},
   "outputs": [],
   "source": [
    "import ipywidgets as widgets\n",
    "\n",
    "def on_button_clicked(k,l):\n",
    "    print(\"Button clicked:\")\n",
    "    plot_distance_flux(k,l)\n",
    "\n",
    "# Create the button widget\n"
   ]
  },
  {
   "cell_type": "code",
   "execution_count": null,
   "id": "99b3a507",
   "metadata": {},
   "outputs": [],
   "source": [
    "for l in sorted_indices[14:20]:\n",
    "    print(f\"Q[{l}] , Matches on this Query: {sum_i_columns[l]}\")\n",
    "    k , i = selected_Q_K_i[l]\n",
    "    print(\"Ratio :\",Q[l][0]/Q[l][1])\n",
    "    \n",
    "    print(f\"Object of this Q : {objects[k]} : https://fink-portal.org/{objects[k]}\")\n",
    "\n",
    "    \n",
    "    non_zero_indexes = np.nonzero(num_by_obj[l])[0]\n",
    "    non_zero_indexes, len(non_zero_indexes)\n",
    "    print(\"\\nNumber of objects that have matches on this Q :\", len(non_zero_indexes))\n",
    "    print(\"Objects that have matches on this Q : \", non_zero_indexes,\"\\n\")\n",
    "    \n",
    "    for kk in non_zero_indexes:\n",
    "        print(f\"https://fink-portal.org/{objects[kk]}\" , \" : Nb of mathces : \",num_by_obj[l][kk])\n",
    "        button = widgets.Button(description=f\"plot {objects[kk]}\")\n",
    "        # Capture current values of kk and l in lambda's default arguments\n",
    "        button.on_click(lambda _, kk=kk, l=l: on_button_clicked(kk, l))\n",
    "        display(button)\n",
    "        \n",
    "    print()\n",
    "    \n",
    "    plot_distance_flux(k,l)\n",
    "    "
   ]
  },
  {
   "cell_type": "code",
   "execution_count": null,
   "id": "61573bda-57ce-484d-bce6-e51124f64afe",
   "metadata": {},
   "outputs": [],
   "source": [
    "plot_distance_flux(25337,111)"
   ]
  },
  {
   "cell_type": "code",
   "execution_count": null,
   "id": "1e120f9f-5444-408f-8727-6b1d819a1e30",
   "metadata": {},
   "outputs": [],
   "source": [
    "F[objects[18039]]-F[objects[25337]]\n"
   ]
  },
  {
   "cell_type": "code",
   "execution_count": null,
   "id": "2a827617-b610-4f6c-a1b0-c4f2fefa1d58",
   "metadata": {},
   "outputs": [],
   "source": [
    "F[objects[25337]]"
   ]
  },
  {
   "cell_type": "code",
   "execution_count": null,
   "id": "c050a760",
   "metadata": {},
   "outputs": [],
   "source": [
    "import pandas as pd\n",
    "\n",
    "# Assuming you have already imported numpy as np\n",
    "\n",
    "# Create a list to store dictionaries with the information\n",
    "data = []\n",
    "\n",
    "for l in sorted_indices[0:20]:\n",
    "    Q_ratio = Q[l][0] / Q[l][1]\n",
    "    k, i = selected_Q_K_i[l]\n",
    "    non_zero_indexes = np.nonzero(num_by_obj[l])[0]\n",
    "    \n",
    "    url_and_matches = []\n",
    "    for kk in non_zero_indexes:\n",
    "        url_and_matches.append(f\"https://fink-portal.org/{objects[kk]} : Nb of matches : {num_by_obj[l][kk]}\")\n",
    "    \n",
    "    # Create a dictionary for each iteration\n",
    "    row = {\n",
    "        'Query': l,\n",
    "        'Matches on this Query': sum_i_columns[l],\n",
    "        'Ratio': Q_ratio,\n",
    "        'Object of this Q': objects[k],\n",
    "        'Link': f\"https://fink-portal.org/{objects[k]}\",\n",
    "        'Number of objects': len(non_zero_indexes),\n",
    "        'Objects with matches': non_zero_indexes.tolist(),\n",
    "        'URLs and Matches': '\\n'.join(url_and_matches)\n",
    "    }\n",
    "    \n",
    "    # Append the dictionary to the data list\n",
    "    data.append(row)\n",
    "\n",
    "# Create a DataFrame from the list of dictionaries\n",
    "df = pd.DataFrame(data)\n",
    "\n",
    "# Export DataFrame to Excel\n",
    "df.to_excel('lowest_Q_EM.xlsx', index=False)\n"
   ]
  },
  {
   "cell_type": "code",
   "execution_count": null,
   "id": "2c333435",
   "metadata": {},
   "outputs": [],
   "source": [
    "objects[k], k , objects[25337]"
   ]
  },
  {
   "cell_type": "code",
   "execution_count": null,
   "id": "0de7d175",
   "metadata": {},
   "outputs": [],
   "source": [
    "F[objects[18039]]"
   ]
  },
  {
   "cell_type": "code",
   "execution_count": null,
   "id": "7aaca11b",
   "metadata": {},
   "outputs": [],
   "source": [
    "F[objects[25337]]"
   ]
  },
  {
   "cell_type": "code",
   "execution_count": null,
   "id": "f7d2773b",
   "metadata": {},
   "outputs": [],
   "source": []
  },
  {
   "cell_type": "code",
   "execution_count": null,
   "id": "7eedd90a",
   "metadata": {},
   "outputs": [],
   "source": [
    "import csv\n",
    "\n",
    "# Specify the file name\n",
    "file_name = \"Num_for_Qs_EXM.csv\"\n",
    "\n",
    "# Combine the data into a list of tuples\n",
    "data = list(zip(indexes, sum_i_columns))\n",
    "\n",
    "# Write the data to a CSV file\n",
    "with open(file_name, 'w', newline='') as csvfile:\n",
    "    csv_writer = csv.writer(csvfile)\n",
    "    \n",
    "    # Write a header if needed\n",
    "    csv_writer.writerow(['Queries', 'Nb of matches'])\n",
    "    \n",
    "    # Write the data\n",
    "    csv_writer.writerows(data)\n",
    "\n",
    "print(\"Data has been written to\", file_name)\n"
   ]
  },
  {
   "cell_type": "code",
   "execution_count": null,
   "id": "7bdbf69b",
   "metadata": {},
   "outputs": [],
   "source": []
  },
  {
   "cell_type": "markdown",
   "id": "6986c3b4",
   "metadata": {},
   "source": [
    "We calculate the minimum and maximum number of matches, along with their corresponding indexes (where index represents the index of the query)."
   ]
  },
  {
   "cell_type": "code",
   "execution_count": null,
   "id": "5972afce",
   "metadata": {},
   "outputs": [],
   "source": [
    "max(sum_i_columns),min(sum_i_columns),np.argmax(sum_i_columns), np.argmin(sum_i_columns)"
   ]
  },
  {
   "cell_type": "markdown",
   "id": "e362f13c",
   "metadata": {},
   "source": [
    "#"
   ]
  },
  {
   "cell_type": "markdown",
   "id": "be7c2107",
   "metadata": {},
   "source": [
    "#"
   ]
  },
  {
   "cell_type": "markdown",
   "id": "deb24a58",
   "metadata": {},
   "source": [
    "### plot Qr/Qg "
   ]
  },
  {
   "cell_type": "code",
   "execution_count": null,
   "id": "ae4314fb",
   "metadata": {},
   "outputs": [],
   "source": [
    "Q_array = np.array(Q)\n",
    "ratios = Q_array[:, 0] / Q_array[:, 1]\n",
    "\n",
    "plt.plot(ratios)\n",
    "plt.title('Ratio of First Value to Second Value')\n",
    "plt.xlabel('Index')\n",
    "plt.ylabel('Ratio')\n",
    "plt.grid(True)\n",
    "plt.show()"
   ]
  },
  {
   "cell_type": "markdown",
   "id": "500e29a4",
   "metadata": {},
   "source": [
    "### Here, we plot the number of matches as a function of the ratios (Qr/Qg)."
   ]
  },
  {
   "cell_type": "code",
   "execution_count": null,
   "id": "e0d36901",
   "metadata": {},
   "outputs": [],
   "source": [
    "Q_array = np.array(Q)\n",
    "ratios = Q_array[:, 0] / Q_array[:, 1]\n",
    "\n",
    "plt.scatter(ratios[:-3],sum_i_columns[:-3]) ###################### -3 to exclude the 800 .. \n",
    "plt.title('num of matches for each Q in function of Ratio ')\n",
    "plt.xlabel('Ratio Qr/Qg')\n",
    "plt.ylabel('num(l)')\n",
    "plt.grid(True)\n",
    "plt.yscale('log')\n",
    "plt.show()\n",
    "\n",
    "\n",
    "print(\"\\nHighest 10 Ratios, Matches, and Indices:\\n\")\n",
    "for i in range(10):\n",
    "    index = highest_10_indices[i]\n",
    "    ratio = ratios[index]\n",
    "    matches = sum_i_columns[index]\n",
    "    print(\"Index:\", index, \"Ratio:\", ratio, \"Matches:\", matches)\n",
    "    \n",
    "print(\"\\n\\nLowest 10 Ratios, Matches, and Indices:\\n\")\n",
    "for i in range(10):\n",
    "    index = lowest_10_indices[i]\n",
    "    ratio = ratios[index]\n",
    "    matches = sum_i_columns[index]\n",
    "    print(\"Index:\", index, \"Ratio:\", ratio, \"Matches:\", matches)\n"
   ]
  },
  {
   "cell_type": "code",
   "execution_count": null,
   "id": "51060abe",
   "metadata": {},
   "outputs": [],
   "source": [
    "selected_Q_K_i[64], objects[854],plot_distance_flux(854, 64, True)"
   ]
  },
  {
   "cell_type": "code",
   "execution_count": null,
   "id": "52ff30e8",
   "metadata": {},
   "outputs": [],
   "source": [
    "import csv\n",
    "\n",
    "# Specify the file name\n",
    "file_name = \"ratios_Q_119_EXM.csv\"\n",
    "\n",
    "# Combine the data into a list of tuples\n",
    "data = list(zip(ratios, sum_i_columns))\n",
    "\n",
    "# Write the data to a CSV file\n",
    "with open(file_name, 'w', newline='') as csvfile:\n",
    "    csv_writer = csv.writer(csvfile)\n",
    "    \n",
    "    # Write a header if needed\n",
    "    csv_writer.writerow(['Ratio', 'Sum of i Columns'])\n",
    "    \n",
    "    # Write the data\n",
    "    csv_writer.writerows(data)\n",
    "\n",
    "print(\"Data has been written to\", file_name)\n"
   ]
  },
  {
   "cell_type": "markdown",
   "id": "d96434a5",
   "metadata": {},
   "source": [
    "#"
   ]
  },
  {
   "cell_type": "markdown",
   "id": "a2d1e29e",
   "metadata": {},
   "source": [
    "#"
   ]
  },
  {
   "cell_type": "markdown",
   "id": "fb3684c6",
   "metadata": {},
   "source": [
    "### Compute the highest and the lowest indices "
   ]
  },
  {
   "cell_type": "code",
   "execution_count": null,
   "id": "71165151",
   "metadata": {},
   "outputs": [],
   "source": [
    "# lowest_indices_array = []\n",
    "sorted_queries_list = []\n",
    "\n",
    "\n",
    "for l in range(len(num_by_obj)):\n",
    "\n",
    "    array = np.array(num_by_obj[l])\n",
    "\n",
    "    # Get indices of sorted array in ascending order\n",
    "    sorted_queries = np.argsort(array)\n",
    "    sorted_queries_list.append(sorted_queries)  # Append sorted indices list\n",
    "\n",
    "#     # Indices of 10 lowest values\n",
    "\n",
    "#     lowest_values = array[sorted_indices[0]]\n",
    "#     all_lowest_indices = np.where(array == lowest_values)[0]\n",
    "#     lowest_indices_array.append(all_lowest_indices)\n"
   ]
  },
  {
   "cell_type": "markdown",
   "id": "624740b1",
   "metadata": {},
   "source": [
    "#"
   ]
  },
  {
   "cell_type": "markdown",
   "id": "7ce94c16",
   "metadata": {},
   "source": [
    "#"
   ]
  },
  {
   "cell_type": "code",
   "execution_count": null,
   "id": "e23668aa",
   "metadata": {},
   "outputs": [],
   "source": [
    "num_by_obj[112]"
   ]
  },
  {
   "cell_type": "code",
   "execution_count": null,
   "id": "bcf12a84",
   "metadata": {},
   "outputs": [],
   "source": [
    "# for k in rangek:\n",
    "#     print(np.sum(Matrices_by_k[k], axis=0))"
   ]
  },
  {
   "cell_type": "markdown",
   "id": "75d9f6be",
   "metadata": {},
   "source": [
    "## plot histogram of numbers of matches for all objects with a specific Q"
   ]
  },
  {
   "cell_type": "code",
   "execution_count": null,
   "id": "aab74e23",
   "metadata": {},
   "outputs": [],
   "source": [
    "l=108\n",
    "indexes = range(len(num_by_obj[l]))\n",
    "\n",
    "# Plotting the histogram\n",
    "plt.hist(indexes, bins=len(num_by_obj[l]), weights=num_by_obj[l], color='C1', edgecolor='black')\n",
    "plt.xlabel('Objects')\n",
    "plt.ylabel('Numbers')\n",
    "plt.title('Histogram of numbers of matches for a specific Q for all objects')\n",
    "plt.show()\n",
    "\n",
    "\n",
    "\n",
    "total_queries = len(Q)\n",
    "lowest_10_indices = sorted_queries_list[l][:10]\n",
    "\n",
    "\n",
    "array = np.array(num_by_obj[l])\n",
    "lowest_value = array[sorted_queries_list[l][0]]\n",
    "all_lowest_indices = np.where(array == lowest_value)[0]\n",
    "\n",
    "lowest_10_indices_1 = sorted_queries_list[l][len(all_lowest_indices):len(all_lowest_indices)+10]\n",
    "# These aren't simply the lowest 10 values; rather,\n",
    "#they represent the lowest 10 values with the condition that their number of matches exceeds\n",
    "#that of the lowest value. Suppose the lowest value of matches is 0, these objects are those with more than 0 matches.\n",
    "# (the lowest ones with Nb matches > 0  ).\n",
    "\n",
    "\n",
    "highest_10_indices = sorted_queries_list[l][-10:][::-1]  # Reverse to get in descending order\n",
    "\n",
    "# Print the highest and lowest 10 values and their indexes with percentages\n",
    "print(f\"Q[{l}]:\\n\")\n",
    "print(\"Highest 10:\\n\")\n",
    "for k in highest_10_indices:\n",
    "    percentage = (num_by_obj[l][k] / total_queries) * 100\n",
    "    print(f\"Index: {k}, Id : {objects[k]}, Matches: {num_by_obj[l][k]}, Percentage: {percentage:.2f}%\")\n",
    "\n",
    "print(\"\\nLowest 10:\\n\")\n",
    "for k in lowest_10_indices:\n",
    "    percentage = (num_by_obj[l][k] / total_queries) * 100\n",
    "    print(f\"Index: {k}, Id : {objects[k]}, Matches: {num_by_obj[l][k]}, Percentage: {percentage:.2f}%\")\n",
    "\n",
    "print(\"\\nLowest 10 with Nb matches > (lowest Nb):\\n\")\n",
    "for k in lowest_10_indices_1:\n",
    "    percentage = (num_by_obj[l][k] / total_queries) * 100\n",
    "    print(f\"Index: {k}, Id : {objects[k]}, Matches: {num_by_obj[l][k]}, Percentage: {percentage:.2f}%\")\n"
   ]
  },
  {
   "cell_type": "code",
   "execution_count": null,
   "id": "63bd1efb",
   "metadata": {},
   "outputs": [],
   "source": [
    "non_zero_indexes = np.nonzero(num_by_obj[108])[0]\n",
    "num_by_obj[108][non_zero_indexes], non_zero_indexes"
   ]
  },
  {
   "cell_type": "code",
   "execution_count": null,
   "id": "29c66091",
   "metadata": {},
   "outputs": [],
   "source": [
    "for k in highest_10_indices[8:9]:\n",
    "    plot_distance_flux(k, 108,True)"
   ]
  },
  {
   "cell_type": "markdown",
   "id": "427bd61d",
   "metadata": {},
   "source": [
    "#"
   ]
  },
  {
   "cell_type": "code",
   "execution_count": null,
   "id": "31633296",
   "metadata": {},
   "outputs": [],
   "source": [
    "k= 100 \n",
    "for k in rangek:\n",
    "    print(k, num_by_obj[l][k]/length_no_missing[k]*100)"
   ]
  },
  {
   "cell_type": "code",
   "execution_count": null,
   "id": "a3f0e477",
   "metadata": {},
   "outputs": [],
   "source": [
    "num_by_obj[l][136], count_missing_windows[136], len(R[136])"
   ]
  },
  {
   "cell_type": "code",
   "execution_count": null,
   "id": "ca23937e",
   "metadata": {},
   "outputs": [],
   "source": [
    "k= 864 \n",
    "num_by_obj[l][k],length_no_missing[k], count_missing_windows[k], len(R[k])"
   ]
  },
  {
   "cell_type": "code",
   "execution_count": null,
   "id": "bc436f94",
   "metadata": {
    "scrolled": true
   },
   "outputs": [],
   "source": [
    "plot_distance_flux(k,l)"
   ]
  },
  {
   "cell_type": "code",
   "execution_count": null,
   "id": "45c67b83",
   "metadata": {},
   "outputs": [],
   "source": [
    "lensss = list(map(len, R))\n",
    "\n",
    "lensss  "
   ]
  },
  {
   "cell_type": "markdown",
   "id": "cea15411",
   "metadata": {},
   "source": [
    "### We restrict the selection of objects to those with a specific count of missing windows! \n",
    "Therefore, we prioritize objects with the highest number of intact windows."
   ]
  },
  {
   "cell_type": "code",
   "execution_count": null,
   "id": "889c2de0",
   "metadata": {},
   "outputs": [],
   "source": [
    "count_missing_windows = np.array([np.sum(subarr == -99) for subarr in R])\n",
    "\n",
    "result = np.where(count_missing_windows <=10, True, False)\n",
    "# The result array represents the condition for each object (i.e., objects with few missing windows).\n",
    "result,len(result),count_missing_windows"
   ]
  },
  {
   "cell_type": "markdown",
   "id": "4f8297ea",
   "metadata": {},
   "source": [
    "We extract the indices where the condition is true, representing the objects with the highest numbers of normal data."
   ]
  },
  {
   "cell_type": "code",
   "execution_count": null,
   "id": "7914576e",
   "metadata": {
    "scrolled": true
   },
   "outputs": [],
   "source": [
    "indices = np.where(result)[0]\n",
    "l = 0\n",
    "selected_arrays = num_by_obj[l][indices]\n",
    "selected_arrays, indices, len(selected_arrays)"
   ]
  },
  {
   "cell_type": "markdown",
   "id": "cca54c8f",
   "metadata": {},
   "source": [
    "We indentify and plot the object with the highest number of matches for a query \"l\"."
   ]
  },
  {
   "cell_type": "code",
   "execution_count": null,
   "id": "cb46bbe4",
   "metadata": {},
   "outputs": [],
   "source": [
    "k = indices[np.argmax(selected_arrays)]\n",
    "k"
   ]
  },
  {
   "cell_type": "code",
   "execution_count": null,
   "id": "24e518bb",
   "metadata": {},
   "outputs": [],
   "source": [
    "mask = selected_Q_K_i != None\n",
    "for index_Q, (k1, i) in enumerate(selected_Q_K_i[mask]):\n",
    "    if 17435 == k1 :\n",
    "        print(f\"This window is used as the {index_Q}th query! \")\n",
    "        break"
   ]
  },
  {
   "cell_type": "code",
   "execution_count": null,
   "id": "ff183596",
   "metadata": {},
   "outputs": [],
   "source": [
    "plot_distance_flux(1,l), print(objects[k])"
   ]
  },
  {
   "cell_type": "markdown",
   "id": "a6412d8b",
   "metadata": {},
   "source": [
    "###"
   ]
  },
  {
   "cell_type": "markdown",
   "id": "c3caa113",
   "metadata": {},
   "source": [
    "### Generate a plot illustrating the match counts of the selected objects(Limited to missing window counts.) for a particular query, Q."
   ]
  },
  {
   "cell_type": "code",
   "execution_count": null,
   "id": "5e010d56",
   "metadata": {},
   "outputs": [],
   "source": [
    "l=0\n",
    "indexes = range(len(num_by_obj[l][indices]))\n",
    "\n",
    "# Plotting the histogram\n",
    "plt.hist(indexes, bins=len(num_by_obj[l][indices]), weights=num_by_obj[l][indices], color='skyblue', edgecolor='C0')\n",
    "\n",
    "# Adding labels and title\n",
    "plt.xlabel('Indices')\n",
    "plt.ylabel('Numbers')\n",
    "plt.title('Histogram of numbers of matches for a specific Q for a limited nb of objects')\n",
    "\n",
    "# Display the histoazgram\n",
    "plt.show()"
   ]
  },
  {
   "cell_type": "markdown",
   "id": "fb5031b0",
   "metadata": {},
   "source": [
    "##"
   ]
  },
  {
   "cell_type": "markdown",
   "id": "9a516e22",
   "metadata": {},
   "source": [
    "#"
   ]
  },
  {
   "cell_type": "markdown",
   "id": "6d69c58e",
   "metadata": {},
   "source": [
    "#"
   ]
  },
  {
   "cell_type": "markdown",
   "id": "2e41abc0",
   "metadata": {},
   "source": [
    "### plot the highest and the lowest indices "
   ]
  },
  {
   "cell_type": "code",
   "execution_count": null,
   "id": "3b25c677",
   "metadata": {
    "scrolled": true
   },
   "outputs": [],
   "source": [
    "l=94\n",
    "count = 1\n",
    "for k in sorted_indices_list[l][len(lowest_indices_array[l]):len(lowest_indices_array[l])+10]:\n",
    "    print(count)\n",
    "    count += 1\n",
    "    print(objects[k],k,\"l =\",l,\".\")\n",
    "    print(\"Number of matches in this object of this Q\",num_by_obj[l][k])\n",
    "    plot_distance_flux(k,l,True)\n",
    "    "
   ]
  },
  {
   "cell_type": "markdown",
   "id": "db44927b",
   "metadata": {},
   "source": [
    "### "
   ]
  },
  {
   "cell_type": "markdown",
   "id": "9146c91d",
   "metadata": {},
   "source": [
    "### "
   ]
  },
  {
   "cell_type": "markdown",
   "id": "6e0e118c",
   "metadata": {},
   "source": [
    "# Negative Flux ! "
   ]
  },
  {
   "cell_type": "code",
   "execution_count": null,
   "id": "5973582d",
   "metadata": {
    "scrolled": true
   },
   "outputs": [],
   "source": [
    "negatives = []\n",
    "k_negatives = []\n",
    "for k in rangek:\n",
    "    if np.any(F[objects[k]] <0):\n",
    "        k_negatives.append(k)\n",
    "        negative_mask = F[objects[k]] < 0 \n",
    "        negatives.append(F[objects[k]][negative_mask] / sig[objects[k]][negative_mask])\n",
    "\n",
    "negatives,k_negatives"
   ]
  },
  {
   "cell_type": "code",
   "execution_count": null,
   "id": "3bc3c9ab",
   "metadata": {},
   "outputs": [],
   "source": [
    "for idx, list1 in enumerate(negatives):\n",
    "    #print(list1)\n",
    "    if np.any(np.array(list1) <-3):\n",
    "        print(F[objects[k_negatives[idx]]]/sig[objects[k_negatives[idx]]])\n",
    "        plot_distance_flux(k_negatives[idx],0,True)"
   ]
  },
  {
   "cell_type": "code",
   "execution_count": null,
   "id": "79e099d3",
   "metadata": {},
   "outputs": [],
   "source": [
    "F[objects[5053]]/sig[objects[5053]]"
   ]
  },
  {
   "cell_type": "code",
   "execution_count": null,
   "id": "31df2461",
   "metadata": {},
   "outputs": [],
   "source": []
  },
  {
   "cell_type": "code",
   "execution_count": null,
   "id": "1508f76f",
   "metadata": {},
   "outputs": [],
   "source": [
    "\n",
    "ravel = np.concatenate(negatives)"
   ]
  },
  {
   "cell_type": "code",
   "execution_count": null,
   "id": "b5484471",
   "metadata": {},
   "outputs": [],
   "source": [
    "plt.hist(ravel,bins='fd')"
   ]
  },
  {
   "cell_type": "code",
   "execution_count": null,
   "id": "64b753ed",
   "metadata": {},
   "outputs": [],
   "source": [
    "len(ravel)"
   ]
  },
  {
   "cell_type": "code",
   "execution_count": null,
   "id": "b8231cd1",
   "metadata": {
    "scrolled": true
   },
   "outputs": [],
   "source": [
    "for k in k_negatives[:3]:\n",
    "    plot_distance_flux(k,0)"
   ]
  },
  {
   "cell_type": "markdown",
   "id": "85f67e2a",
   "metadata": {},
   "source": [
    "### "
   ]
  },
  {
   "cell_type": "markdown",
   "id": "d619cdc1",
   "metadata": {},
   "source": [
    "### "
   ]
  },
  {
   "cell_type": "markdown",
   "id": "56ed5d36",
   "metadata": {},
   "source": [
    "### "
   ]
  },
  {
   "cell_type": "markdown",
   "id": "b3ac69fd",
   "metadata": {},
   "source": [
    "#"
   ]
  },
  {
   "cell_type": "markdown",
   "id": "2c2b3351",
   "metadata": {},
   "source": [
    "#"
   ]
  },
  {
   "cell_type": "markdown",
   "id": "339863a1",
   "metadata": {},
   "source": [
    "#"
   ]
  },
  {
   "cell_type": "markdown",
   "id": "60f9af60",
   "metadata": {},
   "source": [
    "#"
   ]
  },
  {
   "cell_type": "markdown",
   "id": "2f409654",
   "metadata": {},
   "source": [
    "#"
   ]
  },
  {
   "cell_type": "markdown",
   "id": "4bc6d10d",
   "metadata": {},
   "source": [
    "#"
   ]
  },
  {
   "cell_type": "markdown",
   "id": "7a5d8b93",
   "metadata": {},
   "source": [
    "# TEST"
   ]
  },
  {
   "cell_type": "markdown",
   "id": "4fb5260a",
   "metadata": {},
   "source": [
    "#"
   ]
  }
 ],
 "metadata": {
  "kernelspec": {
   "display_name": "Python 3 (ipykernel)",
   "language": "python",
   "name": "python3"
  },
  "language_info": {
   "codemirror_mode": {
    "name": "ipython",
    "version": 3
   },
   "file_extension": ".py",
   "mimetype": "text/x-python",
   "name": "python",
   "nbconvert_exporter": "python",
   "pygments_lexer": "ipython3",
   "version": "3.11.7"
  },
  "widgets": {
   "application/vnd.jupyter.widget-state+json": {
    "state": {},
    "version_major": 2,
    "version_minor": 0
   }
  }
 },
 "nbformat": 4,
 "nbformat_minor": 5
}
